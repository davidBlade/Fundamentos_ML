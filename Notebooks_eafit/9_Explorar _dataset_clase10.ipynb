{
 "cells": [
  {
   "cell_type": "markdown",
   "id": "932ee47f",
   "metadata": {},
   "source": [
    "# Repaso de temas vistos y adicionales\n",
    "<br>\n",
    "<br>\n",
    "\n",
    "<img src=\"./images/explorar_datasets.png\" height = \"600\" width = \"600\">"
   ]
  },
  {
   "cell_type": "code",
   "execution_count": 1,
   "id": "4f8160a7",
   "metadata": {
    "ExecuteTime": {
     "end_time": "2022-02-26T18:08:32.630560Z",
     "start_time": "2022-02-26T18:08:27.797455Z"
    }
   },
   "outputs": [],
   "source": [
    "import pandas as pd\n",
    "import numpy as np\n",
    "import copy\n",
    "import seaborn as sns\n",
    "import matplotlib.pyplot as plt\n",
    "from datetime import date, timedelta, datetime\n",
    "import warnings\n",
    "warnings.filterwarnings(\"ignore\")"
   ]
  },
  {
   "cell_type": "markdown",
   "id": "3b834158",
   "metadata": {},
   "source": [
    "# Dataset"
   ]
  },
  {
   "cell_type": "code",
   "execution_count": 2,
   "id": "5805b297",
   "metadata": {
    "ExecuteTime": {
     "end_time": "2022-02-26T18:08:32.754262Z",
     "start_time": "2022-02-26T18:08:32.638461Z"
    }
   },
   "outputs": [
    {
     "data": {
      "text/html": [
       "<div>\n",
       "<style scoped>\n",
       "    .dataframe tbody tr th:only-of-type {\n",
       "        vertical-align: middle;\n",
       "    }\n",
       "\n",
       "    .dataframe tbody tr th {\n",
       "        vertical-align: top;\n",
       "    }\n",
       "\n",
       "    .dataframe thead th {\n",
       "        text-align: right;\n",
       "    }\n",
       "</style>\n",
       "<table border=\"1\" class=\"dataframe\">\n",
       "  <thead>\n",
       "    <tr style=\"text-align: right;\">\n",
       "      <th></th>\n",
       "      <th>number</th>\n",
       "      <th>first_name</th>\n",
       "      <th>last_name</th>\n",
       "      <th>gender</th>\n",
       "      <th>birth_date</th>\n",
       "      <th>employment_status</th>\n",
       "      <th>annual_salary</th>\n",
       "      <th>tax_file_no</th>\n",
       "    </tr>\n",
       "  </thead>\n",
       "  <tbody>\n",
       "    <tr>\n",
       "      <th>0</th>\n",
       "      <td>483</td>\n",
       "      <td>Lenord</td>\n",
       "      <td>Kihn</td>\n",
       "      <td>M</td>\n",
       "      <td>1994-07-01</td>\n",
       "      <td>NaN</td>\n",
       "      <td>64598.0</td>\n",
       "      <td>NaN</td>\n",
       "    </tr>\n",
       "    <tr>\n",
       "      <th>1</th>\n",
       "      <td>478</td>\n",
       "      <td>Palma</td>\n",
       "      <td>Beahan</td>\n",
       "      <td>F</td>\n",
       "      <td>1972-05-06</td>\n",
       "      <td>PE</td>\n",
       "      <td>124103.0</td>\n",
       "      <td>NaN</td>\n",
       "    </tr>\n",
       "    <tr>\n",
       "      <th>2</th>\n",
       "      <td>348</td>\n",
       "      <td>Hebert</td>\n",
       "      <td>Muller</td>\n",
       "      <td>M</td>\n",
       "      <td>1990-09-04</td>\n",
       "      <td>PE</td>\n",
       "      <td>100324.0</td>\n",
       "      <td>NaN</td>\n",
       "    </tr>\n",
       "  </tbody>\n",
       "</table>\n",
       "</div>"
      ],
      "text/plain": [
       "   number first_name last_name gender  birth_date employment_status  \\\n",
       "0     483     Lenord      Kihn      M  1994-07-01               NaN   \n",
       "1     478      Palma    Beahan      F  1972-05-06                PE   \n",
       "2     348     Hebert    Muller      M  1990-09-04                PE   \n",
       "\n",
       "   annual_salary  tax_file_no  \n",
       "0        64598.0          NaN  \n",
       "1       124103.0          NaN  \n",
       "2       100324.0          NaN  "
      ]
     },
     "execution_count": 2,
     "metadata": {},
     "output_type": "execute_result"
    }
   ],
   "source": [
    "df_employee = pd.read_csv(\"./datasets/employee_data.csv\")\n",
    "df_employee.loc[635:650, \"annual_salary\"] = np.nan\n",
    "df_employee.head(3)"
   ]
  },
  {
   "cell_type": "code",
   "execution_count": 3,
   "id": "bf7a07ce",
   "metadata": {
    "ExecuteTime": {
     "end_time": "2022-02-26T18:08:32.816397Z",
     "start_time": "2022-02-26T18:08:32.761459Z"
    }
   },
   "outputs": [
    {
     "name": "stdout",
     "output_type": "stream",
     "text": [
      "<class 'pandas.core.frame.DataFrame'>\n",
      "RangeIndex: 1000 entries, 0 to 999\n",
      "Data columns (total 8 columns):\n",
      " #   Column             Non-Null Count  Dtype  \n",
      "---  ------             --------------  -----  \n",
      " 0   number             1000 non-null   int64  \n",
      " 1   first_name         999 non-null    object \n",
      " 2   last_name          999 non-null    object \n",
      " 3   gender             793 non-null    object \n",
      " 4   birth_date         999 non-null    object \n",
      " 5   employment_status  811 non-null    object \n",
      " 6   annual_salary      983 non-null    float64\n",
      " 7   tax_file_no        0 non-null      float64\n",
      "dtypes: float64(2), int64(1), object(5)\n",
      "memory usage: 62.6+ KB\n"
     ]
    }
   ],
   "source": [
    "df_employee.info()"
   ]
  },
  {
   "cell_type": "markdown",
   "id": "7e9e846b",
   "metadata": {},
   "source": [
    "## Porcentaje de datos nulos"
   ]
  },
  {
   "cell_type": "code",
   "execution_count": 4,
   "id": "887efbea",
   "metadata": {
    "ExecuteTime": {
     "end_time": "2022-02-26T18:08:32.863402Z",
     "start_time": "2022-02-26T18:08:32.827365Z"
    }
   },
   "outputs": [
    {
     "data": {
      "text/plain": [
       "number                  0\n",
       "first_name              1\n",
       "last_name               1\n",
       "gender                207\n",
       "birth_date              1\n",
       "employment_status     189\n",
       "annual_salary          17\n",
       "tax_file_no          1000\n",
       "dtype: int64"
      ]
     },
     "execution_count": 4,
     "metadata": {},
     "output_type": "execute_result"
    }
   ],
   "source": [
    "df_employee.isnull().sum()"
   ]
  },
  {
   "cell_type": "code",
   "execution_count": 5,
   "id": "ea98470c",
   "metadata": {
    "ExecuteTime": {
     "end_time": "2022-02-26T18:08:32.895099Z",
     "start_time": "2022-02-26T18:08:32.871381Z"
    }
   },
   "outputs": [
    {
     "name": "stdout",
     "output_type": "stream",
     "text": [
      "cantidad de filas y columnas: (1000, 8)\n"
     ]
    }
   ],
   "source": [
    "rows = df_employee.shape[0]\n",
    "columns = df_employee.shape[1]\n",
    "print(\"cantidad de filas y columnas:\",df_employee.shape)"
   ]
  },
  {
   "cell_type": "code",
   "execution_count": 6,
   "id": "986445e0",
   "metadata": {
    "ExecuteTime": {
     "end_time": "2022-02-26T18:08:32.926269Z",
     "start_time": "2022-02-26T18:08:32.901047Z"
    }
   },
   "outputs": [
    {
     "data": {
      "text/plain": [
       "8000"
      ]
     },
     "execution_count": 6,
     "metadata": {},
     "output_type": "execute_result"
    }
   ],
   "source": [
    "counts = rows*columns\n",
    "counts"
   ]
  },
  {
   "cell_type": "code",
   "execution_count": 7,
   "id": "bc83c9d6",
   "metadata": {
    "ExecuteTime": {
     "end_time": "2022-02-26T18:08:32.956561Z",
     "start_time": "2022-02-26T18:08:32.930575Z"
    }
   },
   "outputs": [
    {
     "name": "stdout",
     "output_type": "stream",
     "text": [
      "Porcentage de valores nulos en el dataset: ------> 17.7%\n",
      "Cantidad de valores nulos en el dataset: --------> 1416\n"
     ]
    }
   ],
   "source": [
    "number_of_nulls = df_employee.isnull().sum().sum()\n",
    "porcentage_of_missing = (number_of_nulls/counts)*100\n",
    "print(f\"Porcentage de valores nulos en el dataset: ------> {porcentage_of_missing}%\")\n",
    "print(f\"Cantidad de valores nulos en el dataset: --------> {number_of_nulls}\")"
   ]
  },
  {
   "cell_type": "markdown",
   "id": "3d54e554",
   "metadata": {
    "ExecuteTime": {
     "end_time": "2021-08-04T20:10:17.233890Z",
     "start_time": "2021-08-04T20:10:17.229010Z"
    }
   },
   "source": [
    "## Eliminar datos nulos de columnas\n",
    "\n",
    "Las columnas que sean irrelevantes desde el punto de vista del contexto, o que tengan demasiado valores nulos y no puedan ser \"imputados\" se deben remover de los datos"
   ]
  },
  {
   "cell_type": "code",
   "execution_count": 8,
   "id": "8e2bcc26",
   "metadata": {
    "ExecuteTime": {
     "end_time": "2022-02-26T18:08:33.018101Z",
     "start_time": "2022-02-26T18:08:32.960930Z"
    }
   },
   "outputs": [
    {
     "data": {
      "text/html": [
       "<div>\n",
       "<style scoped>\n",
       "    .dataframe tbody tr th:only-of-type {\n",
       "        vertical-align: middle;\n",
       "    }\n",
       "\n",
       "    .dataframe tbody tr th {\n",
       "        vertical-align: top;\n",
       "    }\n",
       "\n",
       "    .dataframe thead th {\n",
       "        text-align: right;\n",
       "    }\n",
       "</style>\n",
       "<table border=\"1\" class=\"dataframe\">\n",
       "  <thead>\n",
       "    <tr style=\"text-align: right;\">\n",
       "      <th></th>\n",
       "      <th>number</th>\n",
       "      <th>first_name</th>\n",
       "      <th>last_name</th>\n",
       "      <th>gender</th>\n",
       "      <th>birth_date</th>\n",
       "      <th>employment_status</th>\n",
       "      <th>annual_salary</th>\n",
       "    </tr>\n",
       "  </thead>\n",
       "  <tbody>\n",
       "    <tr>\n",
       "      <th>0</th>\n",
       "      <td>483</td>\n",
       "      <td>Lenord</td>\n",
       "      <td>Kihn</td>\n",
       "      <td>M</td>\n",
       "      <td>1994-07-01</td>\n",
       "      <td>NaN</td>\n",
       "      <td>64598.0</td>\n",
       "    </tr>\n",
       "    <tr>\n",
       "      <th>1</th>\n",
       "      <td>478</td>\n",
       "      <td>Palma</td>\n",
       "      <td>Beahan</td>\n",
       "      <td>F</td>\n",
       "      <td>1972-05-06</td>\n",
       "      <td>PE</td>\n",
       "      <td>124103.0</td>\n",
       "    </tr>\n",
       "    <tr>\n",
       "      <th>2</th>\n",
       "      <td>348</td>\n",
       "      <td>Hebert</td>\n",
       "      <td>Muller</td>\n",
       "      <td>M</td>\n",
       "      <td>1990-09-04</td>\n",
       "      <td>PE</td>\n",
       "      <td>100324.0</td>\n",
       "    </tr>\n",
       "    <tr>\n",
       "      <th>3</th>\n",
       "      <td>757</td>\n",
       "      <td>Virginia</td>\n",
       "      <td>Ullrich</td>\n",
       "      <td>M</td>\n",
       "      <td>1991-09-23</td>\n",
       "      <td>PE</td>\n",
       "      <td>144957.0</td>\n",
       "    </tr>\n",
       "    <tr>\n",
       "      <th>4</th>\n",
       "      <td>937</td>\n",
       "      <td>Roby</td>\n",
       "      <td>Hudson</td>\n",
       "      <td>M</td>\n",
       "      <td>1997-01-15</td>\n",
       "      <td>NaN</td>\n",
       "      <td>137659.0</td>\n",
       "    </tr>\n",
       "    <tr>\n",
       "      <th>...</th>\n",
       "      <td>...</td>\n",
       "      <td>...</td>\n",
       "      <td>...</td>\n",
       "      <td>...</td>\n",
       "      <td>...</td>\n",
       "      <td>...</td>\n",
       "      <td>...</td>\n",
       "    </tr>\n",
       "    <tr>\n",
       "      <th>995</th>\n",
       "      <td>712</td>\n",
       "      <td>Dann</td>\n",
       "      <td>Crooks</td>\n",
       "      <td>NaN</td>\n",
       "      <td>1983-12-25</td>\n",
       "      <td>CA</td>\n",
       "      <td>66592.0</td>\n",
       "    </tr>\n",
       "    <tr>\n",
       "      <th>996</th>\n",
       "      <td>132</td>\n",
       "      <td>Maxim</td>\n",
       "      <td>Orn</td>\n",
       "      <td>M</td>\n",
       "      <td>1971-03-01</td>\n",
       "      <td>CA</td>\n",
       "      <td>127966.0</td>\n",
       "    </tr>\n",
       "    <tr>\n",
       "      <th>997</th>\n",
       "      <td>126</td>\n",
       "      <td>Kimberli</td>\n",
       "      <td>Walter</td>\n",
       "      <td>M</td>\n",
       "      <td>1976-03-07</td>\n",
       "      <td>CA</td>\n",
       "      <td>60712.0</td>\n",
       "    </tr>\n",
       "    <tr>\n",
       "      <th>998</th>\n",
       "      <td>277</td>\n",
       "      <td>Talmage</td>\n",
       "      <td>Bartell</td>\n",
       "      <td>F</td>\n",
       "      <td>1989-02-19</td>\n",
       "      <td>PE</td>\n",
       "      <td>103606.0</td>\n",
       "    </tr>\n",
       "    <tr>\n",
       "      <th>999</th>\n",
       "      <td>960</td>\n",
       "      <td>Laurie</td>\n",
       "      <td>Nienow</td>\n",
       "      <td>M</td>\n",
       "      <td>1993-04-01</td>\n",
       "      <td>PE</td>\n",
       "      <td>127405.0</td>\n",
       "    </tr>\n",
       "  </tbody>\n",
       "</table>\n",
       "<p>1000 rows × 7 columns</p>\n",
       "</div>"
      ],
      "text/plain": [
       "     number first_name last_name gender  birth_date employment_status  \\\n",
       "0       483     Lenord      Kihn      M  1994-07-01               NaN   \n",
       "1       478      Palma    Beahan      F  1972-05-06                PE   \n",
       "2       348     Hebert    Muller      M  1990-09-04                PE   \n",
       "3       757   Virginia   Ullrich      M  1991-09-23                PE   \n",
       "4       937       Roby    Hudson      M  1997-01-15               NaN   \n",
       "..      ...        ...       ...    ...         ...               ...   \n",
       "995     712       Dann    Crooks    NaN  1983-12-25                CA   \n",
       "996     132      Maxim       Orn      M  1971-03-01                CA   \n",
       "997     126   Kimberli    Walter      M  1976-03-07                CA   \n",
       "998     277    Talmage   Bartell      F  1989-02-19                PE   \n",
       "999     960     Laurie    Nienow      M  1993-04-01                PE   \n",
       "\n",
       "     annual_salary  \n",
       "0          64598.0  \n",
       "1         124103.0  \n",
       "2         100324.0  \n",
       "3         144957.0  \n",
       "4         137659.0  \n",
       "..             ...  \n",
       "995        66592.0  \n",
       "996       127966.0  \n",
       "997        60712.0  \n",
       "998       103606.0  \n",
       "999       127405.0  \n",
       "\n",
       "[1000 rows x 7 columns]"
      ]
     },
     "execution_count": 8,
     "metadata": {},
     "output_type": "execute_result"
    }
   ],
   "source": [
    "df_employee.dropna(axis = \"columns\", how = \"all\")"
   ]
  },
  {
   "cell_type": "code",
   "execution_count": 9,
   "id": "984a7e46",
   "metadata": {
    "ExecuteTime": {
     "end_time": "2022-02-26T18:08:33.064534Z",
     "start_time": "2022-02-26T18:08:33.024065Z"
    }
   },
   "outputs": [
    {
     "data": {
      "text/html": [
       "<div>\n",
       "<style scoped>\n",
       "    .dataframe tbody tr th:only-of-type {\n",
       "        vertical-align: middle;\n",
       "    }\n",
       "\n",
       "    .dataframe tbody tr th {\n",
       "        vertical-align: top;\n",
       "    }\n",
       "\n",
       "    .dataframe thead th {\n",
       "        text-align: right;\n",
       "    }\n",
       "</style>\n",
       "<table border=\"1\" class=\"dataframe\">\n",
       "  <thead>\n",
       "    <tr style=\"text-align: right;\">\n",
       "      <th></th>\n",
       "      <th>number</th>\n",
       "      <th>first_name</th>\n",
       "      <th>last_name</th>\n",
       "      <th>gender</th>\n",
       "      <th>birth_date</th>\n",
       "      <th>employment_status</th>\n",
       "      <th>annual_salary</th>\n",
       "    </tr>\n",
       "  </thead>\n",
       "  <tbody>\n",
       "    <tr>\n",
       "      <th>0</th>\n",
       "      <td>483</td>\n",
       "      <td>Lenord</td>\n",
       "      <td>Kihn</td>\n",
       "      <td>M</td>\n",
       "      <td>1994-07-01</td>\n",
       "      <td>NaN</td>\n",
       "      <td>64598.0</td>\n",
       "    </tr>\n",
       "    <tr>\n",
       "      <th>1</th>\n",
       "      <td>478</td>\n",
       "      <td>Palma</td>\n",
       "      <td>Beahan</td>\n",
       "      <td>F</td>\n",
       "      <td>1972-05-06</td>\n",
       "      <td>PE</td>\n",
       "      <td>124103.0</td>\n",
       "    </tr>\n",
       "    <tr>\n",
       "      <th>2</th>\n",
       "      <td>348</td>\n",
       "      <td>Hebert</td>\n",
       "      <td>Muller</td>\n",
       "      <td>M</td>\n",
       "      <td>1990-09-04</td>\n",
       "      <td>PE</td>\n",
       "      <td>100324.0</td>\n",
       "    </tr>\n",
       "    <tr>\n",
       "      <th>3</th>\n",
       "      <td>757</td>\n",
       "      <td>Virginia</td>\n",
       "      <td>Ullrich</td>\n",
       "      <td>M</td>\n",
       "      <td>1991-09-23</td>\n",
       "      <td>PE</td>\n",
       "      <td>144957.0</td>\n",
       "    </tr>\n",
       "    <tr>\n",
       "      <th>4</th>\n",
       "      <td>937</td>\n",
       "      <td>Roby</td>\n",
       "      <td>Hudson</td>\n",
       "      <td>M</td>\n",
       "      <td>1997-01-15</td>\n",
       "      <td>NaN</td>\n",
       "      <td>137659.0</td>\n",
       "    </tr>\n",
       "    <tr>\n",
       "      <th>...</th>\n",
       "      <td>...</td>\n",
       "      <td>...</td>\n",
       "      <td>...</td>\n",
       "      <td>...</td>\n",
       "      <td>...</td>\n",
       "      <td>...</td>\n",
       "      <td>...</td>\n",
       "    </tr>\n",
       "    <tr>\n",
       "      <th>995</th>\n",
       "      <td>712</td>\n",
       "      <td>Dann</td>\n",
       "      <td>Crooks</td>\n",
       "      <td>NaN</td>\n",
       "      <td>1983-12-25</td>\n",
       "      <td>CA</td>\n",
       "      <td>66592.0</td>\n",
       "    </tr>\n",
       "    <tr>\n",
       "      <th>996</th>\n",
       "      <td>132</td>\n",
       "      <td>Maxim</td>\n",
       "      <td>Orn</td>\n",
       "      <td>M</td>\n",
       "      <td>1971-03-01</td>\n",
       "      <td>CA</td>\n",
       "      <td>127966.0</td>\n",
       "    </tr>\n",
       "    <tr>\n",
       "      <th>997</th>\n",
       "      <td>126</td>\n",
       "      <td>Kimberli</td>\n",
       "      <td>Walter</td>\n",
       "      <td>M</td>\n",
       "      <td>1976-03-07</td>\n",
       "      <td>CA</td>\n",
       "      <td>60712.0</td>\n",
       "    </tr>\n",
       "    <tr>\n",
       "      <th>998</th>\n",
       "      <td>277</td>\n",
       "      <td>Talmage</td>\n",
       "      <td>Bartell</td>\n",
       "      <td>F</td>\n",
       "      <td>1989-02-19</td>\n",
       "      <td>PE</td>\n",
       "      <td>103606.0</td>\n",
       "    </tr>\n",
       "    <tr>\n",
       "      <th>999</th>\n",
       "      <td>960</td>\n",
       "      <td>Laurie</td>\n",
       "      <td>Nienow</td>\n",
       "      <td>M</td>\n",
       "      <td>1993-04-01</td>\n",
       "      <td>PE</td>\n",
       "      <td>127405.0</td>\n",
       "    </tr>\n",
       "  </tbody>\n",
       "</table>\n",
       "<p>1000 rows × 7 columns</p>\n",
       "</div>"
      ],
      "text/plain": [
       "     number first_name last_name gender  birth_date employment_status  \\\n",
       "0       483     Lenord      Kihn      M  1994-07-01               NaN   \n",
       "1       478      Palma    Beahan      F  1972-05-06                PE   \n",
       "2       348     Hebert    Muller      M  1990-09-04                PE   \n",
       "3       757   Virginia   Ullrich      M  1991-09-23                PE   \n",
       "4       937       Roby    Hudson      M  1997-01-15               NaN   \n",
       "..      ...        ...       ...    ...         ...               ...   \n",
       "995     712       Dann    Crooks    NaN  1983-12-25                CA   \n",
       "996     132      Maxim       Orn      M  1971-03-01                CA   \n",
       "997     126   Kimberli    Walter      M  1976-03-07                CA   \n",
       "998     277    Talmage   Bartell      F  1989-02-19                PE   \n",
       "999     960     Laurie    Nienow      M  1993-04-01                PE   \n",
       "\n",
       "     annual_salary  \n",
       "0          64598.0  \n",
       "1         124103.0  \n",
       "2         100324.0  \n",
       "3         144957.0  \n",
       "4         137659.0  \n",
       "..             ...  \n",
       "995        66592.0  \n",
       "996       127966.0  \n",
       "997        60712.0  \n",
       "998       103606.0  \n",
       "999       127405.0  \n",
       "\n",
       "[1000 rows x 7 columns]"
      ]
     },
     "execution_count": 9,
     "metadata": {},
     "output_type": "execute_result"
    }
   ],
   "source": [
    "df_employee.drop([\"tax_file_no\"], axis = \"columns\")\n",
    "#df_employee.drop(labels = [\"tax_file_no\"], axis = 1)"
   ]
  },
  {
   "cell_type": "markdown",
   "id": "7070990e",
   "metadata": {},
   "source": [
    "## Remover renglones\n",
    "\n",
    "Podemos remover renglones que tengan cierta cantidad datos nulos."
   ]
  },
  {
   "cell_type": "code",
   "execution_count": 10,
   "id": "b7267cd3",
   "metadata": {
    "ExecuteTime": {
     "end_time": "2022-02-26T18:08:33.110980Z",
     "start_time": "2022-02-26T18:08:33.076514Z"
    }
   },
   "outputs": [
    {
     "data": {
      "text/html": [
       "<div>\n",
       "<style scoped>\n",
       "    .dataframe tbody tr th:only-of-type {\n",
       "        vertical-align: middle;\n",
       "    }\n",
       "\n",
       "    .dataframe tbody tr th {\n",
       "        vertical-align: top;\n",
       "    }\n",
       "\n",
       "    .dataframe thead th {\n",
       "        text-align: right;\n",
       "    }\n",
       "</style>\n",
       "<table border=\"1\" class=\"dataframe\">\n",
       "  <thead>\n",
       "    <tr style=\"text-align: right;\">\n",
       "      <th></th>\n",
       "      <th>number</th>\n",
       "      <th>first_name</th>\n",
       "      <th>last_name</th>\n",
       "      <th>gender</th>\n",
       "      <th>birth_date</th>\n",
       "      <th>employment_status</th>\n",
       "      <th>annual_salary</th>\n",
       "      <th>tax_file_no</th>\n",
       "    </tr>\n",
       "  </thead>\n",
       "  <tbody>\n",
       "    <tr>\n",
       "      <th>0</th>\n",
       "      <td>483</td>\n",
       "      <td>Lenord</td>\n",
       "      <td>Kihn</td>\n",
       "      <td>M</td>\n",
       "      <td>1994-07-01</td>\n",
       "      <td>NaN</td>\n",
       "      <td>64598.0</td>\n",
       "      <td>NaN</td>\n",
       "    </tr>\n",
       "    <tr>\n",
       "      <th>1</th>\n",
       "      <td>478</td>\n",
       "      <td>Palma</td>\n",
       "      <td>Beahan</td>\n",
       "      <td>F</td>\n",
       "      <td>1972-05-06</td>\n",
       "      <td>PE</td>\n",
       "      <td>124103.0</td>\n",
       "      <td>NaN</td>\n",
       "    </tr>\n",
       "    <tr>\n",
       "      <th>2</th>\n",
       "      <td>348</td>\n",
       "      <td>Hebert</td>\n",
       "      <td>Muller</td>\n",
       "      <td>M</td>\n",
       "      <td>1990-09-04</td>\n",
       "      <td>PE</td>\n",
       "      <td>100324.0</td>\n",
       "      <td>NaN</td>\n",
       "    </tr>\n",
       "    <tr>\n",
       "      <th>3</th>\n",
       "      <td>757</td>\n",
       "      <td>Virginia</td>\n",
       "      <td>Ullrich</td>\n",
       "      <td>M</td>\n",
       "      <td>1991-09-23</td>\n",
       "      <td>PE</td>\n",
       "      <td>144957.0</td>\n",
       "      <td>NaN</td>\n",
       "    </tr>\n",
       "    <tr>\n",
       "      <th>4</th>\n",
       "      <td>937</td>\n",
       "      <td>Roby</td>\n",
       "      <td>Hudson</td>\n",
       "      <td>M</td>\n",
       "      <td>1997-01-15</td>\n",
       "      <td>NaN</td>\n",
       "      <td>137659.0</td>\n",
       "      <td>NaN</td>\n",
       "    </tr>\n",
       "    <tr>\n",
       "      <th>...</th>\n",
       "      <td>...</td>\n",
       "      <td>...</td>\n",
       "      <td>...</td>\n",
       "      <td>...</td>\n",
       "      <td>...</td>\n",
       "      <td>...</td>\n",
       "      <td>...</td>\n",
       "      <td>...</td>\n",
       "    </tr>\n",
       "    <tr>\n",
       "      <th>995</th>\n",
       "      <td>712</td>\n",
       "      <td>Dann</td>\n",
       "      <td>Crooks</td>\n",
       "      <td>NaN</td>\n",
       "      <td>1983-12-25</td>\n",
       "      <td>CA</td>\n",
       "      <td>66592.0</td>\n",
       "      <td>NaN</td>\n",
       "    </tr>\n",
       "    <tr>\n",
       "      <th>996</th>\n",
       "      <td>132</td>\n",
       "      <td>Maxim</td>\n",
       "      <td>Orn</td>\n",
       "      <td>M</td>\n",
       "      <td>1971-03-01</td>\n",
       "      <td>CA</td>\n",
       "      <td>127966.0</td>\n",
       "      <td>NaN</td>\n",
       "    </tr>\n",
       "    <tr>\n",
       "      <th>997</th>\n",
       "      <td>126</td>\n",
       "      <td>Kimberli</td>\n",
       "      <td>Walter</td>\n",
       "      <td>M</td>\n",
       "      <td>1976-03-07</td>\n",
       "      <td>CA</td>\n",
       "      <td>60712.0</td>\n",
       "      <td>NaN</td>\n",
       "    </tr>\n",
       "    <tr>\n",
       "      <th>998</th>\n",
       "      <td>277</td>\n",
       "      <td>Talmage</td>\n",
       "      <td>Bartell</td>\n",
       "      <td>F</td>\n",
       "      <td>1989-02-19</td>\n",
       "      <td>PE</td>\n",
       "      <td>103606.0</td>\n",
       "      <td>NaN</td>\n",
       "    </tr>\n",
       "    <tr>\n",
       "      <th>999</th>\n",
       "      <td>960</td>\n",
       "      <td>Laurie</td>\n",
       "      <td>Nienow</td>\n",
       "      <td>M</td>\n",
       "      <td>1993-04-01</td>\n",
       "      <td>PE</td>\n",
       "      <td>127405.0</td>\n",
       "      <td>NaN</td>\n",
       "    </tr>\n",
       "  </tbody>\n",
       "</table>\n",
       "<p>1000 rows × 8 columns</p>\n",
       "</div>"
      ],
      "text/plain": [
       "     number first_name last_name gender  birth_date employment_status  \\\n",
       "0       483     Lenord      Kihn      M  1994-07-01               NaN   \n",
       "1       478      Palma    Beahan      F  1972-05-06                PE   \n",
       "2       348     Hebert    Muller      M  1990-09-04                PE   \n",
       "3       757   Virginia   Ullrich      M  1991-09-23                PE   \n",
       "4       937       Roby    Hudson      M  1997-01-15               NaN   \n",
       "..      ...        ...       ...    ...         ...               ...   \n",
       "995     712       Dann    Crooks    NaN  1983-12-25                CA   \n",
       "996     132      Maxim       Orn      M  1971-03-01                CA   \n",
       "997     126   Kimberli    Walter      M  1976-03-07                CA   \n",
       "998     277    Talmage   Bartell      F  1989-02-19                PE   \n",
       "999     960     Laurie    Nienow      M  1993-04-01                PE   \n",
       "\n",
       "     annual_salary  tax_file_no  \n",
       "0          64598.0          NaN  \n",
       "1         124103.0          NaN  \n",
       "2         100324.0          NaN  \n",
       "3         144957.0          NaN  \n",
       "4         137659.0          NaN  \n",
       "..             ...          ...  \n",
       "995        66592.0          NaN  \n",
       "996       127966.0          NaN  \n",
       "997        60712.0          NaN  \n",
       "998       103606.0          NaN  \n",
       "999       127405.0          NaN  \n",
       "\n",
       "[1000 rows x 8 columns]"
      ]
     },
     "execution_count": 10,
     "metadata": {},
     "output_type": "execute_result"
    }
   ],
   "source": [
    "df_employee.dropna(axis = \"rows\", how = \"all\")\n",
    "# df_employee.dropna(axis = 0, how = \"all\")\n",
    "# df_employee.dropna(axis = \"index\", how = \"all\")"
   ]
  },
  {
   "cell_type": "code",
   "execution_count": 11,
   "id": "514292e8",
   "metadata": {
    "ExecuteTime": {
     "end_time": "2022-02-26T18:08:33.142185Z",
     "start_time": "2022-02-26T18:08:33.114148Z"
    }
   },
   "outputs": [
    {
     "data": {
      "text/html": [
       "<div>\n",
       "<style scoped>\n",
       "    .dataframe tbody tr th:only-of-type {\n",
       "        vertical-align: middle;\n",
       "    }\n",
       "\n",
       "    .dataframe tbody tr th {\n",
       "        vertical-align: top;\n",
       "    }\n",
       "\n",
       "    .dataframe thead th {\n",
       "        text-align: right;\n",
       "    }\n",
       "</style>\n",
       "<table border=\"1\" class=\"dataframe\">\n",
       "  <thead>\n",
       "    <tr style=\"text-align: right;\">\n",
       "      <th></th>\n",
       "      <th>number</th>\n",
       "      <th>first_name</th>\n",
       "      <th>last_name</th>\n",
       "      <th>gender</th>\n",
       "      <th>birth_date</th>\n",
       "      <th>employment_status</th>\n",
       "      <th>annual_salary</th>\n",
       "      <th>tax_file_no</th>\n",
       "    </tr>\n",
       "  </thead>\n",
       "  <tbody>\n",
       "    <tr>\n",
       "      <th>0</th>\n",
       "      <td>483</td>\n",
       "      <td>Lenord</td>\n",
       "      <td>Kihn</td>\n",
       "      <td>M</td>\n",
       "      <td>1994-07-01</td>\n",
       "      <td>NaN</td>\n",
       "      <td>64598.0</td>\n",
       "      <td>NaN</td>\n",
       "    </tr>\n",
       "    <tr>\n",
       "      <th>1</th>\n",
       "      <td>478</td>\n",
       "      <td>Palma</td>\n",
       "      <td>Beahan</td>\n",
       "      <td>F</td>\n",
       "      <td>1972-05-06</td>\n",
       "      <td>PE</td>\n",
       "      <td>124103.0</td>\n",
       "      <td>NaN</td>\n",
       "    </tr>\n",
       "    <tr>\n",
       "      <th>2</th>\n",
       "      <td>348</td>\n",
       "      <td>Hebert</td>\n",
       "      <td>Muller</td>\n",
       "      <td>M</td>\n",
       "      <td>1990-09-04</td>\n",
       "      <td>PE</td>\n",
       "      <td>100324.0</td>\n",
       "      <td>NaN</td>\n",
       "    </tr>\n",
       "    <tr>\n",
       "      <th>3</th>\n",
       "      <td>757</td>\n",
       "      <td>Virginia</td>\n",
       "      <td>Ullrich</td>\n",
       "      <td>M</td>\n",
       "      <td>1991-09-23</td>\n",
       "      <td>PE</td>\n",
       "      <td>144957.0</td>\n",
       "      <td>NaN</td>\n",
       "    </tr>\n",
       "    <tr>\n",
       "      <th>4</th>\n",
       "      <td>937</td>\n",
       "      <td>Roby</td>\n",
       "      <td>Hudson</td>\n",
       "      <td>M</td>\n",
       "      <td>1997-01-15</td>\n",
       "      <td>NaN</td>\n",
       "      <td>137659.0</td>\n",
       "      <td>NaN</td>\n",
       "    </tr>\n",
       "    <tr>\n",
       "      <th>5</th>\n",
       "      <td>264</td>\n",
       "      <td>Jaeda</td>\n",
       "      <td>Effertz</td>\n",
       "      <td>NaN</td>\n",
       "      <td>1994-03-21</td>\n",
       "      <td>PE</td>\n",
       "      <td>131924.0</td>\n",
       "      <td>NaN</td>\n",
       "    </tr>\n",
       "    <tr>\n",
       "      <th>6</th>\n",
       "      <td>165</td>\n",
       "      <td>Jalissa</td>\n",
       "      <td>Bogisich</td>\n",
       "      <td>F</td>\n",
       "      <td>1974-01-07</td>\n",
       "      <td>PE</td>\n",
       "      <td>101133.0</td>\n",
       "      <td>NaN</td>\n",
       "    </tr>\n",
       "    <tr>\n",
       "      <th>7</th>\n",
       "      <td>211</td>\n",
       "      <td>Lexie</td>\n",
       "      <td>Robel</td>\n",
       "      <td>M</td>\n",
       "      <td>1997-09-05</td>\n",
       "      <td>NaN</td>\n",
       "      <td>106595.0</td>\n",
       "      <td>NaN</td>\n",
       "    </tr>\n",
       "    <tr>\n",
       "      <th>8</th>\n",
       "      <td>510</td>\n",
       "      <td>Billy</td>\n",
       "      <td>Reilly</td>\n",
       "      <td>M</td>\n",
       "      <td>1977-04-30</td>\n",
       "      <td>NaN</td>\n",
       "      <td>75300.0</td>\n",
       "      <td>NaN</td>\n",
       "    </tr>\n",
       "    <tr>\n",
       "      <th>9</th>\n",
       "      <td>940</td>\n",
       "      <td>Marlana</td>\n",
       "      <td>Moen</td>\n",
       "      <td>F</td>\n",
       "      <td>1979-05-05</td>\n",
       "      <td>CA</td>\n",
       "      <td>140611.0</td>\n",
       "      <td>NaN</td>\n",
       "    </tr>\n",
       "  </tbody>\n",
       "</table>\n",
       "</div>"
      ],
      "text/plain": [
       "   number first_name last_name gender  birth_date employment_status  \\\n",
       "0     483     Lenord      Kihn      M  1994-07-01               NaN   \n",
       "1     478      Palma    Beahan      F  1972-05-06                PE   \n",
       "2     348     Hebert    Muller      M  1990-09-04                PE   \n",
       "3     757   Virginia   Ullrich      M  1991-09-23                PE   \n",
       "4     937       Roby    Hudson      M  1997-01-15               NaN   \n",
       "5     264      Jaeda   Effertz    NaN  1994-03-21                PE   \n",
       "6     165    Jalissa  Bogisich      F  1974-01-07                PE   \n",
       "7     211      Lexie     Robel      M  1997-09-05               NaN   \n",
       "8     510      Billy    Reilly      M  1977-04-30               NaN   \n",
       "9     940    Marlana      Moen      F  1979-05-05                CA   \n",
       "\n",
       "   annual_salary  tax_file_no  \n",
       "0        64598.0          NaN  \n",
       "1       124103.0          NaN  \n",
       "2       100324.0          NaN  \n",
       "3       144957.0          NaN  \n",
       "4       137659.0          NaN  \n",
       "5       131924.0          NaN  \n",
       "6       101133.0          NaN  \n",
       "7       106595.0          NaN  \n",
       "8        75300.0          NaN  \n",
       "9       140611.0          NaN  "
      ]
     },
     "execution_count": 11,
     "metadata": {},
     "output_type": "execute_result"
    }
   ],
   "source": [
    "df_employee.head(10)"
   ]
  },
  {
   "cell_type": "code",
   "execution_count": 12,
   "id": "2e9fde5f",
   "metadata": {
    "ExecuteTime": {
     "end_time": "2022-02-26T18:08:33.173257Z",
     "start_time": "2022-02-26T18:08:33.145211Z"
    }
   },
   "outputs": [
    {
     "data": {
      "text/plain": [
       "(628, 8)"
      ]
     },
     "execution_count": 12,
     "metadata": {},
     "output_type": "execute_result"
    }
   ],
   "source": [
    "df_employee_new = df_employee.dropna(axis = \"index\", how = \"all\", thresh = 7) # thresh o threshold\n",
    "df_employee_new.shape"
   ]
  },
  {
   "cell_type": "markdown",
   "id": "477aa38a",
   "metadata": {},
   "source": [
    "## Reemplazar valores nulos\n",
    "\n",
    "Para eso hay diversas técnicas y dependerá tanto del contexto como del tipo de dato que estemos analizando,"
   ]
  },
  {
   "cell_type": "code",
   "execution_count": 13,
   "id": "48d79fad",
   "metadata": {
    "ExecuteTime": {
     "end_time": "2022-02-26T18:08:33.188810Z",
     "start_time": "2022-02-26T18:08:33.177430Z"
    }
   },
   "outputs": [],
   "source": [
    "def plot_frecuency_distribution(df = pd.DataFrame(), \n",
    "                                category = str, \n",
    "                                fs_title = 12, \n",
    "                                fs_xlabel = 12, \n",
    "                                fs_ylabel = 12, \n",
    "                                xticks = 0, \n",
    "                                yticks = 0, \n",
    "                                title = str, \n",
    "                                size = (5, 5), alpha_ = 0.5):\n",
    "    \n",
    "    cat_count = df[category].value_counts()\n",
    "    x = cat_count.values\n",
    "    y = cat_count.index\n",
    "    \n",
    "    plt.figure(figsize = size)\n",
    "    \n",
    "    sns.set(style = \"darkgrid\")\n",
    "    sns.barplot(y, x, alpha = alpha_)\n",
    "    plt.title(f\"{title} {category}\", fontsize = fs_title)\n",
    "    plt.xlabel(category, fontsize = fs_xlabel)\n",
    "    plt.ylabel(\"Conteo\", fontsize = fs_ylabel)\n",
    "    plt.xticks(rotation = xticks)\n",
    "    plt.yticks(rotation = yticks);"
   ]
  },
  {
   "cell_type": "code",
   "execution_count": 14,
   "id": "ac354955",
   "metadata": {
    "ExecuteTime": {
     "end_time": "2022-02-26T18:08:33.204235Z",
     "start_time": "2022-02-26T18:08:33.192170Z"
    }
   },
   "outputs": [
    {
     "data": {
      "text/plain": [
       "M    414\n",
       "F    379\n",
       "Name: gender, dtype: int64"
      ]
     },
     "execution_count": 14,
     "metadata": {},
     "output_type": "execute_result"
    }
   ],
   "source": [
    "x = df_employee[\"gender\"].value_counts()\n",
    "x"
   ]
  },
  {
   "cell_type": "code",
   "execution_count": 15,
   "id": "5e4f8007",
   "metadata": {
    "ExecuteTime": {
     "end_time": "2022-02-26T18:08:33.219220Z",
     "start_time": "2022-02-26T18:08:33.207215Z"
    }
   },
   "outputs": [
    {
     "data": {
      "text/plain": [
       "Index(['M', 'F'], dtype='object')"
      ]
     },
     "execution_count": 15,
     "metadata": {},
     "output_type": "execute_result"
    }
   ],
   "source": [
    "x.index"
   ]
  },
  {
   "cell_type": "code",
   "execution_count": 16,
   "id": "0cda5bf3",
   "metadata": {
    "ExecuteTime": {
     "end_time": "2022-02-26T18:08:33.235162Z",
     "start_time": "2022-02-26T18:08:33.222181Z"
    }
   },
   "outputs": [
    {
     "data": {
      "text/plain": [
       "array([414, 379], dtype=int64)"
      ]
     },
     "execution_count": 16,
     "metadata": {},
     "output_type": "execute_result"
    }
   ],
   "source": [
    "x.values"
   ]
  },
  {
   "cell_type": "markdown",
   "id": "1825efaf",
   "metadata": {},
   "source": [
    "### Columna Gender"
   ]
  },
  {
   "cell_type": "code",
   "execution_count": 17,
   "id": "67545d68",
   "metadata": {
    "ExecuteTime": {
     "end_time": "2022-02-26T18:08:33.483476Z",
     "start_time": "2022-02-26T18:08:33.239181Z"
    }
   },
   "outputs": [
    {
     "data": {
      "image/png": "[encoded data removed]",
      "text/plain": [
       "<Figure size 360x360 with 1 Axes>"
      ]
     },
     "metadata": {
      "needs_background": "light"
     },
     "output_type": "display_data"
    }
   ],
   "source": [
    "plot_frecuency_distribution(df_employee, \n",
    "                            category = \"employment_status\",\n",
    "                            fs_title = 15, \n",
    "                            fs_xlabel = 15, \n",
    "                            fs_ylabel = 15,\n",
    "                            xticks = 45, \n",
    "                            yticks = 45, \n",
    "                            title = \"Distribucion de frecuencias de la categoria\", \n",
    "                            size = (5, 5), \n",
    "                            alpha_ = 0.6) "
   ]
  },
  {
   "cell_type": "code",
   "execution_count": 18,
   "id": "936cbbbe",
   "metadata": {
    "ExecuteTime": {
     "end_time": "2022-02-26T18:08:33.682663Z",
     "start_time": "2022-02-26T18:08:33.486515Z"
    }
   },
   "outputs": [
    {
     "data": {
      "image/png": "[encoded data removed]",
      "text/plain": [
       "<Figure size 360x360 with 1 Axes>"
      ]
     },
     "metadata": {},
     "output_type": "display_data"
    }
   ],
   "source": [
    "plot_frecuency_distribution(df_employee, \n",
    "                            category = \"gender\",\n",
    "                            fs_title = 15, \n",
    "                            fs_xlabel = 15, \n",
    "                            fs_ylabel = 15, \n",
    "                            xticks = 45, \n",
    "                            yticks = 45, \n",
    "                            title = \"Distribucion de frecuencias de la categoria\", \n",
    "                            size = (5, 5)) "
   ]
  },
  {
   "cell_type": "code",
   "execution_count": 19,
   "id": "2f169994",
   "metadata": {
    "ExecuteTime": {
     "end_time": "2022-02-26T18:08:34.256524Z",
     "start_time": "2022-02-26T18:08:33.685521Z"
    }
   },
   "outputs": [
    {
     "data": {
      "image/png": "[encoded data removed]",
      "text/plain": [
       "<Figure size 360x360 with 1 Axes>"
      ]
     },
     "metadata": {},
     "output_type": "display_data"
    },
    {
     "data": {
      "image/png": "[encoded data removed]",
      "text/plain": [
       "<Figure size 360x360 with 1 Axes>"
      ]
     },
     "metadata": {},
     "output_type": "display_data"
    }
   ],
   "source": [
    "categories = [\"gender\", \"employment_status\"]\n",
    "\n",
    "for cat in categories:\n",
    "    \n",
    "    plot_frecuency_distribution(df_employee, \n",
    "                            category = cat,\n",
    "                            fs_title = 15, \n",
    "                            fs_xlabel = 15, \n",
    "                            fs_ylabel = 15,\n",
    "                            xticks = 45, \n",
    "                            yticks = 45, \n",
    "                            title = \"Distribucion de frecuencias de la categoria\", \n",
    "                            size = (5, 5)) "
   ]
  },
  {
   "cell_type": "markdown",
   "id": "afa45434",
   "metadata": {},
   "source": [
    "#### corregir utilizando la función fillna de pandas"
   ]
  },
  {
   "cell_type": "markdown",
   "id": "f97d15a8",
   "metadata": {},
   "source": [
    "#### Aplicar una función personalizada"
   ]
  },
  {
   "cell_type": "code",
   "execution_count": 20,
   "id": "62d6a46a",
   "metadata": {
    "ExecuteTime": {
     "end_time": "2022-02-26T18:08:34.272198Z",
     "start_time": "2022-02-26T18:08:34.259113Z"
    }
   },
   "outputs": [],
   "source": [
    "df_employee.head(3)\n",
    "df_employee.dropna(axis = \"index\", how = \"all\", thresh = 2, inplace = True)"
   ]
  },
  {
   "cell_type": "code",
   "execution_count": 21,
   "id": "65229571",
   "metadata": {
    "ExecuteTime": {
     "end_time": "2022-02-26T18:08:34.303145Z",
     "start_time": "2022-02-26T18:08:34.275207Z"
    }
   },
   "outputs": [
    {
     "data": {
      "text/html": [
       "<div>\n",
       "<style scoped>\n",
       "    .dataframe tbody tr th:only-of-type {\n",
       "        vertical-align: middle;\n",
       "    }\n",
       "\n",
       "    .dataframe tbody tr th {\n",
       "        vertical-align: top;\n",
       "    }\n",
       "\n",
       "    .dataframe thead th {\n",
       "        text-align: right;\n",
       "    }\n",
       "</style>\n",
       "<table border=\"1\" class=\"dataframe\">\n",
       "  <thead>\n",
       "    <tr style=\"text-align: right;\">\n",
       "      <th></th>\n",
       "      <th>number</th>\n",
       "      <th>first_name</th>\n",
       "      <th>last_name</th>\n",
       "      <th>gender</th>\n",
       "      <th>birth_date</th>\n",
       "      <th>employment_status</th>\n",
       "      <th>annual_salary</th>\n",
       "      <th>tax_file_no</th>\n",
       "    </tr>\n",
       "  </thead>\n",
       "  <tbody>\n",
       "    <tr>\n",
       "      <th>0</th>\n",
       "      <td>483</td>\n",
       "      <td>Lenord</td>\n",
       "      <td>Kihn</td>\n",
       "      <td>M</td>\n",
       "      <td>1994-07-01</td>\n",
       "      <td>NaN</td>\n",
       "      <td>64598.0</td>\n",
       "      <td>NaN</td>\n",
       "    </tr>\n",
       "    <tr>\n",
       "      <th>1</th>\n",
       "      <td>478</td>\n",
       "      <td>Palma</td>\n",
       "      <td>Beahan</td>\n",
       "      <td>F</td>\n",
       "      <td>1972-05-06</td>\n",
       "      <td>PE</td>\n",
       "      <td>124103.0</td>\n",
       "      <td>NaN</td>\n",
       "    </tr>\n",
       "    <tr>\n",
       "      <th>2</th>\n",
       "      <td>348</td>\n",
       "      <td>Hebert</td>\n",
       "      <td>Muller</td>\n",
       "      <td>M</td>\n",
       "      <td>1990-09-04</td>\n",
       "      <td>PE</td>\n",
       "      <td>100324.0</td>\n",
       "      <td>NaN</td>\n",
       "    </tr>\n",
       "    <tr>\n",
       "      <th>3</th>\n",
       "      <td>757</td>\n",
       "      <td>Virginia</td>\n",
       "      <td>Ullrich</td>\n",
       "      <td>M</td>\n",
       "      <td>1991-09-23</td>\n",
       "      <td>PE</td>\n",
       "      <td>144957.0</td>\n",
       "      <td>NaN</td>\n",
       "    </tr>\n",
       "    <tr>\n",
       "      <th>4</th>\n",
       "      <td>937</td>\n",
       "      <td>Roby</td>\n",
       "      <td>Hudson</td>\n",
       "      <td>M</td>\n",
       "      <td>1997-01-15</td>\n",
       "      <td>NaN</td>\n",
       "      <td>137659.0</td>\n",
       "      <td>NaN</td>\n",
       "    </tr>\n",
       "    <tr>\n",
       "      <th>5</th>\n",
       "      <td>264</td>\n",
       "      <td>Jaeda</td>\n",
       "      <td>Effertz</td>\n",
       "      <td>NaN</td>\n",
       "      <td>1994-03-21</td>\n",
       "      <td>PE</td>\n",
       "      <td>131924.0</td>\n",
       "      <td>NaN</td>\n",
       "    </tr>\n",
       "    <tr>\n",
       "      <th>6</th>\n",
       "      <td>165</td>\n",
       "      <td>Jalissa</td>\n",
       "      <td>Bogisich</td>\n",
       "      <td>F</td>\n",
       "      <td>1974-01-07</td>\n",
       "      <td>PE</td>\n",
       "      <td>101133.0</td>\n",
       "      <td>NaN</td>\n",
       "    </tr>\n",
       "    <tr>\n",
       "      <th>7</th>\n",
       "      <td>211</td>\n",
       "      <td>Lexie</td>\n",
       "      <td>Robel</td>\n",
       "      <td>M</td>\n",
       "      <td>1997-09-05</td>\n",
       "      <td>NaN</td>\n",
       "      <td>106595.0</td>\n",
       "      <td>NaN</td>\n",
       "    </tr>\n",
       "    <tr>\n",
       "      <th>8</th>\n",
       "      <td>510</td>\n",
       "      <td>Billy</td>\n",
       "      <td>Reilly</td>\n",
       "      <td>M</td>\n",
       "      <td>1977-04-30</td>\n",
       "      <td>NaN</td>\n",
       "      <td>75300.0</td>\n",
       "      <td>NaN</td>\n",
       "    </tr>\n",
       "    <tr>\n",
       "      <th>9</th>\n",
       "      <td>940</td>\n",
       "      <td>Marlana</td>\n",
       "      <td>Moen</td>\n",
       "      <td>F</td>\n",
       "      <td>1979-05-05</td>\n",
       "      <td>CA</td>\n",
       "      <td>140611.0</td>\n",
       "      <td>NaN</td>\n",
       "    </tr>\n",
       "  </tbody>\n",
       "</table>\n",
       "</div>"
      ],
      "text/plain": [
       "   number first_name last_name gender  birth_date employment_status  \\\n",
       "0     483     Lenord      Kihn      M  1994-07-01               NaN   \n",
       "1     478      Palma    Beahan      F  1972-05-06                PE   \n",
       "2     348     Hebert    Muller      M  1990-09-04                PE   \n",
       "3     757   Virginia   Ullrich      M  1991-09-23                PE   \n",
       "4     937       Roby    Hudson      M  1997-01-15               NaN   \n",
       "5     264      Jaeda   Effertz    NaN  1994-03-21                PE   \n",
       "6     165    Jalissa  Bogisich      F  1974-01-07                PE   \n",
       "7     211      Lexie     Robel      M  1997-09-05               NaN   \n",
       "8     510      Billy    Reilly      M  1977-04-30               NaN   \n",
       "9     940    Marlana      Moen      F  1979-05-05                CA   \n",
       "\n",
       "   annual_salary  tax_file_no  \n",
       "0        64598.0          NaN  \n",
       "1       124103.0          NaN  \n",
       "2       100324.0          NaN  \n",
       "3       144957.0          NaN  \n",
       "4       137659.0          NaN  \n",
       "5       131924.0          NaN  \n",
       "6       101133.0          NaN  \n",
       "7       106595.0          NaN  \n",
       "8        75300.0          NaN  \n",
       "9       140611.0          NaN  "
      ]
     },
     "execution_count": 21,
     "metadata": {},
     "output_type": "execute_result"
    }
   ],
   "source": [
    "df_employee.head(10)"
   ]
  },
  {
   "cell_type": "code",
   "execution_count": 22,
   "id": "bea794f9",
   "metadata": {
    "ExecuteTime": {
     "end_time": "2022-02-26T18:08:34.318973Z",
     "start_time": "2022-02-26T18:08:34.306649Z"
    }
   },
   "outputs": [],
   "source": [
    "def clasificar_genero_por_nombre(item:str, gender):\n",
    "    \n",
    "    if not pd.isna(gender):\n",
    "        return gender\n",
    "    \n",
    "    if item.endswith(\"o\") or item.endswith(\"r\") or item.endswith(\"d\"):\n",
    "        return \"M\"\n",
    "    \n",
    "    else:\n",
    "        return \"F\""
   ]
  },
  {
   "cell_type": "code",
   "execution_count": 23,
   "id": "3c00b582",
   "metadata": {
    "ExecuteTime": {
     "end_time": "2022-02-26T18:08:34.380409Z",
     "start_time": "2022-02-26T18:08:34.321928Z"
    }
   },
   "outputs": [
    {
     "data": {
      "text/html": [
       "<div>\n",
       "<style scoped>\n",
       "    .dataframe tbody tr th:only-of-type {\n",
       "        vertical-align: middle;\n",
       "    }\n",
       "\n",
       "    .dataframe tbody tr th {\n",
       "        vertical-align: top;\n",
       "    }\n",
       "\n",
       "    .dataframe thead th {\n",
       "        text-align: right;\n",
       "    }\n",
       "</style>\n",
       "<table border=\"1\" class=\"dataframe\">\n",
       "  <thead>\n",
       "    <tr style=\"text-align: right;\">\n",
       "      <th></th>\n",
       "      <th>number</th>\n",
       "      <th>first_name</th>\n",
       "      <th>last_name</th>\n",
       "      <th>gender</th>\n",
       "      <th>birth_date</th>\n",
       "      <th>employment_status</th>\n",
       "      <th>annual_salary</th>\n",
       "      <th>tax_file_no</th>\n",
       "    </tr>\n",
       "  </thead>\n",
       "  <tbody>\n",
       "    <tr>\n",
       "      <th>0</th>\n",
       "      <td>483</td>\n",
       "      <td>Lenord</td>\n",
       "      <td>Kihn</td>\n",
       "      <td>M</td>\n",
       "      <td>1994-07-01</td>\n",
       "      <td>NaN</td>\n",
       "      <td>64598.0</td>\n",
       "      <td>NaN</td>\n",
       "    </tr>\n",
       "    <tr>\n",
       "      <th>1</th>\n",
       "      <td>478</td>\n",
       "      <td>Palma</td>\n",
       "      <td>Beahan</td>\n",
       "      <td>F</td>\n",
       "      <td>1972-05-06</td>\n",
       "      <td>PE</td>\n",
       "      <td>124103.0</td>\n",
       "      <td>NaN</td>\n",
       "    </tr>\n",
       "    <tr>\n",
       "      <th>2</th>\n",
       "      <td>348</td>\n",
       "      <td>Hebert</td>\n",
       "      <td>Muller</td>\n",
       "      <td>M</td>\n",
       "      <td>1990-09-04</td>\n",
       "      <td>PE</td>\n",
       "      <td>100324.0</td>\n",
       "      <td>NaN</td>\n",
       "    </tr>\n",
       "    <tr>\n",
       "      <th>3</th>\n",
       "      <td>757</td>\n",
       "      <td>Virginia</td>\n",
       "      <td>Ullrich</td>\n",
       "      <td>M</td>\n",
       "      <td>1991-09-23</td>\n",
       "      <td>PE</td>\n",
       "      <td>144957.0</td>\n",
       "      <td>NaN</td>\n",
       "    </tr>\n",
       "    <tr>\n",
       "      <th>4</th>\n",
       "      <td>937</td>\n",
       "      <td>Roby</td>\n",
       "      <td>Hudson</td>\n",
       "      <td>M</td>\n",
       "      <td>1997-01-15</td>\n",
       "      <td>NaN</td>\n",
       "      <td>137659.0</td>\n",
       "      <td>NaN</td>\n",
       "    </tr>\n",
       "    <tr>\n",
       "      <th>5</th>\n",
       "      <td>264</td>\n",
       "      <td>Jaeda</td>\n",
       "      <td>Effertz</td>\n",
       "      <td>F</td>\n",
       "      <td>1994-03-21</td>\n",
       "      <td>PE</td>\n",
       "      <td>131924.0</td>\n",
       "      <td>NaN</td>\n",
       "    </tr>\n",
       "    <tr>\n",
       "      <th>6</th>\n",
       "      <td>165</td>\n",
       "      <td>Jalissa</td>\n",
       "      <td>Bogisich</td>\n",
       "      <td>F</td>\n",
       "      <td>1974-01-07</td>\n",
       "      <td>PE</td>\n",
       "      <td>101133.0</td>\n",
       "      <td>NaN</td>\n",
       "    </tr>\n",
       "    <tr>\n",
       "      <th>7</th>\n",
       "      <td>211</td>\n",
       "      <td>Lexie</td>\n",
       "      <td>Robel</td>\n",
       "      <td>M</td>\n",
       "      <td>1997-09-05</td>\n",
       "      <td>NaN</td>\n",
       "      <td>106595.0</td>\n",
       "      <td>NaN</td>\n",
       "    </tr>\n",
       "    <tr>\n",
       "      <th>8</th>\n",
       "      <td>510</td>\n",
       "      <td>Billy</td>\n",
       "      <td>Reilly</td>\n",
       "      <td>M</td>\n",
       "      <td>1977-04-30</td>\n",
       "      <td>NaN</td>\n",
       "      <td>75300.0</td>\n",
       "      <td>NaN</td>\n",
       "    </tr>\n",
       "    <tr>\n",
       "      <th>9</th>\n",
       "      <td>940</td>\n",
       "      <td>Marlana</td>\n",
       "      <td>Moen</td>\n",
       "      <td>F</td>\n",
       "      <td>1979-05-05</td>\n",
       "      <td>CA</td>\n",
       "      <td>140611.0</td>\n",
       "      <td>NaN</td>\n",
       "    </tr>\n",
       "  </tbody>\n",
       "</table>\n",
       "</div>"
      ],
      "text/plain": [
       "   number first_name last_name gender  birth_date employment_status  \\\n",
       "0     483     Lenord      Kihn      M  1994-07-01               NaN   \n",
       "1     478      Palma    Beahan      F  1972-05-06                PE   \n",
       "2     348     Hebert    Muller      M  1990-09-04                PE   \n",
       "3     757   Virginia   Ullrich      M  1991-09-23                PE   \n",
       "4     937       Roby    Hudson      M  1997-01-15               NaN   \n",
       "5     264      Jaeda   Effertz      F  1994-03-21                PE   \n",
       "6     165    Jalissa  Bogisich      F  1974-01-07                PE   \n",
       "7     211      Lexie     Robel      M  1997-09-05               NaN   \n",
       "8     510      Billy    Reilly      M  1977-04-30               NaN   \n",
       "9     940    Marlana      Moen      F  1979-05-05                CA   \n",
       "\n",
       "   annual_salary  tax_file_no  \n",
       "0        64598.0          NaN  \n",
       "1       124103.0          NaN  \n",
       "2       100324.0          NaN  \n",
       "3       144957.0          NaN  \n",
       "4       137659.0          NaN  \n",
       "5       131924.0          NaN  \n",
       "6       101133.0          NaN  \n",
       "7       106595.0          NaN  \n",
       "8        75300.0          NaN  \n",
       "9       140611.0          NaN  "
      ]
     },
     "execution_count": 23,
     "metadata": {},
     "output_type": "execute_result"
    }
   ],
   "source": [
    "df_employee[\"gender\"] = df_employee.apply(lambda x: clasificar_genero_por_nombre(x[\"first_name\"], x[\"gender\"]), axis = 1)\n",
    "df_employee.head(10)"
   ]
  },
  {
   "cell_type": "markdown",
   "id": "28a6721f",
   "metadata": {},
   "source": [
    "### Employment status"
   ]
  },
  {
   "cell_type": "code",
   "execution_count": 24,
   "id": "35ef22e5",
   "metadata": {
    "ExecuteTime": {
     "end_time": "2022-02-26T18:08:34.396340Z",
     "start_time": "2022-02-26T18:08:34.382407Z"
    }
   },
   "outputs": [
    {
     "data": {
      "text/plain": [
       "employment_status\n",
       "CA    109\n",
       "PE    599\n",
       "TE    103\n",
       "dtype: int64"
      ]
     },
     "execution_count": 24,
     "metadata": {},
     "output_type": "execute_result"
    }
   ],
   "source": [
    "df_employee.groupby([\"employment_status\"]).size()"
   ]
  },
  {
   "cell_type": "code",
   "execution_count": 25,
   "id": "e591f882",
   "metadata": {
    "ExecuteTime": {
     "end_time": "2022-02-26T18:08:34.427205Z",
     "start_time": "2022-02-26T18:08:34.399368Z"
    }
   },
   "outputs": [
    {
     "data": {
      "text/plain": [
       "employment_status\n",
       "PE                   599\n",
       "CA                   109\n",
       "TE                   103\n",
       "dtype: int64"
      ]
     },
     "execution_count": 25,
     "metadata": {},
     "output_type": "execute_result"
    }
   ],
   "source": [
    "df_employee[[\"employment_status\"]].value_counts()"
   ]
  },
  {
   "cell_type": "code",
   "execution_count": 26,
   "id": "69302732",
   "metadata": {
    "ExecuteTime": {
     "end_time": "2022-02-26T18:08:34.442475Z",
     "start_time": "2022-02-26T18:08:34.430196Z"
    }
   },
   "outputs": [],
   "source": [
    "df_employee[\"employment_status\"] = df_employee[\"employment_status\"].astype(\"category\")"
   ]
  },
  {
   "cell_type": "code",
   "execution_count": 27,
   "id": "94d71984",
   "metadata": {
    "ExecuteTime": {
     "end_time": "2022-02-26T18:08:34.457362Z",
     "start_time": "2022-02-26T18:08:34.445179Z"
    }
   },
   "outputs": [
    {
     "data": {
      "text/plain": [
       "['CA', 'PE', 'TE']"
      ]
     },
     "execution_count": 27,
     "metadata": {},
     "output_type": "execute_result"
    }
   ],
   "source": [
    "df_employee[\"employment_status\"].cat.categories.tolist()"
   ]
  },
  {
   "cell_type": "code",
   "execution_count": 28,
   "id": "77a35c03",
   "metadata": {
    "ExecuteTime": {
     "end_time": "2022-02-26T18:08:34.488435Z",
     "start_time": "2022-02-26T18:08:34.464174Z"
    }
   },
   "outputs": [
    {
     "data": {
      "text/plain": [
       "[109, 599, 103]"
      ]
     },
     "execution_count": 28,
     "metadata": {},
     "output_type": "execute_result"
    }
   ],
   "source": [
    "y = df_employee[\"employment_status\"].value_counts()\n",
    "labels = df_employee[\"employment_status\"].astype(\"category\").cat.categories.tolist()\n",
    "[y[var] for var in labels]"
   ]
  },
  {
   "cell_type": "code",
   "execution_count": 29,
   "id": "1a7df7ca",
   "metadata": {
    "ExecuteTime": {
     "end_time": "2022-02-26T18:08:34.503359Z",
     "start_time": "2022-02-26T18:08:34.491397Z"
    }
   },
   "outputs": [],
   "source": [
    "def plot_pie_chart(df = pd.DataFrame(), \n",
    "                   category = str, \n",
    "                   fig_size = (5, 5), \n",
    "                   explode_ = (0, 0, 0), \n",
    "                   shadow_ = False, \n",
    "                   colors_ = [\"r\", \"g\", \"b\"]):\n",
    "    \n",
    "    labels = df[category].astype(\"category\").cat.categories.tolist()  \n",
    "    counts = df[category].value_counts()\n",
    "    sizes = [counts[var] for var in labels]\n",
    "    \n",
    "    fig, axs = plt.subplots(figsize = fig_size)\n",
    "    \n",
    "    axs.pie(sizes, labels = labels, autopct = \"%1.1f%%\", \n",
    "            explode = explode_, shadow = shadow_, colors = colors_);"
   ]
  },
  {
   "cell_type": "code",
   "execution_count": 30,
   "id": "31c9b234",
   "metadata": {
    "ExecuteTime": {
     "end_time": "2022-02-26T18:08:34.645131Z",
     "start_time": "2022-02-26T18:08:34.508646Z"
    }
   },
   "outputs": [
    {
     "data": {
      "image/png": "[encoded data removed]",
      "text/plain": [
       "<Figure size 360x360 with 1 Axes>"
      ]
     },
     "metadata": {},
     "output_type": "display_data"
    }
   ],
   "source": [
    "plot_pie_chart(df_employee, \n",
    "               category = \"employment_status\", \n",
    "               explode_ = (0, 0.1, 0), \n",
    "               shadow_ = True, \n",
    "               colors_ = [\"#4F6272\", \"#B7C3F3\", \"#DD7596\"])"
   ]
  },
  {
   "cell_type": "markdown",
   "id": "6f6c0e1f",
   "metadata": {
    "ExecuteTime": {
     "end_time": "2021-08-04T21:29:33.081819Z",
     "start_time": "2021-08-04T21:29:33.077875Z"
    }
   },
   "source": [
    "## annual_salary"
   ]
  },
  {
   "cell_type": "code",
   "execution_count": 31,
   "id": "123e80be",
   "metadata": {
    "ExecuteTime": {
     "end_time": "2022-02-26T18:08:35.081369Z",
     "start_time": "2022-02-26T18:08:34.648094Z"
    }
   },
   "outputs": [
    {
     "data": {
      "image/png": "[encoded data removed]",
      "text/plain": [
       "<Figure size 360x360 with 1 Axes>"
      ]
     },
     "metadata": {},
     "output_type": "display_data"
    }
   ],
   "source": [
    "sns.displot(df_employee[\"annual_salary\"]);"
   ]
  },
  {
   "cell_type": "markdown",
   "id": "c267452a",
   "metadata": {},
   "source": [
    "# Manipular Fechas\n",
    "\n",
    "<br>\n",
    "<img src=\"./images/fechas.png\" height = \"550\" width = \"550\">"
   ]
  },
  {
   "cell_type": "code",
   "execution_count": 32,
   "id": "004b2a63",
   "metadata": {
    "ExecuteTime": {
     "end_time": "2022-02-26T18:08:35.112010Z",
     "start_time": "2022-02-26T18:08:35.084733Z"
    }
   },
   "outputs": [],
   "source": [
    "df_employee[\"birth_date\"] = pd.to_datetime(df_employee[\"birth_date\"])\n",
    "#df_employee[\"birth_date\"].astype(\"datetime64[ns]\")"
   ]
  },
  {
   "cell_type": "code",
   "execution_count": 34,
   "id": "7b9e68db",
   "metadata": {
    "ExecuteTime": {
     "end_time": "2022-02-26T18:09:57.695337Z",
     "start_time": "2022-02-26T18:09:57.677440Z"
    }
   },
   "outputs": [
    {
     "data": {
      "text/plain": [
       "Timestamp('1994-07-01 00:00:00')"
      ]
     },
     "execution_count": 34,
     "metadata": {},
     "output_type": "execute_result"
    }
   ],
   "source": [
    "df_employee[\"birth_date\"][0]"
   ]
  },
  {
   "cell_type": "code",
   "execution_count": 35,
   "id": "8b22b9c0",
   "metadata": {
    "ExecuteTime": {
     "end_time": "2022-02-26T18:10:38.775775Z",
     "start_time": "2022-02-26T18:10:38.760513Z"
    }
   },
   "outputs": [
    {
     "data": {
      "text/plain": [
       "'2022/2/26 13:10:38'"
      ]
     },
     "execution_count": 35,
     "metadata": {},
     "output_type": "execute_result"
    }
   ],
   "source": [
    "year_now = datetime.today().year\n",
    "month_now = datetime.today().month\n",
    "day_now = datetime.today().day\n",
    "hour_now = datetime.today().hour\n",
    "minutes_now = datetime.today().minute\n",
    "seconds_now = datetime.today().second\n",
    "\n",
    "f\"{year_now}/{month_now}/{day_now} {hour_now}:{minutes_now}:{seconds_now}\""
   ]
  },
  {
   "cell_type": "code",
   "execution_count": 50,
   "id": "12f34d74",
   "metadata": {
    "ExecuteTime": {
     "end_time": "2022-02-26T18:16:44.324389Z",
     "start_time": "2022-02-26T18:16:44.310365Z"
    }
   },
   "outputs": [
    {
     "data": {
      "text/plain": [
       "datetime.datetime(2022, 2, 26, 13, 16, 44, 311364)"
      ]
     },
     "execution_count": 50,
     "metadata": {},
     "output_type": "execute_result"
    }
   ],
   "source": [
    "datetime.today()"
   ]
  },
  {
   "cell_type": "code",
   "execution_count": 39,
   "id": "766f20cb",
   "metadata": {
    "ExecuteTime": {
     "end_time": "2022-02-26T18:12:09.862286Z",
     "start_time": "2022-02-26T18:12:09.854180Z"
    }
   },
   "outputs": [
    {
     "data": {
      "text/plain": [
       "datetime.datetime(2022, 2, 26, 13, 12, 9, 855107)"
      ]
     },
     "execution_count": 39,
     "metadata": {},
     "output_type": "execute_result"
    }
   ],
   "source": [
    "fecha_actual = datetime.today()\n",
    "fecha_actual"
   ]
  },
  {
   "cell_type": "code",
   "execution_count": 62,
   "id": "f2082764",
   "metadata": {
    "ExecuteTime": {
     "end_time": "2022-02-26T18:22:17.084133Z",
     "start_time": "2022-02-26T18:22:17.076411Z"
    }
   },
   "outputs": [],
   "source": [
    "df_employee[\"test_fecha\"] = \"26-09-1995\""
   ]
  },
  {
   "cell_type": "code",
   "execution_count": 63,
   "id": "402f5b46",
   "metadata": {
    "ExecuteTime": {
     "end_time": "2022-02-26T18:22:19.869670Z",
     "start_time": "2022-02-26T18:22:19.845382Z"
    }
   },
   "outputs": [
    {
     "data": {
      "text/plain": [
       "0     1995-09-26\n",
       "1     1995-09-26\n",
       "2     1995-09-26\n",
       "3     1995-09-26\n",
       "4     1995-09-26\n",
       "         ...    \n",
       "995   1995-09-26\n",
       "996   1995-09-26\n",
       "997   1995-09-26\n",
       "998   1995-09-26\n",
       "999   1995-09-26\n",
       "Name: test_fecha, Length: 999, dtype: datetime64[ns]"
      ]
     },
     "execution_count": 63,
     "metadata": {},
     "output_type": "execute_result"
    }
   ],
   "source": [
    "df_employee[\"test_fecha\"] = df_employee[\"test_fecha\"] .astype(\"datetime64\")\n",
    "df_employee[\"test_fecha\"]"
   ]
  },
  {
   "cell_type": "code",
   "execution_count": 55,
   "id": "3cb17381",
   "metadata": {
    "ExecuteTime": {
     "end_time": "2022-02-26T18:18:40.757086Z",
     "start_time": "2022-02-26T18:18:40.739741Z"
    }
   },
   "outputs": [
    {
     "data": {
      "text/plain": [
       "Timestamp('1995-09-26 18:00:00')"
      ]
     },
     "execution_count": 55,
     "metadata": {},
     "output_type": "execute_result"
    }
   ],
   "source": [
    "df_employee[\"test_fecha\"][0]"
   ]
  },
  {
   "cell_type": "code",
   "execution_count": 61,
   "id": "ff07518b",
   "metadata": {
    "ExecuteTime": {
     "end_time": "2022-02-26T18:21:56.508304Z",
     "start_time": "2022-02-26T18:21:56.487704Z"
    }
   },
   "outputs": [
    {
     "data": {
      "text/plain": [
       "1995"
      ]
     },
     "execution_count": 61,
     "metadata": {},
     "output_type": "execute_result"
    }
   ],
   "source": [
    "df_employee[\"test_fecha\"][0].year"
   ]
  },
  {
   "cell_type": "code",
   "execution_count": 41,
   "id": "fda553e5",
   "metadata": {
    "ExecuteTime": {
     "end_time": "2022-02-26T18:12:59.212039Z",
     "start_time": "2022-02-26T18:12:59.200100Z"
    }
   },
   "outputs": [
    {
     "data": {
      "text/plain": [
       "0     1994-07-01\n",
       "1     1972-05-06\n",
       "2     1990-09-04\n",
       "3     1991-09-23\n",
       "4     1997-01-15\n",
       "         ...    \n",
       "995   1983-12-25\n",
       "996   1971-03-01\n",
       "997   1976-03-07\n",
       "998   1989-02-19\n",
       "999   1993-04-01\n",
       "Name: birth_date, Length: 999, dtype: datetime64[ns]"
      ]
     },
     "execution_count": 41,
     "metadata": {},
     "output_type": "execute_result"
    }
   ],
   "source": [
    "df_employee[\"birth_date\"]"
   ]
  },
  {
   "cell_type": "code",
   "execution_count": 59,
   "id": "559ef9b0",
   "metadata": {
    "ExecuteTime": {
     "end_time": "2022-02-26T18:20:24.419700Z",
     "start_time": "2022-02-26T18:20:24.398659Z"
    }
   },
   "outputs": [
    {
     "data": {
      "text/plain": [
       "Timedelta('10102 days 13:12:09.855107')"
      ]
     },
     "execution_count": 59,
     "metadata": {},
     "output_type": "execute_result"
    }
   ],
   "source": [
    "(fecha_actual - df_employee[\"birth_date\"])[0]"
   ]
  },
  {
   "cell_type": "code",
   "execution_count": 46,
   "id": "8c12adf3",
   "metadata": {
    "ExecuteTime": {
     "end_time": "2022-02-26T18:14:07.983945Z",
     "start_time": "2022-02-26T18:14:07.960120Z"
    }
   },
   "outputs": [
    {
     "data": {
      "text/plain": [
       "0      27.676712\n",
       "1      49.843836\n",
       "2      31.501370\n",
       "3      30.449315\n",
       "4      25.131507\n",
       "         ...    \n",
       "995    38.200000\n",
       "996    51.027397\n",
       "997    46.005479\n",
       "998    33.041096\n",
       "999    28.926027\n",
       "Name: age, Length: 999, dtype: float64"
      ]
     },
     "execution_count": 46,
     "metadata": {},
     "output_type": "execute_result"
    }
   ],
   "source": [
    "df_employee[\"age\"] = (fecha_actual - df_employee[\"birth_date\"]).dt.days/365\n",
    "df_employee[\"age\"]"
   ]
  },
  {
   "cell_type": "markdown",
   "id": "cc3d5f60",
   "metadata": {},
   "source": [
    "# Otro dataset"
   ]
  },
  {
   "cell_type": "code",
   "execution_count": 64,
   "id": "32a5932a",
   "metadata": {
    "ExecuteTime": {
     "end_time": "2022-02-26T18:26:22.317911Z",
     "start_time": "2022-02-26T18:26:20.435246Z"
    }
   },
   "outputs": [],
   "source": [
    "df_flights = pd.read_csv('https://raw.githubusercontent.com/ismayc/pnwflights14/master/data/flights.csv')"
   ]
  },
  {
   "cell_type": "code",
   "execution_count": 65,
   "id": "a2bf6552",
   "metadata": {
    "ExecuteTime": {
     "end_time": "2022-02-26T18:27:46.936008Z",
     "start_time": "2022-02-26T18:27:46.903260Z"
    }
   },
   "outputs": [
    {
     "data": {
      "text/html": [
       "<div>\n",
       "<style scoped>\n",
       "    .dataframe tbody tr th:only-of-type {\n",
       "        vertical-align: middle;\n",
       "    }\n",
       "\n",
       "    .dataframe tbody tr th {\n",
       "        vertical-align: top;\n",
       "    }\n",
       "\n",
       "    .dataframe thead th {\n",
       "        text-align: right;\n",
       "    }\n",
       "</style>\n",
       "<table border=\"1\" class=\"dataframe\">\n",
       "  <thead>\n",
       "    <tr style=\"text-align: right;\">\n",
       "      <th></th>\n",
       "      <th>year</th>\n",
       "      <th>month</th>\n",
       "      <th>day</th>\n",
       "      <th>dep_time</th>\n",
       "      <th>dep_delay</th>\n",
       "      <th>arr_time</th>\n",
       "      <th>arr_delay</th>\n",
       "      <th>carrier</th>\n",
       "      <th>tailnum</th>\n",
       "      <th>flight</th>\n",
       "      <th>origin</th>\n",
       "      <th>dest</th>\n",
       "      <th>air_time</th>\n",
       "      <th>distance</th>\n",
       "      <th>hour</th>\n",
       "      <th>minute</th>\n",
       "    </tr>\n",
       "  </thead>\n",
       "  <tbody>\n",
       "    <tr>\n",
       "      <th>0</th>\n",
       "      <td>2014</td>\n",
       "      <td>1</td>\n",
       "      <td>1</td>\n",
       "      <td>1.0</td>\n",
       "      <td>96.0</td>\n",
       "      <td>235.0</td>\n",
       "      <td>70.0</td>\n",
       "      <td>AS</td>\n",
       "      <td>N508AS</td>\n",
       "      <td>145</td>\n",
       "      <td>PDX</td>\n",
       "      <td>ANC</td>\n",
       "      <td>194.0</td>\n",
       "      <td>1542</td>\n",
       "      <td>0.0</td>\n",
       "      <td>1.0</td>\n",
       "    </tr>\n",
       "    <tr>\n",
       "      <th>1</th>\n",
       "      <td>2014</td>\n",
       "      <td>1</td>\n",
       "      <td>1</td>\n",
       "      <td>4.0</td>\n",
       "      <td>-6.0</td>\n",
       "      <td>738.0</td>\n",
       "      <td>-23.0</td>\n",
       "      <td>US</td>\n",
       "      <td>N195UW</td>\n",
       "      <td>1830</td>\n",
       "      <td>SEA</td>\n",
       "      <td>CLT</td>\n",
       "      <td>252.0</td>\n",
       "      <td>2279</td>\n",
       "      <td>0.0</td>\n",
       "      <td>4.0</td>\n",
       "    </tr>\n",
       "    <tr>\n",
       "      <th>2</th>\n",
       "      <td>2014</td>\n",
       "      <td>1</td>\n",
       "      <td>1</td>\n",
       "      <td>8.0</td>\n",
       "      <td>13.0</td>\n",
       "      <td>548.0</td>\n",
       "      <td>-4.0</td>\n",
       "      <td>UA</td>\n",
       "      <td>N37422</td>\n",
       "      <td>1609</td>\n",
       "      <td>PDX</td>\n",
       "      <td>IAH</td>\n",
       "      <td>201.0</td>\n",
       "      <td>1825</td>\n",
       "      <td>0.0</td>\n",
       "      <td>8.0</td>\n",
       "    </tr>\n",
       "    <tr>\n",
       "      <th>3</th>\n",
       "      <td>2014</td>\n",
       "      <td>1</td>\n",
       "      <td>1</td>\n",
       "      <td>28.0</td>\n",
       "      <td>-2.0</td>\n",
       "      <td>800.0</td>\n",
       "      <td>-23.0</td>\n",
       "      <td>US</td>\n",
       "      <td>N547UW</td>\n",
       "      <td>466</td>\n",
       "      <td>PDX</td>\n",
       "      <td>CLT</td>\n",
       "      <td>251.0</td>\n",
       "      <td>2282</td>\n",
       "      <td>0.0</td>\n",
       "      <td>28.0</td>\n",
       "    </tr>\n",
       "    <tr>\n",
       "      <th>4</th>\n",
       "      <td>2014</td>\n",
       "      <td>1</td>\n",
       "      <td>1</td>\n",
       "      <td>34.0</td>\n",
       "      <td>44.0</td>\n",
       "      <td>325.0</td>\n",
       "      <td>43.0</td>\n",
       "      <td>AS</td>\n",
       "      <td>N762AS</td>\n",
       "      <td>121</td>\n",
       "      <td>SEA</td>\n",
       "      <td>ANC</td>\n",
       "      <td>201.0</td>\n",
       "      <td>1448</td>\n",
       "      <td>0.0</td>\n",
       "      <td>34.0</td>\n",
       "    </tr>\n",
       "  </tbody>\n",
       "</table>\n",
       "</div>"
      ],
      "text/plain": [
       "   year  month  day  dep_time  dep_delay  arr_time  arr_delay carrier tailnum  \\\n",
       "0  2014      1    1       1.0       96.0     235.0       70.0      AS  N508AS   \n",
       "1  2014      1    1       4.0       -6.0     738.0      -23.0      US  N195UW   \n",
       "2  2014      1    1       8.0       13.0     548.0       -4.0      UA  N37422   \n",
       "3  2014      1    1      28.0       -2.0     800.0      -23.0      US  N547UW   \n",
       "4  2014      1    1      34.0       44.0     325.0       43.0      AS  N762AS   \n",
       "\n",
       "   flight origin dest  air_time  distance  hour  minute  \n",
       "0     145    PDX  ANC     194.0      1542   0.0     1.0  \n",
       "1    1830    SEA  CLT     252.0      2279   0.0     4.0  \n",
       "2    1609    PDX  IAH     201.0      1825   0.0     8.0  \n",
       "3     466    PDX  CLT     251.0      2282   0.0    28.0  \n",
       "4     121    SEA  ANC     201.0      1448   0.0    34.0  "
      ]
     },
     "execution_count": 65,
     "metadata": {},
     "output_type": "execute_result"
    }
   ],
   "source": [
    "df_flights.head()"
   ]
  },
  {
   "cell_type": "markdown",
   "id": "320da869",
   "metadata": {},
   "source": [
    "## Exploración del dataset"
   ]
  },
  {
   "cell_type": "code",
   "execution_count": 67,
   "id": "821e6764",
   "metadata": {
    "ExecuteTime": {
     "end_time": "2022-02-26T18:34:59.176927Z",
     "start_time": "2022-02-26T18:34:58.930032Z"
    }
   },
   "outputs": [
    {
     "data": {
      "text/html": [
       "<div>\n",
       "<style scoped>\n",
       "    .dataframe tbody tr th:only-of-type {\n",
       "        vertical-align: middle;\n",
       "    }\n",
       "\n",
       "    .dataframe tbody tr th {\n",
       "        vertical-align: top;\n",
       "    }\n",
       "\n",
       "    .dataframe thead th {\n",
       "        text-align: right;\n",
       "    }\n",
       "</style>\n",
       "<table border=\"1\" class=\"dataframe\">\n",
       "  <thead>\n",
       "    <tr style=\"text-align: right;\">\n",
       "      <th></th>\n",
       "      <th>count</th>\n",
       "      <th>mean</th>\n",
       "      <th>std</th>\n",
       "      <th>min</th>\n",
       "      <th>25%</th>\n",
       "      <th>50%</th>\n",
       "      <th>75%</th>\n",
       "      <th>max</th>\n",
       "    </tr>\n",
       "  </thead>\n",
       "  <tbody>\n",
       "    <tr>\n",
       "      <th>year</th>\n",
       "      <td>162049.0</td>\n",
       "      <td>2014.000000</td>\n",
       "      <td>0.000000</td>\n",
       "      <td>2014.0</td>\n",
       "      <td>2014.0</td>\n",
       "      <td>2014.0</td>\n",
       "      <td>2014.0</td>\n",
       "      <td>2014.0</td>\n",
       "    </tr>\n",
       "    <tr>\n",
       "      <th>month</th>\n",
       "      <td>162049.0</td>\n",
       "      <td>6.605027</td>\n",
       "      <td>3.324399</td>\n",
       "      <td>1.0</td>\n",
       "      <td>4.0</td>\n",
       "      <td>7.0</td>\n",
       "      <td>9.0</td>\n",
       "      <td>12.0</td>\n",
       "    </tr>\n",
       "    <tr>\n",
       "      <th>day</th>\n",
       "      <td>162049.0</td>\n",
       "      <td>15.749890</td>\n",
       "      <td>8.789417</td>\n",
       "      <td>1.0</td>\n",
       "      <td>8.0</td>\n",
       "      <td>16.0</td>\n",
       "      <td>23.0</td>\n",
       "      <td>31.0</td>\n",
       "    </tr>\n",
       "    <tr>\n",
       "      <th>dep_time</th>\n",
       "      <td>161192.0</td>\n",
       "      <td>1278.283755</td>\n",
       "      <td>522.583793</td>\n",
       "      <td>1.0</td>\n",
       "      <td>831.0</td>\n",
       "      <td>1217.0</td>\n",
       "      <td>1721.0</td>\n",
       "      <td>2400.0</td>\n",
       "    </tr>\n",
       "    <tr>\n",
       "      <th>dep_delay</th>\n",
       "      <td>161192.0</td>\n",
       "      <td>6.133859</td>\n",
       "      <td>29.112035</td>\n",
       "      <td>-37.0</td>\n",
       "      <td>-5.0</td>\n",
       "      <td>-2.0</td>\n",
       "      <td>5.0</td>\n",
       "      <td>1553.0</td>\n",
       "    </tr>\n",
       "    <tr>\n",
       "      <th>arr_time</th>\n",
       "      <td>161061.0</td>\n",
       "      <td>1482.501282</td>\n",
       "      <td>523.958781</td>\n",
       "      <td>1.0</td>\n",
       "      <td>1127.0</td>\n",
       "      <td>1517.0</td>\n",
       "      <td>1918.0</td>\n",
       "      <td>2400.0</td>\n",
       "    </tr>\n",
       "    <tr>\n",
       "      <th>arr_delay</th>\n",
       "      <td>160748.0</td>\n",
       "      <td>2.240868</td>\n",
       "      <td>31.191037</td>\n",
       "      <td>-67.0</td>\n",
       "      <td>-12.0</td>\n",
       "      <td>-4.0</td>\n",
       "      <td>7.0</td>\n",
       "      <td>1539.0</td>\n",
       "    </tr>\n",
       "    <tr>\n",
       "      <th>flight</th>\n",
       "      <td>162049.0</td>\n",
       "      <td>1357.356725</td>\n",
       "      <td>1495.271031</td>\n",
       "      <td>2.0</td>\n",
       "      <td>408.0</td>\n",
       "      <td>694.0</td>\n",
       "      <td>1726.0</td>\n",
       "      <td>6527.0</td>\n",
       "    </tr>\n",
       "    <tr>\n",
       "      <th>air_time</th>\n",
       "      <td>160748.0</td>\n",
       "      <td>152.588511</td>\n",
       "      <td>72.547469</td>\n",
       "      <td>18.0</td>\n",
       "      <td>103.0</td>\n",
       "      <td>129.0</td>\n",
       "      <td>199.0</td>\n",
       "      <td>422.0</td>\n",
       "    </tr>\n",
       "    <tr>\n",
       "      <th>distance</th>\n",
       "      <td>162049.0</td>\n",
       "      <td>1204.514634</td>\n",
       "      <td>653.150062</td>\n",
       "      <td>93.0</td>\n",
       "      <td>689.0</td>\n",
       "      <td>991.0</td>\n",
       "      <td>1660.0</td>\n",
       "      <td>2724.0</td>\n",
       "    </tr>\n",
       "    <tr>\n",
       "      <th>hour</th>\n",
       "      <td>161192.0</td>\n",
       "      <td>12.479515</td>\n",
       "      <td>5.232476</td>\n",
       "      <td>0.0</td>\n",
       "      <td>8.0</td>\n",
       "      <td>12.0</td>\n",
       "      <td>17.0</td>\n",
       "      <td>24.0</td>\n",
       "    </tr>\n",
       "    <tr>\n",
       "      <th>minute</th>\n",
       "      <td>161192.0</td>\n",
       "      <td>30.332244</td>\n",
       "      <td>18.061569</td>\n",
       "      <td>0.0</td>\n",
       "      <td>14.0</td>\n",
       "      <td>30.0</td>\n",
       "      <td>47.0</td>\n",
       "      <td>59.0</td>\n",
       "    </tr>\n",
       "  </tbody>\n",
       "</table>\n",
       "</div>"
      ],
      "text/plain": [
       "              count         mean          std     min     25%     50%     75%  \\\n",
       "year       162049.0  2014.000000     0.000000  2014.0  2014.0  2014.0  2014.0   \n",
       "month      162049.0     6.605027     3.324399     1.0     4.0     7.0     9.0   \n",
       "day        162049.0    15.749890     8.789417     1.0     8.0    16.0    23.0   \n",
       "dep_time   161192.0  1278.283755   522.583793     1.0   831.0  1217.0  1721.0   \n",
       "dep_delay  161192.0     6.133859    29.112035   -37.0    -5.0    -2.0     5.0   \n",
       "arr_time   161061.0  1482.501282   523.958781     1.0  1127.0  1517.0  1918.0   \n",
       "arr_delay  160748.0     2.240868    31.191037   -67.0   -12.0    -4.0     7.0   \n",
       "flight     162049.0  1357.356725  1495.271031     2.0   408.0   694.0  1726.0   \n",
       "air_time   160748.0   152.588511    72.547469    18.0   103.0   129.0   199.0   \n",
       "distance   162049.0  1204.514634   653.150062    93.0   689.0   991.0  1660.0   \n",
       "hour       161192.0    12.479515     5.232476     0.0     8.0    12.0    17.0   \n",
       "minute     161192.0    30.332244    18.061569     0.0    14.0    30.0    47.0   \n",
       "\n",
       "              max  \n",
       "year       2014.0  \n",
       "month        12.0  \n",
       "day          31.0  \n",
       "dep_time   2400.0  \n",
       "dep_delay  1553.0  \n",
       "arr_time   2400.0  \n",
       "arr_delay  1539.0  \n",
       "flight     6527.0  \n",
       "air_time    422.0  \n",
       "distance   2724.0  \n",
       "hour         24.0  \n",
       "minute       59.0  "
      ]
     },
     "execution_count": 67,
     "metadata": {},
     "output_type": "execute_result"
    }
   ],
   "source": [
    "df_flights.describe().T"
   ]
  },
  {
   "cell_type": "code",
   "execution_count": 68,
   "id": "6813a429",
   "metadata": {
    "ExecuteTime": {
     "end_time": "2022-02-26T18:35:27.137721Z",
     "start_time": "2022-02-26T18:35:27.024691Z"
    }
   },
   "outputs": [
    {
     "data": {
      "text/html": [
       "<div>\n",
       "<style scoped>\n",
       "    .dataframe tbody tr th:only-of-type {\n",
       "        vertical-align: middle;\n",
       "    }\n",
       "\n",
       "    .dataframe tbody tr th {\n",
       "        vertical-align: top;\n",
       "    }\n",
       "\n",
       "    .dataframe thead th {\n",
       "        text-align: right;\n",
       "    }\n",
       "</style>\n",
       "<table border=\"1\" class=\"dataframe\">\n",
       "  <thead>\n",
       "    <tr style=\"text-align: right;\">\n",
       "      <th></th>\n",
       "      <th>count</th>\n",
       "      <th>unique</th>\n",
       "      <th>top</th>\n",
       "      <th>freq</th>\n",
       "    </tr>\n",
       "  </thead>\n",
       "  <tbody>\n",
       "    <tr>\n",
       "      <th>carrier</th>\n",
       "      <td>162049</td>\n",
       "      <td>11</td>\n",
       "      <td>AS</td>\n",
       "      <td>62460</td>\n",
       "    </tr>\n",
       "    <tr>\n",
       "      <th>tailnum</th>\n",
       "      <td>161801</td>\n",
       "      <td>3022</td>\n",
       "      <td>N223AG</td>\n",
       "      <td>755</td>\n",
       "    </tr>\n",
       "    <tr>\n",
       "      <th>origin</th>\n",
       "      <td>162049</td>\n",
       "      <td>2</td>\n",
       "      <td>SEA</td>\n",
       "      <td>108714</td>\n",
       "    </tr>\n",
       "    <tr>\n",
       "      <th>dest</th>\n",
       "      <td>162049</td>\n",
       "      <td>71</td>\n",
       "      <td>SFO</td>\n",
       "      <td>12809</td>\n",
       "    </tr>\n",
       "  </tbody>\n",
       "</table>\n",
       "</div>"
      ],
      "text/plain": [
       "          count unique     top    freq\n",
       "carrier  162049     11      AS   62460\n",
       "tailnum  161801   3022  N223AG     755\n",
       "origin   162049      2     SEA  108714\n",
       "dest     162049     71     SFO   12809"
      ]
     },
     "execution_count": 68,
     "metadata": {},
     "output_type": "execute_result"
    }
   ],
   "source": [
    "df_flights.describe(include = \"O\").T"
   ]
  },
  {
   "cell_type": "markdown",
   "id": "f9b0fd0f",
   "metadata": {},
   "source": [
    "## Visualización de variables categóricas"
   ]
  },
  {
   "cell_type": "markdown",
   "id": "1f70c7e9",
   "metadata": {},
   "source": [
    "### Box Plot"
   ]
  },
  {
   "cell_type": "code",
   "execution_count": 72,
   "id": "6905713e",
   "metadata": {
    "ExecuteTime": {
     "end_time": "2022-02-26T18:43:58.374166Z",
     "start_time": "2022-02-26T18:43:58.004226Z"
    }
   },
   "outputs": [
    {
     "data": {
      "image/png": "[encoded data removed]",
      "text/plain": [
       "<Figure size 432x432 with 1 Axes>"
      ]
     },
     "metadata": {},
     "output_type": "display_data"
    }
   ],
   "source": [
    "df_flights.boxplot(\"distance\", figsize = (6, 6));"
   ]
  },
  {
   "cell_type": "code",
   "execution_count": 71,
   "id": "72f64eef",
   "metadata": {
    "ExecuteTime": {
     "end_time": "2022-02-26T18:42:39.267687Z",
     "start_time": "2022-02-26T18:42:38.870048Z"
    }
   },
   "outputs": [
    {
     "data": {
      "image/png": "[encoded data removed]",
      "text/plain": [
       "<Figure size 432x432 with 1 Axes>"
      ]
     },
     "metadata": {},
     "output_type": "display_data"
    }
   ],
   "source": [
    "df_flights.boxplot(\"dep_time\", \"origin\", figsize = (6, 6));"
   ]
  },
  {
   "cell_type": "code",
   "execution_count": 74,
   "id": "ebd4b1ae",
   "metadata": {
    "ExecuteTime": {
     "end_time": "2022-02-26T18:46:40.385018Z",
     "start_time": "2022-02-26T18:46:38.394524Z"
    }
   },
   "outputs": [
    {
     "data": {
      "text/html": [
       "<div>\n",
       "<style scoped>\n",
       "    .dataframe tbody tr th:only-of-type {\n",
       "        vertical-align: middle;\n",
       "    }\n",
       "\n",
       "    .dataframe tbody tr th {\n",
       "        vertical-align: top;\n",
       "    }\n",
       "\n",
       "    .dataframe thead th {\n",
       "        text-align: right;\n",
       "    }\n",
       "</style>\n",
       "<table border=\"1\" class=\"dataframe\">\n",
       "  <thead>\n",
       "    <tr style=\"text-align: right;\">\n",
       "      <th></th>\n",
       "      <th>id</th>\n",
       "      <th>Ind_ERC</th>\n",
       "      <th>Ind_Ant_Fam_DM</th>\n",
       "      <th>Ind_Ant_Fam_Enf_Cardio</th>\n",
       "      <th>Ind_Ant_Fam_ERC</th>\n",
       "      <th>Dias_DM</th>\n",
       "      <th>Dias_HTA</th>\n",
       "      <th>Ind_Ant_Per_Anemia</th>\n",
       "      <th>Ind_Ant_Per_AR</th>\n",
       "      <th>Ind_Ant_Per_Dislip</th>\n",
       "      <th>...</th>\n",
       "      <th>Valor_HbA1c</th>\n",
       "      <th>Valor_IMC</th>\n",
       "      <th>Valor_PAD</th>\n",
       "      <th>Valor_PAS</th>\n",
       "      <th>Valor_PCR</th>\n",
       "      <th>Valor_TFG</th>\n",
       "      <th>Valor_Trigliceridos</th>\n",
       "      <th>Edad</th>\n",
       "      <th>Raza_Desc</th>\n",
       "      <th>Sexo_Cd</th>\n",
       "    </tr>\n",
       "  </thead>\n",
       "  <tbody>\n",
       "    <tr>\n",
       "      <th>0</th>\n",
       "      <td>123391</td>\n",
       "      <td>Si</td>\n",
       "      <td>No</td>\n",
       "      <td>No</td>\n",
       "      <td>Si</td>\n",
       "      <td>0</td>\n",
       "      <td>3709</td>\n",
       "      <td>No</td>\n",
       "      <td>No</td>\n",
       "      <td>Si</td>\n",
       "      <td>...</td>\n",
       "      <td>NaN</td>\n",
       "      <td>19.909972</td>\n",
       "      <td>70.0</td>\n",
       "      <td>110.0</td>\n",
       "      <td>NaN</td>\n",
       "      <td>51.625386</td>\n",
       "      <td>62.0</td>\n",
       "      <td>68</td>\n",
       "      <td>MESTIZO</td>\n",
       "      <td>M</td>\n",
       "    </tr>\n",
       "    <tr>\n",
       "      <th>1</th>\n",
       "      <td>44515</td>\n",
       "      <td>No</td>\n",
       "      <td>No</td>\n",
       "      <td>No</td>\n",
       "      <td>No</td>\n",
       "      <td>0</td>\n",
       "      <td>0</td>\n",
       "      <td>No</td>\n",
       "      <td>No</td>\n",
       "      <td>No</td>\n",
       "      <td>...</td>\n",
       "      <td>NaN</td>\n",
       "      <td>31.833910</td>\n",
       "      <td>60.0</td>\n",
       "      <td>100.0</td>\n",
       "      <td>NaN</td>\n",
       "      <td>NaN</td>\n",
       "      <td>171.2</td>\n",
       "      <td>49</td>\n",
       "      <td>SIN INFORMACION DESDE LA FUENTE</td>\n",
       "      <td>M</td>\n",
       "    </tr>\n",
       "    <tr>\n",
       "      <th>2</th>\n",
       "      <td>225004</td>\n",
       "      <td>Si</td>\n",
       "      <td>No</td>\n",
       "      <td>No</td>\n",
       "      <td>No</td>\n",
       "      <td>0</td>\n",
       "      <td>1420</td>\n",
       "      <td>No</td>\n",
       "      <td>No</td>\n",
       "      <td>No</td>\n",
       "      <td>...</td>\n",
       "      <td>NaN</td>\n",
       "      <td>23.108435</td>\n",
       "      <td>80.0</td>\n",
       "      <td>140.0</td>\n",
       "      <td>NaN</td>\n",
       "      <td>NaN</td>\n",
       "      <td>56.0</td>\n",
       "      <td>96</td>\n",
       "      <td>BLANCO</td>\n",
       "      <td>M</td>\n",
       "    </tr>\n",
       "    <tr>\n",
       "      <th>3</th>\n",
       "      <td>393421</td>\n",
       "      <td>No</td>\n",
       "      <td>No</td>\n",
       "      <td>No</td>\n",
       "      <td>No</td>\n",
       "      <td>0</td>\n",
       "      <td>3776</td>\n",
       "      <td>No</td>\n",
       "      <td>Si</td>\n",
       "      <td>No</td>\n",
       "      <td>...</td>\n",
       "      <td>5.44</td>\n",
       "      <td>27.303438</td>\n",
       "      <td>80.0</td>\n",
       "      <td>120.0</td>\n",
       "      <td>0.05</td>\n",
       "      <td>133.804060</td>\n",
       "      <td>112.0</td>\n",
       "      <td>93</td>\n",
       "      <td>BLANCO</td>\n",
       "      <td>F</td>\n",
       "    </tr>\n",
       "    <tr>\n",
       "      <th>4</th>\n",
       "      <td>103672</td>\n",
       "      <td>No</td>\n",
       "      <td>No</td>\n",
       "      <td>No</td>\n",
       "      <td>No</td>\n",
       "      <td>0</td>\n",
       "      <td>0</td>\n",
       "      <td>No</td>\n",
       "      <td>No</td>\n",
       "      <td>No</td>\n",
       "      <td>...</td>\n",
       "      <td>NaN</td>\n",
       "      <td>22.632591</td>\n",
       "      <td>60.0</td>\n",
       "      <td>100.0</td>\n",
       "      <td>NaN</td>\n",
       "      <td>NaN</td>\n",
       "      <td>NaN</td>\n",
       "      <td>57</td>\n",
       "      <td>SIN INFORMACION DESDE LA FUENTE</td>\n",
       "      <td>F</td>\n",
       "    </tr>\n",
       "  </tbody>\n",
       "</table>\n",
       "<p>5 rows × 47 columns</p>\n",
       "</div>"
      ],
      "text/plain": [
       "       id Ind_ERC Ind_Ant_Fam_DM Ind_Ant_Fam_Enf_Cardio Ind_Ant_Fam_ERC  \\\n",
       "0  123391      Si             No                     No              Si   \n",
       "1   44515      No             No                     No              No   \n",
       "2  225004      Si             No                     No              No   \n",
       "3  393421      No             No                     No              No   \n",
       "4  103672      No             No                     No              No   \n",
       "\n",
       "   Dias_DM  Dias_HTA Ind_Ant_Per_Anemia Ind_Ant_Per_AR Ind_Ant_Per_Dislip  \\\n",
       "0        0      3709                 No             No                 Si   \n",
       "1        0         0                 No             No                 No   \n",
       "2        0      1420                 No             No                 No   \n",
       "3        0      3776                 No             Si                 No   \n",
       "4        0         0                 No             No                 No   \n",
       "\n",
       "   ... Valor_HbA1c  Valor_IMC Valor_PAD Valor_PAS Valor_PCR   Valor_TFG  \\\n",
       "0  ...         NaN  19.909972      70.0     110.0       NaN   51.625386   \n",
       "1  ...         NaN  31.833910      60.0     100.0       NaN         NaN   \n",
       "2  ...         NaN  23.108435      80.0     140.0       NaN         NaN   \n",
       "3  ...        5.44  27.303438      80.0     120.0      0.05  133.804060   \n",
       "4  ...         NaN  22.632591      60.0     100.0       NaN         NaN   \n",
       "\n",
       "  Valor_Trigliceridos Edad                        Raza_Desc Sexo_Cd  \n",
       "0                62.0   68                          MESTIZO       M  \n",
       "1               171.2   49  SIN INFORMACION DESDE LA FUENTE       M  \n",
       "2                56.0   96                           BLANCO       M  \n",
       "3               112.0   93                           BLANCO       F  \n",
       "4                 NaN   57  SIN INFORMACION DESDE LA FUENTE       F  \n",
       "\n",
       "[5 rows x 47 columns]"
      ]
     },
     "execution_count": 74,
     "metadata": {},
     "output_type": "execute_result"
    }
   ],
   "source": [
    "df = pd.read_csv(\"./datasets/ERC_Data.csv\", na_values = \"?\")\n",
    "df.head()"
   ]
  },
  {
   "cell_type": "code",
   "execution_count": 75,
   "id": "0a73bbda",
   "metadata": {
    "ExecuteTime": {
     "end_time": "2022-02-26T18:47:15.314106Z",
     "start_time": "2022-02-26T18:47:14.783328Z"
    }
   },
   "outputs": [
    {
     "data": {
      "text/plain": [
       "<AxesSubplot:>"
      ]
     },
     "execution_count": 75,
     "metadata": {},
     "output_type": "execute_result"
    },
    {
     "data": {
      "image/png": "[encoded data removed]",
      "text/plain": [
       "<Figure size 432x432 with 1 Axes>"
      ]
     },
     "metadata": {},
     "output_type": "display_data"
    }
   ],
   "source": [
    "df.boxplot(\"Valor_IMC\", figsize = (6, 6))"
   ]
  },
  {
   "cell_type": "code",
   "execution_count": 76,
   "id": "bc1d004e",
   "metadata": {
    "ExecuteTime": {
     "end_time": "2022-02-26T18:50:50.793921Z",
     "start_time": "2022-02-26T18:50:48.466651Z"
    }
   },
   "outputs": [
    {
     "data": {
      "text/plain": [
       "<seaborn.axisgrid.FacetGrid at 0x2097127a040>"
      ]
     },
     "execution_count": 76,
     "metadata": {},
     "output_type": "execute_result"
    },
    {
     "data": {
      "image/png": "[encoded data removed]",
      "text/plain": [
       "<Figure size 360x360 with 1 Axes>"
      ]
     },
     "metadata": {},
     "output_type": "display_data"
    }
   ],
   "source": [
    "sns.displot(df[\"Valor_IMC\"])"
   ]
  },
  {
   "cell_type": "markdown",
   "id": "784be43a",
   "metadata": {},
   "source": [
    "# Seleccionar las variables\n",
    "\n",
    "A continuación vemos que las posibles variables categóricas son las que son de tipo \"object\". Las demás son numéricas."
   ]
  },
  {
   "cell_type": "code",
   "execution_count": 78,
   "id": "9b2b49e2",
   "metadata": {
    "ExecuteTime": {
     "end_time": "2022-02-26T19:14:23.788534Z",
     "start_time": "2022-02-26T19:14:23.760593Z"
    }
   },
   "outputs": [
    {
     "data": {
      "text/html": [
       "<div>\n",
       "<style scoped>\n",
       "    .dataframe tbody tr th:only-of-type {\n",
       "        vertical-align: middle;\n",
       "    }\n",
       "\n",
       "    .dataframe tbody tr th {\n",
       "        vertical-align: top;\n",
       "    }\n",
       "\n",
       "    .dataframe thead th {\n",
       "        text-align: right;\n",
       "    }\n",
       "</style>\n",
       "<table border=\"1\" class=\"dataframe\">\n",
       "  <thead>\n",
       "    <tr style=\"text-align: right;\">\n",
       "      <th></th>\n",
       "      <th>year</th>\n",
       "      <th>month</th>\n",
       "      <th>day</th>\n",
       "      <th>dep_time</th>\n",
       "      <th>dep_delay</th>\n",
       "      <th>arr_time</th>\n",
       "      <th>arr_delay</th>\n",
       "      <th>carrier</th>\n",
       "      <th>tailnum</th>\n",
       "      <th>flight</th>\n",
       "      <th>origin</th>\n",
       "      <th>dest</th>\n",
       "      <th>air_time</th>\n",
       "      <th>distance</th>\n",
       "      <th>hour</th>\n",
       "      <th>minute</th>\n",
       "    </tr>\n",
       "  </thead>\n",
       "  <tbody>\n",
       "    <tr>\n",
       "      <th>0</th>\n",
       "      <td>2014</td>\n",
       "      <td>1</td>\n",
       "      <td>1</td>\n",
       "      <td>1.0</td>\n",
       "      <td>96.0</td>\n",
       "      <td>235.0</td>\n",
       "      <td>70.0</td>\n",
       "      <td>AS</td>\n",
       "      <td>N508AS</td>\n",
       "      <td>145</td>\n",
       "      <td>PDX</td>\n",
       "      <td>ANC</td>\n",
       "      <td>194.0</td>\n",
       "      <td>1542</td>\n",
       "      <td>0.0</td>\n",
       "      <td>1.0</td>\n",
       "    </tr>\n",
       "    <tr>\n",
       "      <th>1</th>\n",
       "      <td>2014</td>\n",
       "      <td>1</td>\n",
       "      <td>1</td>\n",
       "      <td>4.0</td>\n",
       "      <td>-6.0</td>\n",
       "      <td>738.0</td>\n",
       "      <td>-23.0</td>\n",
       "      <td>US</td>\n",
       "      <td>N195UW</td>\n",
       "      <td>1830</td>\n",
       "      <td>SEA</td>\n",
       "      <td>CLT</td>\n",
       "      <td>252.0</td>\n",
       "      <td>2279</td>\n",
       "      <td>0.0</td>\n",
       "      <td>4.0</td>\n",
       "    </tr>\n",
       "    <tr>\n",
       "      <th>2</th>\n",
       "      <td>2014</td>\n",
       "      <td>1</td>\n",
       "      <td>1</td>\n",
       "      <td>8.0</td>\n",
       "      <td>13.0</td>\n",
       "      <td>548.0</td>\n",
       "      <td>-4.0</td>\n",
       "      <td>UA</td>\n",
       "      <td>N37422</td>\n",
       "      <td>1609</td>\n",
       "      <td>PDX</td>\n",
       "      <td>IAH</td>\n",
       "      <td>201.0</td>\n",
       "      <td>1825</td>\n",
       "      <td>0.0</td>\n",
       "      <td>8.0</td>\n",
       "    </tr>\n",
       "    <tr>\n",
       "      <th>3</th>\n",
       "      <td>2014</td>\n",
       "      <td>1</td>\n",
       "      <td>1</td>\n",
       "      <td>28.0</td>\n",
       "      <td>-2.0</td>\n",
       "      <td>800.0</td>\n",
       "      <td>-23.0</td>\n",
       "      <td>US</td>\n",
       "      <td>N547UW</td>\n",
       "      <td>466</td>\n",
       "      <td>PDX</td>\n",
       "      <td>CLT</td>\n",
       "      <td>251.0</td>\n",
       "      <td>2282</td>\n",
       "      <td>0.0</td>\n",
       "      <td>28.0</td>\n",
       "    </tr>\n",
       "    <tr>\n",
       "      <th>4</th>\n",
       "      <td>2014</td>\n",
       "      <td>1</td>\n",
       "      <td>1</td>\n",
       "      <td>34.0</td>\n",
       "      <td>44.0</td>\n",
       "      <td>325.0</td>\n",
       "      <td>43.0</td>\n",
       "      <td>AS</td>\n",
       "      <td>N762AS</td>\n",
       "      <td>121</td>\n",
       "      <td>SEA</td>\n",
       "      <td>ANC</td>\n",
       "      <td>201.0</td>\n",
       "      <td>1448</td>\n",
       "      <td>0.0</td>\n",
       "      <td>34.0</td>\n",
       "    </tr>\n",
       "  </tbody>\n",
       "</table>\n",
       "</div>"
      ],
      "text/plain": [
       "   year  month  day  dep_time  dep_delay  arr_time  arr_delay carrier tailnum  \\\n",
       "0  2014      1    1       1.0       96.0     235.0       70.0      AS  N508AS   \n",
       "1  2014      1    1       4.0       -6.0     738.0      -23.0      US  N195UW   \n",
       "2  2014      1    1       8.0       13.0     548.0       -4.0      UA  N37422   \n",
       "3  2014      1    1      28.0       -2.0     800.0      -23.0      US  N547UW   \n",
       "4  2014      1    1      34.0       44.0     325.0       43.0      AS  N762AS   \n",
       "\n",
       "   flight origin dest  air_time  distance  hour  minute  \n",
       "0     145    PDX  ANC     194.0      1542   0.0     1.0  \n",
       "1    1830    SEA  CLT     252.0      2279   0.0     4.0  \n",
       "2    1609    PDX  IAH     201.0      1825   0.0     8.0  \n",
       "3     466    PDX  CLT     251.0      2282   0.0    28.0  \n",
       "4     121    SEA  ANC     201.0      1448   0.0    34.0  "
      ]
     },
     "execution_count": 78,
     "metadata": {},
     "output_type": "execute_result"
    }
   ],
   "source": [
    "df_flights.head()"
   ]
  },
  {
   "cell_type": "code",
   "execution_count": 79,
   "id": "cabede98",
   "metadata": {
    "ExecuteTime": {
     "end_time": "2022-02-26T19:15:06.178782Z",
     "start_time": "2022-02-26T19:15:06.166193Z"
    }
   },
   "outputs": [
    {
     "data": {
      "text/plain": [
       "year           int64\n",
       "month          int64\n",
       "day            int64\n",
       "dep_time     float64\n",
       "dep_delay    float64\n",
       "arr_time     float64\n",
       "arr_delay    float64\n",
       "carrier       object\n",
       "tailnum       object\n",
       "flight         int64\n",
       "origin        object\n",
       "dest          object\n",
       "air_time     float64\n",
       "distance       int64\n",
       "hour         float64\n",
       "minute       float64\n",
       "dtype: object"
      ]
     },
     "execution_count": 79,
     "metadata": {},
     "output_type": "execute_result"
    }
   ],
   "source": [
    "df_flights.dtypes"
   ]
  },
  {
   "cell_type": "code",
   "execution_count": 81,
   "id": "a576de75",
   "metadata": {
    "ExecuteTime": {
     "end_time": "2022-02-26T19:16:30.290386Z",
     "start_time": "2022-02-26T19:16:30.272949Z"
    }
   },
   "outputs": [
    {
     "data": {
      "text/plain": [
       "year           int64\n",
       "month          int64\n",
       "day            int64\n",
       "dep_time     float64\n",
       "dep_delay    float64\n",
       "arr_time     float64\n",
       "arr_delay    float64\n",
       "flight         int64\n",
       "air_time     float64\n",
       "distance       int64\n",
       "hour         float64\n",
       "minute       float64\n",
       "dtype: object"
      ]
     },
     "execution_count": 81,
     "metadata": {},
     "output_type": "execute_result"
    }
   ],
   "source": [
    "df_flights_num = df_flights.select_dtypes(exclude = \"O\")\n",
    "df_flights_num.dtypes"
   ]
  },
  {
   "cell_type": "markdown",
   "id": "49d03cd4",
   "metadata": {},
   "source": [
    "## Dataframe de solo variables categóricas"
   ]
  },
  {
   "cell_type": "code",
   "execution_count": 83,
   "id": "95590a8b",
   "metadata": {
    "ExecuteTime": {
     "end_time": "2022-02-26T19:17:46.229172Z",
     "start_time": "2022-02-26T19:17:46.204547Z"
    }
   },
   "outputs": [
    {
     "data": {
      "text/plain": [
       "carrier    object\n",
       "tailnum    object\n",
       "origin     object\n",
       "dest       object\n",
       "dtype: object"
      ]
     },
     "execution_count": 83,
     "metadata": {},
     "output_type": "execute_result"
    }
   ],
   "source": [
    "df_flights_cat = df_flights.select_dtypes(include = \"O\")\n",
    "df_flights_cat.dtypes"
   ]
  },
  {
   "cell_type": "markdown",
   "id": "6db85215",
   "metadata": {
    "ExecuteTime": {
     "end_time": "2021-07-28T03:29:50.678937Z",
     "start_time": "2021-07-28T03:29:50.676086Z"
    }
   },
   "source": [
    "# One-Hot-Encoding\n",
    "\n",
    "Si bien esta técnica resuelve el problema de tener pesos desiguales, sin embargo, esto no será muy útil cuando se tienen muchas categorías ya que esto agregaría demasiadas columnas y podríamos caer en la [maldición de la dimensionalidad (Curse of dimensionality)](https://en.wikipedia.org/wiki/Curse_of_dimensionality)\n",
    "\n",
    "\n",
    "<img src=\"./images/dummy.jpg\" height = \"400\" width = \"400\">"
   ]
  },
  {
   "cell_type": "markdown",
   "id": "f7e13473",
   "metadata": {},
   "source": [
    "## Utilizando Pandas\n",
    "\n",
    "Utilizamos la función *get_dummies*"
   ]
  },
  {
   "cell_type": "code",
   "execution_count": 84,
   "id": "f49e41d4",
   "metadata": {
    "ExecuteTime": {
     "end_time": "2022-02-26T19:27:00.845728Z",
     "start_time": "2022-02-26T19:27:00.826710Z"
    }
   },
   "outputs": [
    {
     "data": {
      "text/html": [
       "<div>\n",
       "<style scoped>\n",
       "    .dataframe tbody tr th:only-of-type {\n",
       "        vertical-align: middle;\n",
       "    }\n",
       "\n",
       "    .dataframe tbody tr th {\n",
       "        vertical-align: top;\n",
       "    }\n",
       "\n",
       "    .dataframe thead th {\n",
       "        text-align: right;\n",
       "    }\n",
       "</style>\n",
       "<table border=\"1\" class=\"dataframe\">\n",
       "  <thead>\n",
       "    <tr style=\"text-align: right;\">\n",
       "      <th></th>\n",
       "      <th>carrier</th>\n",
       "      <th>tailnum</th>\n",
       "      <th>origin</th>\n",
       "      <th>dest</th>\n",
       "    </tr>\n",
       "  </thead>\n",
       "  <tbody>\n",
       "    <tr>\n",
       "      <th>0</th>\n",
       "      <td>AS</td>\n",
       "      <td>N508AS</td>\n",
       "      <td>PDX</td>\n",
       "      <td>ANC</td>\n",
       "    </tr>\n",
       "    <tr>\n",
       "      <th>1</th>\n",
       "      <td>US</td>\n",
       "      <td>N195UW</td>\n",
       "      <td>SEA</td>\n",
       "      <td>CLT</td>\n",
       "    </tr>\n",
       "    <tr>\n",
       "      <th>2</th>\n",
       "      <td>UA</td>\n",
       "      <td>N37422</td>\n",
       "      <td>PDX</td>\n",
       "      <td>IAH</td>\n",
       "    </tr>\n",
       "    <tr>\n",
       "      <th>3</th>\n",
       "      <td>US</td>\n",
       "      <td>N547UW</td>\n",
       "      <td>PDX</td>\n",
       "      <td>CLT</td>\n",
       "    </tr>\n",
       "    <tr>\n",
       "      <th>4</th>\n",
       "      <td>AS</td>\n",
       "      <td>N762AS</td>\n",
       "      <td>SEA</td>\n",
       "      <td>ANC</td>\n",
       "    </tr>\n",
       "  </tbody>\n",
       "</table>\n",
       "</div>"
      ],
      "text/plain": [
       "  carrier tailnum origin dest\n",
       "0      AS  N508AS    PDX  ANC\n",
       "1      US  N195UW    SEA  CLT\n",
       "2      UA  N37422    PDX  IAH\n",
       "3      US  N547UW    PDX  CLT\n",
       "4      AS  N762AS    SEA  ANC"
      ]
     },
     "execution_count": 84,
     "metadata": {},
     "output_type": "execute_result"
    }
   ],
   "source": [
    "df_flights_cat.head()"
   ]
  },
  {
   "cell_type": "code",
   "execution_count": 86,
   "id": "1f798419",
   "metadata": {
    "ExecuteTime": {
     "end_time": "2022-02-26T19:29:08.688217Z",
     "start_time": "2022-02-26T19:29:08.629424Z"
    }
   },
   "outputs": [],
   "source": [
    "df_dummies = pd.get_dummies(df_flights_cat, \n",
    "                            columns = [\"carrier\", \"origin\"], \n",
    "                            prefix = [\"carrier\", \"origin\"])"
   ]
  },
  {
   "cell_type": "code",
   "execution_count": 88,
   "id": "bfb69eba",
   "metadata": {
    "ExecuteTime": {
     "end_time": "2022-02-26T19:29:28.930472Z",
     "start_time": "2022-02-26T19:29:28.918859Z"
    }
   },
   "outputs": [
    {
     "data": {
      "text/plain": [
       "0    154463\n",
       "1      7586\n",
       "Name: carrier_AA, dtype: int64"
      ]
     },
     "execution_count": 88,
     "metadata": {},
     "output_type": "execute_result"
    }
   ],
   "source": [
    "df_dummies[\"carrier_AA\"].value_counts()"
   ]
  }
 ],
 "metadata": {
  "kernelspec": {
   "display_name": "myenv",
   "language": "python",
   "name": "myenv"
  },
  "language_info": {
   "codemirror_mode": {
    "name": "ipython",
    "version": 3
   },
   "file_extension": ".py",
   "mimetype": "text/x-python",
   "name": "python",
   "nbconvert_exporter": "python",
   "pygments_lexer": "ipython3",
   "version": "3.8.12"
  },
  "toc": {
   "base_numbering": 1,
   "nav_menu": {},
   "number_sections": true,
   "sideBar": true,
   "skip_h1_title": false,
   "title_cell": "Table of Contents",
   "title_sidebar": "Contents",
   "toc_cell": false,
   "toc_position": {
    "height": "calc(100% - 180px)",
    "left": "10px",
    "top": "150px",
    "width": "165px"
   },
   "toc_section_display": true,
   "toc_window_display": true
  },
  "varInspector": {
   "cols": {
    "lenName": 16,
    "lenType": 16,
    "lenVar": 40
   },
   "kernels_config": {
    "python": {
     "delete_cmd_postfix": "",
     "delete_cmd_prefix": "del ",
     "library": "var_list.py",
     "varRefreshCmd": "print(var_dic_list())"
    },
    "r": {
     "delete_cmd_postfix": ") ",
     "delete_cmd_prefix": "rm(",
     "library": "var_list.r",
     "varRefreshCmd": "cat(var_dic_list()) "
    }
   },
   "types_to_exclude": [
    "module",
    "function",
    "builtin_function_or_method",
    "instance",
    "_Feature"
   ],
   "window_display": false
  }
 },
 "nbformat": 4,
 "nbformat_minor": 5
}
