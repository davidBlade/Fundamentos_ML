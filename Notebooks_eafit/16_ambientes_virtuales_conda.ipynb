{
 "cells": [
  {
   "cell_type": "markdown",
   "id": "00c57c75",
   "metadata": {},
   "source": [
    "# Crear ambientes virtuales con conda"
   ]
  },
  {
   "cell_type": "markdown",
   "id": "6915b5fc",
   "metadata": {},
   "source": [
    "## Crear el ambiente"
   ]
  },
  {
   "cell_type": "code",
   "execution_count": null,
   "id": "7593c237",
   "metadata": {},
   "outputs": [],
   "source": [
    "conda create -n myenv\n",
    "\n",
    "# con verison de python especifica\n",
    "conda create -n myenv python=3.8"
   ]
  },
  {
   "cell_type": "code",
   "execution_count": null,
   "id": "087d76e5",
   "metadata": {},
   "outputs": [],
   "source": [
    "conda activate myenv"
   ]
  },
  {
   "cell_type": "code",
   "execution_count": null,
   "id": "320a1169",
   "metadata": {},
   "outputs": [],
   "source": [
    "pip install --user ipykernel"
   ]
  },
  {
   "cell_type": "code",
   "execution_count": null,
   "id": "707346d8",
   "metadata": {},
   "outputs": [],
   "source": [
    "python -m ipykernel install --user --name=myenv"
   ]
  }
 ],
 "metadata": {
  "kernelspec": {
   "display_name": "myenv",
   "language": "python",
   "name": "myenv"
  },
  "language_info": {
   "codemirror_mode": {
    "name": "ipython",
    "version": 3
   },
   "file_extension": ".py",
   "mimetype": "text/x-python",
   "name": "python",
   "nbconvert_exporter": "python",
   "pygments_lexer": "ipython3",
   "version": "3.8.12"
  },
  "varInspector": {
   "cols": {
    "lenName": 16,
    "lenType": 16,
    "lenVar": 40
   },
   "kernels_config": {
    "python": {
     "delete_cmd_postfix": "",
     "delete_cmd_prefix": "del ",
     "library": "var_list.py",
     "varRefreshCmd": "print(var_dic_list())"
    },
    "r": {
     "delete_cmd_postfix": ") ",
     "delete_cmd_prefix": "rm(",
     "library": "var_list.r",
     "varRefreshCmd": "cat(var_dic_list()) "
    }
   },
   "types_to_exclude": [
    "module",
    "function",
    "builtin_function_or_method",
    "instance",
    "_Feature"
   ],
   "window_display": false
  }
 },
 "nbformat": 4,
 "nbformat_minor": 5
}
