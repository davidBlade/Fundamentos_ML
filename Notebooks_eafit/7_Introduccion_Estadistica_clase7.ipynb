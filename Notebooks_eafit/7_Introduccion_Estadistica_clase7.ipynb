{
 "cells": [
  {
   "cell_type": "markdown",
   "metadata": {},
   "source": [
    "# Introducción a la estadística básica"
   ]
  },
  {
   "cell_type": "markdown",
   "metadata": {
    "ExecuteTime": {
     "end_time": "2022-02-12T16:18:02.956074Z",
     "start_time": "2022-02-12T16:18:02.946509Z"
    }
   },
   "source": [
    "<img src = \"./images/estadistica.PNG\" height = \"500\" width = \"500\">"
   ]
  },
  {
   "cell_type": "markdown",
   "metadata": {},
   "source": [
    "## Definiciones básicas"
   ]
  },
  {
   "cell_type": "markdown",
   "metadata": {},
   "source": [
    "- **Población**: Total de elementos de un grupo a estudiar.\n",
    "- **Muestra**: Parte o segmento de una población.\n",
    "\n",
    "<img src = \"./images/muestra.JPG\" height = \"500\" width = \"500\">"
   ]
  },
  {
   "cell_type": "markdown",
   "metadata": {},
   "source": [
    "- **Experimento**: Acción que genera eventos apartir de unos datos el cual puede ser repetido una cantida de veces n.\n",
    "- **Espacio muestral**: Todos los posibles resiltados de un experimento.\n",
    "\n",
    "\n",
    "  $$ S = \\lbrace{a,b,c, ... }\\rbrace $$\n",
    "  \n",
    "  **ejemplo:** se tiene un experimento donde se realiza un lanzamiento de un dado, ¿Qué cara se puede obtener al lanzar el dado?\n",
    "  \n",
    "  R//: el espacio muestral serán todos los posibles resulatdos al lanzar el dado, es decir: {1,2,3,4,5,6}"
   ]
  },
  {
   "cell_type": "markdown",
   "metadata": {},
   "source": [
    "  **Evento simple**: es un subconjunto del espacio muestral, si consideramos el espacio muestral anterior, un evento simple de ese espacio muestral sería solo tomar cuando la cara del dado de como resultado 1 o 4:\n",
    "\n",
    "  $$ A = \\lbrace{1,4}\\rbrace $$"
   ]
  },
  {
   "cell_type": "markdown",
   "metadata": {},
   "source": [
    "**Evento compuesto**: Es aquel que se compone de dos o mas eventos simples, donde podrían tener relación o no.\n",
    "\n",
    "- **Unión**: conjunto formado por lo elementos de dos o mas conjuntos sin repetirlos.\n",
    "\n",
    "\n",
    " $$ P = \\lbrace{2, 3, 5, 6}\\rbrace $$\n",
    " \n",
    " $$ Q = \\lbrace{3, 7, 4}\\rbrace $$\n",
    " \n",
    " $$ P \\cup Q = \\lbrace{2, 3, 4, 5, 6, 7}\\rbrace $$\n",
    " \n",
    " <img src = \"./images/union.JPG\">\n",
    "\n",
    "- **Intersección**: Conjunto formado por los elementos comunes de dos o mas conjuntos.\n",
    "\n",
    "\n",
    " $$ M = \\lbrace{a, b, c}\\rbrace $$\n",
    " \n",
    " $$ N = \\lbrace{a, c, e, d}\\rbrace $$\n",
    " \n",
    " $$ M \\cap N = \\lbrace{a, c}\\rbrace $$\n",
    " \n",
    " <img src = \"./images/interseccion.JPG\">"
   ]
  },
  {
   "cell_type": "markdown",
   "metadata": {},
   "source": [
    "## Probabilidad"
   ]
  },
  {
   "cell_type": "markdown",
   "metadata": {},
   "source": [
    "La probabilidad introduce los campos matemáticos que nos permiten cuantificar la incertidumbre y hacer predicciones a pesar de de dicha incertidumbre o \"del que pasará\". Estos campos son esenciales porque los algoritmos de aprendizaje automático se entrenan con datos imperfectos y se implementan en escenarios ruidosos del mundo real que no se habían encontrado antes, por lo tanto siempre existirá una probabilidad de equivocarnos o no, pero antes de ellos, debemos conocer como funciona la probabilidad y que es este concepto aplicado en cualquier modelo de machine learning.\n"
   ]
  },
  {
   "cell_type": "markdown",
   "metadata": {},
   "source": [
    "# Medidas de tendencia central"
   ]
  },
  {
   "cell_type": "markdown",
   "metadata": {},
   "source": [
    "<br>\n",
    "<img src = \"./images/mean.JPG\" height = \"500\" width = \"500\">\n",
    "<br>\n",
    "<br>\n",
    "\n",
    "Un conjunto de datos, ya sean cualitativos o cuantitativos, contiene todo tipo de información interesante según se analice. Por ejemplo podemos tener información sobre un número determinado de clientes y con esta información determinar patrones o características para mejorar y optimizar nuestros esfuerzos en ventas y programas de fidelidad.   \n",
    "\n",
    "Analizar una gran cantidad de datos para determinar modelos, inferir información o predecir comportamientos en una actividad que se ejecuta en todas las áreas de la ciencia y que se menciona cuando se llega a hacer divulgación. Sin embargo, se presenta un problema al hablar del conjunto de datos en donde son muchas **muestras** para distintas **características**. En el caso de los clientes, podemos tener información de la edad, de las compras usuales y otros datos personales o comerciales para un número de 20, 30, 1000 personas. A esto se conoce como dimensión de los datos.\n",
    "\n",
    "Las medidas de tendencia central proporcionan una estadística resumida en el centro de una distribución dada, también conocido como el valor \"promedio\" de la distribución."
   ]
  },
  {
   "cell_type": "markdown",
   "metadata": {
    "ExecuteTime": {
     "end_time": "2021-08-21T05:54:09.382643Z",
     "start_time": "2021-08-21T05:54:09.366650Z"
    }
   },
   "source": [
    "## Media aritmética"
   ]
  },
  {
   "cell_type": "markdown",
   "metadata": {},
   "source": [
    "Es la más común de las medidas de tendencia central. La media aritmética de un conjunto de datos numéricos se obtiene sumando los datos y dividiendo entre el número total de datos.\n",
    "\n",
    "$$ {\\displaystyle {\\bar {x}}={\\frac {1}{n}}\\sum _{i=1}^{n}x_{i}={\\frac {x_{1}+x_{2}+\\cdots +x_{n}}{n}}} $$"
   ]
  },
  {
   "cell_type": "markdown",
   "metadata": {},
   "source": [
    "**Ventajas**:\n",
    "\n",
    "* Fácil cálculo.\n",
    "* Es única para cada conjunto de datos.\n",
    "* Se interpreta como un punto de equilibrio o centro de masas. \n",
    "* Es útil para llevar a cabo procedimientos estadísticos como la comparación de medias de varios conjuntos de datos.\n",
    "* Toma en cuenta todos y cada uno de los elementos de los datos."
   ]
  },
  {
   "cell_type": "markdown",
   "metadata": {},
   "source": [
    "**Desventajas**\n",
    "\n",
    "* Es una medida a cuyo significado depende la dispersión, de modo que cuanto menos homogéneos sean los datos, menos información proporciona.\n",
    "* En el análisis real de la media no todos los valores contribuyen de la misma manera. Los valores altos tienen más peso que los valores cercanos a cero."
   ]
  },
  {
   "cell_type": "code",
   "execution_count": 14,
   "metadata": {
    "ExecuteTime": {
     "end_time": "2022-02-12T21:09:16.593180Z",
     "start_time": "2022-02-12T21:09:15.339108Z"
    }
   },
   "outputs": [],
   "source": [
    "from numpy import arange, array\n",
    "from pandas import read_csv\n",
    "import os"
   ]
  },
  {
   "cell_type": "code",
   "execution_count": 5,
   "metadata": {
    "ExecuteTime": {
     "end_time": "2022-02-12T21:05:10.872102Z",
     "start_time": "2022-02-12T21:05:10.858042Z"
    }
   },
   "outputs": [
    {
     "name": "stdout",
     "output_type": "stream",
     "text": [
      "50.0\n"
     ]
    }
   ],
   "source": [
    "datos = arange(1,100)\n",
    "media = sum(datos)/datos.size\n",
    "print(media)"
   ]
  },
  {
   "cell_type": "code",
   "execution_count": 10,
   "metadata": {
    "ExecuteTime": {
     "end_time": "2022-02-12T21:07:42.502690Z",
     "start_time": "2022-02-12T21:07:42.494301Z"
    }
   },
   "outputs": [
    {
     "data": {
      "text/plain": [
       "50.0"
      ]
     },
     "execution_count": 10,
     "metadata": {},
     "output_type": "execute_result"
    }
   ],
   "source": [
    "datos_list = list(datos)\n",
    "array(datos_list).mean()"
   ]
  },
  {
   "cell_type": "code",
   "execution_count": 6,
   "metadata": {
    "ExecuteTime": {
     "end_time": "2022-02-12T21:05:35.144588Z",
     "start_time": "2022-02-12T21:05:35.125524Z"
    }
   },
   "outputs": [
    {
     "data": {
      "text/plain": [
       "50.0"
      ]
     },
     "execution_count": 6,
     "metadata": {},
     "output_type": "execute_result"
    }
   ],
   "source": [
    "datos.mean()"
   ]
  },
  {
   "cell_type": "code",
   "execution_count": 15,
   "metadata": {
    "ExecuteTime": {
     "end_time": "2022-02-12T21:09:19.955534Z",
     "start_time": "2022-02-12T21:09:19.891787Z"
    }
   },
   "outputs": [
    {
     "data": {
      "text/html": [
       "<div>\n",
       "<style scoped>\n",
       "    .dataframe tbody tr th:only-of-type {\n",
       "        vertical-align: middle;\n",
       "    }\n",
       "\n",
       "    .dataframe tbody tr th {\n",
       "        vertical-align: top;\n",
       "    }\n",
       "\n",
       "    .dataframe thead th {\n",
       "        text-align: right;\n",
       "    }\n",
       "</style>\n",
       "<table border=\"1\" class=\"dataframe\">\n",
       "  <thead>\n",
       "    <tr style=\"text-align: right;\">\n",
       "      <th></th>\n",
       "      <th>area_type</th>\n",
       "      <th>availability</th>\n",
       "      <th>location</th>\n",
       "      <th>size</th>\n",
       "      <th>society</th>\n",
       "      <th>total_sqft</th>\n",
       "      <th>bath</th>\n",
       "      <th>balcony</th>\n",
       "      <th>price</th>\n",
       "    </tr>\n",
       "  </thead>\n",
       "  <tbody>\n",
       "    <tr>\n",
       "      <th>0</th>\n",
       "      <td>Super built-up  Area</td>\n",
       "      <td>19-Dec</td>\n",
       "      <td>Electronic City Phase II</td>\n",
       "      <td>2 BHK</td>\n",
       "      <td>Coomee</td>\n",
       "      <td>1056</td>\n",
       "      <td>2.0</td>\n",
       "      <td>1.0</td>\n",
       "      <td>39.07</td>\n",
       "    </tr>\n",
       "    <tr>\n",
       "      <th>1</th>\n",
       "      <td>Plot  Area</td>\n",
       "      <td>Ready To Move</td>\n",
       "      <td>Chikka Tirupathi</td>\n",
       "      <td>4 Bedroom</td>\n",
       "      <td>Theanmp</td>\n",
       "      <td>2600</td>\n",
       "      <td>5.0</td>\n",
       "      <td>3.0</td>\n",
       "      <td>120.00</td>\n",
       "    </tr>\n",
       "    <tr>\n",
       "      <th>2</th>\n",
       "      <td>Built-up  Area</td>\n",
       "      <td>Ready To Move</td>\n",
       "      <td>Uttarahalli</td>\n",
       "      <td>3 BHK</td>\n",
       "      <td>NaN</td>\n",
       "      <td>1440</td>\n",
       "      <td>2.0</td>\n",
       "      <td>3.0</td>\n",
       "      <td>62.00</td>\n",
       "    </tr>\n",
       "    <tr>\n",
       "      <th>3</th>\n",
       "      <td>Super built-up  Area</td>\n",
       "      <td>Ready To Move</td>\n",
       "      <td>Lingadheeranahalli</td>\n",
       "      <td>3 BHK</td>\n",
       "      <td>Soiewre</td>\n",
       "      <td>1521</td>\n",
       "      <td>3.0</td>\n",
       "      <td>1.0</td>\n",
       "      <td>95.00</td>\n",
       "    </tr>\n",
       "    <tr>\n",
       "      <th>4</th>\n",
       "      <td>Super built-up  Area</td>\n",
       "      <td>Ready To Move</td>\n",
       "      <td>Kothanur</td>\n",
       "      <td>2 BHK</td>\n",
       "      <td>NaN</td>\n",
       "      <td>1200</td>\n",
       "      <td>2.0</td>\n",
       "      <td>1.0</td>\n",
       "      <td>51.00</td>\n",
       "    </tr>\n",
       "  </tbody>\n",
       "</table>\n",
       "</div>"
      ],
      "text/plain": [
       "              area_type   availability                  location       size  \\\n",
       "0  Super built-up  Area         19-Dec  Electronic City Phase II      2 BHK   \n",
       "1            Plot  Area  Ready To Move          Chikka Tirupathi  4 Bedroom   \n",
       "2        Built-up  Area  Ready To Move               Uttarahalli      3 BHK   \n",
       "3  Super built-up  Area  Ready To Move        Lingadheeranahalli      3 BHK   \n",
       "4  Super built-up  Area  Ready To Move                  Kothanur      2 BHK   \n",
       "\n",
       "   society total_sqft  bath  balcony   price  \n",
       "0  Coomee        1056   2.0      1.0   39.07  \n",
       "1  Theanmp       2600   5.0      3.0  120.00  \n",
       "2      NaN       1440   2.0      3.0   62.00  \n",
       "3  Soiewre       1521   3.0      1.0   95.00  \n",
       "4      NaN       1200   2.0      1.0   51.00  "
      ]
     },
     "execution_count": 15,
     "metadata": {},
     "output_type": "execute_result"
    }
   ],
   "source": [
    "main_path = \"C:/Users/usuario1/Desktop/Eafit/grupo_DS_NB_G07/\"\n",
    "file_path = \"datasets\"\n",
    "file_io = \"Bengaluru_House_Data.csv\"\n",
    "\n",
    "full_path = os.path.join(main_path, file_path, file_io)\n",
    "df_house_data = read_csv(full_path, sep = \",\")\n",
    "df_house_data.head()"
   ]
  },
  {
   "cell_type": "code",
   "execution_count": 17,
   "metadata": {
    "ExecuteTime": {
     "end_time": "2022-02-12T21:09:48.145368Z",
     "start_time": "2022-02-12T21:09:48.139423Z"
    }
   },
   "outputs": [
    {
     "data": {
      "text/plain": [
       "112.56562650150138"
      ]
     },
     "execution_count": 17,
     "metadata": {},
     "output_type": "execute_result"
    }
   ],
   "source": [
    "df_house_data[\"price\"].mean()"
   ]
  },
  {
   "cell_type": "markdown",
   "metadata": {},
   "source": [
    "**Ejemplo**: ya teniendo claro el concepto de media aritmética, cree una distribución normal de media 6, de ser posible tambien realice la grafica de la distribución\n",
    "\n",
    "- tip: para ello utilice el método de numpy np.random.normal() y un histograma"
   ]
  },
  {
   "cell_type": "code",
   "execution_count": 19,
   "metadata": {
    "ExecuteTime": {
     "end_time": "2022-02-12T21:15:57.613952Z",
     "start_time": "2022-02-12T21:15:54.903956Z"
    }
   },
   "outputs": [],
   "source": [
    "import numpy as np\n",
    "import seaborn as sns"
   ]
  },
  {
   "cell_type": "code",
   "execution_count": 32,
   "metadata": {
    "ExecuteTime": {
     "end_time": "2022-02-12T21:20:20.497246Z",
     "start_time": "2022-02-12T21:20:20.491434Z"
    }
   },
   "outputs": [],
   "source": [
    "import warnings\n",
    "warnings.filterwarnings(\"ignore\")"
   ]
  },
  {
   "cell_type": "code",
   "execution_count": 33,
   "metadata": {
    "ExecuteTime": {
     "end_time": "2022-02-12T21:20:24.922649Z",
     "start_time": "2022-02-12T21:20:24.681662Z"
    }
   },
   "outputs": [
    {
     "data": {
      "text/plain": [
       "<AxesSubplot:ylabel='Density'>"
      ]
     },
     "execution_count": 33,
     "metadata": {},
     "output_type": "execute_result"
    },
    {
     "data": {
      "image/png": "[encoded data removed]",
      "text/plain": [
       "<Figure size 432x288 with 1 Axes>"
      ]
     },
     "metadata": {
      "needs_background": "light"
     },
     "output_type": "display_data"
    }
   ],
   "source": [
    "datos = np.random.normal(112, 1, 100)\n",
    "sns.distplot(datos, bins = 20)"
   ]
  },
  {
   "cell_type": "code",
   "execution_count": 23,
   "metadata": {
    "ExecuteTime": {
     "end_time": "2022-02-12T21:17:14.712646Z",
     "start_time": "2022-02-12T21:17:14.706174Z"
    }
   },
   "outputs": [],
   "source": [
    "import matplotlib.pyplot as plt"
   ]
  },
  {
   "cell_type": "code",
   "execution_count": 26,
   "metadata": {
    "ExecuteTime": {
     "end_time": "2022-02-12T21:17:48.750666Z",
     "start_time": "2022-02-12T21:17:48.510122Z"
    }
   },
   "outputs": [
    {
     "data": {
      "image/png": "[encoded data removed]",
      "text/plain": [
       "<Figure size 432x288 with 1 Axes>"
      ]
     },
     "metadata": {
      "needs_background": "light"
     },
     "output_type": "display_data"
    }
   ],
   "source": [
    "plt.hist(datos, bins = 20);"
   ]
  },
  {
   "cell_type": "markdown",
   "metadata": {},
   "source": [
    "## Mediana"
   ]
  },
  {
   "cell_type": "markdown",
   "metadata": {},
   "source": [
    "La mediana es un punto que divide la muestra ordenada (de menor a mayor) en dos grupos iguales (50% - 50%). Es un punto que está justo en mitad de la muestra, y no tiene por qué coincidir con la media.\n",
    "\n",
    "**Para cantidad de datos impares**:\n",
    "\n",
    "- Supongamos que tenemos el grupo de datos no agrupados $x_{1},x_{2},x_{3},\\ldots ,x_{n}$, los cuales están organizados de mayor a menor y $n$ es impar. La mediana sería:\n",
    "\n",
    "$$M_{e}=x_{{(n+1)/2}}$$\n",
    "\n",
    "**Para cantidad de datos pares**:\n",
    "\n",
    "- Si $n$ es par, la mediana sería:\n",
    "$$M_{e}=(x_{{{\\frac  {n}{2}}}}+x_{{{{\\frac  {n}{2}}}+1}})/2$$"
   ]
  },
  {
   "cell_type": "code",
   "execution_count": 42,
   "metadata": {
    "ExecuteTime": {
     "end_time": "2022-02-12T21:29:11.153673Z",
     "start_time": "2022-02-12T21:29:11.141930Z"
    }
   },
   "outputs": [
    {
     "name": "stdout",
     "output_type": "stream",
     "text": [
      "Media aritmetica: 112.56562650150138\n",
      "La Mediana:       72.0\n"
     ]
    }
   ],
   "source": [
    "print(\"Media aritmetica:\", df_house_data[\"price\"].mean())\n",
    "print(\"La Mediana:      \",df_house_data[\"price\"].median())"
   ]
  },
  {
   "cell_type": "markdown",
   "metadata": {},
   "source": [
    "**Ejercicio**: grafique una cantidad de puntos n y halle la mediana en la grafica"
   ]
  },
  {
   "cell_type": "code",
   "execution_count": 54,
   "metadata": {
    "ExecuteTime": {
     "end_time": "2022-02-12T21:32:45.638672Z",
     "start_time": "2022-02-12T21:32:45.410252Z"
    }
   },
   "outputs": [
    {
     "data": {
      "image/png": "[encoded data removed]",
      "text/plain": [
       "<Figure size 720x360 with 1 Axes>"
      ]
     },
     "metadata": {
      "needs_background": "light"
     },
     "output_type": "display_data"
    }
   ],
   "source": [
    "cantidad = 15\n",
    "min_number = 5\n",
    "max_number = 20\n",
    "\n",
    "datos = np.random.uniform(min_number, max_number, size = cantidad)\n",
    "datos.sort()\n",
    "\n",
    "pmedio = 0.5*(cantidad//2) + 0.5*(cantidad//2+1) if cantidad%2 == 0 else cantidad//2+1\n",
    "median = 0.5*datos[cantidad//2-1] + 0.5*datos[cantidad//2] if cantidad%2 == 0 else datos[cantidad//2+1]\n",
    "\n",
    "fig, ax = plt.subplots(figsize = (10, 5))\n",
    "ax.plot(range(1, cantidad + 1), datos, \"o\", ms = 10)\n",
    "ax.plot(pmedio, median, \"or\", markerfacecolor = \"w\", ms = 5)\n",
    "\n",
    "ax.annotate(\"Mediana\", \n",
    "            xy = (pmedio, median), \n",
    "            xytext = (pmedio, 0.8*median), \n",
    "            arrowprops = dict(arrowstyle = \"-|>\", \n",
    "                              connectionstyle = \"arc3\", \n",
    "                              facecolor = \"black\"))\n",
    "\n",
    "plt.show();"
   ]
  },
  {
   "cell_type": "markdown",
   "metadata": {},
   "source": [
    "## Moda"
   ]
  },
  {
   "cell_type": "markdown",
   "metadata": {},
   "source": [
    "La moda es la última medida común de tendencia central. Es simplemente el valor en la distribución que ocurre con mayor frecuencia.\n",
    "\n",
    "**Ventajas**:\n",
    "\n",
    "* Cálculo sencillo.\n",
    "* Interpretación muy clara.\n",
    "* Al depender sólo de las frecuencias, puede calcularse para variables cualitativas\n",
    "\n",
    "**Desventajas**\n",
    "\n",
    "* Su valor es independiente de la mayor parte de los datos, lo que la hace muy sensible a variaciones muestrales.\n",
    "* Usa muy pocas observaciones, de tal modo que grandes variaciones en los datos fuera de la moda, no afectan en modo alguno a su valor.\n",
    "* Puede haber más de una moda."
   ]
  },
  {
   "cell_type": "code",
   "execution_count": 60,
   "metadata": {
    "ExecuteTime": {
     "end_time": "2022-02-12T21:37:42.443601Z",
     "start_time": "2022-02-12T21:37:42.438587Z"
    }
   },
   "outputs": [],
   "source": [
    "import scipy.stats as st # para calcular la moda\n",
    "from pandas import DataFrame "
   ]
  },
  {
   "cell_type": "code",
   "execution_count": 66,
   "metadata": {
    "ExecuteTime": {
     "end_time": "2022-02-12T21:38:18.393513Z",
     "start_time": "2022-02-12T21:38:18.378381Z"
    }
   },
   "outputs": [
    {
     "data": {
      "text/plain": [
       "75.0"
      ]
     },
     "execution_count": 66,
     "metadata": {},
     "output_type": "execute_result"
    }
   ],
   "source": [
    "DataFrame(df_house_data[\"price\"].value_counts()).reset_index()[\"index\"][0]"
   ]
  },
  {
   "cell_type": "code",
   "execution_count": 56,
   "metadata": {
    "ExecuteTime": {
     "end_time": "2022-02-12T21:36:37.582388Z",
     "start_time": "2022-02-12T21:36:37.554430Z"
    }
   },
   "outputs": [
    {
     "data": {
      "text/plain": [
       "75.0"
      ]
     },
     "execution_count": 56,
     "metadata": {},
     "output_type": "execute_result"
    }
   ],
   "source": [
    "datos = df_house_data[\"price\"]\n",
    "st.mode(datos)[0][0]"
   ]
  },
  {
   "cell_type": "code",
   "execution_count": 67,
   "metadata": {
    "ExecuteTime": {
     "end_time": "2022-02-12T21:38:51.367244Z",
     "start_time": "2022-02-12T21:38:51.344206Z"
    }
   },
   "outputs": [
    {
     "data": {
      "text/plain": [
       "75.0"
      ]
     },
     "execution_count": 67,
     "metadata": {},
     "output_type": "execute_result"
    }
   ],
   "source": [
    "st.mode(df_house_data[\"price\"])[0][0]"
   ]
  },
  {
   "cell_type": "markdown",
   "metadata": {},
   "source": [
    "**NOTA:**\n",
    "\n",
    "Con tamaños de muestra pequeños, la media suele proporcionar la medida más precisa de tendencia central.\n",
    "\n",
    "Con tamaños de muestra más grandes, la media, la mediana, siempre que la distribución no esté sesgada:"
   ]
  },
  {
   "cell_type": "markdown",
   "metadata": {},
   "source": [
    "# Cuantiles"
   ]
  },
  {
   "cell_type": "markdown",
   "metadata": {},
   "source": [
    "Técnica estadística para separar los datos de una distribución. Eso sí, debe cumplirse que los grupos sean iguales. Por eso, existen diversos tipos de cuantil, como veremos más adelante, en función del número de particiones que hacen.\n",
    "\n",
    "La mediana, que divide una distribución en dos en su punto medio, es el ejemplo más conocido de cuantil.\n",
    "\n",
    "En términos generales, los cuantiles dividen distribuciones y los más comunes son:\n",
    "\n",
    "* Percentiles\n",
    "* Cuartiles\n",
    "* Deciles"
   ]
  },
  {
   "cell_type": "markdown",
   "metadata": {},
   "source": [
    "## Percentiles"
   ]
  },
  {
   "cell_type": "markdown",
   "metadata": {},
   "source": [
    "El percentil es una medida de posición usada en estadística que indica, una vez ordenados los datos de menor a mayor, el valor de la variable por debajo del cual se encuentra un porcentaje dado de observaciones en un grupo. Por ejemplo, el percentil 20.º es el valor bajo el cual se encuentran el 20 por ciento de las observaciones. Él y el 80% restante son mayores."
   ]
  },
  {
   "cell_type": "markdown",
   "metadata": {},
   "source": [
    "Tenga en cuenta que el método de cuantiles de Numpy () es idéntico al método de percentiles () "
   ]
  },
  {
   "cell_type": "code",
   "execution_count": 68,
   "metadata": {
    "ExecuteTime": {
     "end_time": "2022-02-12T21:59:17.567686Z",
     "start_time": "2022-02-12T21:59:17.554351Z"
    }
   },
   "outputs": [],
   "source": [
    "from numpy import percentile"
   ]
  },
  {
   "cell_type": "code",
   "execution_count": 71,
   "metadata": {
    "ExecuteTime": {
     "end_time": "2022-02-12T22:00:07.092082Z",
     "start_time": "2022-02-12T22:00:07.069165Z"
    }
   },
   "outputs": [
    {
     "data": {
      "text/plain": [
       "72.0"
      ]
     },
     "execution_count": 71,
     "metadata": {},
     "output_type": "execute_result"
    }
   ],
   "source": [
    "percentile(df_house_data[\"price\"], 18)\n",
    "percentile(df_house_data[\"price\"], 50)"
   ]
  },
  {
   "cell_type": "markdown",
   "metadata": {},
   "source": [
    "## Cuartiles"
   ]
  },
  {
   "cell_type": "markdown",
   "metadata": {},
   "source": [
    "Como su nombre indica, son cuantiles que dividen una distribución en cuartos, dividiendo la distribución en el percentil 25, la mediana (también conocido como el percentil 50) y el percentil 75."
   ]
  },
  {
   "cell_type": "code",
   "execution_count": 76,
   "metadata": {
    "ExecuteTime": {
     "end_time": "2022-02-12T22:02:16.505714Z",
     "start_time": "2022-02-12T22:02:16.482916Z"
    }
   },
   "outputs": [
    {
     "name": "stdout",
     "output_type": "stream",
     "text": [
      "Quartil 1: 50.0\n",
      "Quartil 2: 72.0\n",
      "Quartil 3: 120.0\n"
     ]
    }
   ],
   "source": [
    "print(\"Quartil 1:\" , percentile(df_house_data[\"price\"], 25))\n",
    "print(\"Quartil 2:\" , percentile(df_house_data[\"price\"], 50))\n",
    "print(\"Quartil 3:\" , percentile(df_house_data[\"price\"], 75))"
   ]
  },
  {
   "cell_type": "markdown",
   "metadata": {},
   "source": [
    "## Deciles"
   ]
  },
  {
   "cell_type": "markdown",
   "metadata": {},
   "source": [
    "Dividen una distribución en diez segmentos de tamaño uniforme:"
   ]
  },
  {
   "cell_type": "code",
   "execution_count": 77,
   "metadata": {
    "ExecuteTime": {
     "end_time": "2022-02-12T22:02:52.007927Z",
     "start_time": "2022-02-12T22:02:51.987358Z"
    }
   },
   "outputs": [
    {
     "name": "stdout",
     "output_type": "stream",
     "text": [
      "Decil 1: 38.0\n",
      "Decil 2: 46.0\n",
      "Decil 3: 54.0\n"
     ]
    }
   ],
   "source": [
    "print(\"Decil 1:\" , percentile(df_house_data[\"price\"], 10))\n",
    "print(\"Decil 2:\" , percentile(df_house_data[\"price\"], 20))\n",
    "print(\"Decil 3:\" , percentile(df_house_data[\"price\"], 30))"
   ]
  },
  {
   "cell_type": "code",
   "execution_count": 84,
   "metadata": {
    "ExecuteTime": {
     "end_time": "2022-02-12T22:11:43.142167Z",
     "start_time": "2022-02-12T22:11:43.134921Z"
    }
   },
   "outputs": [
    {
     "data": {
      "text/plain": [
       "array([ 50.,  72., 120.])"
      ]
     },
     "execution_count": 84,
     "metadata": {},
     "output_type": "execute_result"
    }
   ],
   "source": [
    "percentile(df_house_data[\"price\"], [25, 50, 75])"
   ]
  },
  {
   "cell_type": "code",
   "execution_count": 99,
   "metadata": {
    "ExecuteTime": {
     "end_time": "2022-02-12T22:18:09.265757Z",
     "start_time": "2022-02-12T22:18:08.944129Z"
    }
   },
   "outputs": [
    {
     "data": {
      "image/png": "[encoded data removed]",
      "text/plain": [
       "<Figure size 360x360 with 1 Axes>"
      ]
     },
     "metadata": {
      "needs_background": "light"
     },
     "output_type": "display_data"
    }
   ],
   "source": [
    "datos = np.random.normal(112, 1, 100)\n",
    "\n",
    "q1 = percentile(datos, 25)\n",
    "q2 = percentile(datos, 50)\n",
    "q3 = percentile(datos, 75)\n",
    "media = datos.mean()\n",
    "mediana = DataFrame(datos)[0].median()\n",
    "\n",
    "plt.figure(figsize = (5, 5))\n",
    "plt.axvline(x = q1, color = \"r\")\n",
    "plt.axvline(x = q2, color = \"y\")\n",
    "plt.axvline(x = q3, color = \"g\")\n",
    "plt.axvline(x = media, color = \"b\")\n",
    "plt.axvline(x = mediana, color = \"black\")\n",
    "plt.hist(datos, color = \"lightblue\", bins = 30)\n",
    "plt.legend([\"q1\", \"q2\", \"q3\", \"media\", \"mediana\"]);"
   ]
  },
  {
   "cell_type": "markdown",
   "metadata": {},
   "source": [
    "# Medidas de dispersión\n",
    "\n",
    "<br>\n",
    "<img src = \"./images/dispersion.JPG\" height = \"500\" width = \"500\">\n",
    "<br>\n",
    "<br>"
   ]
  },
  {
   "cell_type": "markdown",
   "metadata": {},
   "source": [
    "Las medidas de desviación son medidas que comparan los valores del conjunto de datos con la media de los datos. Las medidas de tendencia central no son suficientes para describir un conjuntos de datos, ya que estos se distribuyen entre los valores máximo y mínimo de distintas formas. Así que se considera vital saber la forma en cómo se concentran los datos alrededor de un valor central o posición, estás medidas se conocen cómo medidas de dispersión.\n",
    "\n",
    "**Las más comunes son:** \n",
    "\n",
    "* Varianza\n",
    "* Desviación estándar\n",
    "* Error estándar"
   ]
  },
  {
   "cell_type": "markdown",
   "metadata": {},
   "source": [
    "## Medidas de Rangos"
   ]
  },
  {
   "cell_type": "code",
   "execution_count": null,
   "metadata": {},
   "outputs": [],
   "source": []
  },
  {
   "cell_type": "markdown",
   "metadata": {},
   "source": [
    "### Rango"
   ]
  },
  {
   "cell_type": "markdown",
   "metadata": {},
   "source": [
    "El Rango es el intervalo entre el valor máximo y el valor mínimo, cuanto mayor es el rango, más dispersos están los datos. \n",
    "\n",
    "$$ Rango = max - min $$"
   ]
  },
  {
   "cell_type": "markdown",
   "metadata": {},
   "source": [
    "### Rango medio "
   ]
  },
  {
   "cell_type": "markdown",
   "metadata": {},
   "source": [
    "El Rango es la media del menor y mayor valor de un conjunto de datos, o la mitad del camino entre el dato de menor valor y el dato de mayor."
   ]
  },
  {
   "cell_type": "markdown",
   "metadata": {},
   "source": [
    "### Rango intercuantílico"
   ]
  },
  {
   "cell_type": "markdown",
   "metadata": {},
   "source": [
    "Rango intercuantílico o rango intercuantil, es la diferencia entre el tercer y el primer cuartil de una distribución (pos 25%, pos 75%).\n",
    "\n",
    "$$ IQR = Q(3) - Q(1) $$\n",
    "\n",
    "* Primer cuartil (Q1), tambien es el percentil 25 de los datos\n",
    "* Segundo cuartil (Q2), tambien es el percentil 50 de los datos, decil 5, y tambien coincide con la mediana de los datos\n",
    "* Tercer cuartil (Q3), tambien es el percentil 75 de los datos"
   ]
  },
  {
   "cell_type": "code",
   "execution_count": null,
   "metadata": {},
   "outputs": [],
   "source": []
  },
  {
   "cell_type": "markdown",
   "metadata": {},
   "source": [
    "## Medidas de desviación"
   ]
  },
  {
   "cell_type": "markdown",
   "metadata": {},
   "source": [
    "Las medidas de desviación son medidas que comparan los valores del conjunto de datos con la media de los datos. "
   ]
  },
  {
   "cell_type": "markdown",
   "metadata": {},
   "source": [
    "### Varianza"
   ]
  },
  {
   "cell_type": "markdown",
   "metadata": {},
   "source": [
    "La varianza es una medida de dispersión, que es la media de los cuadrados de las distancias entre los puntos y el valor medio de todo el conjunto.\n",
    "\n",
    "$$ \\sigma^2 = \\frac{\\sum_{i=1}^n (x_i-\\bar{x})^2}{n} $$"
   ]
  },
  {
   "cell_type": "code",
   "execution_count": null,
   "metadata": {},
   "outputs": [],
   "source": []
  },
  {
   "cell_type": "code",
   "execution_count": null,
   "metadata": {},
   "outputs": [],
   "source": []
  },
  {
   "cell_type": "code",
   "execution_count": null,
   "metadata": {},
   "outputs": [],
   "source": []
  },
  {
   "cell_type": "markdown",
   "metadata": {},
   "source": [
    "### Desviación estándar"
   ]
  },
  {
   "cell_type": "markdown",
   "metadata": {},
   "source": [
    "Es conocida como la raíz cuadrada de la variancia, es conveniente porque sus unidades están en la misma escala que los valores en la distribución:\n",
    "\n",
    "$$ \\sigma = \\sqrt{\\sigma^2} $$"
   ]
  },
  {
   "cell_type": "code",
   "execution_count": null,
   "metadata": {},
   "outputs": [],
   "source": []
  },
  {
   "cell_type": "markdown",
   "metadata": {},
   "source": [
    "### Coeficiente de variación de pearson"
   ]
  },
  {
   "cell_type": "markdown",
   "metadata": {},
   "source": [
    "Medida de dispersión adimensional, que se expresa tanto de forma decimal como en tanto por ciento, y nos expresaría la desviación típica como porcentaje con respecto a la media.\n",
    "\n",
    " $$ CV = \\dfrac{\\sigma}{\\bar x}$$"
   ]
  },
  {
   "cell_type": "code",
   "execution_count": null,
   "metadata": {},
   "outputs": [],
   "source": []
  },
  {
   "cell_type": "code",
   "execution_count": null,
   "metadata": {},
   "outputs": [],
   "source": []
  },
  {
   "cell_type": "code",
   "execution_count": null,
   "metadata": {},
   "outputs": [],
   "source": []
  },
  {
   "cell_type": "markdown",
   "metadata": {},
   "source": [
    "# Medidas de relación"
   ]
  },
  {
   "cell_type": "markdown",
   "metadata": {
    "ExecuteTime": {
     "end_time": "2021-08-21T07:48:44.194147Z",
     "start_time": "2021-08-21T07:48:44.188158Z"
    }
   },
   "source": [
    "## Covarianza"
   ]
  },
  {
   "cell_type": "markdown",
   "metadata": {},
   "source": [
    "Proporciona una medida de cuán relacionadas están las variables el uno al otro:\n",
    "\n",
    "$$ \\text{cov}(x, y) = \\frac{\\sum_{i=1}^n (x_i - \\bar{x})(y_i - \\bar{y}) }{n} $$"
   ]
  },
  {
   "cell_type": "code",
   "execution_count": null,
   "metadata": {},
   "outputs": [],
   "source": []
  },
  {
   "cell_type": "code",
   "execution_count": null,
   "metadata": {},
   "outputs": [],
   "source": []
  },
  {
   "cell_type": "code",
   "execution_count": null,
   "metadata": {},
   "outputs": [],
   "source": []
  },
  {
   "cell_type": "markdown",
   "metadata": {},
   "source": [
    "## Correlación"
   ]
  },
  {
   "cell_type": "markdown",
   "metadata": {},
   "source": [
    "La correlación mide exclusivamente la relación. La correlación es mucho más común debido a esta diferencia. si la correlación es menor a cero la relación entre ambas variables será negativa, si la correlación da cero da a entenderde que no hay ningún tipo de relación entre ambas variables, y si la correlación da mayor a cero, la relación entre ambas variables será positiva\n",
    "\n",
    "$$ \\rho_{x,y} = \\frac{\\text{cov}(x,y)}{\\sigma_x \\sigma_y} $$"
   ]
  },
  {
   "cell_type": "markdown",
   "metadata": {},
   "source": [
    "## Con Scipy"
   ]
  },
  {
   "cell_type": "code",
   "execution_count": null,
   "metadata": {},
   "outputs": [],
   "source": []
  },
  {
   "cell_type": "code",
   "execution_count": null,
   "metadata": {},
   "outputs": [],
   "source": []
  },
  {
   "cell_type": "markdown",
   "metadata": {},
   "source": [
    "## Metodo de Pandas"
   ]
  },
  {
   "cell_type": "code",
   "execution_count": null,
   "metadata": {},
   "outputs": [],
   "source": []
  },
  {
   "cell_type": "code",
   "execution_count": null,
   "metadata": {},
   "outputs": [],
   "source": []
  },
  {
   "cell_type": "code",
   "execution_count": null,
   "metadata": {},
   "outputs": [],
   "source": []
  }
 ],
 "metadata": {
  "kernelspec": {
   "display_name": "Python 3 (ipykernel)",
   "language": "python",
   "name": "python3"
  },
  "language_info": {
   "codemirror_mode": {
    "name": "ipython",
    "version": 3
   },
   "file_extension": ".py",
   "mimetype": "text/x-python",
   "name": "python",
   "nbconvert_exporter": "python",
   "pygments_lexer": "ipython3",
   "version": "3.9.7"
  },
  "toc": {
   "base_numbering": 1,
   "nav_menu": {},
   "number_sections": true,
   "sideBar": true,
   "skip_h1_title": false,
   "title_cell": "Table of Contents",
   "title_sidebar": "Contents",
   "toc_cell": false,
   "toc_position": {
    "height": "calc(100% - 180px)",
    "left": "10px",
    "top": "150px",
    "width": "228.2px"
   },
   "toc_section_display": true,
   "toc_window_display": false
  },
  "varInspector": {
   "cols": {
    "lenName": 16,
    "lenType": 16,
    "lenVar": 40
   },
   "kernels_config": {
    "python": {
     "delete_cmd_postfix": "",
     "delete_cmd_prefix": "del ",
     "library": "var_list.py",
     "varRefreshCmd": "print(var_dic_list())"
    },
    "r": {
     "delete_cmd_postfix": ") ",
     "delete_cmd_prefix": "rm(",
     "library": "var_list.r",
     "varRefreshCmd": "cat(var_dic_list()) "
    }
   },
   "types_to_exclude": [
    "module",
    "function",
    "builtin_function_or_method",
    "instance",
    "_Feature"
   ],
   "window_display": false
  }
 },
 "nbformat": 4,
 "nbformat_minor": 4
}
