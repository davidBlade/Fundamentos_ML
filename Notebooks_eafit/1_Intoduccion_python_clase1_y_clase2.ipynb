{
 "cells": [
  {
   "cell_type": "markdown",
   "id": "93b4e6ce",
   "metadata": {},
   "source": [
    "# Introduccion a la programacion con Python"
   ]
  },
  {
   "cell_type": "markdown",
   "id": "559f46ee",
   "metadata": {},
   "source": [
    "Python es un lenguaje de programación de alto nivel (sintaxis simple), interpretado, interactivo y orientado a objetos:\n",
    "\n",
    "* **Interpretado**: Python es procesado al momento de la ejecución por el interpretador. No se necesita de un proceso previo de compilación para la posterior ejecución del programa.\n",
    "\n",
    "* **Interactivo**: Podemos interactuar con el intérprete directamente para escribir los programas.\n",
    "\n",
    "* **Orientado a objetos**: Python es un lenguaje orientado a objetos, una técnica de programación que encapsula el código dentro de objetos.\n",
    "\n",
    "**Ejecutando código de Python**\n",
    "\n",
    "Existen diferentes maneras de ejecutar código de Python, ya sea en Visual Studio Code, siendo este uno de los editores de código mas populares y de uso libre, pero en la ciencia de datos resulta siendo más útili utilizar los Notebooks, nosotros usaremos un enfoque interactivo proporcionado por los *Notebooks de Jupyter*. "
   ]
  },
  {
   "cell_type": "code",
   "execution_count": null,
   "id": "d7c9f6c3",
   "metadata": {},
   "outputs": [],
   "source": [
    "# Sintaxis de C++\n",
    "\n",
    "int numero;\n",
    "numero = 6;"
   ]
  },
  {
   "cell_type": "code",
   "execution_count": null,
   "id": "a887a655",
   "metadata": {},
   "outputs": [],
   "source": [
    "# Sintaxis de Python\n",
    "numero = 6"
   ]
  },
  {
   "cell_type": "markdown",
   "id": "93656ee9",
   "metadata": {},
   "source": [
    "# Asignación de una Variable\n",
    "\n",
    "Python es un lenguaje que no necesita estar especificando qué tipo de variable es una u otra, a esto suele llamarsele declarar la variable, por defecto él lo interpreta, a esto se le conoce como Lenguaje de tipado dinámico. Solemos asignar una variable con el operador **=**, que NO DEBE SER CONFUNDIDO CON **==**. El primero le asigna un valor a una variable y el otro se podría entender como comparación entre 2 variables y si cumplen la igualdad. Veamos la diferencia."
   ]
  },
  {
   "cell_type": "code",
   "execution_count": null,
   "id": "f02f9b2c",
   "metadata": {
    "ExecuteTime": {
     "end_time": "2022-01-21T23:34:43.421601Z",
     "start_time": "2022-01-21T23:34:43.408639Z"
    }
   },
   "outputs": [],
   "source": [
    "numero = 89 # int\n",
    "numero_2 = 89.0 # float\n",
    "palabra_1 = \"Curso de ciencia de datos\" # str\n",
    "palabra_2 = 'Curso de ciencia de datos' # str\n",
    "booleano_1 = True # bool\n",
    "booleano_2 = False # bool"
   ]
  },
  {
   "cell_type": "markdown",
   "id": "65c0d32e",
   "metadata": {},
   "source": [
    "## Funcion Type()"
   ]
  },
  {
   "cell_type": "code",
   "execution_count": null,
   "id": "586a1bd8",
   "metadata": {
    "ExecuteTime": {
     "end_time": "2022-01-21T23:38:52.776075Z",
     "start_time": "2022-01-21T23:38:52.761119Z"
    }
   },
   "outputs": [],
   "source": [
    "type(booleano_2)\n",
    "type(palabra_2)"
   ]
  },
  {
   "cell_type": "markdown",
   "id": "2932bed8",
   "metadata": {},
   "source": [
    "## Funcion Print"
   ]
  },
  {
   "cell_type": "code",
   "execution_count": null,
   "id": "c18ba0db",
   "metadata": {
    "ExecuteTime": {
     "end_time": "2022-01-21T23:40:13.911254Z",
     "start_time": "2022-01-21T23:40:13.892305Z"
    }
   },
   "outputs": [],
   "source": [
    "print(\"Tipo de dato\", type(booleano_2))\n",
    "print(\"Tipo de dato\", type(palabra_2))"
   ]
  },
  {
   "cell_type": "code",
   "execution_count": null,
   "id": "d724bb10",
   "metadata": {
    "ExecuteTime": {
     "end_time": "2022-01-21T23:40:38.900657Z",
     "start_time": "2022-01-21T23:40:38.883702Z"
    }
   },
   "outputs": [],
   "source": [
    "print(\"Curso ciencia de datos\")"
   ]
  },
  {
   "cell_type": "markdown",
   "id": "4d2f66ff",
   "metadata": {},
   "source": [
    "# Tipos de datos en Python\n",
    "\n",
    "Existen múltiples tipos de variables para python. Es muy probable que a medida se avance no solo en el curso sino también en el diplomado se encuentren otras. Las más importantes que podemos nombrar ahora son:\n",
    "\n",
    "- Entero (int)\n",
    "- Punto flotante (float)\n",
    "- Cadena de caracteres o string (str)\n",
    "- Boleanos (bool)"
   ]
  },
  {
   "cell_type": "markdown",
   "id": "92c13cc7",
   "metadata": {},
   "source": [
    "## Enteros"
   ]
  },
  {
   "cell_type": "code",
   "execution_count": null,
   "id": "e53daa6a",
   "metadata": {
    "ExecuteTime": {
     "end_time": "2022-01-21T23:43:02.357990Z",
     "start_time": "2022-01-21T23:43:02.346077Z"
    }
   },
   "outputs": [],
   "source": [
    "x = 8\n",
    "y = 90\n",
    "z = -89\n",
    "\n",
    "type(x)"
   ]
  },
  {
   "cell_type": "markdown",
   "id": "5a49f1bb",
   "metadata": {},
   "source": [
    "## Decimales o floats"
   ]
  },
  {
   "cell_type": "code",
   "execution_count": null,
   "id": "e54cf5df",
   "metadata": {
    "ExecuteTime": {
     "end_time": "2022-01-21T23:44:12.843345Z",
     "start_time": "2022-01-21T23:44:12.823367Z"
    }
   },
   "outputs": [],
   "source": [
    "x_float = 89.99\n",
    "y_float = -66.2\n",
    "type(x_float)"
   ]
  },
  {
   "cell_type": "markdown",
   "id": "eef7ea25",
   "metadata": {
    "ExecuteTime": {
     "end_time": "2022-01-21T23:44:31.974535Z",
     "start_time": "2022-01-21T23:44:31.968554Z"
    }
   },
   "source": [
    "## Cadena de caracteres o tipo string"
   ]
  },
  {
   "cell_type": "code",
   "execution_count": null,
   "id": "b200bb0b",
   "metadata": {
    "ExecuteTime": {
     "end_time": "2022-01-21T23:48:41.618747Z",
     "start_time": "2022-01-21T23:48:41.600794Z"
    }
   },
   "outputs": [],
   "source": [
    "x_str = \"Eafit\"\n",
    "y_str = \"32341234\"\n",
    "z_str = '32341234 w0r18374102340123ejbWD@@!@!@@@@@'\n",
    "type(z_str)"
   ]
  },
  {
   "cell_type": "markdown",
   "id": "c4617854",
   "metadata": {},
   "source": [
    "## Booleanos"
   ]
  },
  {
   "cell_type": "code",
   "execution_count": null,
   "id": "8731c0c4",
   "metadata": {
    "ExecuteTime": {
     "end_time": "2022-01-21T23:54:50.635291Z",
     "start_time": "2022-01-21T23:54:50.627310Z"
    }
   },
   "outputs": [],
   "source": [
    "x_bool = True\n",
    "y_bool = False\n",
    "\n",
    "78 < 8"
   ]
  },
  {
   "cell_type": "markdown",
   "id": "9c9d274b",
   "metadata": {
    "ExecuteTime": {
     "end_time": "2022-01-21T23:55:36.238335Z",
     "start_time": "2022-01-21T23:55:36.223374Z"
    }
   },
   "source": [
    "# Palabras reservadas de Python\n",
    "\n",
    "Ahora hablemos de lo que son algunos objetos en python. Las variables.\n",
    "Los nombres de las variables en Python pueden contener caracteres alfanuméricos *a-z*, *A-Z*, *0-9* y algunos caracteres especiales como _. Los nombres de las variables deben comenzar con una letra. \n",
    "\n",
    "Por convención, los nombres de las variables comienzan con letras minúsculas, y los nombres de las Clases con letras mayúsculas.\n",
    "\n",
    "Adicionalmente, existe un número de palabras claves que no pueden ser usadas como nombres de variables. Estas palabras claves son:\n",
    "\n",
    "```Python\n",
    "and, as, assert, break, class, continue, def, del, elif, else, except, exec, finally, for, from, global, if, import, in, is, lambda, not, or, pass, print, raise, return, try, while, with, yield, type\n",
    "```\n",
    "Las palabras clave se reconocen porque todas se \"ponen\" de color verde"
   ]
  },
  {
   "cell_type": "markdown",
   "id": "e3d1f9ca",
   "metadata": {},
   "source": [
    "# Listas\n",
    "\n",
    "En esta sección se presenta uno de los tipos integrados más útiles de Python, las **listas**.\n",
    "\n",
    "Al igual que un **string**, una lista es una secuencia de valores. En un string los valores son caracteres; en una **lista**, se puede tener **cualquier tipo**. Los **valores de una lista** se denominan **elementos**.\n",
    "\n",
    "Hay varias formas de crear una nueva lista; la forma más simple es encerrar los elementos entre corchetes `[a,b,c]`:"
   ]
  },
  {
   "cell_type": "code",
   "execution_count": null,
   "id": "774a3a3e",
   "metadata": {
    "ExecuteTime": {
     "end_time": "2022-01-22T00:09:40.689042Z",
     "start_time": "2022-01-22T00:09:40.669096Z"
    }
   },
   "outputs": [],
   "source": [
    "list_1 = [123, 78.8, \"Palabra\", True]\n",
    "list_str = [\"str\", \"eafit\", \"hola\"]"
   ]
  },
  {
   "cell_type": "code",
   "execution_count": null,
   "id": "18695f75",
   "metadata": {
    "ExecuteTime": {
     "end_time": "2022-01-22T00:11:40.694712Z",
     "start_time": "2022-01-22T00:11:40.681349Z"
    }
   },
   "outputs": [],
   "source": [
    "# Lista anidada\n",
    "lista_2 = [1, 2, 3, 4, [\"hola\", \"python\", [True, [False]]]]"
   ]
  },
  {
   "cell_type": "code",
   "execution_count": null,
   "id": "7ff00b23",
   "metadata": {
    "ExecuteTime": {
     "end_time": "2022-01-22T00:12:34.668338Z",
     "start_time": "2022-01-22T00:12:34.654214Z"
    }
   },
   "outputs": [],
   "source": [
    "lista_3 = list([1,2,3,4])\n",
    "lista_3"
   ]
  },
  {
   "cell_type": "code",
   "execution_count": null,
   "id": "407263d2",
   "metadata": {
    "ExecuteTime": {
     "end_time": "2022-01-22T00:12:52.303813Z",
     "start_time": "2022-01-22T00:12:52.286682Z"
    }
   },
   "outputs": [],
   "source": [
    "lista_3 = [1,2,3,4]\n",
    "lista_3"
   ]
  },
  {
   "cell_type": "markdown",
   "id": "644afd56",
   "metadata": {},
   "source": [
    "## Acceder a los elementos de una lista\n",
    "\n",
    "Para acceder a los elementos de la lista lo hacemos mediante siguiendo la indexación \n",
    "\n",
    "`listas[0]`$\\rightarrow$ elemento 1 de la lista.\n",
    "\n",
    "`listas[1]`$\\rightarrow$ elemento 2 de la lista.\n",
    "\n",
    "`listas[2]`$\\rightarrow$ elemento 3 de la lista.\n",
    "\n",
    "`listas[3]`$\\rightarrow$ elemento 4 de la lista.\n",
    "\n",
    "Acceder a un rango determinado de datos dentro de la lista:\n",
    "\n",
    "`listas[0:3]`$\\rightarrow$ elemento 0 al elemento 3\n",
    "\n",
    "Acceder al último elemento de lista:\n",
    "\n",
    "`listas[-1]`$\\rightarrow$ elemento final de la lista"
   ]
  },
  {
   "cell_type": "code",
   "execution_count": null,
   "id": "d5ed51fa",
   "metadata": {
    "ExecuteTime": {
     "end_time": "2022-01-22T00:15:54.596442Z",
     "start_time": "2022-01-22T00:15:54.578901Z"
    }
   },
   "outputs": [],
   "source": [
    "lista_3[2]"
   ]
  },
  {
   "cell_type": "code",
   "execution_count": null,
   "id": "ea9dfec9",
   "metadata": {
    "ExecuteTime": {
     "end_time": "2022-01-22T00:18:32.699191Z",
     "start_time": "2022-01-22T00:18:32.679276Z"
    }
   },
   "outputs": [],
   "source": [
    "lista_4 = [\"Medellin\", \"Cartagena\", \"Popayan\", \"Cali\", \"Bogota\"]\n",
    "#             0             1          2          3       4\n",
    "#             -5            -4          -3          -2       -1\n",
    "lista_4[1:3]"
   ]
  },
  {
   "cell_type": "code",
   "execution_count": null,
   "id": "68af1fd1",
   "metadata": {
    "ExecuteTime": {
     "end_time": "2022-01-22T00:22:01.518880Z",
     "start_time": "2022-01-22T00:22:01.504918Z"
    }
   },
   "outputs": [],
   "source": [
    "test = lista_4[3:5]\n",
    "bogota = test[1]\n",
    "bogota"
   ]
  },
  {
   "cell_type": "code",
   "execution_count": null,
   "id": "44801333",
   "metadata": {
    "ExecuteTime": {
     "end_time": "2022-01-22T00:22:37.529871Z",
     "start_time": "2022-01-22T00:22:37.515402Z"
    }
   },
   "outputs": [],
   "source": [
    "print(lista_4[-5])\n",
    "print(lista_4[0])"
   ]
  },
  {
   "cell_type": "markdown",
   "id": "71666184",
   "metadata": {},
   "source": [
    "### Acceder a los elementos de una lista anidada"
   ]
  },
  {
   "cell_type": "code",
   "execution_count": null,
   "id": "2ecfd6f7",
   "metadata": {
    "ExecuteTime": {
     "end_time": "2022-01-22T00:23:51.311428Z",
     "start_time": "2022-01-22T00:23:51.294957Z"
    }
   },
   "outputs": [],
   "source": [
    "lista_2 = [1, 2, 3, 4, [\"hola\", \"python\", [True, [False]]]]"
   ]
  },
  {
   "cell_type": "code",
   "execution_count": null,
   "id": "6673ed25",
   "metadata": {
    "ExecuteTime": {
     "end_time": "2022-01-22T00:26:01.793447Z",
     "start_time": "2022-01-22T00:26:01.786498Z"
    }
   },
   "outputs": [],
   "source": [
    "lista_2[4][2][1][0]"
   ]
  },
  {
   "cell_type": "code",
   "execution_count": null,
   "id": "155ea0a9",
   "metadata": {
    "ExecuteTime": {
     "end_time": "2022-01-22T00:27:26.848071Z",
     "start_time": "2022-01-22T00:27:26.826322Z"
    }
   },
   "outputs": [],
   "source": [
    "lista_2[4][2][1][-1]"
   ]
  },
  {
   "cell_type": "markdown",
   "id": "2376d471",
   "metadata": {
    "ExecuteTime": {
     "end_time": "2022-01-22T00:30:52.609391Z",
     "start_time": "2022-01-22T00:30:52.602411Z"
    }
   },
   "source": [
    "## Metodos o funciones de las listas\n",
    "\n",
    "Para consultar los metodos de las listas en el siguiente link\n",
    "\n",
    "- https://docs.python.org/3/tutorial/datastructures.html"
   ]
  },
  {
   "cell_type": "markdown",
   "id": "b2fc9d99",
   "metadata": {
    "ExecuteTime": {
     "end_time": "2022-01-22T00:31:32.143806Z",
     "start_time": "2022-01-22T00:31:32.130281Z"
    }
   },
   "source": [
    "### Metodo append()"
   ]
  },
  {
   "cell_type": "code",
   "execution_count": null,
   "id": "d545833d",
   "metadata": {
    "ExecuteTime": {
     "end_time": "2022-01-22T00:36:10.936037Z",
     "start_time": "2022-01-22T00:36:10.921073Z"
    }
   },
   "outputs": [],
   "source": [
    "lista_num = [1,2,3]"
   ]
  },
  {
   "cell_type": "code",
   "execution_count": null,
   "id": "03b263df",
   "metadata": {
    "ExecuteTime": {
     "end_time": "2022-01-22T00:36:11.804651Z",
     "start_time": "2022-01-22T00:36:11.794570Z"
    }
   },
   "outputs": [],
   "source": [
    "lista_num.append(4)"
   ]
  },
  {
   "cell_type": "code",
   "execution_count": null,
   "id": "6740e918",
   "metadata": {
    "ExecuteTime": {
     "end_time": "2022-01-22T00:36:12.766332Z",
     "start_time": "2022-01-22T00:36:12.760348Z"
    }
   },
   "outputs": [],
   "source": [
    "lista_num"
   ]
  },
  {
   "cell_type": "code",
   "execution_count": null,
   "id": "ec022651",
   "metadata": {
    "ExecuteTime": {
     "end_time": "2022-01-22T00:36:14.262350Z",
     "start_time": "2022-01-22T00:36:14.248267Z"
    }
   },
   "outputs": [],
   "source": [
    "lista_num.append(\"eafit\")"
   ]
  },
  {
   "cell_type": "code",
   "execution_count": null,
   "id": "630780de",
   "metadata": {
    "ExecuteTime": {
     "end_time": "2022-01-22T00:36:15.148522Z",
     "start_time": "2022-01-22T00:36:15.135390Z"
    }
   },
   "outputs": [],
   "source": [
    "lista_num"
   ]
  },
  {
   "cell_type": "markdown",
   "id": "52abe9e2",
   "metadata": {},
   "source": [
    "### Metodo insert()"
   ]
  },
  {
   "cell_type": "code",
   "execution_count": null,
   "id": "f7ccc47f",
   "metadata": {
    "ExecuteTime": {
     "end_time": "2022-01-22T00:36:17.192268Z",
     "start_time": "2022-01-22T00:36:17.184290Z"
    }
   },
   "outputs": [],
   "source": [
    "lista_num.insert(0, \"hola\")\n",
    "lista_num"
   ]
  },
  {
   "cell_type": "markdown",
   "id": "d3349b70",
   "metadata": {
    "ExecuteTime": {
     "end_time": "2022-01-22T00:37:22.980599Z",
     "start_time": "2022-01-22T00:37:22.972428Z"
    }
   },
   "source": [
    "### Metodo sort()"
   ]
  },
  {
   "cell_type": "code",
   "execution_count": null,
   "id": "380343cf",
   "metadata": {
    "ExecuteTime": {
     "end_time": "2022-01-22T00:38:08.549610Z",
     "start_time": "2022-01-22T00:38:08.542163Z"
    }
   },
   "outputs": [],
   "source": [
    "lista_num = [1,2,3,3,4,34738, -23, -8, -1]\n",
    "lista_num.sort()\n",
    "lista_num"
   ]
  },
  {
   "cell_type": "code",
   "execution_count": null,
   "id": "463632aa",
   "metadata": {
    "ExecuteTime": {
     "end_time": "2022-01-22T00:40:04.963046Z",
     "start_time": "2022-01-22T00:40:04.952841Z"
    }
   },
   "outputs": [],
   "source": [
    "lista_test = [1, 2, 3, 4, True, False]\n",
    "lista_test.sort()\n",
    "lista_test"
   ]
  },
  {
   "cell_type": "code",
   "execution_count": null,
   "id": "e2326ae5",
   "metadata": {},
   "outputs": [],
   "source": [
    "True -> 1 # 5v\n",
    "False -> 0 # 0v"
   ]
  },
  {
   "cell_type": "markdown",
   "id": "3b4356c3",
   "metadata": {},
   "source": [
    "### Metodo remove()"
   ]
  },
  {
   "cell_type": "code",
   "execution_count": null,
   "id": "4ad7bd70",
   "metadata": {
    "ExecuteTime": {
     "end_time": "2022-01-22T00:43:21.990665Z",
     "start_time": "2022-01-22T00:43:21.985067Z"
    }
   },
   "outputs": [],
   "source": [
    "lista_4 = [\"Medellin\", \"Cartagena\", \"Popayan\", \"Cali\", \"Bogota\"]\n",
    "lista_4.remove(\"Cartagena\")\n",
    "lista_4"
   ]
  },
  {
   "cell_type": "markdown",
   "id": "d4623d72",
   "metadata": {},
   "source": [
    "### Reemplazar un valor determinado"
   ]
  },
  {
   "cell_type": "code",
   "execution_count": null,
   "id": "57709db0",
   "metadata": {
    "ExecuteTime": {
     "end_time": "2022-01-22T00:43:47.312791Z",
     "start_time": "2022-01-22T00:43:47.294805Z"
    }
   },
   "outputs": [],
   "source": [
    "## primero utilizar remove y luego append para agregar el valor\n",
    "lista_4.append(\"Santa Marta\")\n",
    "lista_4"
   ]
  },
  {
   "cell_type": "markdown",
   "id": "b5e24aa1",
   "metadata": {
    "ExecuteTime": {
     "end_time": "2022-01-22T00:44:58.688906Z",
     "start_time": "2022-01-22T00:44:58.677513Z"
    }
   },
   "source": [
    "### Metodo reverse()"
   ]
  },
  {
   "cell_type": "code",
   "execution_count": null,
   "id": "ace3ac40",
   "metadata": {
    "ExecuteTime": {
     "end_time": "2022-01-22T00:45:36.883402Z",
     "start_time": "2022-01-22T00:45:36.870436Z"
    }
   },
   "outputs": [],
   "source": [
    "lista_4.reverse()\n",
    "lista_4"
   ]
  },
  {
   "cell_type": "markdown",
   "id": "7a7a7028",
   "metadata": {
    "ExecuteTime": {
     "end_time": "2022-01-27T03:26:45.641282Z",
     "start_time": "2022-01-27T03:26:45.634922Z"
    }
   },
   "source": [
    "### Metodo len()"
   ]
  },
  {
   "cell_type": "code",
   "execution_count": 2,
   "id": "e063332f",
   "metadata": {
    "ExecuteTime": {
     "end_time": "2022-01-27T23:10:36.923801Z",
     "start_time": "2022-01-27T23:10:36.907302Z"
    }
   },
   "outputs": [
    {
     "data": {
      "text/plain": [
       "5"
      ]
     },
     "execution_count": 2,
     "metadata": {},
     "output_type": "execute_result"
    }
   ],
   "source": [
    "lista = [1, 2, 3, 4, [\"hola\", \"eafit\"]]\n",
    "len(lista)"
   ]
  },
  {
   "cell_type": "markdown",
   "id": "2b667a6b",
   "metadata": {
    "ExecuteTime": {
     "end_time": "2022-01-27T01:45:30.829138Z",
     "start_time": "2022-01-27T01:45:30.814624Z"
    }
   },
   "source": [
    "# Comparadores\n",
    "\n",
    "En python existen diferentes tipos de operadores, entre ellos podemos encontrar los operadores de comparacion o relacionales, que al ser utilizados retornarán un valor booleano, indicando si una comparación es `verdadera o falsa`, entre ellos encontramos los siguientes:\n",
    "\n",
    "|Operador|Descripción|Ejemplo|\n",
    "|-|-|-|\n",
    "|==|Evalua si los valores de los operandos sean iguales| var1 == var2|\n",
    "|!=|Evalua si los valores de los operandos sean diferentes| var1 != var2|\n",
    "|>|Evalua si el valor de operando de la izquierda es mayor que el de la derecha| var1 > var2|\n",
    "|<|Evalua si el valor de operando de la izquierda es menor que el de la derecha| var1 > var2|\n",
    "|>=|Evalua si el valor de operando de la izquierda es mayor o igual que el de la derecha| var1 >= var2|\n",
    "|<=|Evalua si el valor de operando de la izquierda es menor o igual que el de la derecha| var1 <= var2|\n"
   ]
  },
  {
   "cell_type": "markdown",
   "id": "0db85f3e",
   "metadata": {
    "ExecuteTime": {
     "end_time": "2022-01-27T01:53:21.937183Z",
     "start_time": "2022-01-27T01:53:21.931679Z"
    }
   },
   "source": [
    "## Comparacion igual que"
   ]
  },
  {
   "cell_type": "code",
   "execution_count": 7,
   "id": "57a37ce4",
   "metadata": {
    "ExecuteTime": {
     "end_time": "2022-01-27T23:13:31.016204Z",
     "start_time": "2022-01-27T23:13:31.004238Z"
    }
   },
   "outputs": [],
   "source": [
    "x = 89\n",
    "y = 77"
   ]
  },
  {
   "cell_type": "code",
   "execution_count": 11,
   "id": "40afa4da",
   "metadata": {
    "ExecuteTime": {
     "end_time": "2022-01-27T23:15:15.619710Z",
     "start_time": "2022-01-27T23:15:15.602578Z"
    }
   },
   "outputs": [
    {
     "name": "stdout",
     "output_type": "stream",
     "text": [
      "False\n",
      "True\n",
      "False\n"
     ]
    }
   ],
   "source": [
    "print(x == y)\n",
    "print(\"hola\" == \"hola\")\n",
    "print(True == False)"
   ]
  },
  {
   "cell_type": "markdown",
   "id": "95f8066e",
   "metadata": {},
   "source": [
    "## Comparacion de diferencia"
   ]
  },
  {
   "cell_type": "code",
   "execution_count": 12,
   "id": "640768fc",
   "metadata": {
    "ExecuteTime": {
     "end_time": "2022-01-27T23:16:24.700132Z",
     "start_time": "2022-01-27T23:16:24.682936Z"
    }
   },
   "outputs": [
    {
     "name": "stdout",
     "output_type": "stream",
     "text": [
      "True\n",
      "False\n"
     ]
    }
   ],
   "source": [
    "print(x != y)\n",
    "print(x != 89)"
   ]
  },
  {
   "cell_type": "markdown",
   "id": "2c001436",
   "metadata": {},
   "source": [
    "## Comparacion mayor y menor que"
   ]
  },
  {
   "cell_type": "code",
   "execution_count": 13,
   "id": "2aade3f7",
   "metadata": {
    "ExecuteTime": {
     "end_time": "2022-01-27T23:17:26.923336Z",
     "start_time": "2022-01-27T23:17:26.911369Z"
    }
   },
   "outputs": [
    {
     "name": "stdout",
     "output_type": "stream",
     "text": [
      "True\n"
     ]
    }
   ],
   "source": [
    "print(x > y)"
   ]
  },
  {
   "cell_type": "code",
   "execution_count": 14,
   "id": "f301dcbd",
   "metadata": {
    "ExecuteTime": {
     "end_time": "2022-01-27T23:17:28.901958Z",
     "start_time": "2022-01-27T23:17:28.895017Z"
    }
   },
   "outputs": [
    {
     "name": "stdout",
     "output_type": "stream",
     "text": [
      "False\n"
     ]
    }
   ],
   "source": [
    "print(x < y) "
   ]
  },
  {
   "cell_type": "markdown",
   "id": "067e20e3",
   "metadata": {},
   "source": [
    "## Comparacion mayor y menor igual que"
   ]
  },
  {
   "cell_type": "code",
   "execution_count": 18,
   "id": "c83455dd",
   "metadata": {
    "ExecuteTime": {
     "end_time": "2022-01-27T23:18:17.957575Z",
     "start_time": "2022-01-27T23:18:17.943583Z"
    }
   },
   "outputs": [
    {
     "name": "stdout",
     "output_type": "stream",
     "text": [
      "False\n"
     ]
    }
   ],
   "source": [
    "print(x >= 90)"
   ]
  },
  {
   "cell_type": "code",
   "execution_count": 20,
   "id": "ef396e03",
   "metadata": {
    "ExecuteTime": {
     "end_time": "2022-01-27T23:18:40.681589Z",
     "start_time": "2022-01-27T23:18:40.673613Z"
    }
   },
   "outputs": [
    {
     "name": "stdout",
     "output_type": "stream",
     "text": [
      "True\n"
     ]
    }
   ],
   "source": [
    "print(x <= 89)"
   ]
  },
  {
   "cell_type": "markdown",
   "id": "3287f14a",
   "metadata": {},
   "source": [
    "# Entrada por teclado metodo input()\n",
    "\n",
    "Es posible ingresar datos a traves del teclado mediante el metodo `input()`, el cual retorna un string del dato ingresado"
   ]
  },
  {
   "cell_type": "code",
   "execution_count": 21,
   "id": "0ca0cfe0",
   "metadata": {
    "ExecuteTime": {
     "end_time": "2022-01-27T23:21:25.428870Z",
     "start_time": "2022-01-27T23:21:14.481163Z"
    }
   },
   "outputs": [
    {
     "name": "stdout",
     "output_type": "stream",
     "text": [
      "Ingrese un numero: 4545352\n"
     ]
    },
    {
     "data": {
      "text/plain": [
       "'4545352'"
      ]
     },
     "execution_count": 21,
     "metadata": {},
     "output_type": "execute_result"
    }
   ],
   "source": [
    "input(\"Ingrese un numero: \")"
   ]
  },
  {
   "cell_type": "code",
   "execution_count": 22,
   "id": "f09f7836",
   "metadata": {
    "ExecuteTime": {
     "end_time": "2022-01-27T23:21:54.283489Z",
     "start_time": "2022-01-27T23:21:46.533656Z"
    }
   },
   "outputs": [
    {
     "name": "stdout",
     "output_type": "stream",
     "text": [
      "Ingrese una palabra: Ciencia de datos\n"
     ]
    },
    {
     "data": {
      "text/plain": [
       "'Ciencia de datos'"
      ]
     },
     "execution_count": 22,
     "metadata": {},
     "output_type": "execute_result"
    }
   ],
   "source": [
    "input(\"Ingrese una palabra: \")"
   ]
  },
  {
   "cell_type": "code",
   "execution_count": 23,
   "id": "e9b9ec54",
   "metadata": {
    "ExecuteTime": {
     "end_time": "2022-01-27T23:23:14.540462Z",
     "start_time": "2022-01-27T23:23:11.425071Z"
    }
   },
   "outputs": [
    {
     "name": "stdout",
     "output_type": "stream",
     "text": [
      "Ingrese un numero 1: 3\n",
      "Ingrese un numero 2: 4\n"
     ]
    },
    {
     "data": {
      "text/plain": [
       "'34'"
      ]
     },
     "execution_count": 23,
     "metadata": {},
     "output_type": "execute_result"
    }
   ],
   "source": [
    "num_1 = input(\"Ingrese un numero 1: \")\n",
    "num_2 = input(\"Ingrese un numero 2: \")\n",
    "num_1 + num_2"
   ]
  },
  {
   "cell_type": "code",
   "execution_count": 24,
   "id": "db7a64eb",
   "metadata": {
    "ExecuteTime": {
     "end_time": "2022-01-27T23:24:26.976082Z",
     "start_time": "2022-01-27T23:24:23.800576Z"
    }
   },
   "outputs": [
    {
     "name": "stdout",
     "output_type": "stream",
     "text": [
      "Ingrese un numero 1: 3\n",
      "Ingrese un numero 2: 4\n"
     ]
    },
    {
     "data": {
      "text/plain": [
       "7"
      ]
     },
     "execution_count": 24,
     "metadata": {},
     "output_type": "execute_result"
    }
   ],
   "source": [
    "num_1 = int(input(\"Ingrese un numero 1: \"))\n",
    "num_2 = int(input(\"Ingrese un numero 2: \"))\n",
    "num_1 + num_2"
   ]
  },
  {
   "cell_type": "code",
   "execution_count": 25,
   "id": "3a96c8d1",
   "metadata": {
    "ExecuteTime": {
     "end_time": "2022-01-27T23:24:47.480974Z",
     "start_time": "2022-01-27T23:24:41.937235Z"
    }
   },
   "outputs": [
    {
     "name": "stdout",
     "output_type": "stream",
     "text": [
      "Ingrese un numero 1: 2.5\n",
      "Ingrese un numero 2: 2.5\n"
     ]
    },
    {
     "data": {
      "text/plain": [
       "5.0"
      ]
     },
     "execution_count": 25,
     "metadata": {},
     "output_type": "execute_result"
    }
   ],
   "source": [
    "num_1 = float(input(\"Ingrese un numero 1: \"))\n",
    "num_2 = float(input(\"Ingrese un numero 2: \"))\n",
    "num_1 + num_2"
   ]
  },
  {
   "cell_type": "code",
   "execution_count": 26,
   "id": "5239e7b3",
   "metadata": {
    "ExecuteTime": {
     "end_time": "2022-01-27T23:25:09.137998Z",
     "start_time": "2022-01-27T23:24:59.269099Z"
    }
   },
   "outputs": [
    {
     "name": "stdout",
     "output_type": "stream",
     "text": [
      "Ingrese un numero 1: 34.9\n"
     ]
    },
    {
     "ename": "ValueError",
     "evalue": "invalid literal for int() with base 10: '34.9'",
     "output_type": "error",
     "traceback": [
      "\u001b[1;31m---------------------------------------------------------------------------\u001b[0m",
      "\u001b[1;31mValueError\u001b[0m                                Traceback (most recent call last)",
      "\u001b[1;32m~\\AppData\\Local\\Temp/ipykernel_9684/655974586.py\u001b[0m in \u001b[0;36m<module>\u001b[1;34m\u001b[0m\n\u001b[1;32m----> 1\u001b[1;33m \u001b[0mnum_1\u001b[0m \u001b[1;33m=\u001b[0m \u001b[0mint\u001b[0m\u001b[1;33m(\u001b[0m\u001b[0minput\u001b[0m\u001b[1;33m(\u001b[0m\u001b[1;34m\"Ingrese un numero 1: \"\u001b[0m\u001b[1;33m)\u001b[0m\u001b[1;33m)\u001b[0m\u001b[1;33m\u001b[0m\u001b[1;33m\u001b[0m\u001b[0m\n\u001b[0m\u001b[0;32m      2\u001b[0m \u001b[0mnum_2\u001b[0m \u001b[1;33m=\u001b[0m \u001b[0mint\u001b[0m\u001b[1;33m(\u001b[0m\u001b[0minput\u001b[0m\u001b[1;33m(\u001b[0m\u001b[1;34m\"Ingrese un numero 2: \"\u001b[0m\u001b[1;33m)\u001b[0m\u001b[1;33m)\u001b[0m\u001b[1;33m\u001b[0m\u001b[1;33m\u001b[0m\u001b[0m\n\u001b[0;32m      3\u001b[0m \u001b[0mnum_1\u001b[0m \u001b[1;33m+\u001b[0m \u001b[0mnum_2\u001b[0m\u001b[1;33m\u001b[0m\u001b[1;33m\u001b[0m\u001b[0m\n",
      "\u001b[1;31mValueError\u001b[0m: invalid literal for int() with base 10: '34.9'"
     ]
    }
   ],
   "source": [
    "## Tener cuidado con ingresar numeros decimales con el metodo int\n",
    "num_1 = int(input(\"Ingrese un numero 1: \"))\n",
    "num_2 = int(input(\"Ingrese un numero 2: \"))\n",
    "num_1 + num_2"
   ]
  },
  {
   "cell_type": "markdown",
   "id": "dd481cb1",
   "metadata": {},
   "source": [
    "# Usos del metodo print()\n",
    "\n",
    "Aunque el metodo print permite imprimir en pantalla un reusltado, valor, u operacion este tambien tiene diferrentes usos"
   ]
  },
  {
   "cell_type": "code",
   "execution_count": 28,
   "id": "cb945d6c",
   "metadata": {
    "ExecuteTime": {
     "end_time": "2022-01-27T23:28:01.927909Z",
     "start_time": "2022-01-27T23:28:01.908963Z"
    }
   },
   "outputs": [
    {
     "name": "stdout",
     "output_type": "stream",
     "text": [
      "El valor es: 89 el siguiente valor es: 893223\n"
     ]
    }
   ],
   "source": [
    "## recapitulando\n",
    "valor = 89\n",
    "valor_2 = 893223\n",
    "print(\"El valor es:\", valor, \"el siguiente valor es:\", valor_2)"
   ]
  },
  {
   "cell_type": "markdown",
   "id": "9511085e",
   "metadata": {},
   "source": [
    "## Uso de las cadenas f o f-strings\n",
    "\n",
    "Estas cadenas permiten escribir de una manera mas sencilla diferentes valores dentro de un print"
   ]
  },
  {
   "cell_type": "code",
   "execution_count": 31,
   "id": "890263b8",
   "metadata": {
    "ExecuteTime": {
     "end_time": "2022-01-27T23:29:16.302694Z",
     "start_time": "2022-01-27T23:29:16.284743Z"
    }
   },
   "outputs": [
    {
     "data": {
      "text/plain": [
       "'Hola'"
      ]
     },
     "execution_count": 31,
     "metadata": {},
     "output_type": "execute_result"
    }
   ],
   "source": [
    "f\"Hola\" # f-string"
   ]
  },
  {
   "cell_type": "code",
   "execution_count": 32,
   "id": "2808b698",
   "metadata": {
    "ExecuteTime": {
     "end_time": "2022-01-27T23:30:15.382935Z",
     "start_time": "2022-01-27T23:30:15.372603Z"
    }
   },
   "outputs": [
    {
     "name": "stdout",
     "output_type": "stream",
     "text": [
      "El valor es: 89 el siguiente valor es: 893223\n"
     ]
    }
   ],
   "source": [
    "valor = 89\n",
    "valor_2 = 893223\n",
    "print(f\"El valor es: {valor} el siguiente valor es: {valor_2}\")"
   ]
  },
  {
   "cell_type": "code",
   "execution_count": 33,
   "id": "47cfe062",
   "metadata": {
    "ExecuteTime": {
     "end_time": "2022-01-27T23:31:28.244139Z",
     "start_time": "2022-01-27T23:31:28.231745Z"
    }
   },
   "outputs": [
    {
     "name": "stdout",
     "output_type": "stream",
     "text": [
      "El valor es: 89 \n",
      "El siguiente valor es: 893223\n"
     ]
    }
   ],
   "source": [
    "valor = 89\n",
    "valor_2 = 893223\n",
    "test = f\"El valor es: {valor} \\nEl siguiente valor es: {valor_2}\"\n",
    "print(test)"
   ]
  },
  {
   "cell_type": "markdown",
   "id": "3000bfb2",
   "metadata": {},
   "source": [
    "Existen otras formas de utilizar el metodo print y dar formato a los datos que se deseen imprimir, para ello consulte en el siguiente link dichos usos:\n",
    "- Link: https://realpython.com/python-modulo-string-formatting/"
   ]
  },
  {
   "cell_type": "markdown",
   "id": "3dc28f7e",
   "metadata": {},
   "source": [
    "# Tuplas\n",
    "\n",
    "Este tipo de dato permite almacenar diferentes valores al igual que una lista, pero con la excepcion de que dichos valores almacenados no pueden modificarse, a esto se le denomina objetos inmutables\n",
    "- Para mas informacion: https://www.linkedin.com/pulse/tuplas-como-objetos-inmutables-e-celeris/?trk=organization-update-content_share-article"
   ]
  },
  {
   "cell_type": "code",
   "execution_count": 38,
   "id": "b7d48265",
   "metadata": {
    "ExecuteTime": {
     "end_time": "2022-01-27T23:35:12.781005Z",
     "start_time": "2022-01-27T23:35:12.767507Z"
    }
   },
   "outputs": [],
   "source": [
    "tupla = (1,2,3,4, \"hola\", True, [12,2,3,4])\n",
    "lista = [1,2,3,4]"
   ]
  },
  {
   "cell_type": "code",
   "execution_count": 39,
   "id": "7330ac24",
   "metadata": {
    "ExecuteTime": {
     "end_time": "2022-01-27T23:35:13.140596Z",
     "start_time": "2022-01-27T23:35:13.123643Z"
    }
   },
   "outputs": [
    {
     "data": {
      "text/plain": [
       "(1, 2, 3, 4, 'hola', True, [12, 2, 3, 4])"
      ]
     },
     "execution_count": 39,
     "metadata": {},
     "output_type": "execute_result"
    }
   ],
   "source": [
    "tupla"
   ]
  },
  {
   "cell_type": "code",
   "execution_count": 40,
   "id": "11bb2d89",
   "metadata": {
    "ExecuteTime": {
     "end_time": "2022-01-27T23:35:13.593185Z",
     "start_time": "2022-01-27T23:35:13.576260Z"
    }
   },
   "outputs": [
    {
     "data": {
      "text/plain": [
       "[1, 2, 3, 4]"
      ]
     },
     "execution_count": 40,
     "metadata": {},
     "output_type": "execute_result"
    }
   ],
   "source": [
    "lista"
   ]
  },
  {
   "cell_type": "markdown",
   "id": "a9ed02f7",
   "metadata": {},
   "source": [
    "## Algunos metodos"
   ]
  },
  {
   "cell_type": "markdown",
   "id": "1ebc4ae3",
   "metadata": {
    "ExecuteTime": {
     "end_time": "2022-01-27T03:29:13.684962Z",
     "start_time": "2022-01-27T03:29:13.671096Z"
    }
   },
   "source": [
    "### Metodo count()"
   ]
  },
  {
   "cell_type": "code",
   "execution_count": 44,
   "id": "9a624f97",
   "metadata": {
    "ExecuteTime": {
     "end_time": "2022-01-27T23:38:43.805962Z",
     "start_time": "2022-01-27T23:38:43.788734Z"
    }
   },
   "outputs": [
    {
     "data": {
      "text/plain": [
       "1"
      ]
     },
     "execution_count": 44,
     "metadata": {},
     "output_type": "execute_result"
    }
   ],
   "source": [
    "tupla = (1, 2, 3, 4, 1, 1)\n",
    "tupla.count(2)"
   ]
  },
  {
   "cell_type": "markdown",
   "id": "0c2f6c1c",
   "metadata": {
    "ExecuteTime": {
     "end_time": "2022-01-27T03:31:03.279510Z",
     "start_time": "2022-01-27T03:31:03.266655Z"
    }
   },
   "source": [
    "### Metodo index()"
   ]
  },
  {
   "cell_type": "code",
   "execution_count": 47,
   "id": "58a3c068",
   "metadata": {
    "ExecuteTime": {
     "end_time": "2022-01-27T23:39:57.315315Z",
     "start_time": "2022-01-27T23:39:57.306315Z"
    }
   },
   "outputs": [
    {
     "data": {
      "text/plain": [
       "1"
      ]
     },
     "execution_count": 47,
     "metadata": {},
     "output_type": "execute_result"
    }
   ],
   "source": [
    "tupla = (1,2,3,4,1,1)\n",
    "tupla.index(2)"
   ]
  },
  {
   "cell_type": "code",
   "execution_count": 48,
   "id": "280ffcf8",
   "metadata": {
    "ExecuteTime": {
     "end_time": "2022-01-27T23:40:19.055246Z",
     "start_time": "2022-01-27T23:40:19.040808Z"
    }
   },
   "outputs": [
    {
     "data": {
      "text/plain": [
       "0"
      ]
     },
     "execution_count": 48,
     "metadata": {},
     "output_type": "execute_result"
    }
   ],
   "source": [
    "tupla = (1, 2, 3, 4, 1, 1)\n",
    "tupla.index(1)"
   ]
  },
  {
   "cell_type": "markdown",
   "id": "58b55b87",
   "metadata": {
    "ExecuteTime": {
     "end_time": "2022-01-27T23:39:14.292530Z",
     "start_time": "2022-01-27T23:39:14.274580Z"
    }
   },
   "source": [
    "### Metodo len()"
   ]
  },
  {
   "cell_type": "code",
   "execution_count": 46,
   "id": "1f2f64bf",
   "metadata": {
    "ExecuteTime": {
     "end_time": "2022-01-27T23:39:26.602167Z",
     "start_time": "2022-01-27T23:39:26.582223Z"
    }
   },
   "outputs": [
    {
     "data": {
      "text/plain": [
       "6"
      ]
     },
     "execution_count": 46,
     "metadata": {},
     "output_type": "execute_result"
    }
   ],
   "source": [
    "len(tupla)"
   ]
  },
  {
   "cell_type": "code",
   "execution_count": 49,
   "id": "2d95e18d",
   "metadata": {
    "ExecuteTime": {
     "end_time": "2022-01-27T23:41:20.878912Z",
     "start_time": "2022-01-27T23:41:20.861376Z"
    }
   },
   "outputs": [
    {
     "data": {
      "text/plain": [
       "(1, 2, 3, 4, 1, 1)"
      ]
     },
     "execution_count": 49,
     "metadata": {},
     "output_type": "execute_result"
    }
   ],
   "source": [
    "tupla = (1, 2, 3, 4, 1, 1)\n",
    "tupla"
   ]
  },
  {
   "cell_type": "markdown",
   "id": "a08dacf7",
   "metadata": {},
   "source": [
    "## Acceder a los elementos de una tupla"
   ]
  },
  {
   "cell_type": "code",
   "execution_count": 52,
   "id": "6b18a75a",
   "metadata": {
    "ExecuteTime": {
     "end_time": "2022-01-27T23:43:29.291933Z",
     "start_time": "2022-01-27T23:43:29.282988Z"
    }
   },
   "outputs": [
    {
     "data": {
      "text/plain": [
       "(1, 2, 3, 4, 1)"
      ]
     },
     "execution_count": 52,
     "metadata": {},
     "output_type": "execute_result"
    }
   ],
   "source": [
    "tupla[0:5]"
   ]
  },
  {
   "cell_type": "code",
   "execution_count": 53,
   "id": "c772658c",
   "metadata": {
    "ExecuteTime": {
     "end_time": "2022-01-27T23:43:30.162855Z",
     "start_time": "2022-01-27T23:43:30.141912Z"
    }
   },
   "outputs": [
    {
     "data": {
      "text/plain": [
       "1"
      ]
     },
     "execution_count": 53,
     "metadata": {},
     "output_type": "execute_result"
    }
   ],
   "source": [
    "tupla[5]"
   ]
  },
  {
   "cell_type": "markdown",
   "id": "37a1b672",
   "metadata": {},
   "source": [
    "## Convertir una lista a una tupla"
   ]
  },
  {
   "cell_type": "code",
   "execution_count": 59,
   "id": "6bb22511",
   "metadata": {
    "ExecuteTime": {
     "end_time": "2022-01-27T23:45:55.455052Z",
     "start_time": "2022-01-27T23:45:55.446989Z"
    }
   },
   "outputs": [
    {
     "name": "stdout",
     "output_type": "stream",
     "text": [
      "('medellin', 'antioquia')\n"
     ]
    },
    {
     "data": {
      "text/plain": [
       "tuple"
      ]
     },
     "execution_count": 59,
     "metadata": {},
     "output_type": "execute_result"
    }
   ],
   "source": [
    "lista = [\"medellin\", \"antioquia\"]\n",
    "print(tuple(lista))\n",
    "type(tuple(lista))"
   ]
  },
  {
   "cell_type": "markdown",
   "id": "4f493846",
   "metadata": {},
   "source": [
    "## Convertir una tupla a una lista"
   ]
  },
  {
   "cell_type": "code",
   "execution_count": 60,
   "id": "dd391826",
   "metadata": {
    "ExecuteTime": {
     "end_time": "2022-01-27T23:46:14.099997Z",
     "start_time": "2022-01-27T23:46:14.081914Z"
    }
   },
   "outputs": [
    {
     "name": "stdout",
     "output_type": "stream",
     "text": [
      "['medellin', 'antioquia']\n"
     ]
    },
    {
     "data": {
      "text/plain": [
       "list"
      ]
     },
     "execution_count": 60,
     "metadata": {},
     "output_type": "execute_result"
    }
   ],
   "source": [
    "tupla = (\"medellin\", \"antioquia\")\n",
    "print(list(lista))\n",
    "type(list(tupla))"
   ]
  },
  {
   "cell_type": "markdown",
   "id": "8f6b5a14",
   "metadata": {},
   "source": [
    "# Diccionarios\n",
    "\n",
    "Los diccionarios al igual que las listas son un tipo de datos que permiten almacenar difernetes valores sin importar de que tipo de datos sean, con la diferencia que estos almacenan datos mediante una clave y un valor, o ocmo tambien se conoce con el nombre de `key:value`\n",
    "\n",
    "- Estructura basica de un diccionario:\n",
    "\n",
    "``` Python\n",
    "\n",
    "dict_values = {\n",
    "    \"key\": value,\n",
    "    \"key_2\": value,\n",
    "       .       .\n",
    "       .       .\n",
    "       .       .\n",
    "}\n",
    "\n",
    "```"
   ]
  },
  {
   "cell_type": "code",
   "execution_count": 82,
   "id": "fca7d5fb",
   "metadata": {
    "ExecuteTime": {
     "end_time": "2022-01-28T00:00:39.784257Z",
     "start_time": "2022-01-28T00:00:39.768785Z"
    }
   },
   "outputs": [
    {
     "data": {
      "text/plain": [
       "{'Antioquia': 'Medellin', 'Cundinamarca': 'Bogota', 'Meta': 'Villavicencio'}"
      ]
     },
     "execution_count": 82,
     "metadata": {},
     "output_type": "execute_result"
    }
   ],
   "source": [
    "dict_dep = {\n",
    "    \"Antioquia\": \"Medellin\",\n",
    "    \"Cundinamarca\": \"Bogota\",\n",
    "    \"Meta\": \"Villavicencio\"\n",
    "}\n",
    "\n",
    "dict_dep"
   ]
  },
  {
   "cell_type": "code",
   "execution_count": 62,
   "id": "40a74ef9",
   "metadata": {
    "ExecuteTime": {
     "end_time": "2022-01-27T23:51:03.840610Z",
     "start_time": "2022-01-27T23:51:03.823654Z"
    }
   },
   "outputs": [
    {
     "data": {
      "text/plain": [
       "dict"
      ]
     },
     "execution_count": 62,
     "metadata": {},
     "output_type": "execute_result"
    }
   ],
   "source": [
    "type(dict_dep)"
   ]
  },
  {
   "cell_type": "markdown",
   "id": "588732c7",
   "metadata": {},
   "source": [
    "## Acceder a los elementos de un diccionario\n",
    "\n",
    "Para acceder a un valor almacenado dentro de un diccionario debemos indicar la clave asocidada a un valor exacto"
   ]
  },
  {
   "cell_type": "code",
   "execution_count": 65,
   "id": "efb3bc0e",
   "metadata": {
    "ExecuteTime": {
     "end_time": "2022-01-27T23:52:14.999461Z",
     "start_time": "2022-01-27T23:52:14.993083Z"
    }
   },
   "outputs": [
    {
     "data": {
      "text/plain": [
       "'Medellin'"
      ]
     },
     "execution_count": 65,
     "metadata": {},
     "output_type": "execute_result"
    }
   ],
   "source": [
    "dict_dep[\"Antioquia\"]"
   ]
  },
  {
   "cell_type": "code",
   "execution_count": 68,
   "id": "243d0dcd",
   "metadata": {
    "ExecuteTime": {
     "end_time": "2022-01-27T23:52:41.653915Z",
     "start_time": "2022-01-27T23:52:41.644938Z"
    }
   },
   "outputs": [
    {
     "data": {
      "text/plain": [
       "'Bogota'"
      ]
     },
     "execution_count": 68,
     "metadata": {},
     "output_type": "execute_result"
    }
   ],
   "source": [
    "dict_dep[\"Cundinamarca\"]"
   ]
  },
  {
   "cell_type": "code",
   "execution_count": 69,
   "id": "5808c620",
   "metadata": {
    "ExecuteTime": {
     "end_time": "2022-01-27T23:52:55.214996Z",
     "start_time": "2022-01-27T23:52:55.202064Z"
    }
   },
   "outputs": [
    {
     "data": {
      "text/plain": [
       "'Villavicencio'"
      ]
     },
     "execution_count": 69,
     "metadata": {},
     "output_type": "execute_result"
    }
   ],
   "source": [
    "dict_dep[\"Meta\"]"
   ]
  },
  {
   "cell_type": "code",
   "execution_count": 70,
   "id": "74220211",
   "metadata": {
    "ExecuteTime": {
     "end_time": "2022-01-27T23:53:06.300281Z",
     "start_time": "2022-01-27T23:53:06.280315Z"
    }
   },
   "outputs": [
    {
     "data": {
      "text/plain": [
       "'Villavicencio'"
      ]
     },
     "execution_count": 70,
     "metadata": {},
     "output_type": "execute_result"
    }
   ],
   "source": [
    "dict_dep['Meta']"
   ]
  },
  {
   "cell_type": "code",
   "execution_count": 71,
   "id": "c57a435a",
   "metadata": {
    "ExecuteTime": {
     "end_time": "2022-01-27T23:53:47.365313Z",
     "start_time": "2022-01-27T23:53:47.351562Z"
    }
   },
   "outputs": [
    {
     "ename": "KeyError",
     "evalue": "'Medellin'",
     "output_type": "error",
     "traceback": [
      "\u001b[1;31m---------------------------------------------------------------------------\u001b[0m",
      "\u001b[1;31mKeyError\u001b[0m                                  Traceback (most recent call last)",
      "\u001b[1;32m~\\AppData\\Local\\Temp/ipykernel_9684/3841236633.py\u001b[0m in \u001b[0;36m<module>\u001b[1;34m\u001b[0m\n\u001b[1;32m----> 1\u001b[1;33m \u001b[0mdict_dep\u001b[0m\u001b[1;33m[\u001b[0m\u001b[1;34m'Medellin'\u001b[0m\u001b[1;33m]\u001b[0m\u001b[1;33m\u001b[0m\u001b[1;33m\u001b[0m\u001b[0m\n\u001b[0m",
      "\u001b[1;31mKeyError\u001b[0m: 'Medellin'"
     ]
    }
   ],
   "source": [
    "dict_dep['Medellin']"
   ]
  },
  {
   "cell_type": "markdown",
   "id": "98b77b4f",
   "metadata": {
    "ExecuteTime": {
     "end_time": "2022-01-27T03:14:18.328526Z",
     "start_time": "2022-01-27T03:14:18.322270Z"
    }
   },
   "source": [
    "## Algunos metodos"
   ]
  },
  {
   "cell_type": "markdown",
   "id": "eac15898",
   "metadata": {
    "ExecuteTime": {
     "end_time": "2022-01-27T03:15:51.232895Z",
     "start_time": "2022-01-27T03:15:51.219792Z"
    }
   },
   "source": [
    "### Metodo keys()\n",
    "\n",
    "Este metodo permite obtener las llaves asociadas a un diccionario"
   ]
  },
  {
   "cell_type": "code",
   "execution_count": 72,
   "id": "4caf25b4",
   "metadata": {
    "ExecuteTime": {
     "end_time": "2022-01-27T23:55:24.602973Z",
     "start_time": "2022-01-27T23:55:24.592999Z"
    }
   },
   "outputs": [
    {
     "data": {
      "text/plain": [
       "dict_keys(['Antioquia', 'Cundinamarca', 'Meta'])"
      ]
     },
     "execution_count": 72,
     "metadata": {},
     "output_type": "execute_result"
    }
   ],
   "source": [
    "dict_dep.keys()"
   ]
  },
  {
   "cell_type": "code",
   "execution_count": 75,
   "id": "3d0ec4d4",
   "metadata": {
    "ExecuteTime": {
     "end_time": "2022-01-27T23:56:50.986973Z",
     "start_time": "2022-01-27T23:56:50.970272Z"
    }
   },
   "outputs": [
    {
     "ename": "TypeError",
     "evalue": "'dict_keys' object is not subscriptable",
     "output_type": "error",
     "traceback": [
      "\u001b[1;31m---------------------------------------------------------------------------\u001b[0m",
      "\u001b[1;31mTypeError\u001b[0m                                 Traceback (most recent call last)",
      "\u001b[1;32m~\\AppData\\Local\\Temp/ipykernel_9684/66834971.py\u001b[0m in \u001b[0;36m<module>\u001b[1;34m\u001b[0m\n\u001b[0;32m      1\u001b[0m \u001b[0mx\u001b[0m \u001b[1;33m=\u001b[0m \u001b[0mdict_dep\u001b[0m\u001b[1;33m.\u001b[0m\u001b[0mkeys\u001b[0m\u001b[1;33m(\u001b[0m\u001b[1;33m)\u001b[0m\u001b[1;33m\u001b[0m\u001b[1;33m\u001b[0m\u001b[0m\n\u001b[1;32m----> 2\u001b[1;33m \u001b[0mx\u001b[0m\u001b[1;33m[\u001b[0m\u001b[1;36m0\u001b[0m\u001b[1;33m]\u001b[0m\u001b[1;33m\u001b[0m\u001b[1;33m\u001b[0m\u001b[0m\n\u001b[0m",
      "\u001b[1;31mTypeError\u001b[0m: 'dict_keys' object is not subscriptable"
     ]
    }
   ],
   "source": [
    "x = dict_dep.keys()\n",
    "x[0]"
   ]
  },
  {
   "cell_type": "code",
   "execution_count": 76,
   "id": "bc0f2b79",
   "metadata": {
    "ExecuteTime": {
     "end_time": "2022-01-27T23:57:34.838951Z",
     "start_time": "2022-01-27T23:57:34.830944Z"
    }
   },
   "outputs": [
    {
     "data": {
      "text/plain": [
       "['Antioquia', 'Cundinamarca', 'Meta']"
      ]
     },
     "execution_count": 76,
     "metadata": {},
     "output_type": "execute_result"
    }
   ],
   "source": [
    "list(dict_dep.keys())"
   ]
  },
  {
   "cell_type": "markdown",
   "id": "956fcc42",
   "metadata": {
    "ExecuteTime": {
     "end_time": "2022-01-27T03:20:41.790597Z",
     "start_time": "2022-01-27T03:20:41.776772Z"
    }
   },
   "source": [
    "### Metodo items()\n",
    "\n",
    "dicho metodo retorna un dict_items que tiene almacenado una lista con tuplas donde se apreciaran cada clave con su respectivo valor"
   ]
  },
  {
   "cell_type": "code",
   "execution_count": 85,
   "id": "286d1e77",
   "metadata": {
    "ExecuteTime": {
     "end_time": "2022-01-28T00:01:05.695658Z",
     "start_time": "2022-01-28T00:01:05.681697Z"
    }
   },
   "outputs": [
    {
     "data": {
      "text/plain": [
       "dict_items([('Antioquia', 'Medellin'), ('Cundinamarca', 'Bogota'), ('Meta', 'Villavicencio')])"
      ]
     },
     "execution_count": 85,
     "metadata": {},
     "output_type": "execute_result"
    }
   ],
   "source": [
    "dict_dep.items()"
   ]
  },
  {
   "cell_type": "code",
   "execution_count": 86,
   "id": "a0014b8b",
   "metadata": {
    "ExecuteTime": {
     "end_time": "2022-01-28T00:01:14.300300Z",
     "start_time": "2022-01-28T00:01:14.290325Z"
    }
   },
   "outputs": [
    {
     "data": {
      "text/plain": [
       "[('Antioquia', 'Medellin'),\n",
       " ('Cundinamarca', 'Bogota'),\n",
       " ('Meta', 'Villavicencio')]"
      ]
     },
     "execution_count": 86,
     "metadata": {},
     "output_type": "execute_result"
    }
   ],
   "source": [
    "list(dict_dep.items())"
   ]
  },
  {
   "cell_type": "markdown",
   "id": "3eba0ba5",
   "metadata": {},
   "source": [
    "## Agregar valores a un diccionario"
   ]
  },
  {
   "cell_type": "code",
   "execution_count": 92,
   "id": "01667805",
   "metadata": {
    "ExecuteTime": {
     "end_time": "2022-01-28T00:07:07.533806Z",
     "start_time": "2022-01-28T00:07:07.523822Z"
    }
   },
   "outputs": [
    {
     "data": {
      "text/plain": [
       "{'Antioquia': 'Medellin',\n",
       " 'Cundinamarca': 'Bogota',\n",
       " 'Meta': 'Villavicencio',\n",
       " 'Cauca': 'Popayan'}"
      ]
     },
     "execution_count": 92,
     "metadata": {},
     "output_type": "execute_result"
    }
   ],
   "source": [
    "dict_dep[\"Cauca\"] = \"Popayan\"\n",
    "dict_dep"
   ]
  },
  {
   "cell_type": "markdown",
   "id": "de29dd9d",
   "metadata": {},
   "source": [
    "## Elminar un elemento de un dicionario con su key:value"
   ]
  },
  {
   "cell_type": "code",
   "execution_count": 93,
   "id": "b1a4309e",
   "metadata": {
    "ExecuteTime": {
     "end_time": "2022-01-28T00:07:11.034876Z",
     "start_time": "2022-01-28T00:07:11.026294Z"
    }
   },
   "outputs": [
    {
     "data": {
      "text/plain": [
       "'Popayan'"
      ]
     },
     "execution_count": 93,
     "metadata": {},
     "output_type": "execute_result"
    }
   ],
   "source": [
    "dict_dep.pop(\"Cauca\")"
   ]
  },
  {
   "cell_type": "code",
   "execution_count": 94,
   "id": "76e354d3",
   "metadata": {
    "ExecuteTime": {
     "end_time": "2022-01-28T00:07:12.820944Z",
     "start_time": "2022-01-28T00:07:12.808869Z"
    }
   },
   "outputs": [
    {
     "data": {
      "text/plain": [
       "{'Antioquia': 'Medellin', 'Cundinamarca': 'Bogota', 'Meta': 'Villavicencio'}"
      ]
     },
     "execution_count": 94,
     "metadata": {},
     "output_type": "execute_result"
    }
   ],
   "source": [
    "dict_dep"
   ]
  },
  {
   "cell_type": "code",
   "execution_count": 95,
   "id": "7dacc91d",
   "metadata": {
    "ExecuteTime": {
     "end_time": "2022-01-28T00:08:54.003921Z",
     "start_time": "2022-01-28T00:08:53.983696Z"
    }
   },
   "outputs": [
    {
     "data": {
      "text/plain": [
       "{'Antioquia': 'Medelli', 'Cundinamarca': 'Bogota', 'Meta': 'Villavicencio'}"
      ]
     },
     "execution_count": 95,
     "metadata": {},
     "output_type": "execute_result"
    }
   ],
   "source": [
    "dict_dep = {\n",
    "    \"Antioquia\": \"Medelli\",\n",
    "    \"Cundinamarca\": \"Bogota\",\n",
    "    \"Meta\": \"Villavicencio\"\n",
    "}\n",
    "\n",
    "dict_dep"
   ]
  },
  {
   "cell_type": "markdown",
   "id": "3373945c",
   "metadata": {},
   "source": [
    "## Modificar un valor"
   ]
  },
  {
   "cell_type": "code",
   "execution_count": 96,
   "id": "711ae764",
   "metadata": {
    "ExecuteTime": {
     "end_time": "2022-01-28T00:09:14.822114Z",
     "start_time": "2022-01-28T00:09:14.808152Z"
    }
   },
   "outputs": [],
   "source": [
    "dict_dep[\"Antioquia\"] = \"Medellin\""
   ]
  },
  {
   "cell_type": "code",
   "execution_count": 97,
   "id": "2b50e3e8",
   "metadata": {
    "ExecuteTime": {
     "end_time": "2022-01-28T00:09:15.417708Z",
     "start_time": "2022-01-28T00:09:15.400748Z"
    }
   },
   "outputs": [
    {
     "data": {
      "text/plain": [
       "{'Antioquia': 'Medellin', 'Cundinamarca': 'Bogota', 'Meta': 'Villavicencio'}"
      ]
     },
     "execution_count": 97,
     "metadata": {},
     "output_type": "execute_result"
    }
   ],
   "source": [
    "dict_dep"
   ]
  },
  {
   "cell_type": "markdown",
   "id": "44a9f022",
   "metadata": {},
   "source": [
    "# Estructura if\n",
    "\n",
    "Esta es una de las estructuras mas comunes en la programacion, permiten resolve run sin fin de problemas, su mayor caracteristica es qu epermite realizar algoritmos que son capaces de tomar deciciones basadas en condicionales\n",
    "\n",
    "- Estructura basica:\n",
    "\n",
    "``` Python\n",
    "\n",
    "if <condicional>:\n",
    "    codigo\n",
    "\n",
    "```\n",
    "\n",
    "**Nota**: Cave aclarar que este tipo de estructuras dependen de algo deniminado indentacion, esto es una tabulacion que es necesaria para que el codigo que ejecuta el if pertenezca a dicha estructura, es decir:\n",
    "\n",
    "``` Python\n",
    "\n",
    "if <condicional>:\n",
    "----codigo\n",
    "\n",
    "```\n",
    "\n",
    "Las lineas punteadas representan la indentacion necesaria para que le codigo pertenezca a la estructura if"
   ]
  },
  {
   "cell_type": "code",
   "execution_count": 100,
   "id": "6ed56350",
   "metadata": {
    "ExecuteTime": {
     "end_time": "2022-01-28T00:17:00.662714Z",
     "start_time": "2022-01-28T00:17:00.655703Z"
    }
   },
   "outputs": [
    {
     "name": "stdout",
     "output_type": "stream",
     "text": [
      "EL numero mayor es el numero 2\n"
     ]
    }
   ],
   "source": [
    "num_1 = 45\n",
    "num_2 = 89\n",
    "\n",
    "if num_1 > num_2:\n",
    "    print(\"EL numero mayor es el numero 1\")\n",
    "\n",
    "if num_1 < num_2:\n",
    "    print(\"EL numero mayor es el numero 2\")      "
   ]
  },
  {
   "cell_type": "markdown",
   "id": "dd5b8557",
   "metadata": {
    "ExecuteTime": {
     "end_time": "2022-01-27T03:48:52.102169Z",
     "start_time": "2022-01-27T03:48:52.090060Z"
    }
   },
   "source": [
    "## Estructura else\n",
    "\n",
    "Esta estructura permite que al no cumplirse la condicion del `if` esta sea quien se ejecute en su lugar\n",
    "- **Nota**: Un `else` no tiene condicional explicito como el `if`"
   ]
  },
  {
   "cell_type": "code",
   "execution_count": 107,
   "id": "bf3afa70",
   "metadata": {
    "ExecuteTime": {
     "end_time": "2022-01-28T00:23:50.107880Z",
     "start_time": "2022-01-28T00:23:40.784261Z"
    }
   },
   "outputs": [
    {
     "name": "stdout",
     "output_type": "stream",
     "text": [
      "Ingrese su edad26\n"
     ]
    }
   ],
   "source": [
    "num_1 = 45\n",
    "num_2 = 89\n",
    "\n",
    "if num_1 > num_2:\n",
    "    print(\"EL numero mayor es el numero 1\")\n",
    "\n",
    "else:\n",
    "    print(\"EL numero mayor es el numero 2\")  "
   ]
  },
  {
   "cell_type": "markdown",
   "id": "d9db1723",
   "metadata": {},
   "source": [
    "## Ejemplo"
   ]
  },
  {
   "cell_type": "code",
   "execution_count": 112,
   "id": "dd3b738d",
   "metadata": {
    "ExecuteTime": {
     "end_time": "2022-01-28T00:28:50.725025Z",
     "start_time": "2022-01-28T00:28:47.861135Z"
    }
   },
   "outputs": [
    {
     "name": "stdout",
     "output_type": "stream",
     "text": [
      "Ingrese su edad: 26\n",
      "Es mayor de edad\n"
     ]
    }
   ],
   "source": [
    "edad = int(input(\"Ingrese su edad: \"))\n",
    "\n",
    "if edad < 18:\n",
    "    print(\"Es menor de edad\")\n",
    "    \n",
    "if edad > 18:\n",
    "    print(\"Es mayor de edad\")\n",
    "    \n",
    "if edad > 30:\n",
    "    print(\"Es adulto joven\")\n",
    "    \n",
    "if edad > 60:\n",
    "    print(\"Es adulto mayor\")"
   ]
  },
  {
   "cell_type": "code",
   "execution_count": 115,
   "id": "1047a495",
   "metadata": {
    "ExecuteTime": {
     "end_time": "2022-01-28T00:31:07.092650Z",
     "start_time": "2022-01-28T00:31:05.268558Z"
    }
   },
   "outputs": [
    {
     "name": "stdout",
     "output_type": "stream",
     "text": [
      "Ingrese su edad: 32\n",
      "Es adulto joven\n"
     ]
    }
   ],
   "source": [
    "edad = int(input(\"Ingrese su edad: \"))\n",
    "\n",
    "if edad < 18:\n",
    "    print(\"Es menor de edad\")\n",
    "    \n",
    "if (edad > 18) & (edad < 29):\n",
    "    print(\"Es mayor de edad\")\n",
    "    \n",
    "if edad > 30:\n",
    "    print(\"Es adulto joven\")\n",
    "    \n",
    "else:\n",
    "    print(\"Es adulto mayor\")"
   ]
  },
  {
   "cell_type": "code",
   "execution_count": 119,
   "id": "af004ab6",
   "metadata": {
    "ExecuteTime": {
     "end_time": "2022-01-28T00:33:32.430469Z",
     "start_time": "2022-01-28T00:33:27.670924Z"
    }
   },
   "outputs": [
    {
     "name": "stdout",
     "output_type": "stream",
     "text": [
      "Ingrese su edad: 70\n",
      "Es adulto joven\n"
     ]
    }
   ],
   "source": [
    "edad = int(input(\"Ingrese su edad: \"))\n",
    "\n",
    "if edad < 18:\n",
    "    print(\"Es menor de edad\")\n",
    "    \n",
    "elif (edad => 18) & (edad < 29):\n",
    "    print(\"Es mayor de edad\")\n",
    "    \n",
    "elif (edad > 29) & (edad < 59):\n",
    "    print(\"Es adulto joven\")\n",
    "    \n",
    "else:\n",
    "    print(\"Es adulto mayor\")"
   ]
  },
  {
   "cell_type": "code",
   "execution_count": 126,
   "id": "da3b70c7",
   "metadata": {
    "ExecuteTime": {
     "end_time": "2022-01-28T00:38:31.390901Z",
     "start_time": "2022-01-28T00:38:29.074834Z"
    }
   },
   "outputs": [
    {
     "name": "stdout",
     "output_type": "stream",
     "text": [
      "Ingrese su edad: 45\n",
      "Es adulto joven\n"
     ]
    }
   ],
   "source": [
    "edad = int(input(\"Ingrese su edad: \"))\n",
    "   \n",
    "if edad < 18:\n",
    "    print(\"Es menor de edad\")\n",
    "    \n",
    "elif (edad >= 18) & (edad < 29):\n",
    "    print(\"Es mayor de edad\")\n",
    "    \n",
    "elif (edad > 29) & (edad < 59):\n",
    "    print(\"Es adulto joven\")\n",
    "       \n",
    "else:\n",
    "    print(\"Es adulto mayor\")"
   ]
  },
  {
   "cell_type": "code",
   "execution_count": null,
   "id": "4c4612b8",
   "metadata": {},
   "outputs": [],
   "source": []
  }
 ],
 "metadata": {
  "kernelspec": {
   "display_name": "Python 3 (ipykernel)",
   "language": "python",
   "name": "python3"
  },
  "language_info": {
   "codemirror_mode": {
    "name": "ipython",
    "version": 3
   },
   "file_extension": ".py",
   "mimetype": "text/x-python",
   "name": "python",
   "nbconvert_exporter": "python",
   "pygments_lexer": "ipython3",
   "version": "3.9.7"
  },
  "toc": {
   "base_numbering": 1,
   "nav_menu": {},
   "number_sections": true,
   "sideBar": true,
   "skip_h1_title": false,
   "title_cell": "Table of Contents",
   "title_sidebar": "Contents",
   "toc_cell": false,
   "toc_position": {
    "height": "calc(100% - 180px)",
    "left": "10px",
    "top": "150px",
    "width": "165px"
   },
   "toc_section_display": true,
   "toc_window_display": true
  },
  "varInspector": {
   "cols": {
    "lenName": 16,
    "lenType": 16,
    "lenVar": 40
   },
   "kernels_config": {
    "python": {
     "delete_cmd_postfix": "",
     "delete_cmd_prefix": "del ",
     "library": "var_list.py",
     "varRefreshCmd": "print(var_dic_list())"
    },
    "r": {
     "delete_cmd_postfix": ") ",
     "delete_cmd_prefix": "rm(",
     "library": "var_list.r",
     "varRefreshCmd": "cat(var_dic_list()) "
    }
   },
   "types_to_exclude": [
    "module",
    "function",
    "builtin_function_or_method",
    "instance",
    "_Feature"
   ],
   "window_display": false
  }
 },
 "nbformat": 4,
 "nbformat_minor": 5
}
