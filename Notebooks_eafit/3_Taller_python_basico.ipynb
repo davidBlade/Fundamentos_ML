{
 "cells": [
  {
   "cell_type": "markdown",
   "id": "76fe7424",
   "metadata": {},
   "source": [
    "# Taller introduccion a python"
   ]
  },
  {
   "cell_type": "markdown",
   "id": "fc7c8f72",
   "metadata": {},
   "source": [
    "**1)** Hacer una funcion que permita ingresar un dato y asignarle una contraseña, ademas deberá hacer un programa que permita ingresar la contraseña, y este deberá imprimir en pantalla si dicha contraseña es correcta, y de ser así que muestre el valor almacenado de dicha contraseña"
   ]
  },
  {
   "cell_type": "markdown",
   "id": "5919636e",
   "metadata": {},
   "source": [
    "**2)** Hacer una funcion que permita ingresar un sistema de ecuaciones 2x2 y que encuentre la solucion de las dos ecuaciones, recuerde que existen diferentes métodos para resolver un sistema de ecuaciones (igualacion, reducción, sustitucion), cree una funcion para cada metodo de solucion de un sistema 2x2."
   ]
  },
  {
   "cell_type": "markdown",
   "id": "f3c67a3f",
   "metadata": {},
   "source": [
    "**3)** hacer una funcion que determine si un numero es primo o no"
   ]
  },
  {
   "cell_type": "markdown",
   "id": "85ea9d30",
   "metadata": {},
   "source": [
    "**4)** Hacer un programa que permita identificar de una lista de numeros lo siguiente:\n",
    "- Cuales son pares o impares\n",
    "- Enteros negativos \n",
    "- Enteros positivos \n",
    "- Primos o no primos\n",
    "- Cuales son neutros (valores en cero)\n",
    "- Si dichos valores son divisibles por 2\n",
    "- La suma consecutiva de toda la lista de numeros sin utilizar el metodo sum() de python"
   ]
  },
  {
   "cell_type": "markdown",
   "id": "5fcebb5c",
   "metadata": {},
   "source": [
    "**5)** Hacer un programa que permita ingresar una frase de mas de dos palabras y que determine cuantas vocales hay en la frase"
   ]
  },
  {
   "cell_type": "markdown",
   "id": "d86ffb0f",
   "metadata": {},
   "source": [
    "**6)** Hacer un programa que permita ingresar una frase cualquiera y que la retorne de la siguiente forma:\n",
    "- \"Palabra ingresada\"\n",
    "\n",
    "respuesta en pantalla: PaLaBrA InGrEsAdA"
   ]
  },
  {
   "cell_type": "markdown",
   "id": "af6c56ab",
   "metadata": {},
   "source": [
    "**7)** Una inmobiliaria de una ciudad maneja una lista de inmuebles como la siguiente:\n",
    "\n",
    "```Python\n",
    "\n",
    "[{'año': 2000, 'metros': 100, 'habitaciones': 3, 'garaje': True,  'zona': 'A'},\n",
    " {'año': 2012, 'metros': 60,  'habitaciones': 2, 'garaje': True,  'zona': 'B'},\n",
    " {'año': 1980, 'metros': 120, 'habitaciones': 4, 'garaje': False, 'zona': 'A'},\n",
    " {'año': 2005, 'metros': 75,  'habitaciones': 3, 'garaje': True,  'zona': 'B'},\n",
    " {'año': 2015, 'metros': 90,  'habitaciones': 2, 'garaje': False, 'zona': 'A'}]\n",
    "\n",
    "```\n",
    "\n",
    "Construir una función que permita hacer búsqueda de inmuebles en función de un presupuesto dado. La función recibirá como entrada la lista de inmuebles y un precio, y devolverá otra lista con los inmuebles cuyo precio sea menor o igual que el dado. Los inmuebles de la lista que se devuelva deben incorporar un nuevo par a cada diccionario con el precio del inmueble, donde el precio de un inmueble se calcula con las siguiente fórmula en función de la zona:\n",
    "\n",
    "- Zona A: precio = (metros * 1000 + habitaciones * 5000 + garaje * 15000) * (1-antiguedad/100)\n",
    "- Zona B: precio = (metros * 1000 + habitaciones * 5000 + garaje * 15000) * (1-antiguedad/100) * 1.5"
   ]
  },
  {
   "cell_type": "markdown",
   "id": "3e01887b",
   "metadata": {},
   "source": [
    "**8)** Hacer una funcion que permita crear una matriz identidad de tamaño nxm sin utilizar el metodo identity de python, recuerde que la diagonal principal de la matriz identidad está compuesta por (1) y el resto de valores son (0)\n",
    "\n",
    "```Python\n",
    "\n",
    "Matriz identidad de ejemplo:\n",
    "   \n",
    "  [[1, 0, 0],\n",
    "   [0, 1, 0],\n",
    "   [0, 0, 1]]\n",
    "\n",
    "```"
   ]
  },
  {
   "cell_type": "markdown",
   "id": "cae4e274",
   "metadata": {},
   "source": [
    "**9)** Hacer una funcion que permita crear una matriz de nxm donde sus elementos sean los numeros primos"
   ]
  },
  {
   "cell_type": "markdown",
   "id": "2317c999",
   "metadata": {},
   "source": [
    "**10)** Hacer una funcion que permita crear una matriz de nxm, donde sus elementos sean numeros aleatorios sin que dichos numeros se lleguen a repetir"
   ]
  },
  {
   "cell_type": "markdown",
   "id": "962eab73",
   "metadata": {},
   "source": [
    "**11)** Hacer una funcion que permita imprimir una matriz cuadrada de cualquier tamaño de la siguiente forma:\n",
    "\n",
    "```Python\n",
    "\n",
    "Matriz de ejemplo:\n",
    "   \n",
    "[[x       x]\n",
    " [  x   x  ]\n",
    " [    x    ]\n",
    " [  x   x  ]\n",
    " [x       x]]\n",
    "\n",
    "```"
   ]
  },
  {
   "cell_type": "code",
   "execution_count": null,
   "id": "04cea560",
   "metadata": {},
   "outputs": [],
   "source": []
  }
 ],
 "metadata": {
  "kernelspec": {
   "display_name": "myenv",
   "language": "python",
   "name": "myenv"
  },
  "language_info": {
   "codemirror_mode": {
    "name": "ipython",
    "version": 3
   },
   "file_extension": ".py",
   "mimetype": "text/x-python",
   "name": "python",
   "nbconvert_exporter": "python",
   "pygments_lexer": "ipython3",
   "version": "3.8.12"
  },
  "toc": {
   "base_numbering": 1,
   "nav_menu": {},
   "number_sections": true,
   "sideBar": true,
   "skip_h1_title": false,
   "title_cell": "Table of Contents",
   "title_sidebar": "Contents",
   "toc_cell": false,
   "toc_position": {},
   "toc_section_display": true,
   "toc_window_display": false
  },
  "varInspector": {
   "cols": {
    "lenName": 16,
    "lenType": 16,
    "lenVar": 40
   },
   "kernels_config": {
    "python": {
     "delete_cmd_postfix": "",
     "delete_cmd_prefix": "del ",
     "library": "var_list.py",
     "varRefreshCmd": "print(var_dic_list())"
    },
    "r": {
     "delete_cmd_postfix": ") ",
     "delete_cmd_prefix": "rm(",
     "library": "var_list.r",
     "varRefreshCmd": "cat(var_dic_list()) "
    }
   },
   "types_to_exclude": [
    "module",
    "function",
    "builtin_function_or_method",
    "instance",
    "_Feature"
   ],
   "window_display": false
  }
 },
 "nbformat": 4,
 "nbformat_minor": 5
}
