{
 "cells": [
  {
   "cell_type": "markdown",
   "id": "4334fa70",
   "metadata": {},
   "source": [
    "# Condicionales anidados\n",
    "\n",
    "Un condicional anidado es aquel que tiene la siguiente estructuta:\n",
    "\n",
    "```Python\n",
    "\n",
    "if <condicion>:\n",
    "    \n",
    "    if <condicion>:\n",
    "        \n",
    "        if <condicion>:\n",
    "            \n",
    "            <bloque de codigo>\n",
    "            \n",
    "        else:\n",
    "            <bloque de codigo>\n",
    "        \n",
    "                .\n",
    "                .\n",
    "                .\n",
    "    else:\n",
    "         <bloque de codigo>\n",
    "        \n",
    "```"
   ]
  },
  {
   "cell_type": "code",
   "execution_count": 20,
   "id": "1c517e83",
   "metadata": {
    "ExecuteTime": {
     "end_time": "2022-01-28T23:09:35.034059Z",
     "start_time": "2022-01-28T23:09:30.407777Z"
    }
   },
   "outputs": [
    {
     "name": "stdout",
     "output_type": "stream",
     "text": [
      "10000000\n",
      "El numero es un numero positivo\n",
      "Numero positivo mayor a 10000\n"
     ]
    }
   ],
   "source": [
    "num = int(input())\n",
    "\n",
    "if type(num) == int:\n",
    "    \n",
    "    if num >= 0:\n",
    "        print(\"El numero es un numero positivo\")\n",
    "        \n",
    "        if num >= 1000000:\n",
    "            print(\"Numero positivo mayor a 10000\")\n",
    "        \n",
    "    elif num < 0:\n",
    "        print(\"El numero es un numero negativo\")\n",
    "        \n",
    "    else:\n",
    "        print(\"el numero es neutro\")\n",
    "        \n",
    "else:\n",
    "    print(\"Ingrese un numero valido\")"
   ]
  },
  {
   "cell_type": "markdown",
   "id": "f2b8a6d0",
   "metadata": {},
   "source": [
    "# Loops, ciclos o bucles\n",
    "\n",
    "Hemos visto que un condicional es una decisión sobre una sentencia. Ahora nos ocuparemos de los ciclos. Podríamos pensar que un loop, ciclo o bucle es un bloque que se ejecuta continuamente mientras se cumpla una condición.\n",
    "\n",
    "## Iterables e iteradores\n",
    "\n",
    "Para entender al cien por cien los bucles for, y como Python fue diseñado como lenguaje de programación, es muy importante entender los conceptos de iterables e iteradores. Empecemos con un par de definiciones:\n",
    "\n",
    "- **Iterables**: son aquellos objetos que como su nombre indica pueden ser iterados, lo que dicho de otra forma es, que puedan ser indexados. Si piensas en un array (o una list en Python), podemos indexarlo con lista[1] por ejemplo, por lo que sería un iterable.\n",
    "- **Iteradores**: son objetos que hacen referencia a un elemento, y que tienen un método next que permite hacer referencia al siguiente.\n",
    "\n",
    "## For\n",
    "\n",
    "El ciclo `for` es el más usual de todos. Su uso es sencillo, se debe considerar una variable que sea iterable y mediante un iterador este recorrerá dichos valores, cuando todos los valores de la variable iterable sean recorridos el ciclo finalizará \n",
    "\n",
    "La sintaxis en Python es la siguiente:\n",
    "\n",
    "```Python\n",
    "for <iterador> in <variable iterable>:\n",
    "    <bloque de código a ejecutar>\n",
    "```\n",
    "\n"
   ]
  },
  {
   "cell_type": "code",
   "execution_count": null,
   "id": "3c34baef",
   "metadata": {},
   "outputs": [],
   "source": [
    "# Sintaxis en C++\n",
    "\n",
    "for (int i = 0; i < 10; i++){\n",
    "    printf(\"Hola\")\n",
    "}"
   ]
  },
  {
   "cell_type": "code",
   "execution_count": null,
   "id": "acc15caa",
   "metadata": {},
   "outputs": [],
   "source": [
    "# Sintaxis en C++\n",
    "\n",
    "for (int i = 0; i < 10; i++){\n",
    "    Console.WriteLine(\"mensaje\")\n",
    "}"
   ]
  },
  {
   "cell_type": "code",
   "execution_count": 22,
   "id": "4251fa05",
   "metadata": {
    "ExecuteTime": {
     "end_time": "2022-01-28T23:16:14.270487Z",
     "start_time": "2022-01-28T23:16:14.251513Z"
    }
   },
   "outputs": [
    {
     "name": "stdout",
     "output_type": "stream",
     "text": [
      "1\n",
      "2\n",
      "hola\n",
      "4\n",
      "5\n",
      "6\n"
     ]
    }
   ],
   "source": [
    "# Sintaxis de python\n",
    "\n",
    "for i in [1,2,\"hola\",4,5,6]:\n",
    "    print(i)"
   ]
  },
  {
   "cell_type": "code",
   "execution_count": 26,
   "id": "5336bb0c",
   "metadata": {
    "ExecuteTime": {
     "end_time": "2022-01-28T23:17:59.871195Z",
     "start_time": "2022-01-28T23:17:59.859254Z"
    }
   },
   "outputs": [
    {
     "name": "stdout",
     "output_type": "stream",
     "text": [
      "0\n",
      "3\n",
      "6\n",
      "9\n",
      "12\n",
      "15\n",
      "18\n",
      "21\n",
      "24\n",
      "27\n",
      "30\n",
      "33\n",
      "36\n",
      "39\n",
      "42\n",
      "45\n",
      "48\n",
      "51\n",
      "54\n",
      "57\n",
      "60\n",
      "63\n",
      "66\n",
      "69\n",
      "72\n",
      "75\n",
      "78\n",
      "81\n",
      "84\n",
      "87\n",
      "90\n",
      "93\n",
      "96\n",
      "99\n"
     ]
    }
   ],
   "source": [
    "for i in range(0, 100, 3):\n",
    "    print(i)"
   ]
  },
  {
   "cell_type": "markdown",
   "id": "86c77e0a",
   "metadata": {},
   "source": [
    "Cabe resaltar que las listas y los diccionarios son elementos que se peuden iterar dentro de un ciclo `for` como veremos a continuación:"
   ]
  },
  {
   "cell_type": "code",
   "execution_count": 28,
   "id": "1fc0a3e8",
   "metadata": {
    "ExecuteTime": {
     "end_time": "2022-01-28T23:19:18.933538Z",
     "start_time": "2022-01-28T23:19:18.922557Z"
    }
   },
   "outputs": [
    {
     "name": "stdout",
     "output_type": "stream",
     "text": [
      "20\n"
     ]
    }
   ],
   "source": [
    "for i in [20]:\n",
    "    print(i)"
   ]
  },
  {
   "cell_type": "code",
   "execution_count": 31,
   "id": "32027b3c",
   "metadata": {
    "ExecuteTime": {
     "end_time": "2022-01-28T23:20:46.693113Z",
     "start_time": "2022-01-28T23:20:46.683850Z"
    }
   },
   "outputs": [
    {
     "name": "stdout",
     "output_type": "stream",
     "text": [
      "Alumno 0\n",
      "Alumno 1\n",
      "Alumno 2\n",
      "Alumno 3\n",
      "Alumno 4\n",
      "Alumno 5\n",
      "Alumno 6\n",
      "Alumno 7\n",
      "Alumno 8\n",
      "Alumno 9\n"
     ]
    }
   ],
   "source": [
    "for j in range(0, 10):\n",
    "    print(\"Alumno \" + str(j))"
   ]
  },
  {
   "cell_type": "code",
   "execution_count": 37,
   "id": "e88c1b84",
   "metadata": {
    "ExecuteTime": {
     "end_time": "2022-01-28T23:24:05.572384Z",
     "start_time": "2022-01-28T23:24:05.549433Z"
    }
   },
   "outputs": [
    {
     "name": "stdout",
     "output_type": "stream",
     "text": [
      "Medellin: Antioquia\n",
      "Cali: Valle\n",
      "cartagena: Bolivar\n"
     ]
    }
   ],
   "source": [
    "dict_ciudades = {\n",
    "    \"Medellin\": \"Antioquia\",\n",
    "    \"Cali\": \"Valle\",\n",
    "    \"cartagena\": \"Bolivar\"\n",
    "}\n",
    "\n",
    "for key in dict_ciudades.keys():\n",
    "    print(f\"{key}: \" + dict_ciudades[key])"
   ]
  },
  {
   "cell_type": "markdown",
   "id": "2c5a39c8",
   "metadata": {
    "ExecuteTime": {
     "end_time": "2022-01-28T20:18:22.992501Z",
     "start_time": "2022-01-28T20:18:22.974370Z"
    }
   },
   "source": [
    "### Break\n",
    "\n",
    "El comando `break` sirve para cortar un ciclo y se ponde dentro de un condicional, que a su vez va en un ciclo. Veamos:"
   ]
  },
  {
   "cell_type": "code",
   "execution_count": 38,
   "id": "38b4f22d",
   "metadata": {
    "ExecuteTime": {
     "end_time": "2022-01-28T23:25:18.411897Z",
     "start_time": "2022-01-28T23:25:18.392973Z"
    }
   },
   "outputs": [
    {
     "name": "stdout",
     "output_type": "stream",
     "text": [
      "0\n",
      "1\n",
      "2\n",
      "3\n",
      "4\n",
      "5\n",
      "6\n"
     ]
    }
   ],
   "source": [
    "for i in range(0, 100):\n",
    "    print(i)\n",
    "    \n",
    "    if i == 6:\n",
    "        break"
   ]
  },
  {
   "cell_type": "markdown",
   "id": "04583f9e",
   "metadata": {},
   "source": [
    "### Continue\n",
    "\n",
    "El comando `continue` tiene un funcionamiento similar a el comando `break`. Funciona dentro de un condicional dentro de un ciclo. Dado que se cumpla la condición, entonces evitará el bloque dentro de ese loop. Veamos un ejemplo."
   ]
  },
  {
   "cell_type": "code",
   "execution_count": 43,
   "id": "83f57038",
   "metadata": {
    "ExecuteTime": {
     "end_time": "2022-01-28T23:28:18.675910Z",
     "start_time": "2022-01-28T23:28:18.661790Z"
    }
   },
   "outputs": [
    {
     "name": "stdout",
     "output_type": "stream",
     "text": [
      "0\n",
      "1\n",
      "2\n",
      "3\n",
      "4\n",
      "5\n",
      "7\n",
      "8\n",
      "9\n"
     ]
    }
   ],
   "source": [
    "for i in range(0, 10):\n",
    "\n",
    "    if i == 6:\n",
    "        continue\n",
    "    \n",
    "    print(i)"
   ]
  },
  {
   "cell_type": "markdown",
   "id": "0ba41f9c",
   "metadata": {},
   "source": [
    "### Pass\n",
    "El comando `pass` puede parecer inútil, en sí lo que indica es una operación nula, o sea que no pasa nada cuando se ejecuta, pero en realidad se utiliza cuando se requiere por sintaxis una declaración pero no se quiere ejecutar ningún comando o código. También se utiliza en lugares donde donde el código irá finalmente, pero no ha sido escrita todavía (utilizándolo como un relleno temporal, hasta que se escriba el código final)."
   ]
  },
  {
   "cell_type": "code",
   "execution_count": 47,
   "id": "9906fed1",
   "metadata": {
    "ExecuteTime": {
     "end_time": "2022-01-28T23:29:58.649352Z",
     "start_time": "2022-01-28T23:29:58.630414Z"
    }
   },
   "outputs": [
    {
     "name": "stdout",
     "output_type": "stream",
     "text": [
      "0\n",
      "1\n",
      "2\n",
      "3\n",
      "4\n",
      "5\n",
      "6\n",
      "7\n",
      "8\n",
      "9\n"
     ]
    }
   ],
   "source": [
    "for i in range(0, 10):\n",
    "\n",
    "    if i == 6:\n",
    "        pass\n",
    "    \n",
    "    print(i)"
   ]
  },
  {
   "cell_type": "code",
   "execution_count": 45,
   "id": "52d98838",
   "metadata": {
    "ExecuteTime": {
     "end_time": "2022-01-28T23:29:15.366278Z",
     "start_time": "2022-01-28T23:29:15.356865Z"
    }
   },
   "outputs": [
    {
     "name": "stdout",
     "output_type": "stream",
     "text": [
      "0\n",
      "1\n",
      "2\n",
      "3\n",
      "4\n",
      "5\n",
      "6\n",
      "7\n",
      "8\n",
      "9\n"
     ]
    }
   ],
   "source": [
    "for i in range(0, 10):\n",
    "    \n",
    "    print(i)"
   ]
  },
  {
   "cell_type": "markdown",
   "id": "040a9e09",
   "metadata": {},
   "source": [
    "### Ciclo for anidado\n",
    "\n",
    "Al igual que los condicionales tambien es posible anidadar ciclos for, esto se ahce de la siguiente forma:"
   ]
  },
  {
   "cell_type": "code",
   "execution_count": 49,
   "id": "c6936f7b",
   "metadata": {
    "ExecuteTime": {
     "end_time": "2022-01-28T23:33:05.331065Z",
     "start_time": "2022-01-28T23:33:03.428067Z"
    }
   },
   "outputs": [
    {
     "name": "stdout",
     "output_type": "stream",
     "text": [
      "Introduzca una altura10\n",
      "*\n",
      "**\n",
      "***\n",
      "****\n",
      "*****\n",
      "******\n",
      "*******\n",
      "********\n",
      "*********\n",
      "**********\n"
     ]
    }
   ],
   "source": [
    "num = int(input(\"Introduzca una altura\"))\n",
    "\n",
    "for i in range(0, num):\n",
    "    for j in range(i + 1):\n",
    "        print(\"*\", end = \"\")\n",
    "    print(\"\")"
   ]
  },
  {
   "cell_type": "markdown",
   "id": "16bc3daa",
   "metadata": {},
   "source": [
    "## While\n",
    "\n",
    "El ciclo `while` funciona con una condición, este ejecuta un bloque de código siempre y cuando la condición dada sea verdadera. En cuanto dicha condición se hace falsa, entonces el ciclo termina."
   ]
  },
  {
   "cell_type": "code",
   "execution_count": 50,
   "id": "031af45b",
   "metadata": {
    "ExecuteTime": {
     "end_time": "2022-01-28T23:37:23.512913Z",
     "start_time": "2022-01-28T23:36:58.023346Z"
    }
   },
   "outputs": [
    {
     "name": "stdout",
     "output_type": "stream",
     "text": [
      "Ingrese un numero: 20\n",
      "Ingrese un numero: 30\n",
      "Ingrese un numero: 99\n",
      "Ingrese un numero: 100\n"
     ]
    }
   ],
   "source": [
    "num = 0\n",
    "while num < 100:\n",
    "    num = int(input(\"Ingrese un numero: \"))"
   ]
  },
  {
   "cell_type": "markdown",
   "id": "b0aa5e42",
   "metadata": {},
   "source": [
    "Cabe resaltar que si las variables que estan dadas en la condicion del ciclo hacen que este en su primera validacion sea falsa le ciclo jamas se ejecutara"
   ]
  },
  {
   "cell_type": "code",
   "execution_count": 51,
   "id": "fbd769a3",
   "metadata": {
    "ExecuteTime": {
     "end_time": "2022-01-28T23:38:58.780679Z",
     "start_time": "2022-01-28T23:38:58.762749Z"
    }
   },
   "outputs": [],
   "source": [
    "num = 10000\n",
    "while num < 100:\n",
    "    num = int(input(\"Ingrese un numero: \"))"
   ]
  },
  {
   "cell_type": "markdown",
   "id": "4059ce13",
   "metadata": {
    "ExecuteTime": {
     "end_time": "2022-01-28T21:03:07.333682Z",
     "start_time": "2022-01-28T21:03:07.316694Z"
    }
   },
   "source": [
    "# Listas de comprension con ciclos for\n",
    "\n",
    "Es posible comprimir ciclos en una sola linea de codigo para llenar los valores de una lista, veamos un ejemplo"
   ]
  },
  {
   "cell_type": "code",
   "execution_count": 57,
   "id": "ba123360",
   "metadata": {
    "ExecuteTime": {
     "end_time": "2022-01-28T23:45:43.455702Z",
     "start_time": "2022-01-28T23:45:43.445573Z"
    }
   },
   "outputs": [
    {
     "name": "stdout",
     "output_type": "stream",
     "text": [
      "['E', 'a', 'f', 'i', 't']\n"
     ]
    }
   ],
   "source": [
    "lista = []\n",
    "\n",
    "for letra in \"Eafit\":\n",
    "    lista.append(letra)\n",
    "    \n",
    "print(lista)"
   ]
  },
  {
   "cell_type": "code",
   "execution_count": 56,
   "id": "cca00762",
   "metadata": {
    "ExecuteTime": {
     "end_time": "2022-01-28T23:42:39.519828Z",
     "start_time": "2022-01-28T23:42:39.511834Z"
    }
   },
   "outputs": [
    {
     "name": "stdout",
     "output_type": "stream",
     "text": [
      "['E', 'a', 'f', 'i', 't']\n"
     ]
    }
   ],
   "source": [
    "lista = [letra for letra in \"Eafit\"]\n",
    "print(lista)"
   ]
  },
  {
   "cell_type": "markdown",
   "id": "70f4c3bd",
   "metadata": {},
   "source": [
    "# Comprimir condicionales\n",
    "\n",
    "Se puede comprimir un condicional siempre y cuando este se asigne a una variable"
   ]
  },
  {
   "cell_type": "code",
   "execution_count": null,
   "id": "62b5dfa2",
   "metadata": {},
   "outputs": [],
   "source": [
    "num = int(input(\"Ingrese un numero: \"))\n",
    "j = num if num > 20 else False\n",
    "j"
   ]
  },
  {
   "cell_type": "code",
   "execution_count": 65,
   "id": "a14dd170",
   "metadata": {
    "ExecuteTime": {
     "end_time": "2022-01-28T23:51:09.094911Z",
     "start_time": "2022-01-28T23:51:04.990556Z"
    }
   },
   "outputs": [
    {
     "name": "stdout",
     "output_type": "stream",
     "text": [
      "Ingrese un numero: 23\n"
     ]
    },
    {
     "data": {
      "text/plain": [
       "'Es mayor a 20'"
      ]
     },
     "execution_count": 65,
     "metadata": {},
     "output_type": "execute_result"
    }
   ],
   "source": [
    "num = int(input(\"Ingrese un numero: \"))\n",
    "j = \"Es mayor a 20\" if num > 20 else False\n",
    "j"
   ]
  },
  {
   "cell_type": "markdown",
   "id": "5e16185b",
   "metadata": {
    "ExecuteTime": {
     "end_time": "2022-01-28T21:16:09.832723Z",
     "start_time": "2022-01-28T21:16:09.814773Z"
    }
   },
   "source": [
    "# Funciones\n",
    "\n",
    "Usualmente en el desarrollo de un código debemos usar varias veces el mismo algoritmo, no necesariamente de forma periódica. Es fácil pensar que si quiero calcular un valor estadístico que no esté predefinido por algo el lenguaje de programación, tendremos que ir haciendo `Ctrl+C` y luego `Ctrl+V` del código como tantas veces lo necesitemos por todo nuestro código. Para evitar esto existen las funciones. Con ellas es posible desarrollar de forma ordenada el código y por consiguiente más entendible.\n",
    "\n",
    "La sintaxis de una función es la siguiente:\n",
    "\n",
    "```Python\n",
    "def Nombre_de_la_funcion(arg1, arg2,...argn):\n",
    "    bloque de código\n",
    "    return valor_a_retornar #------> solo si se necesita que la funcion retorne un valor\n",
    "\n",
    "\n",
    "# si no es necesario retornar un valor se puede escrbir así:\n",
    "def nombre_funcion(arg1, arg2,...argn):\n",
    "    bloque de código                    \n",
    "```\n",
    "En general es necesario el uso de `return` al final de cada función. De esa forma la función sabe exactamente qué debe devolver. \n"
   ]
  },
  {
   "cell_type": "code",
   "execution_count": 69,
   "id": "cc1c9b2a",
   "metadata": {
    "ExecuteTime": {
     "end_time": "2022-01-29T00:01:46.142559Z",
     "start_time": "2022-01-29T00:01:46.123579Z"
    }
   },
   "outputs": [],
   "source": [
    "def suma_de_dos_numeros(num1, num2):\n",
    "    print(num1 + num2)"
   ]
  },
  {
   "cell_type": "code",
   "execution_count": 74,
   "id": "a53a67a5",
   "metadata": {
    "ExecuteTime": {
     "end_time": "2022-01-29T00:05:49.565716Z",
     "start_time": "2022-01-29T00:05:49.546766Z"
    }
   },
   "outputs": [
    {
     "name": "stdout",
     "output_type": "stream",
     "text": [
      "50\n"
     ]
    }
   ],
   "source": [
    "suma_de_dos_numeros(20, 30)"
   ]
  },
  {
   "cell_type": "code",
   "execution_count": 76,
   "id": "59ed382e",
   "metadata": {
    "ExecuteTime": {
     "end_time": "2022-01-29T00:06:42.364823Z",
     "start_time": "2022-01-29T00:06:42.358840Z"
    }
   },
   "outputs": [],
   "source": [
    "def suma_de_dos_numeros_return(num1, num2, num3, num4):\n",
    "    return num1 + num2 + num3 + num4"
   ]
  },
  {
   "cell_type": "code",
   "execution_count": 77,
   "id": "1032dc9b",
   "metadata": {
    "ExecuteTime": {
     "end_time": "2022-01-29T00:06:56.086840Z",
     "start_time": "2022-01-29T00:06:56.063902Z"
    }
   },
   "outputs": [
    {
     "ename": "TypeError",
     "evalue": "suma_de_dos_numeros_return() missing 2 required positional arguments: 'num3' and 'num4'",
     "output_type": "error",
     "traceback": [
      "\u001b[1;31m---------------------------------------------------------------------------\u001b[0m",
      "\u001b[1;31mTypeError\u001b[0m                                 Traceback (most recent call last)",
      "\u001b[1;32m~\\AppData\\Local\\Temp/ipykernel_7160/1699094424.py\u001b[0m in \u001b[0;36m<module>\u001b[1;34m\u001b[0m\n\u001b[1;32m----> 1\u001b[1;33m \u001b[0mx\u001b[0m \u001b[1;33m=\u001b[0m \u001b[0msuma_de_dos_numeros_return\u001b[0m\u001b[1;33m(\u001b[0m\u001b[1;36m2\u001b[0m\u001b[1;33m,\u001b[0m \u001b[1;36m1\u001b[0m\u001b[1;33m)\u001b[0m\u001b[1;33m\u001b[0m\u001b[1;33m\u001b[0m\u001b[0m\n\u001b[0m\u001b[0;32m      2\u001b[0m \u001b[0mx\u001b[0m\u001b[1;33m\u001b[0m\u001b[1;33m\u001b[0m\u001b[0m\n",
      "\u001b[1;31mTypeError\u001b[0m: suma_de_dos_numeros_return() missing 2 required positional arguments: 'num3' and 'num4'"
     ]
    }
   ],
   "source": [
    "x = suma_de_dos_numeros_return(2, 1)\n",
    "x"
   ]
  },
  {
   "cell_type": "code",
   "execution_count": 78,
   "id": "49f6484d",
   "metadata": {
    "ExecuteTime": {
     "end_time": "2022-01-29T00:07:39.809844Z",
     "start_time": "2022-01-29T00:07:39.804881Z"
    }
   },
   "outputs": [],
   "source": [
    "def suma_de_dos_numeros_return_v2(num1 = 0, num2 = 0, num3 = 0, num4 = 0):\n",
    "    return num1 + num2 + num3 + num4"
   ]
  },
  {
   "cell_type": "code",
   "execution_count": 80,
   "id": "3221a3f6",
   "metadata": {
    "ExecuteTime": {
     "end_time": "2022-01-29T00:11:06.994001Z",
     "start_time": "2022-01-29T00:11:06.981576Z"
    }
   },
   "outputs": [],
   "source": [
    "def suma(*args):\n",
    "    valor = 0\n",
    "    \n",
    "    for i in args:\n",
    "        valor = valor + i\n",
    "    return valor"
   ]
  },
  {
   "cell_type": "code",
   "execution_count": 82,
   "id": "87d90cca",
   "metadata": {
    "ExecuteTime": {
     "end_time": "2022-01-29T00:11:25.646398Z",
     "start_time": "2022-01-29T00:11:25.636829Z"
    }
   },
   "outputs": [
    {
     "data": {
      "text/plain": [
       "56"
      ]
     },
     "execution_count": 82,
     "metadata": {},
     "output_type": "execute_result"
    }
   ],
   "source": [
    "suma(1,2,3,3,4,5,6,8,8,8,8)"
   ]
  },
  {
   "cell_type": "markdown",
   "id": "d80b1689",
   "metadata": {
    "ExecuteTime": {
     "end_time": "2022-01-28T21:21:35.812507Z",
     "start_time": "2022-01-28T21:21:35.800303Z"
    }
   },
   "source": [
    "## Retornar mas de un valor"
   ]
  },
  {
   "cell_type": "code",
   "execution_count": 28,
   "id": "8a46ccc6",
   "metadata": {
    "ExecuteTime": {
     "end_time": "2022-01-29T18:48:16.524263Z",
     "start_time": "2022-01-29T18:48:16.515288Z"
    }
   },
   "outputs": [],
   "source": [
    "def sumar_restar(num1, num2):\n",
    "    suma = num1 + num2\n",
    "    resta = num1 - num2\n",
    "    \n",
    "    return suma, resta"
   ]
  },
  {
   "cell_type": "code",
   "execution_count": 29,
   "id": "55d5d867",
   "metadata": {
    "ExecuteTime": {
     "end_time": "2022-01-29T18:48:32.229874Z",
     "start_time": "2022-01-29T18:48:32.215921Z"
    }
   },
   "outputs": [
    {
     "data": {
      "text/plain": [
       "(7, -3)"
      ]
     },
     "execution_count": 29,
     "metadata": {},
     "output_type": "execute_result"
    }
   ],
   "source": [
    "resultado = sumar_restar(2, 5)\n",
    "resultado"
   ]
  },
  {
   "cell_type": "code",
   "execution_count": 30,
   "id": "6c76d5a1",
   "metadata": {
    "ExecuteTime": {
     "end_time": "2022-01-29T18:48:52.547516Z",
     "start_time": "2022-01-29T18:48:52.537903Z"
    }
   },
   "outputs": [
    {
     "data": {
      "text/plain": [
       "7"
      ]
     },
     "execution_count": 30,
     "metadata": {},
     "output_type": "execute_result"
    }
   ],
   "source": [
    "suma = resultado[0]\n",
    "suma"
   ]
  },
  {
   "cell_type": "code",
   "execution_count": 48,
   "id": "166d2425",
   "metadata": {
    "ExecuteTime": {
     "end_time": "2022-01-29T19:02:13.031968Z",
     "start_time": "2022-01-29T19:02:13.023934Z"
    }
   },
   "outputs": [],
   "source": [
    "def sumar_restar(num1, num2, flag = \"suma\"):\n",
    "    \n",
    "    \"\"\" docstrings en python:\n",
    "    Explicar que hace la funcion\n",
    "    \n",
    "    inputs:\n",
    "           num1 -> numero entero\n",
    "           num2 -> numero entero\n",
    "           \n",
    "    output:\n",
    "           suma si el usuario desea retornar la suma de los dos numero ingresados\n",
    "    \n",
    "    \"\"\"\n",
    "    \n",
    "    suma = num1 + num2\n",
    "    resta = num1 - num2\n",
    "    \n",
    "    if flag == \"suma\":\n",
    "        return suma\n",
    "    \n",
    "    elif flag == \"resta\":\n",
    "        return resta\n",
    "    \n",
    "    else:\n",
    "        return suma, resta"
   ]
  },
  {
   "cell_type": "code",
   "execution_count": 50,
   "id": "86d814bb",
   "metadata": {
    "ExecuteTime": {
     "end_time": "2022-01-29T19:02:24.287387Z",
     "start_time": "2022-01-29T19:02:24.269400Z"
    }
   },
   "outputs": [
    {
     "data": {
      "text/plain": [
       "13"
      ]
     },
     "execution_count": 50,
     "metadata": {},
     "output_type": "execute_result"
    }
   ],
   "source": [
    "sumar_restar(23, 10, flag = \"resta\")"
   ]
  },
  {
   "cell_type": "markdown",
   "id": "8d7b4bf3",
   "metadata": {
    "ExecuteTime": {
     "end_time": "2022-01-28T21:23:32.187996Z",
     "start_time": "2022-01-28T21:23:32.179904Z"
    }
   },
   "source": [
    "# Impotar paquetes o librerias en python\n",
    "\n",
    "Aunque `Python` por defecto puede tener miles de funcionalidades no todo esta incluido, para utilizar ciertas librerias se deberan importar o inclusi instalar, la sintaxis basica para importar un paquete en python es la siguiente:\n",
    "\n",
    "```Python\n",
    "import <nombre de la libreria>\n",
    "```"
   ]
  },
  {
   "cell_type": "code",
   "execution_count": 52,
   "id": "910b28da",
   "metadata": {
    "ExecuteTime": {
     "end_time": "2022-01-29T19:17:10.848471Z",
     "start_time": "2022-01-29T19:17:10.833499Z"
    }
   },
   "outputs": [],
   "source": [
    "import math"
   ]
  },
  {
   "cell_type": "markdown",
   "id": "df983bae",
   "metadata": {},
   "source": [
    "## Math\n",
    "\n",
    "El módulo math se suele utilizar a la hora de enunciar operaciones matemáticas algebráicas. No es convencional usar un alias para este módulo aunque puede encontrarse a veces `import math as m`.\n",
    "\n",
    "- Puede consultar mas informacion: https://docs.python.org/3/library/math.html"
   ]
  },
  {
   "cell_type": "code",
   "execution_count": 54,
   "id": "c76137e4",
   "metadata": {
    "ExecuteTime": {
     "end_time": "2022-01-29T19:19:54.612148Z",
     "start_time": "2022-01-29T19:19:54.596864Z"
    }
   },
   "outputs": [
    {
     "data": {
      "text/plain": [
       "1.5881530833912738"
      ]
     },
     "execution_count": 54,
     "metadata": {},
     "output_type": "execute_result"
    }
   ],
   "source": [
    "num = 23\n",
    "\n",
    "math.cos(num)\n",
    "math.tan(num)"
   ]
  },
  {
   "cell_type": "markdown",
   "id": "7ea41c07",
   "metadata": {},
   "source": [
    "### Funciones trigonométricas\n",
    "\n",
    "Estas funciones aceptan un argumento de tipo `float` y devuelven otro `float`. su argumento lo lee en `radianes` y corresponden a las funciones trigonométricas básicas. También existen las funciones trigonométicas inversas, las trigonométricas hiperbólicas y sus inversas.\n",
    "\n",
    "```Python\n",
    "import math\n",
    "\n",
    "math.cos(num)\n",
    "math.sin(num)\n",
    "math.tan(num)\n",
    "math.acos(num)\n",
    "math.acos(num)\n",
    "math.asin(num)\n",
    "math.atan(num)\n",
    "math.cosh(num)\n",
    "math.cosh(num)\n",
    "math.sinh(num)\n",
    "math.tanh(num)\n",
    "```"
   ]
  },
  {
   "cell_type": "markdown",
   "id": "f07599e3",
   "metadata": {},
   "source": [
    "## Utilizar from de un modulo\n",
    "\n",
    "Es posible solo llamar un metodo especifico de una libreria para evitar tener que importar todos los metosos asociados, esto contribuye a tener un codigo a priori con mayor performance en su ejecucion, esta es su sintaxis basica:\n",
    "\n",
    "```Python\n",
    "\n",
    "from <nombre de la libreria> import <metodo>\n",
    "\n",
    "```"
   ]
  },
  {
   "cell_type": "code",
   "execution_count": 58,
   "id": "8b818117",
   "metadata": {
    "ExecuteTime": {
     "end_time": "2022-01-29T19:27:23.084997Z",
     "start_time": "2022-01-29T19:27:23.068047Z"
    }
   },
   "outputs": [
    {
     "data": {
      "text/plain": [
       "4.0"
      ]
     },
     "execution_count": 58,
     "metadata": {},
     "output_type": "execute_result"
    }
   ],
   "source": [
    "import math\n",
    "math.sqrt(16)"
   ]
  },
  {
   "cell_type": "code",
   "execution_count": 61,
   "id": "868d3a0b",
   "metadata": {
    "ExecuteTime": {
     "end_time": "2022-01-29T19:28:20.339956Z",
     "start_time": "2022-01-29T19:28:20.334970Z"
    }
   },
   "outputs": [],
   "source": [
    "from math import sqrt, cos, sin, tan"
   ]
  },
  {
   "cell_type": "code",
   "execution_count": 60,
   "id": "0e81b967",
   "metadata": {
    "ExecuteTime": {
     "end_time": "2022-01-29T19:28:01.678683Z",
     "start_time": "2022-01-29T19:28:01.664686Z"
    }
   },
   "outputs": [
    {
     "data": {
      "text/plain": [
       "4.0"
      ]
     },
     "execution_count": 60,
     "metadata": {},
     "output_type": "execute_result"
    }
   ],
   "source": [
    "sqrt(16)"
   ]
  },
  {
   "cell_type": "code",
   "execution_count": 62,
   "id": "d7bbdfcf",
   "metadata": {
    "ExecuteTime": {
     "end_time": "2022-01-29T19:28:43.295986Z",
     "start_time": "2022-01-29T19:28:43.274540Z"
    }
   },
   "outputs": [
    {
     "data": {
      "text/plain": [
       "-0.5328330203333975"
      ]
     },
     "execution_count": 62,
     "metadata": {},
     "output_type": "execute_result"
    }
   ],
   "source": [
    "cos(23)"
   ]
  },
  {
   "cell_type": "markdown",
   "id": "84c6d6ad",
   "metadata": {},
   "source": [
    "## Alias de una libreria\n",
    "\n",
    "Hay nombres de librerias que pueden ser bastante largos y al ser utiliadas demasiadas veces en un codigo tiende a volver dicho cosigo menos legible a la hora de leerlo, para evitar esto podemos hacer lo siguiente\n",
    "\n",
    "```Python\n",
    "\n",
    "import <nombre de la libreria> as <nombre del alias>\n",
    "\n",
    "```"
   ]
  },
  {
   "cell_type": "code",
   "execution_count": 71,
   "id": "51efa97d",
   "metadata": {
    "ExecuteTime": {
     "end_time": "2022-01-29T19:33:31.337621Z",
     "start_time": "2022-01-29T19:33:31.328646Z"
    }
   },
   "outputs": [],
   "source": [
    "import math as m"
   ]
  },
  {
   "cell_type": "code",
   "execution_count": 72,
   "id": "a2287896",
   "metadata": {
    "ExecuteTime": {
     "end_time": "2022-01-29T19:33:31.807177Z",
     "start_time": "2022-01-29T19:33:31.789715Z"
    }
   },
   "outputs": [
    {
     "data": {
      "text/plain": [
       "-0.5328330203333975"
      ]
     },
     "execution_count": 72,
     "metadata": {},
     "output_type": "execute_result"
    }
   ],
   "source": [
    "m.cos(23)"
   ]
  },
  {
   "cell_type": "markdown",
   "id": "eb8769f1",
   "metadata": {
    "ExecuteTime": {
     "end_time": "2022-01-29T17:48:32.875277Z",
     "start_time": "2022-01-29T17:48:32.867149Z"
    }
   },
   "source": [
    "# Algunos metodos de Python"
   ]
  },
  {
   "cell_type": "markdown",
   "id": "a8695b10",
   "metadata": {},
   "source": [
    "## Metodo sum()"
   ]
  },
  {
   "cell_type": "code",
   "execution_count": 77,
   "id": "cb502aea",
   "metadata": {
    "ExecuteTime": {
     "end_time": "2022-01-29T19:36:51.729255Z",
     "start_time": "2022-01-29T19:36:51.708389Z"
    }
   },
   "outputs": [
    {
     "data": {
      "text/plain": [
       "42"
      ]
     },
     "execution_count": 77,
     "metadata": {},
     "output_type": "execute_result"
    }
   ],
   "source": [
    "var1 = [10,2,2,3,4,5,6,4]\n",
    "var2 = 10\n",
    "sum(var1, var2)"
   ]
  },
  {
   "cell_type": "markdown",
   "id": "c7f40010",
   "metadata": {},
   "source": [
    "## Metodo min()"
   ]
  },
  {
   "cell_type": "code",
   "execution_count": 78,
   "id": "dc56f0d7",
   "metadata": {
    "ExecuteTime": {
     "end_time": "2022-01-29T19:37:19.510719Z",
     "start_time": "2022-01-29T19:37:19.492768Z"
    }
   },
   "outputs": [
    {
     "data": {
      "text/plain": [
       "2"
      ]
     },
     "execution_count": 78,
     "metadata": {},
     "output_type": "execute_result"
    }
   ],
   "source": [
    "var1 = [10,2,2,3,4,5,6,3]\n",
    "min(var1)"
   ]
  },
  {
   "cell_type": "markdown",
   "id": "45340942",
   "metadata": {},
   "source": [
    "## Metodo max()"
   ]
  },
  {
   "cell_type": "code",
   "execution_count": 81,
   "id": "fdb6154e",
   "metadata": {
    "ExecuteTime": {
     "end_time": "2022-01-29T19:37:50.260326Z",
     "start_time": "2022-01-29T19:37:50.243234Z"
    }
   },
   "outputs": [
    {
     "data": {
      "text/plain": [
       "10"
      ]
     },
     "execution_count": 81,
     "metadata": {},
     "output_type": "execute_result"
    }
   ],
   "source": [
    "var1 = [10,2,2,3,4,5,6,3]\n",
    "max(var1)"
   ]
  },
  {
   "cell_type": "markdown",
   "id": "7d26ece9",
   "metadata": {},
   "source": [
    "## Metodo lower()"
   ]
  },
  {
   "cell_type": "code",
   "execution_count": 82,
   "id": "f2dcd76b",
   "metadata": {
    "ExecuteTime": {
     "end_time": "2022-01-29T19:38:32.526888Z",
     "start_time": "2022-01-29T19:38:32.517910Z"
    }
   },
   "outputs": [
    {
     "data": {
      "text/plain": [
       "'eafit'"
      ]
     },
     "execution_count": 82,
     "metadata": {},
     "output_type": "execute_result"
    }
   ],
   "source": [
    "string = \"EAFIT\"\n",
    "string.lower()"
   ]
  },
  {
   "cell_type": "markdown",
   "id": "8e172af2",
   "metadata": {},
   "source": [
    "## Metodo capitalize()"
   ]
  },
  {
   "cell_type": "code",
   "execution_count": 84,
   "id": "0a458c6b",
   "metadata": {
    "ExecuteTime": {
     "end_time": "2022-01-29T19:40:15.685190Z",
     "start_time": "2022-01-29T19:40:15.673179Z"
    }
   },
   "outputs": [
    {
     "data": {
      "text/plain": [
       "'Curso de eafit'"
      ]
     },
     "execution_count": 84,
     "metadata": {},
     "output_type": "execute_result"
    }
   ],
   "source": [
    "string = \"curso de eafit\"\n",
    "string.capitalize()"
   ]
  },
  {
   "cell_type": "markdown",
   "id": "98c7a046",
   "metadata": {},
   "source": [
    "## Metdodo rstrip()"
   ]
  },
  {
   "cell_type": "code",
   "execution_count": 88,
   "id": "0e53cd88",
   "metadata": {
    "ExecuteTime": {
     "end_time": "2022-01-29T19:41:54.442872Z",
     "start_time": "2022-01-29T19:41:54.431901Z"
    }
   },
   "outputs": [
    {
     "data": {
      "text/plain": [
       "'Eafit Ciencia de datos'"
      ]
     },
     "execution_count": 88,
     "metadata": {},
     "output_type": "execute_result"
    }
   ],
   "source": [
    "string = \"Eafit Ciencia de datos          \"\n",
    "string.rstrip()"
   ]
  },
  {
   "cell_type": "markdown",
   "id": "4fde5e8d",
   "metadata": {},
   "source": [
    "## Metodo lstrip()"
   ]
  },
  {
   "cell_type": "code",
   "execution_count": 90,
   "id": "5e9dddb2",
   "metadata": {
    "ExecuteTime": {
     "end_time": "2022-01-29T19:42:18.086057Z",
     "start_time": "2022-01-29T19:42:18.068574Z"
    }
   },
   "outputs": [
    {
     "data": {
      "text/plain": [
       "'Eafit Ciencia de datos   '"
      ]
     },
     "execution_count": 90,
     "metadata": {},
     "output_type": "execute_result"
    }
   ],
   "source": [
    "string = \"       Eafit Ciencia de datos   \"\n",
    "string.lstrip()"
   ]
  },
  {
   "cell_type": "code",
   "execution_count": 94,
   "id": "ba129f84",
   "metadata": {
    "ExecuteTime": {
     "end_time": "2022-01-29T19:43:24.438881Z",
     "start_time": "2022-01-29T19:43:24.427816Z"
    }
   },
   "outputs": [
    {
     "data": {
      "text/plain": [
       "'Eafit ciencia de datos'"
      ]
     },
     "execution_count": 94,
     "metadata": {},
     "output_type": "execute_result"
    }
   ],
   "source": [
    "string = \"       Eafit Ciencia de Datos   \"\n",
    "string.lstrip().rstrip().lower().capitalize()"
   ]
  },
  {
   "cell_type": "markdown",
   "id": "03bfb1df",
   "metadata": {},
   "source": [
    "## Metodo replace()"
   ]
  },
  {
   "cell_type": "code",
   "execution_count": 95,
   "id": "cd7ce093",
   "metadata": {
    "ExecuteTime": {
     "end_time": "2022-01-29T19:44:16.514980Z",
     "start_time": "2022-01-29T19:44:16.500020Z"
    }
   },
   "outputs": [
    {
     "data": {
      "text/plain": [
       "'*******Eafit*Ciencia*de*Datos***'"
      ]
     },
     "execution_count": 95,
     "metadata": {},
     "output_type": "execute_result"
    }
   ],
   "source": [
    "string = \"       Eafit Ciencia de Datos   \"\n",
    "string.replace(\" \", \"*\")"
   ]
  },
  {
   "cell_type": "markdown",
   "id": "fdbbbff5",
   "metadata": {},
   "source": [
    "# Ejercicios"
   ]
  },
  {
   "cell_type": "markdown",
   "id": "97889e2e",
   "metadata": {},
   "source": [
    "1) Hacer una funcion que le pida al usuario el diametro de un circulo y calcule su area y perimetro"
   ]
  },
  {
   "cell_type": "code",
   "execution_count": null,
   "id": "5bc1f4b3",
   "metadata": {},
   "outputs": [],
   "source": [
    "# funcion\n",
    "# datos del usuario input\n",
    "# diamtro de un circulo\n",
    "# calcular area y permitero"
   ]
  },
  {
   "cell_type": "code",
   "execution_count": 96,
   "id": "f72f476d",
   "metadata": {
    "ExecuteTime": {
     "end_time": "2022-01-29T20:55:21.855660Z",
     "start_time": "2022-01-29T20:55:21.840701Z"
    }
   },
   "outputs": [],
   "source": [
    "from math import pi"
   ]
  },
  {
   "cell_type": "code",
   "execution_count": 99,
   "id": "7daa28de",
   "metadata": {
    "ExecuteTime": {
     "end_time": "2022-01-29T20:57:29.332695Z",
     "start_time": "2022-01-29T20:57:29.324800Z"
    }
   },
   "outputs": [],
   "source": [
    "def area_perimetro_circulo(diametro = 0):\n",
    "    \n",
    "    radio = diametro/2\n",
    "    area = pi*(radio**2)\n",
    "    perimetro = 2*pi*radio\n",
    "    \n",
    "    return area, perimetro"
   ]
  },
  {
   "cell_type": "code",
   "execution_count": 103,
   "id": "c588a1b5",
   "metadata": {
    "ExecuteTime": {
     "end_time": "2022-01-29T21:01:10.822629Z",
     "start_time": "2022-01-29T21:01:08.659577Z"
    }
   },
   "outputs": [
    {
     "name": "stdout",
     "output_type": "stream",
     "text": [
      "Ingrese el diametro de la circunferencia: 34\n",
      "El area del circulo es: 907.9202768874502 [u^2] \n",
      "El perimetro del circulo es: 106.81415022205297 [u]\n"
     ]
    }
   ],
   "source": [
    "diametro = float(input(\"Ingrese el diametro de la circunferencia: \"))\n",
    "area, perimetro = area_perimetro_circulo(diametro)\n",
    "print(f\"El area del circulo es: {area} [u^2] \\nEl perimetro del circulo es: {perimetro} [u]\")"
   ]
  },
  {
   "cell_type": "markdown",
   "id": "d4944eab",
   "metadata": {},
   "source": [
    "2) Hacer una funcion que elimine los espacios en blanco de una cadena de caracteres"
   ]
  },
  {
   "cell_type": "code",
   "execution_count": 109,
   "id": "6942a64f",
   "metadata": {
    "ExecuteTime": {
     "end_time": "2022-01-29T21:06:06.870584Z",
     "start_time": "2022-01-29T21:06:06.854025Z"
    }
   },
   "outputs": [],
   "source": [
    "# funcion\n",
    "# pedir un string\n",
    "# elimnar espacios en blanco\n",
    "\n",
    "def delete_whitespace(string = str):\n",
    "    string = string.replace(\" \", '')\n",
    "    return string"
   ]
  },
  {
   "cell_type": "code",
   "execution_count": 110,
   "id": "f7cf5caf",
   "metadata": {
    "ExecuteTime": {
     "end_time": "2022-01-29T21:06:10.816934Z",
     "start_time": "2022-01-29T21:06:07.723603Z"
    }
   },
   "outputs": [
    {
     "name": "stdout",
     "output_type": "stream",
     "text": [
      "Ingrese una frase con espacios en blanco: Hola Mundo\n"
     ]
    },
    {
     "data": {
      "text/plain": [
       "'HolaMundo'"
      ]
     },
     "execution_count": 110,
     "metadata": {},
     "output_type": "execute_result"
    }
   ],
   "source": [
    "word = input(\"Ingrese una frase con espacios en blanco: \")\n",
    "delete_whitespace(word)"
   ]
  },
  {
   "cell_type": "markdown",
   "id": "57d7adc4",
   "metadata": {},
   "source": [
    "3) Hacer una funcion que calcule la distancia euclideana entre dos puntos de un plano cartesiano"
   ]
  },
  {
   "cell_type": "code",
   "execution_count": 111,
   "id": "22e200bb",
   "metadata": {
    "ExecuteTime": {
     "end_time": "2022-01-29T21:12:12.518962Z",
     "start_time": "2022-01-29T21:12:12.500854Z"
    }
   },
   "outputs": [],
   "source": [
    "from math import sqrt"
   ]
  },
  {
   "cell_type": "code",
   "execution_count": 112,
   "id": "59d1aa81",
   "metadata": {
    "ExecuteTime": {
     "end_time": "2022-01-29T21:13:32.674011Z",
     "start_time": "2022-01-29T21:13:32.667852Z"
    }
   },
   "outputs": [],
   "source": [
    "def ecuclidean_distance(punto_1 = list(), punto_2 = list()):\n",
    "    \n",
    "    x1 = punto_1[0]\n",
    "    y1 = punto_1[1]\n",
    "    \n",
    "    x2 = punto_2[0]\n",
    "    y2 = punto_2[1]\n",
    "    \n",
    "    distancia = sqrt((x2-x1)**2 + (y2-y1)**2)\n",
    "    \n",
    "    return distancia"
   ]
  },
  {
   "cell_type": "code",
   "execution_count": 114,
   "id": "fa308f76",
   "metadata": {
    "ExecuteTime": {
     "end_time": "2022-01-29T21:15:41.639113Z",
     "start_time": "2022-01-29T21:15:41.625175Z"
    }
   },
   "outputs": [
    {
     "data": {
      "text/plain": [
       "8.54400374531753"
      ]
     },
     "execution_count": 114,
     "metadata": {},
     "output_type": "execute_result"
    }
   ],
   "source": [
    "punto_1 = [2, 2]\n",
    "punto_2 = [-6, 5]\n",
    "\n",
    "ecuclidean_distance(punto_1, punto_2)"
   ]
  },
  {
   "cell_type": "markdown",
   "id": "b54be7ab",
   "metadata": {},
   "source": [
    "4) Hacer una funcion que calcule la hipotenusa de un triangulo rectangulo, para ello pida al usuario los lados del triangulo"
   ]
  },
  {
   "cell_type": "code",
   "execution_count": 115,
   "id": "216eb230",
   "metadata": {
    "ExecuteTime": {
     "end_time": "2022-01-29T21:18:21.917244Z",
     "start_time": "2022-01-29T21:18:21.911259Z"
    }
   },
   "outputs": [],
   "source": [
    "def hiputenusa(lado_1, lado_2):\n",
    "    h = sqrt(lado_1**2 + lado_2**2)\n",
    "    return h"
   ]
  },
  {
   "cell_type": "code",
   "execution_count": 116,
   "id": "c34b4f8f",
   "metadata": {
    "ExecuteTime": {
     "end_time": "2022-01-29T21:18:39.439386Z",
     "start_time": "2022-01-29T21:18:39.426421Z"
    }
   },
   "outputs": [
    {
     "data": {
      "text/plain": [
       "63.245553203367585"
      ]
     },
     "execution_count": 116,
     "metadata": {},
     "output_type": "execute_result"
    }
   ],
   "source": [
    "hiputenusa(lado_1 = 20, lado_2 = 60)"
   ]
  },
  {
   "cell_type": "markdown",
   "id": "edc77e5f",
   "metadata": {},
   "source": [
    "5) Hacer una funcion que sume todos los elementos de una lista sin utilizar el metodo sum de python"
   ]
  },
  {
   "cell_type": "code",
   "execution_count": 123,
   "id": "869ef41e",
   "metadata": {
    "ExecuteTime": {
     "end_time": "2022-01-29T21:23:20.699173Z",
     "start_time": "2022-01-29T21:23:20.682218Z"
    }
   },
   "outputs": [],
   "source": [
    "def suma_lista(lista):\n",
    "    acumulador = 0\n",
    "    \n",
    "    for elemento in lista:\n",
    "        acumulador = acumulador + elemento\n",
    "        #acumulador += elemento\n",
    "        \n",
    "    return acumulador"
   ]
  },
  {
   "cell_type": "code",
   "execution_count": 124,
   "id": "49107353",
   "metadata": {
    "ExecuteTime": {
     "end_time": "2022-01-29T21:23:22.471243Z",
     "start_time": "2022-01-29T21:23:22.462190Z"
    }
   },
   "outputs": [
    {
     "data": {
      "text/plain": [
       "39"
      ]
     },
     "execution_count": 124,
     "metadata": {},
     "output_type": "execute_result"
    }
   ],
   "source": [
    "suma_lista([1,2,3,10, 3,4,4,4,4,4])"
   ]
  },
  {
   "cell_type": "markdown",
   "id": "d6e7cd02",
   "metadata": {},
   "source": [
    "6) Hacer una funcion que permita encontrar en una lista si existe o no algun elemento tipo string"
   ]
  },
  {
   "cell_type": "code",
   "execution_count": 131,
   "id": "a9186cf3",
   "metadata": {
    "ExecuteTime": {
     "end_time": "2022-01-29T21:27:21.100940Z",
     "start_time": "2022-01-29T21:27:21.091898Z"
    }
   },
   "outputs": [],
   "source": [
    "def search_string(lista = list()):\n",
    "    flag = False\n",
    "    for elemento in lista:\n",
    "        \n",
    "        if type(elemento) == str:\n",
    "            flag = True\n",
    "    return flag"
   ]
  },
  {
   "cell_type": "code",
   "execution_count": 133,
   "id": "f6c1e788",
   "metadata": {
    "ExecuteTime": {
     "end_time": "2022-01-29T21:27:28.308965Z",
     "start_time": "2022-01-29T21:27:28.289979Z"
    }
   },
   "outputs": [
    {
     "data": {
      "text/plain": [
       "False"
      ]
     },
     "execution_count": 133,
     "metadata": {},
     "output_type": "execute_result"
    }
   ],
   "source": [
    "search_string(lista = [1, 2, 3, 4])"
   ]
  },
  {
   "cell_type": "markdown",
   "id": "ffc8692a",
   "metadata": {},
   "source": [
    "7) Hacer una funcion que calcule si un numero es par o impar, para ello consulte sobre el operador modulo `(%)` en python"
   ]
  },
  {
   "cell_type": "code",
   "execution_count": 134,
   "id": "68451815",
   "metadata": {
    "ExecuteTime": {
     "end_time": "2022-01-29T21:33:16.638727Z",
     "start_time": "2022-01-29T21:33:16.633707Z"
    }
   },
   "outputs": [],
   "source": [
    "def par_impar(num):\n",
    "    \n",
    "    if num%2 == 0:\n",
    "        return \"El numero es par\"\n",
    "    else:\n",
    "        return \"El numero es impar\""
   ]
  },
  {
   "cell_type": "code",
   "execution_count": 136,
   "id": "be7e60a2",
   "metadata": {
    "ExecuteTime": {
     "end_time": "2022-01-29T21:33:27.512164Z",
     "start_time": "2022-01-29T21:33:27.501191Z"
    }
   },
   "outputs": [
    {
     "data": {
      "text/plain": [
       "'El numero es impar'"
      ]
     },
     "execution_count": 136,
     "metadata": {},
     "output_type": "execute_result"
    }
   ],
   "source": [
    "par_impar(3)"
   ]
  },
  {
   "cell_type": "markdown",
   "id": "99d86e23",
   "metadata": {},
   "source": [
    "8) De la funcion anterior realizar una version 2, que reciba una lista de numeros y que imprima en pantalla para cada numero de la lista si es par o impar\n",
    "\n",
    "```Python\n",
    "\n",
    "lista = [1,2,3,4]\n",
    "\n",
    "#pantalla\n",
    "\n",
    "1 es impar\n",
    "2 es par\n",
    "3 es impar\n",
    "4 es par\n",
    "\n",
    "```"
   ]
  },
  {
   "cell_type": "markdown",
   "id": "92749182",
   "metadata": {},
   "source": [
    "9) Hacer una funcion que retorne cuantos elementos tipo str hay en la lista y que elementos son los que contienen ese tipo de dato\n",
    "\n",
    "```Python\n",
    "\n",
    "lista = [1,2,3 \"Hola\", \"eafit\"]\n",
    "\n",
    "## en pantalla\n",
    "elemento tipo str: \"Hola\", \"eafit\"\n",
    "cantidad de elementos tipo str: 2\n",
    "\n",
    "```"
   ]
  },
  {
   "cell_type": "code",
   "execution_count": null,
   "id": "fbcc309e",
   "metadata": {},
   "outputs": [],
   "source": []
  }
 ],
 "metadata": {
  "kernelspec": {
   "display_name": "myenv",
   "language": "python",
   "name": "myenv"
  },
  "language_info": {
   "codemirror_mode": {
    "name": "ipython",
    "version": 3
   },
   "file_extension": ".py",
   "mimetype": "text/x-python",
   "name": "python",
   "nbconvert_exporter": "python",
   "pygments_lexer": "ipython3",
   "version": "3.8.12"
  },
  "toc": {
   "base_numbering": 1,
   "nav_menu": {},
   "number_sections": true,
   "sideBar": true,
   "skip_h1_title": false,
   "title_cell": "Table of Contents",
   "title_sidebar": "Contents",
   "toc_cell": false,
   "toc_position": {
    "height": "calc(100% - 180px)",
    "left": "10px",
    "top": "150px",
    "width": "165px"
   },
   "toc_section_display": true,
   "toc_window_display": true
  },
  "varInspector": {
   "cols": {
    "lenName": 16,
    "lenType": 16,
    "lenVar": 40
   },
   "kernels_config": {
    "python": {
     "delete_cmd_postfix": "",
     "delete_cmd_prefix": "del ",
     "library": "var_list.py",
     "varRefreshCmd": "print(var_dic_list())"
    },
    "r": {
     "delete_cmd_postfix": ") ",
     "delete_cmd_prefix": "rm(",
     "library": "var_list.r",
     "varRefreshCmd": "cat(var_dic_list()) "
    }
   },
   "types_to_exclude": [
    "module",
    "function",
    "builtin_function_or_method",
    "instance",
    "_Feature"
   ],
   "window_display": false
  }
 },
 "nbformat": 4,
 "nbformat_minor": 5
}
