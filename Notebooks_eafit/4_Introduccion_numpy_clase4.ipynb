{
 "cells": [
  {
   "cell_type": "markdown",
   "id": "368414bf",
   "metadata": {},
   "source": [
    "# Introduccion a la programacion para la ciencia de datos\n",
    "\n",
    "La ciencia de datos permite hacer innumerables aplicaciones en su mayoría basadas en estadistica, programacion, visualizaciones y modelos que representan sistemas dinamicos, y para ello tendremos que plasmar dicha realidad en datos, y porteriormente darle un sentido matematico, a continuacion veremos el modulo `Numpy` el cual es una herramienta que nos permite hacer eso"
   ]
  },
  {
   "cell_type": "markdown",
   "id": "95997aab",
   "metadata": {},
   "source": [
    "# Modulo Numpy"
   ]
  },
  {
   "cell_type": "markdown",
   "id": "90521ca6",
   "metadata": {
    "ExecuteTime": {
     "end_time": "2022-02-03T22:24:33.689666Z",
     "start_time": "2022-02-03T22:24:33.676954Z"
    }
   },
   "source": [
    "<img src = \"./images/numpy_logo.png\" height = \"280\" width = \"280\">\n",
    "\n",
    "Numpy es un paquete fundamental para el trabajo científico en python:\n",
    "\n",
    "* Contiene Funciones, módulos, clases y cierto tipo especial de datos. \n",
    "* Permite el manejo de Arrays Multidimensionales. \n",
    "* Contiene Funciones sofisticadas y optimizadas.\n",
    "* Contiene un paquete de álgebra lineal y permite hacer cálculos estadísticos, ajustes, interpolación entre otras.\n",
    "\n",
    "\n",
    "> El tipo de dato mas importante en numpy es el **array**. El array es un tipo de dato, formado a partir de otro tipo de datos mas sencillos y que estan ordenados en una secuencia definida, en ese sentido es muy similar a una lista o tupla, pero a diferencia de estos, un array solo admite un tipo de dato.\n",
    "\n",
    "- Consultar documentación: https://numpy.org/"
   ]
  },
  {
   "cell_type": "markdown",
   "id": "3315196c",
   "metadata": {},
   "source": [
    "## Crear un array\n",
    "\n",
    "Un array puede ser creado mediante el uso de datos nativos de python (listas, tuplas,datos\n",
    "básicos) usando la función **numpy.array()**:\n",
    "\n",
    "```python\n",
    "numpy.array(object, dtype=None)\n",
    "```\n",
    "Donde podemos especificar el tipo de datos con *dtype*, el orden con *order* (esto hace referencia el modo \"C\", por filas, o \"F\", por columnas, para el diseño de memoria del arreglo. Generalmente se deja en \"K\" para que automaticamente escoja la mejor opción), la dimensión miníma puede establecerse con con *ndmin*."
   ]
  },
  {
   "cell_type": "code",
   "execution_count": 1,
   "id": "891a7b8a",
   "metadata": {
    "ExecuteTime": {
     "end_time": "2022-02-04T00:07:05.515315Z",
     "start_time": "2022-02-04T00:07:05.512291Z"
    }
   },
   "outputs": [],
   "source": [
    "#import numpy\n",
    "#import numpy as np\n",
    "from numpy import array "
   ]
  },
  {
   "cell_type": "code",
   "execution_count": null,
   "id": "fb0a8445",
   "metadata": {
    "ExecuteTime": {
     "end_time": "2022-02-03T23:37:58.719020Z",
     "start_time": "2022-02-03T23:37:58.680347Z"
    }
   },
   "outputs": [],
   "source": [
    "lista_num = [1,2,3,4,5]\n",
    "array(lista_num, dtype = int)"
   ]
  },
  {
   "cell_type": "code",
   "execution_count": null,
   "id": "3eb0b464",
   "metadata": {
    "ExecuteTime": {
     "end_time": "2022-02-03T23:38:57.297131Z",
     "start_time": "2022-02-03T23:38:57.277185Z"
    }
   },
   "outputs": [],
   "source": [
    "lista_num = [1,2,3,4,5, True, False]\n",
    "array(lista_num)"
   ]
  },
  {
   "cell_type": "code",
   "execution_count": null,
   "id": "cacfebcf",
   "metadata": {
    "ExecuteTime": {
     "end_time": "2022-02-03T23:40:51.123641Z",
     "start_time": "2022-02-03T23:40:51.116659Z"
    }
   },
   "outputs": [],
   "source": [
    "lista_num = [1,2,3,4,5, \"hola\", False]\n",
    "array(lista_num, dtype = str)"
   ]
  },
  {
   "cell_type": "markdown",
   "id": "f3dc28af",
   "metadata": {
    "ExecuteTime": {
     "end_time": "2022-02-03T22:33:01.053832Z",
     "start_time": "2022-02-03T22:33:01.042422Z"
    }
   },
   "source": [
    "## Arrays de mas de una dimension\n",
    "\n",
    "Es importante observar que lso arrays pueden tener tanto filas como columnas queramos"
   ]
  },
  {
   "cell_type": "code",
   "execution_count": null,
   "id": "cc6b39bb",
   "metadata": {
    "ExecuteTime": {
     "end_time": "2022-02-03T23:41:16.171846Z",
     "start_time": "2022-02-03T23:41:16.150387Z"
    }
   },
   "outputs": [],
   "source": [
    "lista_num = [[1,2,3,4,5]]\n",
    "array(lista_num, dtype = int)"
   ]
  },
  {
   "cell_type": "code",
   "execution_count": null,
   "id": "565b686e",
   "metadata": {
    "ExecuteTime": {
     "end_time": "2022-02-03T23:43:29.833998Z",
     "start_time": "2022-02-03T23:43:29.827014Z"
    }
   },
   "outputs": [],
   "source": [
    "lista_num = [[1,2,3,4,5], [6,7,8,9,10]]\n",
    "array_num = array(lista_num, dtype = int)\n",
    "print(array_num)"
   ]
  },
  {
   "cell_type": "code",
   "execution_count": null,
   "id": "8ad44ccf",
   "metadata": {
    "ExecuteTime": {
     "end_time": "2022-02-03T23:43:54.812746Z",
     "start_time": "2022-02-03T23:43:54.796224Z"
    }
   },
   "outputs": [],
   "source": [
    "lista_num = [[1,2,3,4,5], [6,7,8,9,10], [11,12,13,14,15]]\n",
    "array_num = array(lista_num, dtype = int)\n",
    "print(array_num)"
   ]
  },
  {
   "cell_type": "code",
   "execution_count": null,
   "id": "5f724fde",
   "metadata": {
    "ExecuteTime": {
     "end_time": "2022-02-03T23:44:57.213437Z",
     "start_time": "2022-02-03T23:44:57.194054Z"
    }
   },
   "outputs": [],
   "source": [
    "array_num = array([\n",
    "    [1, 2, 3, 4,  5], \n",
    "    [6, 7, 8, 9, 10], \n",
    "    [11,12,13,14,15]\n",
    "], dtype = int)\n",
    "\n",
    "print(array_num)"
   ]
  },
  {
   "cell_type": "markdown",
   "id": "9518d92c",
   "metadata": {
    "ExecuteTime": {
     "end_time": "2022-02-03T22:37:13.302760Z",
     "start_time": "2022-02-03T22:37:13.289634Z"
    }
   },
   "source": [
    "## Atributos de un array\n",
    "\n",
    "Los arrays pueden tener diferentes atributos, estos son algunos de los mas comunes:\n",
    "\n",
    "- `shape`, `size`, `dtype`, `nbytes`"
   ]
  },
  {
   "cell_type": "markdown",
   "id": "b024b9cf",
   "metadata": {
    "ExecuteTime": {
     "end_time": "2022-02-03T22:37:42.934739Z",
     "start_time": "2022-02-03T22:37:42.919345Z"
    }
   },
   "source": [
    "### Atributo shape"
   ]
  },
  {
   "cell_type": "code",
   "execution_count": null,
   "id": "f4cfe444",
   "metadata": {
    "ExecuteTime": {
     "end_time": "2022-02-03T23:47:39.519545Z",
     "start_time": "2022-02-03T23:47:39.502591Z"
    }
   },
   "outputs": [],
   "source": [
    "array_num.shape"
   ]
  },
  {
   "cell_type": "code",
   "execution_count": null,
   "id": "6bc74419",
   "metadata": {
    "ExecuteTime": {
     "end_time": "2022-02-03T23:48:52.118207Z",
     "start_time": "2022-02-03T23:48:52.099107Z"
    }
   },
   "outputs": [],
   "source": [
    "lista_num = [1,2,3,4,5]\n",
    "x = array(lista_num, dtype = int)\n",
    "print(x)\n",
    "x.shape"
   ]
  },
  {
   "cell_type": "markdown",
   "id": "5aa82653",
   "metadata": {},
   "source": [
    "### Atributo size"
   ]
  },
  {
   "cell_type": "code",
   "execution_count": null,
   "id": "fa296a00",
   "metadata": {
    "ExecuteTime": {
     "end_time": "2022-02-03T23:52:43.194393Z",
     "start_time": "2022-02-03T23:52:43.181428Z"
    }
   },
   "outputs": [],
   "source": [
    "array_num = array([\n",
    "    [1, 2, 3, 4,  5], \n",
    "    [6, 7, 8, 9, 10], \n",
    "    [11,12,13,14,15]\n",
    "], dtype = int)\n",
    "\n",
    "print(array_num)\n",
    "array_num.size"
   ]
  },
  {
   "cell_type": "markdown",
   "id": "33758d97",
   "metadata": {},
   "source": [
    "### Atributo dtype"
   ]
  },
  {
   "cell_type": "code",
   "execution_count": null,
   "id": "611d3d74",
   "metadata": {
    "ExecuteTime": {
     "end_time": "2022-02-03T23:52:44.863435Z",
     "start_time": "2022-02-03T23:52:44.854455Z"
    }
   },
   "outputs": [],
   "source": [
    "type(array_num)"
   ]
  },
  {
   "cell_type": "code",
   "execution_count": null,
   "id": "8129559e",
   "metadata": {
    "ExecuteTime": {
     "end_time": "2022-02-03T23:52:45.748384Z",
     "start_time": "2022-02-03T23:52:45.734531Z"
    }
   },
   "outputs": [],
   "source": [
    "array_num.dtype"
   ]
  },
  {
   "cell_type": "markdown",
   "id": "ab1cfe8a",
   "metadata": {},
   "source": [
    "### Atributo nbytes"
   ]
  },
  {
   "cell_type": "code",
   "execution_count": null,
   "id": "e2ebed63",
   "metadata": {
    "ExecuteTime": {
     "end_time": "2022-02-04T00:01:10.127648Z",
     "start_time": "2022-02-04T00:01:10.113646Z"
    }
   },
   "outputs": [],
   "source": [
    "array_num = array([\n",
    "    [1, 2, 3, 4,  5], \n",
    "    [6, 7, 8, 9, 10], \n",
    "    [11,12,13,14,15]\n",
    "], dtype = \"U8\")\n",
    "\n",
    "print(array_num)\n",
    "array_num.size"
   ]
  },
  {
   "cell_type": "code",
   "execution_count": null,
   "id": "bef79ff2",
   "metadata": {
    "ExecuteTime": {
     "end_time": "2022-02-04T00:01:12.023634Z",
     "start_time": "2022-02-04T00:01:12.015656Z"
    }
   },
   "outputs": [],
   "source": [
    "array_num.nbytes"
   ]
  },
  {
   "cell_type": "code",
   "execution_count": null,
   "id": "447bed05",
   "metadata": {
    "ExecuteTime": {
     "end_time": "2022-02-04T00:02:45.887422Z",
     "start_time": "2022-02-04T00:02:45.217368Z"
    }
   },
   "outputs": [],
   "source": [
    "from pandas import read_csv"
   ]
  },
  {
   "cell_type": "markdown",
   "id": "a0307241",
   "metadata": {},
   "source": [
    "## Algunos metodos\n",
    "\n",
    "Los métodos de un array nos permiten realizar algunas de sus funcionalidades como veremos acontinuación:"
   ]
  },
  {
   "cell_type": "markdown",
   "id": "de6cfe89",
   "metadata": {},
   "source": [
    "### Metodo transpose()"
   ]
  },
  {
   "cell_type": "code",
   "execution_count": 2,
   "id": "317d4e93",
   "metadata": {
    "ExecuteTime": {
     "end_time": "2022-02-04T00:07:21.118634Z",
     "start_time": "2022-02-04T00:07:21.100545Z"
    }
   },
   "outputs": [
    {
     "name": "stdout",
     "output_type": "stream",
     "text": [
      "[[ 1  2  3  4  5]\n",
      " [ 6  7  8  9 10]\n",
      " [11 12 13 14 15]]\n"
     ]
    }
   ],
   "source": [
    "array_num = array([\n",
    "    [1, 2, 3, 4,  5], \n",
    "    [6, 7, 8, 9, 10], \n",
    "    [11,12,13,14,15]\n",
    "], dtype = int)\n",
    "print(array_num)"
   ]
  },
  {
   "cell_type": "code",
   "execution_count": 4,
   "id": "81ec8c02",
   "metadata": {
    "ExecuteTime": {
     "end_time": "2022-02-04T00:07:55.959122Z",
     "start_time": "2022-02-04T00:07:55.941072Z"
    }
   },
   "outputs": [
    {
     "name": "stdout",
     "output_type": "stream",
     "text": [
      "[[ 1  6 11]\n",
      " [ 2  7 12]\n",
      " [ 3  8 13]\n",
      " [ 4  9 14]\n",
      " [ 5 10 15]]\n"
     ]
    }
   ],
   "source": [
    "print(array_num.transpose())"
   ]
  },
  {
   "cell_type": "code",
   "execution_count": 5,
   "id": "5bb4e635",
   "metadata": {
    "ExecuteTime": {
     "end_time": "2022-02-04T00:08:12.040745Z",
     "start_time": "2022-02-04T00:08:12.032734Z"
    }
   },
   "outputs": [
    {
     "name": "stdout",
     "output_type": "stream",
     "text": [
      "[[ 1  6 11]\n",
      " [ 2  7 12]\n",
      " [ 3  8 13]\n",
      " [ 4  9 14]\n",
      " [ 5 10 15]]\n"
     ]
    }
   ],
   "source": [
    "print(array_num.T)"
   ]
  },
  {
   "cell_type": "markdown",
   "id": "2bcc9494",
   "metadata": {},
   "source": [
    "### Metodo arange()"
   ]
  },
  {
   "cell_type": "code",
   "execution_count": 6,
   "id": "b94783d5",
   "metadata": {
    "ExecuteTime": {
     "end_time": "2022-02-04T00:09:17.180478Z",
     "start_time": "2022-02-04T00:09:17.163133Z"
    }
   },
   "outputs": [],
   "source": [
    "from numpy import arange"
   ]
  },
  {
   "cell_type": "code",
   "execution_count": 11,
   "id": "849070cf",
   "metadata": {
    "ExecuteTime": {
     "end_time": "2022-02-04T00:11:00.620120Z",
     "start_time": "2022-02-04T00:11:00.607147Z"
    }
   },
   "outputs": [
    {
     "name": "stdout",
     "output_type": "stream",
     "text": [
      "[ 1 35 69]\n"
     ]
    }
   ],
   "source": [
    "array_new = arange(1, 100, 34)\n",
    "print(array_new)"
   ]
  },
  {
   "cell_type": "code",
   "execution_count": 12,
   "id": "abfa4cb0",
   "metadata": {
    "ExecuteTime": {
     "end_time": "2022-02-04T00:11:37.097662Z",
     "start_time": "2022-02-04T00:11:37.086692Z"
    }
   },
   "outputs": [
    {
     "name": "stdout",
     "output_type": "stream",
     "text": [
      "[ 1 35 69]\n"
     ]
    }
   ],
   "source": [
    "array_new = arange(start = 1, stop = 100, step = 34)\n",
    "print(array_new)"
   ]
  },
  {
   "cell_type": "code",
   "execution_count": 14,
   "id": "fa90408e",
   "metadata": {
    "ExecuteTime": {
     "end_time": "2022-02-04T00:12:23.020718Z",
     "start_time": "2022-02-04T00:12:23.001312Z"
    }
   },
   "outputs": [
    {
     "name": "stdout",
     "output_type": "stream",
     "text": [
      "[ 1 35 69]\n"
     ]
    }
   ],
   "source": [
    "array_new = arange(stop = 100, step = 34, start = 1)\n",
    "print(array_new)"
   ]
  },
  {
   "cell_type": "code",
   "execution_count": 13,
   "id": "1f645e96",
   "metadata": {
    "ExecuteTime": {
     "end_time": "2022-02-04T00:12:05.770515Z",
     "start_time": "2022-02-04T00:12:05.750058Z"
    }
   },
   "outputs": [
    {
     "name": "stdout",
     "output_type": "stream",
     "text": [
      "[1]\n"
     ]
    }
   ],
   "source": [
    "array_new = arange(1, 34, 100)\n",
    "print(array_new)"
   ]
  },
  {
   "cell_type": "markdown",
   "id": "15aaf7f9",
   "metadata": {},
   "source": [
    "### Metodo linspace"
   ]
  },
  {
   "cell_type": "code",
   "execution_count": 15,
   "id": "713e13c0",
   "metadata": {
    "ExecuteTime": {
     "end_time": "2022-02-04T00:14:36.305845Z",
     "start_time": "2022-02-04T00:14:36.299018Z"
    }
   },
   "outputs": [],
   "source": [
    "from numpy import linspace"
   ]
  },
  {
   "cell_type": "code",
   "execution_count": 32,
   "id": "19d365df",
   "metadata": {
    "ExecuteTime": {
     "end_time": "2022-02-04T00:18:11.866934Z",
     "start_time": "2022-02-04T00:18:11.850892Z"
    }
   },
   "outputs": [
    {
     "data": {
      "text/plain": [
       "array([  0.        ,   1.01010101,   2.02020202,   3.03030303,\n",
       "         4.04040404,   5.05050505,   6.06060606,   7.07070707,\n",
       "         8.08080808,   9.09090909,  10.1010101 ,  11.11111111,\n",
       "        12.12121212,  13.13131313,  14.14141414,  15.15151515,\n",
       "        16.16161616,  17.17171717,  18.18181818,  19.19191919,\n",
       "        20.2020202 ,  21.21212121,  22.22222222,  23.23232323,\n",
       "        24.24242424,  25.25252525,  26.26262626,  27.27272727,\n",
       "        28.28282828,  29.29292929,  30.3030303 ,  31.31313131,\n",
       "        32.32323232,  33.33333333,  34.34343434,  35.35353535,\n",
       "        36.36363636,  37.37373737,  38.38383838,  39.39393939,\n",
       "        40.4040404 ,  41.41414141,  42.42424242,  43.43434343,\n",
       "        44.44444444,  45.45454545,  46.46464646,  47.47474747,\n",
       "        48.48484848,  49.49494949,  50.50505051,  51.51515152,\n",
       "        52.52525253,  53.53535354,  54.54545455,  55.55555556,\n",
       "        56.56565657,  57.57575758,  58.58585859,  59.5959596 ,\n",
       "        60.60606061,  61.61616162,  62.62626263,  63.63636364,\n",
       "        64.64646465,  65.65656566,  66.66666667,  67.67676768,\n",
       "        68.68686869,  69.6969697 ,  70.70707071,  71.71717172,\n",
       "        72.72727273,  73.73737374,  74.74747475,  75.75757576,\n",
       "        76.76767677,  77.77777778,  78.78787879,  79.7979798 ,\n",
       "        80.80808081,  81.81818182,  82.82828283,  83.83838384,\n",
       "        84.84848485,  85.85858586,  86.86868687,  87.87878788,\n",
       "        88.88888889,  89.8989899 ,  90.90909091,  91.91919192,\n",
       "        92.92929293,  93.93939394,  94.94949495,  95.95959596,\n",
       "        96.96969697,  97.97979798,  98.98989899, 100.        ])"
      ]
     },
     "execution_count": 32,
     "metadata": {},
     "output_type": "execute_result"
    }
   ],
   "source": [
    "array_lp = linspace(start = 0, stop = 100, num = 100)\n",
    "array_lp"
   ]
  },
  {
   "cell_type": "code",
   "execution_count": 33,
   "id": "3918f437",
   "metadata": {
    "ExecuteTime": {
     "end_time": "2022-02-04T00:18:15.496082Z",
     "start_time": "2022-02-04T00:18:15.477078Z"
    }
   },
   "outputs": [
    {
     "data": {
      "text/plain": [
       "100"
      ]
     },
     "execution_count": 33,
     "metadata": {},
     "output_type": "execute_result"
    }
   ],
   "source": [
    "array_lp.size"
   ]
  },
  {
   "cell_type": "markdown",
   "id": "ceafc5c5",
   "metadata": {},
   "source": [
    "### Metodo random.rand()"
   ]
  },
  {
   "cell_type": "code",
   "execution_count": 41,
   "id": "ca1ddb8b",
   "metadata": {
    "ExecuteTime": {
     "end_time": "2022-02-04T00:20:22.756404Z",
     "start_time": "2022-02-04T00:20:22.747888Z"
    }
   },
   "outputs": [],
   "source": [
    "from numpy.random import rand, randint"
   ]
  },
  {
   "cell_type": "code",
   "execution_count": 36,
   "id": "cb263011",
   "metadata": {
    "ExecuteTime": {
     "end_time": "2022-02-04T00:19:11.091381Z",
     "start_time": "2022-02-04T00:19:11.069441Z"
    }
   },
   "outputs": [
    {
     "data": {
      "text/plain": [
       "array([[0.90213679, 0.79737709, 0.46640734],\n",
       "       [0.47701153, 0.56765184, 0.30239441],\n",
       "       [0.98917359, 0.75022349, 0.55506702],\n",
       "       [0.62590679, 0.44847375, 0.72307742],\n",
       "       [0.01494323, 0.78561394, 0.45949059]])"
      ]
     },
     "execution_count": 36,
     "metadata": {},
     "output_type": "execute_result"
    }
   ],
   "source": [
    "rand(5, 3)"
   ]
  },
  {
   "cell_type": "code",
   "execution_count": 37,
   "id": "0ef494c0",
   "metadata": {
    "ExecuteTime": {
     "end_time": "2022-02-04T00:19:49.276206Z",
     "start_time": "2022-02-04T00:19:49.256289Z"
    }
   },
   "outputs": [
    {
     "data": {
      "text/plain": [
       "array([[1.57013122, 0.58883243, 8.22204054],\n",
       "       [9.05299839, 7.39228667, 9.37302152],\n",
       "       [6.29961479, 2.59328059, 2.18941309],\n",
       "       [4.67654338, 2.18359997, 1.42813835],\n",
       "       [3.8077165 , 3.3757063 , 2.67964931]])"
      ]
     },
     "execution_count": 37,
     "metadata": {},
     "output_type": "execute_result"
    }
   ],
   "source": [
    "rand(5, 3)*10"
   ]
  },
  {
   "cell_type": "code",
   "execution_count": 38,
   "id": "04d43a90",
   "metadata": {
    "ExecuteTime": {
     "end_time": "2022-02-04T00:19:56.088154Z",
     "start_time": "2022-02-04T00:19:56.075152Z"
    }
   },
   "outputs": [
    {
     "data": {
      "text/plain": [
       "array([[58.90132869, 32.67325649, 46.27833421],\n",
       "       [96.28113427, 35.75910513, 19.29778202],\n",
       "       [89.34711337,  0.60548489, 93.31434991],\n",
       "       [35.30955985, 80.99502688, 78.2846568 ],\n",
       "       [15.28166094, 61.88454512, 30.93864952]])"
      ]
     },
     "execution_count": 38,
     "metadata": {},
     "output_type": "execute_result"
    }
   ],
   "source": [
    "rand(5, 3)*100"
   ]
  },
  {
   "cell_type": "markdown",
   "id": "b87ecfc3",
   "metadata": {},
   "source": [
    "### Metodo randint"
   ]
  },
  {
   "cell_type": "code",
   "execution_count": 47,
   "id": "912127f8",
   "metadata": {
    "ExecuteTime": {
     "end_time": "2022-02-04T00:23:00.017522Z",
     "start_time": "2022-02-04T00:22:59.997922Z"
    }
   },
   "outputs": [
    {
     "data": {
      "text/plain": [
       "array([[94, 98, 57],\n",
       "       [68, 55, 63],\n",
       "       [74,  8, 69],\n",
       "       [84, 18, 57],\n",
       "       [78, 52, 54]])"
      ]
     },
     "execution_count": 47,
     "metadata": {},
     "output_type": "execute_result"
    }
   ],
   "source": [
    "randint(100, size = (5, 3))"
   ]
  },
  {
   "cell_type": "markdown",
   "id": "2bbf2148",
   "metadata": {},
   "source": [
    "### Metodo ones()"
   ]
  },
  {
   "cell_type": "code",
   "execution_count": 49,
   "id": "b1849982",
   "metadata": {
    "ExecuteTime": {
     "end_time": "2022-02-04T00:23:52.761919Z",
     "start_time": "2022-02-04T00:23:52.746632Z"
    }
   },
   "outputs": [
    {
     "data": {
      "text/plain": [
       "array([1, 1, 1, 1, 1, 1, 1, 1, 1, 1])"
      ]
     },
     "execution_count": 49,
     "metadata": {},
     "output_type": "execute_result"
    }
   ],
   "source": [
    "array([1,1,1,1,1,1,1,1,1,1])"
   ]
  },
  {
   "cell_type": "code",
   "execution_count": 54,
   "id": "a065c9b7",
   "metadata": {
    "ExecuteTime": {
     "end_time": "2022-02-04T00:24:53.977216Z",
     "start_time": "2022-02-04T00:24:53.960806Z"
    }
   },
   "outputs": [],
   "source": [
    "from numpy import ones, zeros"
   ]
  },
  {
   "cell_type": "code",
   "execution_count": 53,
   "id": "3c5c73a3",
   "metadata": {
    "ExecuteTime": {
     "end_time": "2022-02-04T00:24:43.997487Z",
     "start_time": "2022-02-04T00:24:43.983491Z"
    }
   },
   "outputs": [
    {
     "name": "stdout",
     "output_type": "stream",
     "text": [
      "[[1 1 1 1 1]\n",
      " [1 1 1 1 1]\n",
      " [1 1 1 1 1]\n",
      " [1 1 1 1 1]\n",
      " [1 1 1 1 1]]\n"
     ]
    }
   ],
   "source": [
    "print(ones(shape = (5,5), dtype = int))"
   ]
  },
  {
   "cell_type": "markdown",
   "id": "3598a96b",
   "metadata": {},
   "source": [
    "### Metodo zeros()"
   ]
  },
  {
   "cell_type": "code",
   "execution_count": null,
   "id": "d72e7448",
   "metadata": {},
   "outputs": [],
   "source": [
    "from numpy import zeros"
   ]
  },
  {
   "cell_type": "code",
   "execution_count": 55,
   "id": "c04ba6f8",
   "metadata": {
    "ExecuteTime": {
     "end_time": "2022-02-04T00:25:03.801154Z",
     "start_time": "2022-02-04T00:25:03.788530Z"
    }
   },
   "outputs": [
    {
     "name": "stdout",
     "output_type": "stream",
     "text": [
      "[[0 0 0 0 0]\n",
      " [0 0 0 0 0]\n",
      " [0 0 0 0 0]\n",
      " [0 0 0 0 0]\n",
      " [0 0 0 0 0]]\n"
     ]
    }
   ],
   "source": [
    "print(zeros(shape = (5,5), dtype = int))"
   ]
  },
  {
   "cell_type": "markdown",
   "id": "5f981328",
   "metadata": {},
   "source": [
    "### Metodo identity()"
   ]
  },
  {
   "cell_type": "code",
   "execution_count": 56,
   "id": "61438d3c",
   "metadata": {
    "ExecuteTime": {
     "end_time": "2022-02-04T00:26:55.067347Z",
     "start_time": "2022-02-04T00:26:55.055755Z"
    }
   },
   "outputs": [],
   "source": [
    "from numpy import identity"
   ]
  },
  {
   "cell_type": "code",
   "execution_count": 59,
   "id": "d306d382",
   "metadata": {
    "ExecuteTime": {
     "end_time": "2022-02-04T00:27:49.284128Z",
     "start_time": "2022-02-04T00:27:49.277146Z"
    }
   },
   "outputs": [
    {
     "data": {
      "text/plain": [
       "array([[1, 0, 0, 0, 0],\n",
       "       [0, 1, 0, 0, 0],\n",
       "       [0, 0, 1, 0, 0],\n",
       "       [0, 0, 0, 1, 0],\n",
       "       [0, 0, 0, 0, 1]])"
      ]
     },
     "execution_count": 59,
     "metadata": {},
     "output_type": "execute_result"
    }
   ],
   "source": [
    "identity(5, dtype = int)"
   ]
  },
  {
   "cell_type": "markdown",
   "id": "0b623889",
   "metadata": {},
   "source": [
    "### Metodo random.uniform()"
   ]
  },
  {
   "cell_type": "code",
   "execution_count": 60,
   "id": "f099a180",
   "metadata": {
    "ExecuteTime": {
     "end_time": "2022-02-04T00:31:29.410219Z",
     "start_time": "2022-02-04T00:31:29.403232Z"
    }
   },
   "outputs": [],
   "source": [
    "from numpy.random import uniform"
   ]
  },
  {
   "cell_type": "code",
   "execution_count": 66,
   "id": "4c091add",
   "metadata": {
    "ExecuteTime": {
     "end_time": "2022-02-04T00:33:25.623399Z",
     "start_time": "2022-02-04T00:33:25.603673Z"
    }
   },
   "outputs": [
    {
     "data": {
      "text/plain": [
       "array([485.92528941,  56.87772074, 518.73655666, 476.46980875,\n",
       "       495.60783141, 180.98291039, 407.34688855, 629.43870863,\n",
       "       306.58222233,  41.54986062, 579.14217707, 952.89682982,\n",
       "       502.05062882, 802.21139381, 407.23147547, 578.28488913,\n",
       "       736.89820069, 235.53088089, 459.77231892, 585.09578165,\n",
       "       305.49963792, 518.05865794, 827.75832703, 305.8918367 ,\n",
       "       764.70566575,  15.05451202, 221.41723292, 473.41958358,\n",
       "       325.92053471, 137.23617752, 234.47375098, 579.80426296,\n",
       "       563.40105791,  58.69031804, 482.64769526, 657.24591496,\n",
       "       490.64396936, 409.48462063, 969.96060105, 938.03529523,\n",
       "       324.39979121, 508.14318217, 324.39196871, 963.28714302,\n",
       "       224.5757092 , 593.13387351, 292.03623764,  48.74080641,\n",
       "       804.14006594, 679.96267334,  55.07337071, 597.1675178 ,\n",
       "       218.83754852, 229.78984093,  52.02612599, 271.96780855,\n",
       "       683.67444412, 995.9103115 , 749.83514544, 690.74443841,\n",
       "       304.78419156, 692.37584594, 392.27201362, 964.37646048,\n",
       "       192.91354598,  56.38156409, 597.47849673, 114.78823408,\n",
       "       583.48557317, 377.92666195, 140.10732208, 323.14460092,\n",
       "       358.20196074, 764.7428148 , 647.711735  , 262.34771248,\n",
       "       951.52327276, 340.07086119, 421.4600738 , 244.26617286,\n",
       "       111.80201593, 425.5655995 , 590.10000394,  99.10084785,\n",
       "       979.5682248 , 508.03903668, 861.67268033, 159.86011945,\n",
       "       748.35370036, 714.42502102, 960.63899184, 304.40002053,\n",
       "       598.03942162,  30.60103396, 839.75024472, 594.42443857,\n",
       "       457.74792567, 253.04516296, 155.00411852, 316.64581002])"
      ]
     },
     "execution_count": 66,
     "metadata": {},
     "output_type": "execute_result"
    }
   ],
   "source": [
    "uniform(1, 1000, 100)"
   ]
  },
  {
   "cell_type": "markdown",
   "id": "904bf6c5",
   "metadata": {},
   "source": [
    "### Metodo copy()"
   ]
  },
  {
   "cell_type": "code",
   "execution_count": 68,
   "id": "1a060617",
   "metadata": {
    "ExecuteTime": {
     "end_time": "2022-02-04T00:38:57.881020Z",
     "start_time": "2022-02-04T00:38:57.864067Z"
    }
   },
   "outputs": [
    {
     "name": "stdout",
     "output_type": "stream",
     "text": [
      "valores en x: [1, 2, 3, 4]\n",
      "valores en x: [1, 2, 3, 4]\n"
     ]
    }
   ],
   "source": [
    "x = [1,2,3,4]\n",
    "y = x\n",
    "\n",
    "print(f\"valores en x: {x}\")\n",
    "print(f\"valores en x: {y}\")"
   ]
  },
  {
   "cell_type": "code",
   "execution_count": 69,
   "id": "5760ff7a",
   "metadata": {
    "ExecuteTime": {
     "end_time": "2022-02-04T00:39:16.033281Z",
     "start_time": "2022-02-04T00:39:16.023730Z"
    }
   },
   "outputs": [
    {
     "name": "stdout",
     "output_type": "stream",
     "text": [
      "valores en x: [1, 2, 3, 4, 'Hola']\n"
     ]
    }
   ],
   "source": [
    "x.append(\"Hola\")\n",
    "print(f\"valores en x: {x}\")"
   ]
  },
  {
   "cell_type": "code",
   "execution_count": 70,
   "id": "dcd705cb",
   "metadata": {
    "ExecuteTime": {
     "end_time": "2022-02-04T00:39:24.206286Z",
     "start_time": "2022-02-04T00:39:24.195303Z"
    }
   },
   "outputs": [
    {
     "name": "stdout",
     "output_type": "stream",
     "text": [
      "valores en x: [1, 2, 3, 4, 'Hola']\n"
     ]
    }
   ],
   "source": [
    "print(f\"valores en x: {y}\")"
   ]
  },
  {
   "cell_type": "code",
   "execution_count": 71,
   "id": "a86d2199",
   "metadata": {
    "ExecuteTime": {
     "end_time": "2022-02-04T00:40:27.509604Z",
     "start_time": "2022-02-04T00:40:27.499628Z"
    }
   },
   "outputs": [
    {
     "name": "stdout",
     "output_type": "stream",
     "text": [
      "valores en x: [1, 2, 3, 4]\n",
      "valores en x: [1, 2, 3, 4]\n"
     ]
    }
   ],
   "source": [
    "## con el metodo copy\n",
    "x = [1,2,3,4]\n",
    "y = x.copy()\n",
    "\n",
    "print(f\"valores en x: {x}\")\n",
    "print(f\"valores en x: {y}\")"
   ]
  },
  {
   "cell_type": "code",
   "execution_count": 72,
   "id": "5c08389e",
   "metadata": {
    "ExecuteTime": {
     "end_time": "2022-02-04T00:40:33.670351Z",
     "start_time": "2022-02-04T00:40:33.659320Z"
    }
   },
   "outputs": [
    {
     "name": "stdout",
     "output_type": "stream",
     "text": [
      "valores en x: [1, 2, 3, 4, 'Hola']\n"
     ]
    }
   ],
   "source": [
    "x.append(\"Hola\")\n",
    "print(f\"valores en x: {x}\")"
   ]
  },
  {
   "cell_type": "code",
   "execution_count": 73,
   "id": "e33ea63e",
   "metadata": {
    "ExecuteTime": {
     "end_time": "2022-02-04T00:40:38.204694Z",
     "start_time": "2022-02-04T00:40:38.191240Z"
    }
   },
   "outputs": [
    {
     "name": "stdout",
     "output_type": "stream",
     "text": [
      "valores en x: [1, 2, 3, 4]\n"
     ]
    }
   ],
   "source": [
    "print(f\"valores en y: {y}\")"
   ]
  },
  {
   "cell_type": "code",
   "execution_count": 84,
   "id": "c700cb6a",
   "metadata": {
    "ExecuteTime": {
     "end_time": "2022-02-04T00:47:50.621763Z",
     "start_time": "2022-02-04T00:47:50.603812Z"
    }
   },
   "outputs": [
    {
     "name": "stdout",
     "output_type": "stream",
     "text": [
      "valores en x: [[1 2 3 4]], id: 1900416840496\n",
      "valores en y: [[1 2 3 4]], id: 1900416840400\n"
     ]
    }
   ],
   "source": [
    "## con arrays\n",
    "x = array([[1,2,3,4]])\n",
    "y = x.copy()\n",
    "\n",
    "print(f\"valores en x: {x}, id: {id(x)}\")\n",
    "print(f\"valores en y: {y}, id: {id(y)}\")"
   ]
  },
  {
   "cell_type": "code",
   "execution_count": 83,
   "id": "b1a059bd",
   "metadata": {
    "ExecuteTime": {
     "end_time": "2022-02-04T00:47:32.569163Z",
     "start_time": "2022-02-04T00:47:32.554126Z"
    }
   },
   "outputs": [
    {
     "name": "stdout",
     "output_type": "stream",
     "text": [
      "valores en x: [[1 2 3 4]], id: 1900415939376\n",
      "valores en y: [[1 2 3 4]], id: 1900415939376\n"
     ]
    }
   ],
   "source": [
    "## con arrays\n",
    "x = array([[1,2,3,4]])\n",
    "y = x\n",
    "\n",
    "print(f\"valores en x: {x}, id: {id(x)}\")\n",
    "print(f\"valores en y: {y}, id: {id(y)}\")"
   ]
  },
  {
   "cell_type": "code",
   "execution_count": null,
   "id": "138d3f0e",
   "metadata": {},
   "outputs": [],
   "source": []
  }
 ],
 "metadata": {
  "kernelspec": {
   "display_name": "myenv",
   "language": "python",
   "name": "myenv"
  },
  "language_info": {
   "codemirror_mode": {
    "name": "ipython",
    "version": 3
   },
   "file_extension": ".py",
   "mimetype": "text/x-python",
   "name": "python",
   "nbconvert_exporter": "python",
   "pygments_lexer": "ipython3",
   "version": "3.8.12"
  },
  "toc": {
   "base_numbering": 1,
   "nav_menu": {},
   "number_sections": true,
   "sideBar": true,
   "skip_h1_title": false,
   "title_cell": "Table of Contents",
   "title_sidebar": "Contents",
   "toc_cell": false,
   "toc_position": {
    "height": "calc(100% - 180px)",
    "left": "10px",
    "top": "150px",
    "width": "165px"
   },
   "toc_section_display": true,
   "toc_window_display": true
  },
  "varInspector": {
   "cols": {
    "lenName": 16,
    "lenType": 16,
    "lenVar": 40
   },
   "kernels_config": {
    "python": {
     "delete_cmd_postfix": "",
     "delete_cmd_prefix": "del ",
     "library": "var_list.py",
     "varRefreshCmd": "print(var_dic_list())"
    },
    "r": {
     "delete_cmd_postfix": ") ",
     "delete_cmd_prefix": "rm(",
     "library": "var_list.r",
     "varRefreshCmd": "cat(var_dic_list()) "
    }
   },
   "types_to_exclude": [
    "module",
    "function",
    "builtin_function_or_method",
    "instance",
    "_Feature"
   ],
   "window_display": false
  }
 },
 "nbformat": 4,
 "nbformat_minor": 5
}
