{
 "cells": [
  {
   "cell_type": "markdown",
   "metadata": {},
   "source": [
    "# Exploracion de datos\n",
    "\n",
    "El primer paso en cualquier proyecto de aprendizaje automático es explorar los datos que usará para entrenar un modelo. El objetivo de esta exploración es intentar comprender las relaciones entre sus atributos; en particular, cualquier correlación aparente entre las características y la etiqueta que su modelo intentará predecir. Esto puede requerir algo de trabajo para detectar y corregir problemas en los datos (como tratar con valores perdidos, errores o valores atípicos), derivar nuevas columnas de características al transformar o combinar características existentes (un proceso conocido como ingeniería de características), normalizar características numéricas (valores que puede medir o contar) para que estén en una escala similar y codificar características categóricas (valores que representan categorías discretas) como indicadores numéricos."
   ]
  },
  {
   "cell_type": "code",
   "execution_count": 10,
   "metadata": {
    "ExecuteTime": {
     "end_time": "2022-03-03T23:20:42.747761Z",
     "start_time": "2022-03-03T23:20:42.738785Z"
    }
   },
   "outputs": [],
   "source": [
    "import pandas as pd\n",
    "import numpy as np\n",
    "import matplotlib.pyplot as plt\n",
    "import seaborn as sns"
   ]
  },
  {
   "cell_type": "markdown",
   "metadata": {},
   "source": [
    "- **instant:** un identificador de fila único\n",
    "- **dteday:** la fecha en la que se observaron los datos; en este caso, los datos se recopilaron diariamente; por lo que hay una fila por fecha.\n",
    "- **season:** un valor codificado numéricamente que indica la temporada (1: primavera, 2: verano, 3: otoño, 4: invierno)\n",
    "- **yr:** el año del estudio en el que se realizó la observación (el estudio se llevó a cabo durante dos años; el año 0 representa 2011 y el año 1 representa 2012)\n",
    "- **mnth:** El mes calendario en el que se realizó la observación (1: enero ... 12: diciembre)\n",
    "- **holiday:** un valor binario que indica si la observación se realizó o no en un feriado público)\n",
    "- **weekday:** el día de la semana en el que se realizó la observación (0: domingo ... 6: sábado)\n",
    "- **workingday:** un valor binario que indica si el día es o no un día laborable (no un fin de semana o feriado)\n",
    "- **weathersit:** Un valor categórico que indica la situación meteorológica (1: despejado, 2: niebla / nube, 3: lluvia ligera / nieve, 4: lluvia intensa / granizo / nieve / niebla)\n",
    "- **temp:** La temperatura en grados Celsius (normalizada)\n",
    "- **atemp:** La temperatura aparente (\"se siente como\") en grados Celsius (normalizada)\n",
    "- **hum:** el nivel de humedad (normalizado)\n",
    "- **windspeed:** la velocidad del viento (normalizada)\n",
    "- **rentals:** el número de alquileres de bicicletas registrados.\n",
    "\n",
    "En este conjunto de datos, **alquileres** representa la etiqueta (el valor *y*) que nuestro modelo debe estar capacitado para predecir. Las otras columnas son características potenciales (valores *x*).\n",
    "\n",
    "Como se mencionó anteriormente, puede realizar alguna *ingeniería de funciones* para combinar o derivar nuevas funciones. Por ejemplo, agreguemos una nueva columna llamada **día** al marco de datos extrayendo el componente de día de la columna **dteday** existente. La nueva columna representa el día del mes del 1 al 31."
   ]
  },
  {
   "cell_type": "code",
   "execution_count": 11,
   "metadata": {
    "ExecuteTime": {
     "end_time": "2022-03-03T23:20:42.778687Z",
     "start_time": "2022-03-03T23:20:42.749757Z"
    }
   },
   "outputs": [
    {
     "data": {
      "text/html": [
       "<div>\n",
       "<style scoped>\n",
       "    .dataframe tbody tr th:only-of-type {\n",
       "        vertical-align: middle;\n",
       "    }\n",
       "\n",
       "    .dataframe tbody tr th {\n",
       "        vertical-align: top;\n",
       "    }\n",
       "\n",
       "    .dataframe thead th {\n",
       "        text-align: right;\n",
       "    }\n",
       "</style>\n",
       "<table border=\"1\" class=\"dataframe\">\n",
       "  <thead>\n",
       "    <tr style=\"text-align: right;\">\n",
       "      <th></th>\n",
       "      <th>instant</th>\n",
       "      <th>dteday</th>\n",
       "      <th>season</th>\n",
       "      <th>yr</th>\n",
       "      <th>mnth</th>\n",
       "      <th>holiday</th>\n",
       "      <th>weekday</th>\n",
       "      <th>workingday</th>\n",
       "      <th>weathersit</th>\n",
       "      <th>temp</th>\n",
       "      <th>atemp</th>\n",
       "      <th>hum</th>\n",
       "      <th>windspeed</th>\n",
       "      <th>rentals</th>\n",
       "    </tr>\n",
       "  </thead>\n",
       "  <tbody>\n",
       "    <tr>\n",
       "      <th>0</th>\n",
       "      <td>1</td>\n",
       "      <td>1/1/2011</td>\n",
       "      <td>1</td>\n",
       "      <td>0</td>\n",
       "      <td>1</td>\n",
       "      <td>0</td>\n",
       "      <td>6</td>\n",
       "      <td>0</td>\n",
       "      <td>2</td>\n",
       "      <td>0.344167</td>\n",
       "      <td>0.363625</td>\n",
       "      <td>0.805833</td>\n",
       "      <td>0.160446</td>\n",
       "      <td>331</td>\n",
       "    </tr>\n",
       "    <tr>\n",
       "      <th>1</th>\n",
       "      <td>2</td>\n",
       "      <td>1/2/2011</td>\n",
       "      <td>1</td>\n",
       "      <td>0</td>\n",
       "      <td>1</td>\n",
       "      <td>0</td>\n",
       "      <td>0</td>\n",
       "      <td>0</td>\n",
       "      <td>2</td>\n",
       "      <td>0.363478</td>\n",
       "      <td>0.353739</td>\n",
       "      <td>0.696087</td>\n",
       "      <td>0.248539</td>\n",
       "      <td>131</td>\n",
       "    </tr>\n",
       "    <tr>\n",
       "      <th>2</th>\n",
       "      <td>3</td>\n",
       "      <td>1/3/2011</td>\n",
       "      <td>1</td>\n",
       "      <td>0</td>\n",
       "      <td>1</td>\n",
       "      <td>0</td>\n",
       "      <td>1</td>\n",
       "      <td>1</td>\n",
       "      <td>1</td>\n",
       "      <td>0.196364</td>\n",
       "      <td>0.189405</td>\n",
       "      <td>0.437273</td>\n",
       "      <td>0.248309</td>\n",
       "      <td>120</td>\n",
       "    </tr>\n",
       "    <tr>\n",
       "      <th>3</th>\n",
       "      <td>4</td>\n",
       "      <td>1/4/2011</td>\n",
       "      <td>1</td>\n",
       "      <td>0</td>\n",
       "      <td>1</td>\n",
       "      <td>0</td>\n",
       "      <td>2</td>\n",
       "      <td>1</td>\n",
       "      <td>1</td>\n",
       "      <td>0.200000</td>\n",
       "      <td>0.212122</td>\n",
       "      <td>0.590435</td>\n",
       "      <td>0.160296</td>\n",
       "      <td>108</td>\n",
       "    </tr>\n",
       "    <tr>\n",
       "      <th>4</th>\n",
       "      <td>5</td>\n",
       "      <td>1/5/2011</td>\n",
       "      <td>1</td>\n",
       "      <td>0</td>\n",
       "      <td>1</td>\n",
       "      <td>0</td>\n",
       "      <td>3</td>\n",
       "      <td>1</td>\n",
       "      <td>1</td>\n",
       "      <td>0.226957</td>\n",
       "      <td>0.229270</td>\n",
       "      <td>0.436957</td>\n",
       "      <td>0.186900</td>\n",
       "      <td>82</td>\n",
       "    </tr>\n",
       "  </tbody>\n",
       "</table>\n",
       "</div>"
      ],
      "text/plain": [
       "   instant    dteday  season  yr  mnth  holiday  weekday  workingday  \\\n",
       "0        1  1/1/2011       1   0     1        0        6           0   \n",
       "1        2  1/2/2011       1   0     1        0        0           0   \n",
       "2        3  1/3/2011       1   0     1        0        1           1   \n",
       "3        4  1/4/2011       1   0     1        0        2           1   \n",
       "4        5  1/5/2011       1   0     1        0        3           1   \n",
       "\n",
       "   weathersit      temp     atemp       hum  windspeed  rentals  \n",
       "0           2  0.344167  0.363625  0.805833   0.160446      331  \n",
       "1           2  0.363478  0.353739  0.696087   0.248539      131  \n",
       "2           1  0.196364  0.189405  0.437273   0.248309      120  \n",
       "3           1  0.200000  0.212122  0.590435   0.160296      108  \n",
       "4           1  0.226957  0.229270  0.436957   0.186900       82  "
      ]
     },
     "execution_count": 11,
     "metadata": {},
     "output_type": "execute_result"
    }
   ],
   "source": [
    "bike_data = pd.read_csv(\"./datasets/daily-bike-share.csv\")\n",
    "bike_data.head()"
   ]
  },
  {
   "cell_type": "markdown",
   "metadata": {},
   "source": [
    "Bien, comencemos nuestro análisis de los datos examinando algunas estadísticas descriptivas clave. Podemos usar el método de descripción del marco de datos para generarlos para las características numéricas, así como para la columna de etiquetas de alquileres."
   ]
  },
  {
   "cell_type": "code",
   "execution_count": 12,
   "metadata": {
    "ExecuteTime": {
     "end_time": "2022-03-03T23:20:42.824588Z",
     "start_time": "2022-03-03T23:20:42.783670Z"
    }
   },
   "outputs": [
    {
     "name": "stderr",
     "output_type": "stream",
     "text": [
      "C:\\Users\\usuario1\\AppData\\Local\\Temp/ipykernel_14840/1489743803.py:3: SettingWithCopyWarning: \n",
      "A value is trying to be set on a copy of a slice from a DataFrame.\n",
      "Try using .loc[row_indexer,col_indexer] = value instead\n",
      "\n",
      "See the caveats in the documentation: https://pandas.pydata.org/pandas-docs/stable/user_guide/indexing.html#returning-a-view-versus-a-copy\n",
      "  df_aux[\"season\"] = df_aux[\"season\"].astype(str)\n"
     ]
    },
    {
     "data": {
      "text/html": [
       "<div>\n",
       "<style scoped>\n",
       "    .dataframe tbody tr th:only-of-type {\n",
       "        vertical-align: middle;\n",
       "    }\n",
       "\n",
       "    .dataframe tbody tr th {\n",
       "        vertical-align: top;\n",
       "    }\n",
       "\n",
       "    .dataframe thead th {\n",
       "        text-align: right;\n",
       "    }\n",
       "</style>\n",
       "<table border=\"1\" class=\"dataframe\">\n",
       "  <thead>\n",
       "    <tr style=\"text-align: right;\">\n",
       "      <th></th>\n",
       "      <th>season</th>\n",
       "      <th>1</th>\n",
       "      <th>2</th>\n",
       "      <th>3</th>\n",
       "      <th>4</th>\n",
       "    </tr>\n",
       "  </thead>\n",
       "  <tbody>\n",
       "    <tr>\n",
       "      <th rowspan=\"4\" valign=\"top\">temp</th>\n",
       "      <th>mean</th>\n",
       "      <td>0.297748</td>\n",
       "      <td>0.544405</td>\n",
       "      <td>0.706309</td>\n",
       "      <td>0.422906</td>\n",
       "    </tr>\n",
       "    <tr>\n",
       "      <th>min</th>\n",
       "      <td>0.059130</td>\n",
       "      <td>0.253043</td>\n",
       "      <td>0.469167</td>\n",
       "      <td>0.220833</td>\n",
       "    </tr>\n",
       "    <tr>\n",
       "      <th>max</th>\n",
       "      <td>0.572500</td>\n",
       "      <td>0.808333</td>\n",
       "      <td>0.861667</td>\n",
       "      <td>0.657500</td>\n",
       "    </tr>\n",
       "    <tr>\n",
       "      <th>std</th>\n",
       "      <td>0.102735</td>\n",
       "      <td>0.122650</td>\n",
       "      <td>0.070848</td>\n",
       "      <td>0.107834</td>\n",
       "    </tr>\n",
       "    <tr>\n",
       "      <th rowspan=\"4\" valign=\"top\">atemp</th>\n",
       "      <th>mean</th>\n",
       "      <td>0.296914</td>\n",
       "      <td>0.520307</td>\n",
       "      <td>0.655898</td>\n",
       "      <td>0.415539</td>\n",
       "    </tr>\n",
       "    <tr>\n",
       "      <th>min</th>\n",
       "      <td>0.079070</td>\n",
       "      <td>0.250339</td>\n",
       "      <td>0.242400</td>\n",
       "      <td>0.227913</td>\n",
       "    </tr>\n",
       "    <tr>\n",
       "      <th>max</th>\n",
       "      <td>0.548617</td>\n",
       "      <td>0.757579</td>\n",
       "      <td>0.840896</td>\n",
       "      <td>0.607975</td>\n",
       "    </tr>\n",
       "    <tr>\n",
       "      <th>std</th>\n",
       "      <td>0.099026</td>\n",
       "      <td>0.108022</td>\n",
       "      <td>0.072056</td>\n",
       "      <td>0.095536</td>\n",
       "    </tr>\n",
       "    <tr>\n",
       "      <th rowspan=\"4\" valign=\"top\">hum</th>\n",
       "      <th>mean</th>\n",
       "      <td>0.582903</td>\n",
       "      <td>0.626948</td>\n",
       "      <td>0.633482</td>\n",
       "      <td>0.668719</td>\n",
       "    </tr>\n",
       "    <tr>\n",
       "      <th>min</th>\n",
       "      <td>0.000000</td>\n",
       "      <td>0.254167</td>\n",
       "      <td>0.360000</td>\n",
       "      <td>0.333478</td>\n",
       "    </tr>\n",
       "    <tr>\n",
       "      <th>max</th>\n",
       "      <td>0.948261</td>\n",
       "      <td>0.922500</td>\n",
       "      <td>0.939565</td>\n",
       "      <td>0.972500</td>\n",
       "    </tr>\n",
       "    <tr>\n",
       "      <th>std</th>\n",
       "      <td>0.151880</td>\n",
       "      <td>0.152841</td>\n",
       "      <td>0.119349</td>\n",
       "      <td>0.131248</td>\n",
       "    </tr>\n",
       "    <tr>\n",
       "      <th rowspan=\"4\" valign=\"top\">windspeed</th>\n",
       "      <th>mean</th>\n",
       "      <td>0.214537</td>\n",
       "      <td>0.203507</td>\n",
       "      <td>0.172095</td>\n",
       "      <td>0.171995</td>\n",
       "    </tr>\n",
       "    <tr>\n",
       "      <th>min</th>\n",
       "      <td>0.045408</td>\n",
       "      <td>0.065929</td>\n",
       "      <td>0.064071</td>\n",
       "      <td>0.022392</td>\n",
       "    </tr>\n",
       "    <tr>\n",
       "      <th>max</th>\n",
       "      <td>0.507463</td>\n",
       "      <td>0.388067</td>\n",
       "      <td>0.375617</td>\n",
       "      <td>0.422275</td>\n",
       "    </tr>\n",
       "    <tr>\n",
       "      <th>std</th>\n",
       "      <td>0.086439</td>\n",
       "      <td>0.071629</td>\n",
       "      <td>0.059526</td>\n",
       "      <td>0.081565</td>\n",
       "    </tr>\n",
       "  </tbody>\n",
       "</table>\n",
       "</div>"
      ],
      "text/plain": [
       "season                 1         2         3         4\n",
       "temp      mean  0.297748  0.544405  0.706309  0.422906\n",
       "          min   0.059130  0.253043  0.469167  0.220833\n",
       "          max   0.572500  0.808333  0.861667  0.657500\n",
       "          std   0.102735  0.122650  0.070848  0.107834\n",
       "atemp     mean  0.296914  0.520307  0.655898  0.415539\n",
       "          min   0.079070  0.250339  0.242400  0.227913\n",
       "          max   0.548617  0.757579  0.840896  0.607975\n",
       "          std   0.099026  0.108022  0.072056  0.095536\n",
       "hum       mean  0.582903  0.626948  0.633482  0.668719\n",
       "          min   0.000000  0.254167  0.360000  0.333478\n",
       "          max   0.948261  0.922500  0.939565  0.972500\n",
       "          std   0.151880  0.152841  0.119349  0.131248\n",
       "windspeed mean  0.214537  0.203507  0.172095  0.171995\n",
       "          min   0.045408  0.065929  0.064071  0.022392\n",
       "          max   0.507463  0.388067  0.375617  0.422275\n",
       "          std   0.086439  0.071629  0.059526  0.081565"
      ]
     },
     "execution_count": 12,
     "metadata": {},
     "output_type": "execute_result"
    }
   ],
   "source": [
    "features = [\"season\", \"temp\", \"atemp\", \"hum\", \"windspeed\", \"rentals\"]\n",
    "df_aux = bike_data[features]\n",
    "df_aux[\"season\"] = df_aux[\"season\"].astype(str)\n",
    "df_aux = df_aux.groupby([\"season\"]).agg({\"temp\": [\"mean\", min, max, \"std\"],\n",
    "                                         \"atemp\": [\"mean\", min, max, \"std\"],\n",
    "                                         \"hum\": [\"mean\", min, max, \"std\"],\n",
    "                                         \"windspeed\": [\"mean\", min, max, \"std\"]})\n",
    "df_aux.T"
   ]
  },
  {
   "cell_type": "code",
   "execution_count": 13,
   "metadata": {
    "ExecuteTime": {
     "end_time": "2022-03-03T23:20:42.839517Z",
     "start_time": "2022-03-03T23:20:42.826550Z"
    },
    "scrolled": false
   },
   "outputs": [],
   "source": [
    "def hist_boxplot(label, fig_size = (5, 5), bins_ = 50):\n",
    "    \n",
    "    fig, axs = plt.subplots(2, 1, figsize = fig_size)\n",
    "    \n",
    "    axs[0].hist(label, bins = bins_)\n",
    "    axs[0].set_title(f\"{label.name}\")\n",
    "    axs[0].set_ylabel(\"Frecuency\")\n",
    "    axs[0].axvline(label.median(), color = \"magenta\", linestyle = \"dashed\")\n",
    "    axs[0].axvline(label.mean(), color = \"cyan\", linestyle = \"dashed\")\n",
    "    \n",
    "    axs[1].boxplot(label, vert = False)\n",
    "    axs[1].set_xlabel(\"Rentals\")"
   ]
  },
  {
   "cell_type": "code",
   "execution_count": 14,
   "metadata": {
    "ExecuteTime": {
     "end_time": "2022-03-03T23:20:44.116589Z",
     "start_time": "2022-03-03T23:20:42.841514Z"
    }
   },
   "outputs": [
    {
     "data": {
      "image/png": "[encoded data removed]",
      "text/plain": [
       "<Figure size 504x504 with 2 Axes>"
      ]
     },
     "metadata": {
      "needs_background": "light"
     },
     "output_type": "display_data"
    },
    {
     "data": {
      "image/png": "[encoded data removed]",
      "text/plain": [
       "<Figure size 504x504 with 2 Axes>"
      ]
     },
     "metadata": {
      "needs_background": "light"
     },
     "output_type": "display_data"
    },
    {
     "data": {
      "image/png": "[encoded data removed]",
      "text/plain": [
       "<Figure size 504x504 with 2 Axes>"
      ]
     },
     "metadata": {
      "needs_background": "light"
     },
     "output_type": "display_data"
    },
    {
     "data": {
      "image/png": "[encoded data removed]",
      "text/plain": [
       "<Figure size 504x504 with 2 Axes>"
      ]
     },
     "metadata": {
      "needs_background": "light"
     },
     "output_type": "display_data"
    },
    {
     "data": {
      "image/png": "[encoded data removed]",
      "text/plain": [
       "<Figure size 504x504 with 2 Axes>"
      ]
     },
     "metadata": {
      "needs_background": "light"
     },
     "output_type": "display_data"
    },
    {
     "data": {
      "image/png": "[encoded data removed]",
      "text/plain": [
       "<Figure size 504x504 with 2 Axes>"
      ]
     },
     "metadata": {
      "needs_background": "light"
     },
     "output_type": "display_data"
    }
   ],
   "source": [
    "features = [\"season\", \"temp\", \"atemp\", \"hum\", \"windspeed\", \"rentals\"]\n",
    "\n",
    "for col in features:\n",
    "    \n",
    "    hist_boxplot(label = bike_data[col], bins_ = 50, fig_size = (7,7))"
   ]
  },
  {
   "cell_type": "markdown",
   "metadata": {},
   "source": [
    "# Regression\n",
    "\n",
    "Las técnicas de aprendizaje automático supervisado implican entrenar un modelo para operar en un conjunto de características y predecir una etiqueta utilizando un conjunto de datos que incluye algunos valores de etiqueta ya conocidos. El proceso de entrenamiento ajusta las características a las etiquetas conocidas para definir una función general que se puede aplicar a las nuevas características para las que las etiquetas son desconocidas y predecirlas. Puede pensar en esta función de esta manera, en la que **y** representa la etiqueta que queremos predecir y **x** representa las características que usa el modelo para predecirlo.\n",
    "\n",
    "$$y = f(x)$$\n",
    "\n",
    "En la mayoría de los casos, **x** es en realidad un **vector** que consta de múltiples valores de características, por lo que, para ser un poco más precisos, la función podría expresarse así:\n",
    "\n",
    "$$y = f([x_1, x_2, x_3, ...])$$\n",
    "\n",
    "El objetivo de entrenar el modelo es encontrar una función que realice algún tipo de cálculo de los valores **x** que produzca el resultado **y**. Hacemos esto aplicando un **algoritmo** de aprendizaje automático que intenta ajustar los valores **x** a un cálculo que produce **y** con una precisión razonable para todos los casos en el conjunto de datos de entrenamiento.\n",
    "\n",
    "Hay muchos algoritmos de aprendizaje automático para el aprendizaje supervisado y se pueden dividir en dos tipos:\n",
    "\n",
    "- **Algoritmos de regresión**: Algoritmos que predicen un valor **y** que es un valor numérico, como el precio de una casa o el número de transacciones de venta.\n",
    "- **Algoritmos de clasificación**: Algoritmos que predicen a qué categoría, o **clase**, pertenece una observación. El valor **y** en un modelo de clasificación es un vector de valores de probabilidad entre 0 y 1, uno para cada clase, que indica la probabilidad de que la observación pertenezca a cada clase.\n",
    "\n",
    "> **Citation**: The data used in this exercise is derived from [Capital Bikeshare](https://www.capitalbikeshare.com/system-data) and is used in accordance with the published [license agreement](https://www.capitalbikeshare.com/data-license-agreement).\n",
    "<br>\n",
    "<br>\n",
    "<img src=\"./images/LR.png\" height = \"500\" width = \"500\">"
   ]
  },
  {
   "cell_type": "markdown",
   "metadata": {},
   "source": [
    "## Train a Model\n",
    "\n",
    "Existen conceptos clave que sientan las bases para una mejor comprensión del ML. Aprenderemos la nomenclatura (términos estándar) que se utiliza para describir los datos, así como los términos utilizados para describir el aprendizaje y el modelado.\n",
    "\n",
    "<br>\n",
    "<img src=\"./images/tabla1.png\" height = \"700\" width = \"700\">\n",
    "<br>\n",
    "<br>\n",
    "<img src=\"./images/train_test.png\" height = \"500\" width = \"500\">\n",
    "\n",
    "* **Instancia:** A una sola fila de datos se le llama instancia. También se le conoce como una observación del dominio.\n",
    "* **Característica (Feature, labels):** A una sola columna de datos se le llama característica. Es un componente de una observación y también se denomina atributo de una instancia de datos (La característica se suele asociar con el atributo y su valor, aunque la mayoría de las veces se usa atributo y característica indistintamente). Algunas características pueden ser entradas a un modelo (predictores) y otras pueden ser salidas o las características a predecir (también llamadas *labels*).\n",
    "* **Target (salida)**: es nuestra variable a predecir la cual tambien se conoce como variable target, salida, y_predict y entre otros. LA variable de salida del dataset siempre dependerá de que buscamos predecir, de un solo dataset pueden resultar distaintas variables de salidad y según sea nuestro objetivo escogeremos una variable u otra a predecir.\n",
    "* **Datos de entrenamiento**: Conjunto de datos que introducimos a nuestro algoritmo para entrenar nuestro modelo.\n",
    "* **Datos de prueba**: Conjunto de datos que utilizamos para validar la precisión de nuestro modelo pero que no se utiliza para entrenarlo. Puede llamarse conjunto de datos de validación."
   ]
  },
  {
   "cell_type": "markdown",
   "metadata": {},
   "source": [
    "### Tener en cuenta:\n",
    "\n",
    "* **Cantidad insuficiente de datos de entrenamiento**: Se necesitan muchos datos para que la mayoría de los algoritmos de ML funcionen correctamente. Incluso para problemas muy simples, generalmente se necesitan miles de ejemplos, y para problemas complejos como el reconocimiento de imágenes o de voz puede necesitarse millones de ejemplos. \n",
    "\n",
    "* **Datos de entrenamiento no representativos**: Para generalizar bien, es crucial que los datos de entrenamiento sean representativos de los nuevos casos que desea generalizar. Al usar un conjunto de entrenamiento no representativo, entrenamos un modelo con el cual es poco probable obtener predicciones precisas. Incluso muestras muy grandes pueden no ser representativas si el método de muestreo es defectuoso (sesgo en el muestreo).\n",
    "\n",
    "* **Datos de baja calidad**: Obviamente, si los datos de entrenamiento están llenos de errores, valores atípicos y ruido (por ejemplo, debido a mediciones de baja calidad), será más difícil para el algoritmo detectar los patrones subyacentes, por lo que es menos probable que funcione bien. ¡Siempre vale la pena dedicar tiempo a limpiar los datos de entrenamiento!\n",
    "\n",
    "* **Características irrelevantes**: El sistema solo será capaz de aprender si los datos de entrenamiento contienen suficientes características relevantes y no demasiadas irrelevantes. Una parte fundamental del éxito de un proyecto de ML es crear un buen conjunto de características para el entrenamiento. Este proceso se conoce como ingeniería de características. "
   ]
  },
  {
   "cell_type": "markdown",
   "metadata": {},
   "source": [
    "## Introducción a Sckit Learn\n",
    "\n",
    "Hay varias bibliotecas de Python que proporcionan implementaciones sólidas de una variedad de algoritmos de ML. Uno de los más conocidos es Scikit-Learn, un paquete que proporciona versiones eficientes de una gran cantidad de algoritmos comunes. Scikit-Learn se caracteriza por ser una API limpia, uniforme y optimizada, así como por una documentación en línea muy útil y completa. La API de Scikit-Learn está notablemente bien diseñada. Los principales principios de diseño son:\n",
    "\n",
    "* **Estimadores**: Cualquier objeto que pueda estimar algunos parámetros basados en un conjunto de datos se llama *estimador*. La estimación en sí misma se realiza mediante el método `fit()`, y solo toma un conjunto de datos como parámetro (o dos para algoritmos de aprendizaje supervisados; el segundo conjunto de datos contiene las etiquetas). Cualquier otro parámetro necesario para guiar el proceso de estimación se considera un hiperparámetro\n",
    "* **Parámetros del modelo**: Son aquellos que pertenecen al modelo utilizado para realizar el procedimiento de ajuste\n",
    "* **Hiperparámetros**: Es un parámetro de un algoritmo de aprendizaje (no del\n",
    "modelo). Como tal, no se ve afectado por el algoritmo de aprendizaje en sí; debe establecerse antes\n",
    "al entrenamiento y permanece constante durante el entrenamiento.\n",
    "* **Métrica**: Medida cuantitativa usada para evaluar el rendimiento del algoritmo."
   ]
  },
  {
   "cell_type": "markdown",
   "metadata": {},
   "source": [
    "- Documentación de Scikit Learn: https://scikit-learn.org/stable/"
   ]
  },
  {
   "cell_type": "markdown",
   "metadata": {},
   "source": [
    "Después de separar el conjunto de datos, ahora tenemos numerosas matrices llamadas **X** que contienen las características y **y** que contienen las etiquetas.\n",
    "\n",
    "*Podríamos* entrenar un modelo usando todos los datos; pero es una práctica común en el aprendizaje supervisado dividir los datos en dos subconjuntos; un conjunto (normalmente más grande) con el que entrenar el modelo y un conjunto de \"retención\" más pequeño con el que validar el modelo entrenado. Esto nos permite evaluar qué tan bien se desempeña el modelo cuando se usa con el conjunto de datos de validación comparando las etiquetas predichas con las etiquetas conocidas. Es importante dividir los datos *al azar* (en lugar de decir, tomar el primer 70% de los datos para el entrenamiento y guardar el resto para la validación). Esto ayuda a garantizar que los dos subconjuntos de datos sean estadísticamente comparables (por lo que validamos el modelo con datos que tienen una distribución estadística similar a los datos sobre los que se entrenó).\n",
    "\n",
    "Para dividir aleatoriamente los datos, usaremos la función **train_test_split** en la biblioteca **scikit-learn**. Esta biblioteca es uno de los paquetes de aprendizaje automático más utilizados para Python."
   ]
  },
  {
   "cell_type": "code",
   "execution_count": 15,
   "metadata": {
    "ExecuteTime": {
     "end_time": "2022-03-03T23:20:44.135542Z",
     "start_time": "2022-03-03T23:20:44.118621Z"
    }
   },
   "outputs": [],
   "source": [
    "bike_data.drop([\"dteday\"], axis = 1, inplace = True)"
   ]
  },
  {
   "cell_type": "code",
   "execution_count": 16,
   "metadata": {
    "ExecuteTime": {
     "end_time": "2022-03-03T23:20:44.163463Z",
     "start_time": "2022-03-03T23:20:44.139528Z"
    }
   },
   "outputs": [
    {
     "data": {
      "text/html": [
       "<div>\n",
       "<style scoped>\n",
       "    .dataframe tbody tr th:only-of-type {\n",
       "        vertical-align: middle;\n",
       "    }\n",
       "\n",
       "    .dataframe tbody tr th {\n",
       "        vertical-align: top;\n",
       "    }\n",
       "\n",
       "    .dataframe thead th {\n",
       "        text-align: right;\n",
       "    }\n",
       "</style>\n",
       "<table border=\"1\" class=\"dataframe\">\n",
       "  <thead>\n",
       "    <tr style=\"text-align: right;\">\n",
       "      <th></th>\n",
       "      <th>instant</th>\n",
       "      <th>season</th>\n",
       "      <th>yr</th>\n",
       "      <th>mnth</th>\n",
       "      <th>holiday</th>\n",
       "      <th>weekday</th>\n",
       "      <th>workingday</th>\n",
       "      <th>weathersit</th>\n",
       "      <th>temp</th>\n",
       "      <th>atemp</th>\n",
       "      <th>hum</th>\n",
       "      <th>windspeed</th>\n",
       "      <th>rentals</th>\n",
       "    </tr>\n",
       "  </thead>\n",
       "  <tbody>\n",
       "    <tr>\n",
       "      <th>0</th>\n",
       "      <td>1</td>\n",
       "      <td>1</td>\n",
       "      <td>0</td>\n",
       "      <td>1</td>\n",
       "      <td>0</td>\n",
       "      <td>6</td>\n",
       "      <td>0</td>\n",
       "      <td>2</td>\n",
       "      <td>0.344167</td>\n",
       "      <td>0.363625</td>\n",
       "      <td>0.805833</td>\n",
       "      <td>0.160446</td>\n",
       "      <td>331</td>\n",
       "    </tr>\n",
       "    <tr>\n",
       "      <th>1</th>\n",
       "      <td>2</td>\n",
       "      <td>1</td>\n",
       "      <td>0</td>\n",
       "      <td>1</td>\n",
       "      <td>0</td>\n",
       "      <td>0</td>\n",
       "      <td>0</td>\n",
       "      <td>2</td>\n",
       "      <td>0.363478</td>\n",
       "      <td>0.353739</td>\n",
       "      <td>0.696087</td>\n",
       "      <td>0.248539</td>\n",
       "      <td>131</td>\n",
       "    </tr>\n",
       "    <tr>\n",
       "      <th>2</th>\n",
       "      <td>3</td>\n",
       "      <td>1</td>\n",
       "      <td>0</td>\n",
       "      <td>1</td>\n",
       "      <td>0</td>\n",
       "      <td>1</td>\n",
       "      <td>1</td>\n",
       "      <td>1</td>\n",
       "      <td>0.196364</td>\n",
       "      <td>0.189405</td>\n",
       "      <td>0.437273</td>\n",
       "      <td>0.248309</td>\n",
       "      <td>120</td>\n",
       "    </tr>\n",
       "    <tr>\n",
       "      <th>3</th>\n",
       "      <td>4</td>\n",
       "      <td>1</td>\n",
       "      <td>0</td>\n",
       "      <td>1</td>\n",
       "      <td>0</td>\n",
       "      <td>2</td>\n",
       "      <td>1</td>\n",
       "      <td>1</td>\n",
       "      <td>0.200000</td>\n",
       "      <td>0.212122</td>\n",
       "      <td>0.590435</td>\n",
       "      <td>0.160296</td>\n",
       "      <td>108</td>\n",
       "    </tr>\n",
       "    <tr>\n",
       "      <th>4</th>\n",
       "      <td>5</td>\n",
       "      <td>1</td>\n",
       "      <td>0</td>\n",
       "      <td>1</td>\n",
       "      <td>0</td>\n",
       "      <td>3</td>\n",
       "      <td>1</td>\n",
       "      <td>1</td>\n",
       "      <td>0.226957</td>\n",
       "      <td>0.229270</td>\n",
       "      <td>0.436957</td>\n",
       "      <td>0.186900</td>\n",
       "      <td>82</td>\n",
       "    </tr>\n",
       "  </tbody>\n",
       "</table>\n",
       "</div>"
      ],
      "text/plain": [
       "   instant  season  yr  mnth  holiday  weekday  workingday  weathersit  \\\n",
       "0        1       1   0     1        0        6           0           2   \n",
       "1        2       1   0     1        0        0           0           2   \n",
       "2        3       1   0     1        0        1           1           1   \n",
       "3        4       1   0     1        0        2           1           1   \n",
       "4        5       1   0     1        0        3           1           1   \n",
       "\n",
       "       temp     atemp       hum  windspeed  rentals  \n",
       "0  0.344167  0.363625  0.805833   0.160446      331  \n",
       "1  0.363478  0.353739  0.696087   0.248539      131  \n",
       "2  0.196364  0.189405  0.437273   0.248309      120  \n",
       "3  0.200000  0.212122  0.590435   0.160296      108  \n",
       "4  0.226957  0.229270  0.436957   0.186900       82  "
      ]
     },
     "execution_count": 16,
     "metadata": {},
     "output_type": "execute_result"
    }
   ],
   "source": [
    "bike_data.head()"
   ]
  },
  {
   "cell_type": "code",
   "execution_count": 17,
   "metadata": {
    "ExecuteTime": {
     "end_time": "2022-03-03T23:20:44.179422Z",
     "start_time": "2022-03-03T23:20:44.164460Z"
    }
   },
   "outputs": [],
   "source": [
    "from sklearn.model_selection import train_test_split\n",
    "from sklearn.linear_model import LinearRegression\n",
    "from sklearn.metrics import mean_squared_error, r2_score\n",
    "import matplotlib.pyplot as plt\n",
    "from mpl_toolkits.mplot3d import Axes3D"
   ]
  },
  {
   "cell_type": "code",
   "execution_count": 95,
   "metadata": {
    "ExecuteTime": {
     "end_time": "2022-03-04T00:09:21.209916Z",
     "start_time": "2022-03-04T00:09:21.200822Z"
    }
   },
   "outputs": [],
   "source": [
    "X = bike_data.drop([\"rentals\"], axis = 1).values\n",
    "y = bike_data[[\"rentals\"]].values\n",
    "#X = bike_data[[\"temp\", \"hum\"]].values\n",
    "\n",
    "X_train, X_test, y_train, y_test = train_test_split(X, y, train_size = 0.8, shuffle = True, random_state = 342543)"
   ]
  },
  {
   "cell_type": "markdown",
   "metadata": {},
   "source": [
    "Ahora tenemos los siguientes cuatro conjuntos de datos:\n",
    "\n",
    "- **X_train**: los valores de características que usaremos para entrenar el modelo\n",
    "- **y_train**: Las etiquetas correspondientes que usaremos para entrenar el modelo\n",
    "- **X_test**: los valores de características que usaremos para validar el modelo\n",
    "- **y_test**: Las etiquetas correspondientes que usaremos para validar el modelo\n",
    "\n",
    "Ahora estamos listos para entrenar un modelo ajustando un algoritmo de regresión adecuado a los datos de entrenamiento. Usaremos un algoritmo de *regresión lineal*, un punto de partida común para la regresión que funciona tratando de encontrar una relación lineal entre los valores *X* y la etiqueta *y*. El modelo resultante es una función que define conceptualmente una línea en la que se cruzan todas las posibles combinaciones de valores de X e y.\n",
    "\n",
    "En Scikit-Learn, los algoritmos de entrenamiento están encapsulados en *estimadores*, y en este caso usaremos el estimador **LinearRegression** para entrenar un modelo de regresión lineal."
   ]
  },
  {
   "cell_type": "code",
   "execution_count": 118,
   "metadata": {
    "ExecuteTime": {
     "end_time": "2022-03-04T00:21:53.060556Z",
     "start_time": "2022-03-04T00:21:53.046588Z"
    }
   },
   "outputs": [],
   "source": [
    "model_lr = LinearRegression(normalize = True, n_jobs = -1)\n",
    "LR_model = model_lr.fit(X_train, y_train)"
   ]
  },
  {
   "cell_type": "code",
   "execution_count": 116,
   "metadata": {
    "ExecuteTime": {
     "end_time": "2022-03-04T00:21:43.779450Z",
     "start_time": "2022-03-04T00:21:43.765587Z"
    }
   },
   "outputs": [
    {
     "name": "stdout",
     "output_type": "stream",
     "text": [
      "MSE: 156125.29975752783\n",
      "RMSE: 395.1269413207961\n",
      "R2: 0.6408392423701028\n"
     ]
    }
   ],
   "source": [
    "# Predicciones\n",
    "predicciones = LR_model.predict(X_test)\n",
    "\n",
    "# Metricas de evaluacion del modelo\n",
    "mse = mean_squared_error(y_test, predicciones)\n",
    "rmse = np.sqrt(mse)\n",
    "r2 = r2_score(y_test, predicciones)\n",
    "\n",
    "print(f\"MSE: {mse}\")\n",
    "print(f\"RMSE: {rmse}\")\n",
    "print(f\"R2: {r2}\")"
   ]
  },
  {
   "cell_type": "code",
   "execution_count": 98,
   "metadata": {
    "ExecuteTime": {
     "end_time": "2022-03-04T00:09:29.246706Z",
     "start_time": "2022-03-04T00:09:29.084697Z"
    }
   },
   "outputs": [
    {
     "name": "stderr",
     "output_type": "stream",
     "text": [
      "C:\\Users\\usuario1\\AppData\\Local\\Temp/ipykernel_14840/4106540239.py:2: MatplotlibDeprecationWarning: Axes3D(fig) adding itself to the figure is deprecated since 3.4. Pass the keyword argument auto_add_to_figure=False and use fig.add_axes(ax) to suppress this warning. The default value of auto_add_to_figure will change to False in mpl3.5 and True values will no longer work in 3.6.  This is consistent with other Axes classes.\n",
      "  axs = Axes3D(fig)\n"
     ]
    },
    {
     "data": {
      "image/png": "[encoded data removed]",
      "text/plain": [
       "<Figure size 432x288 with 1 Axes>"
      ]
     },
     "metadata": {
      "needs_background": "light"
     },
     "output_type": "display_data"
    }
   ],
   "source": [
    "fig = plt.figure()\n",
    "axs = Axes3D(fig)\n",
    "\n",
    "x1 = bike_data[\"temp\"]\n",
    "x2 = bike_data[\"hum\"]\n",
    "y = bike_data[\"rentals\"]\n",
    "\n",
    "axs.scatter(x1, x2, y, marker = \"*\", c = \"b\")\n",
    "axs.set_xlabel(bike_data[\"temp\"].name)\n",
    "axs.set_ylabel(bike_data[\"hum\"].name)\n",
    "axs.set_zlabel(bike_data[\"rentals\"].name);"
   ]
  },
  {
   "cell_type": "code",
   "execution_count": 114,
   "metadata": {
    "ExecuteTime": {
     "end_time": "2022-03-04T00:12:08.444221Z",
     "start_time": "2022-03-04T00:12:08.421273Z"
    }
   },
   "outputs": [
    {
     "data": {
      "text/plain": [
       "array([[1121.48499064]])"
      ]
     },
     "execution_count": 114,
     "metadata": {},
     "output_type": "execute_result"
    }
   ],
   "source": [
    "LR_model.predict(np.array([1, 1, 0, 1, 0, 6, 0, 2, 0.344167, 0.363625, 0.34, 0.23423]).reshape((1,-1)))"
   ]
  }
 ],
 "metadata": {
  "kernelspec": {
   "display_name": "Python 3 (ipykernel)",
   "language": "python",
   "name": "python3"
  },
  "language_info": {
   "codemirror_mode": {
    "name": "ipython",
    "version": 3
   },
   "file_extension": ".py",
   "mimetype": "text/x-python",
   "name": "python",
   "nbconvert_exporter": "python",
   "pygments_lexer": "ipython3",
   "version": "3.9.7"
  },
  "toc": {
   "base_numbering": 1,
   "nav_menu": {},
   "number_sections": true,
   "sideBar": true,
   "skip_h1_title": false,
   "title_cell": "Table of Contents",
   "title_sidebar": "Contents",
   "toc_cell": false,
   "toc_position": {},
   "toc_section_display": true,
   "toc_window_display": false
  },
  "varInspector": {
   "cols": {
    "lenName": 16,
    "lenType": 16,
    "lenVar": 40
   },
   "kernels_config": {
    "python": {
     "delete_cmd_postfix": "",
     "delete_cmd_prefix": "del ",
     "library": "var_list.py",
     "varRefreshCmd": "print(var_dic_list())"
    },
    "r": {
     "delete_cmd_postfix": ") ",
     "delete_cmd_prefix": "rm(",
     "library": "var_list.r",
     "varRefreshCmd": "cat(var_dic_list()) "
    }
   },
   "types_to_exclude": [
    "module",
    "function",
    "builtin_function_or_method",
    "instance",
    "_Feature"
   ],
   "window_display": false
  }
 },
 "nbformat": 4,
 "nbformat_minor": 2
}
