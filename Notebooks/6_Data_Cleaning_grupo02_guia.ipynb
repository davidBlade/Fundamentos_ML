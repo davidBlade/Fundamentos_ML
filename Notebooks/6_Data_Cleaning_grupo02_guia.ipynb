{
 "cells": [
  {
   "cell_type": "code",
   "execution_count": 1,
   "id": "4f8160a7",
   "metadata": {
    "ExecuteTime": {
     "end_time": "2021-08-05T23:10:32.492503Z",
     "start_time": "2021-08-05T23:10:31.571783Z"
    }
   },
   "outputs": [],
   "source": [
    "import pandas as pd\n",
    "import numpy as np\n",
    "import copy\n",
    "import seaborn as sns\n",
    "import matplotlib.pyplot as plt\n",
    "from datetime import date, timedelta"
   ]
  },
  {
   "cell_type": "markdown",
   "id": "3b834158",
   "metadata": {},
   "source": [
    "# Dataset"
   ]
  },
  {
   "cell_type": "code",
   "execution_count": 98,
   "id": "8c90a5e0",
   "metadata": {},
   "outputs": [],
   "source": [
    "df_employee.loc[635:650,\"annual_salary\"] = np.nan"
   ]
  },
  {
   "cell_type": "code",
   "execution_count": 2,
   "id": "ed150a41",
   "metadata": {
    "ExecuteTime": {
     "end_time": "2021-08-05T23:10:33.628373Z",
     "start_time": "2021-08-05T23:10:33.604093Z"
    }
   },
   "outputs": [
    {
     "data": {
      "text/html": [
       "<div>\n",
       "<style scoped>\n",
       "    .dataframe tbody tr th:only-of-type {\n",
       "        vertical-align: middle;\n",
       "    }\n",
       "\n",
       "    .dataframe tbody tr th {\n",
       "        vertical-align: top;\n",
       "    }\n",
       "\n",
       "    .dataframe thead th {\n",
       "        text-align: right;\n",
       "    }\n",
       "</style>\n",
       "<table border=\"1\" class=\"dataframe\">\n",
       "  <thead>\n",
       "    <tr style=\"text-align: right;\">\n",
       "      <th></th>\n",
       "      <th>number</th>\n",
       "      <th>first_name</th>\n",
       "      <th>last_name</th>\n",
       "      <th>gender</th>\n",
       "      <th>birth_date</th>\n",
       "      <th>employment_status</th>\n",
       "      <th>annual_salary</th>\n",
       "      <th>tax_file_no</th>\n",
       "    </tr>\n",
       "  </thead>\n",
       "  <tbody>\n",
       "    <tr>\n",
       "      <th>0</th>\n",
       "      <td>483</td>\n",
       "      <td>Lenord</td>\n",
       "      <td>Kihn</td>\n",
       "      <td>M</td>\n",
       "      <td>1994-07-01</td>\n",
       "      <td>NaN</td>\n",
       "      <td>64598.0</td>\n",
       "      <td>NaN</td>\n",
       "    </tr>\n",
       "    <tr>\n",
       "      <th>1</th>\n",
       "      <td>478</td>\n",
       "      <td>Palma</td>\n",
       "      <td>Beahan</td>\n",
       "      <td>F</td>\n",
       "      <td>1972-05-06</td>\n",
       "      <td>PE</td>\n",
       "      <td>124103.0</td>\n",
       "      <td>NaN</td>\n",
       "    </tr>\n",
       "    <tr>\n",
       "      <th>2</th>\n",
       "      <td>348</td>\n",
       "      <td>Hebert</td>\n",
       "      <td>Muller</td>\n",
       "      <td>M</td>\n",
       "      <td>1990-09-04</td>\n",
       "      <td>PE</td>\n",
       "      <td>100324.0</td>\n",
       "      <td>NaN</td>\n",
       "    </tr>\n",
       "    <tr>\n",
       "      <th>3</th>\n",
       "      <td>757</td>\n",
       "      <td>Virginia</td>\n",
       "      <td>Ullrich</td>\n",
       "      <td>M</td>\n",
       "      <td>1991-09-23</td>\n",
       "      <td>PE</td>\n",
       "      <td>144957.0</td>\n",
       "      <td>NaN</td>\n",
       "    </tr>\n",
       "    <tr>\n",
       "      <th>4</th>\n",
       "      <td>937</td>\n",
       "      <td>Roby</td>\n",
       "      <td>Hudson</td>\n",
       "      <td>M</td>\n",
       "      <td>1997-01-15</td>\n",
       "      <td>NaN</td>\n",
       "      <td>137659.0</td>\n",
       "      <td>NaN</td>\n",
       "    </tr>\n",
       "    <tr>\n",
       "      <th>...</th>\n",
       "      <td>...</td>\n",
       "      <td>...</td>\n",
       "      <td>...</td>\n",
       "      <td>...</td>\n",
       "      <td>...</td>\n",
       "      <td>...</td>\n",
       "      <td>...</td>\n",
       "      <td>...</td>\n",
       "    </tr>\n",
       "    <tr>\n",
       "      <th>995</th>\n",
       "      <td>712</td>\n",
       "      <td>Dann</td>\n",
       "      <td>Crooks</td>\n",
       "      <td>NaN</td>\n",
       "      <td>1983-12-25</td>\n",
       "      <td>CA</td>\n",
       "      <td>66592.0</td>\n",
       "      <td>NaN</td>\n",
       "    </tr>\n",
       "    <tr>\n",
       "      <th>996</th>\n",
       "      <td>132</td>\n",
       "      <td>Maxim</td>\n",
       "      <td>Orn</td>\n",
       "      <td>M</td>\n",
       "      <td>1971-03-01</td>\n",
       "      <td>CA</td>\n",
       "      <td>127966.0</td>\n",
       "      <td>NaN</td>\n",
       "    </tr>\n",
       "    <tr>\n",
       "      <th>997</th>\n",
       "      <td>126</td>\n",
       "      <td>Kimberli</td>\n",
       "      <td>Walter</td>\n",
       "      <td>M</td>\n",
       "      <td>1976-03-07</td>\n",
       "      <td>CA</td>\n",
       "      <td>60712.0</td>\n",
       "      <td>NaN</td>\n",
       "    </tr>\n",
       "    <tr>\n",
       "      <th>998</th>\n",
       "      <td>277</td>\n",
       "      <td>Talmage</td>\n",
       "      <td>Bartell</td>\n",
       "      <td>F</td>\n",
       "      <td>1989-02-19</td>\n",
       "      <td>PE</td>\n",
       "      <td>103606.0</td>\n",
       "      <td>NaN</td>\n",
       "    </tr>\n",
       "    <tr>\n",
       "      <th>999</th>\n",
       "      <td>960</td>\n",
       "      <td>Laurie</td>\n",
       "      <td>Nienow</td>\n",
       "      <td>M</td>\n",
       "      <td>1993-04-01</td>\n",
       "      <td>PE</td>\n",
       "      <td>127405.0</td>\n",
       "      <td>NaN</td>\n",
       "    </tr>\n",
       "  </tbody>\n",
       "</table>\n",
       "<p>1000 rows × 8 columns</p>\n",
       "</div>"
      ],
      "text/plain": [
       "     number first_name last_name gender  birth_date employment_status  \\\n",
       "0       483     Lenord      Kihn      M  1994-07-01               NaN   \n",
       "1       478      Palma    Beahan      F  1972-05-06                PE   \n",
       "2       348     Hebert    Muller      M  1990-09-04                PE   \n",
       "3       757   Virginia   Ullrich      M  1991-09-23                PE   \n",
       "4       937       Roby    Hudson      M  1997-01-15               NaN   \n",
       "..      ...        ...       ...    ...         ...               ...   \n",
       "995     712       Dann    Crooks    NaN  1983-12-25                CA   \n",
       "996     132      Maxim       Orn      M  1971-03-01                CA   \n",
       "997     126   Kimberli    Walter      M  1976-03-07                CA   \n",
       "998     277    Talmage   Bartell      F  1989-02-19                PE   \n",
       "999     960     Laurie    Nienow      M  1993-04-01                PE   \n",
       "\n",
       "     annual_salary  tax_file_no  \n",
       "0          64598.0          NaN  \n",
       "1         124103.0          NaN  \n",
       "2         100324.0          NaN  \n",
       "3         144957.0          NaN  \n",
       "4         137659.0          NaN  \n",
       "..             ...          ...  \n",
       "995        66592.0          NaN  \n",
       "996       127966.0          NaN  \n",
       "997        60712.0          NaN  \n",
       "998       103606.0          NaN  \n",
       "999       127405.0          NaN  \n",
       "\n",
       "[1000 rows x 8 columns]"
      ]
     },
     "execution_count": 2,
     "metadata": {},
     "output_type": "execute_result"
    }
   ],
   "source": [
    "df_employee = pd.read_csv('./datasets/employee_data.csv')\n",
    "df_employee.loc[635:650,\"annual_salary\"] = np.nan\n",
    "df_employee"
   ]
  },
  {
   "cell_type": "markdown",
   "id": "932ee47f",
   "metadata": {},
   "source": [
    "# Exploración del Dataset"
   ]
  },
  {
   "cell_type": "code",
   "execution_count": 3,
   "id": "cd1e38cb",
   "metadata": {
    "ExecuteTime": {
     "end_time": "2021-08-05T23:10:34.676862Z",
     "start_time": "2021-08-05T23:10:34.657670Z"
    }
   },
   "outputs": [
    {
     "name": "stdout",
     "output_type": "stream",
     "text": [
      "<class 'pandas.core.frame.DataFrame'>\n",
      "RangeIndex: 1000 entries, 0 to 999\n",
      "Data columns (total 8 columns):\n",
      " #   Column             Non-Null Count  Dtype  \n",
      "---  ------             --------------  -----  \n",
      " 0   number             1000 non-null   int64  \n",
      " 1   first_name         999 non-null    object \n",
      " 2   last_name          999 non-null    object \n",
      " 3   gender             793 non-null    object \n",
      " 4   birth_date         999 non-null    object \n",
      " 5   employment_status  811 non-null    object \n",
      " 6   annual_salary      983 non-null    float64\n",
      " 7   tax_file_no        0 non-null      float64\n",
      "dtypes: float64(2), int64(1), object(5)\n",
      "memory usage: 62.6+ KB\n"
     ]
    }
   ],
   "source": [
    "df_employee.info()"
   ]
  },
  {
   "cell_type": "code",
   "execution_count": 4,
   "id": "02c9ee01",
   "metadata": {
    "ExecuteTime": {
     "end_time": "2021-08-04T22:05:06.356777Z",
     "start_time": "2021-08-04T22:05:06.350389Z"
    }
   },
   "outputs": [
    {
     "data": {
      "text/plain": [
       "number                  0\n",
       "first_name              1\n",
       "last_name               1\n",
       "gender                207\n",
       "birth_date              1\n",
       "employment_status     189\n",
       "annual_salary          17\n",
       "tax_file_no          1000\n",
       "dtype: int64"
      ]
     },
     "execution_count": 4,
     "metadata": {},
     "output_type": "execute_result"
    }
   ],
   "source": [
    "df_employee.isnull().sum()"
   ]
  },
  {
   "cell_type": "markdown",
   "id": "7e9e846b",
   "metadata": {},
   "source": [
    "## Porcentaje de datos nulos"
   ]
  },
  {
   "cell_type": "code",
   "execution_count": 5,
   "id": "662bf597",
   "metadata": {
    "ExecuteTime": {
     "end_time": "2021-08-04T22:05:06.361992Z",
     "start_time": "2021-08-04T22:05:06.358521Z"
    }
   },
   "outputs": [
    {
     "name": "stdout",
     "output_type": "stream",
     "text": [
      "1000 8\n"
     ]
    }
   ],
   "source": [
    "rows, columns = df_employee.shape\n",
    "print(rows, columns)"
   ]
  },
  {
   "cell_type": "code",
   "execution_count": 6,
   "id": "f3995fd9",
   "metadata": {
    "ExecuteTime": {
     "end_time": "2021-08-04T22:05:06.366813Z",
     "start_time": "2021-08-04T22:05:06.363542Z"
    }
   },
   "outputs": [
    {
     "name": "stdout",
     "output_type": "stream",
     "text": [
      "8000\n"
     ]
    }
   ],
   "source": [
    "cell_count = rows * columns\n",
    "print(cell_count)"
   ]
  },
  {
   "cell_type": "code",
   "execution_count": 7,
   "id": "3e694055",
   "metadata": {
    "ExecuteTime": {
     "end_time": "2021-08-04T22:05:06.372906Z",
     "start_time": "2021-08-04T22:05:06.368083Z"
    }
   },
   "outputs": [
    {
     "name": "stdout",
     "output_type": "stream",
     "text": [
      "Percentage of missing values: 17.7%\n"
     ]
    }
   ],
   "source": [
    "number_of_nulls = df_employee.isnull().sum().sum()\n",
    "percentage_of_missing = (number_of_nulls / cell_count) * 100\n",
    "print(f'Percentage of missing values: {percentage_of_missing}%')"
   ]
  },
  {
   "cell_type": "markdown",
   "id": "3d54e554",
   "metadata": {
    "ExecuteTime": {
     "end_time": "2021-08-04T20:10:17.233890Z",
     "start_time": "2021-08-04T20:10:17.229010Z"
    }
   },
   "source": [
    "## Eliminar columnas\n",
    "\n",
    "Las columnas que sean irrelevantes desde el punto de vista del contexto, o que tengan demasiado valores nulos y no puedan ser \"imputados\" se deben remover de los datos"
   ]
  },
  {
   "cell_type": "code",
   "execution_count": 8,
   "id": "506a1d01",
   "metadata": {
    "ExecuteTime": {
     "end_time": "2021-08-04T22:05:06.391510Z",
     "start_time": "2021-08-04T22:05:06.375562Z"
    }
   },
   "outputs": [
    {
     "data": {
      "text/html": [
       "<div>\n",
       "<style scoped>\n",
       "    .dataframe tbody tr th:only-of-type {\n",
       "        vertical-align: middle;\n",
       "    }\n",
       "\n",
       "    .dataframe tbody tr th {\n",
       "        vertical-align: top;\n",
       "    }\n",
       "\n",
       "    .dataframe thead th {\n",
       "        text-align: right;\n",
       "    }\n",
       "</style>\n",
       "<table border=\"1\" class=\"dataframe\">\n",
       "  <thead>\n",
       "    <tr style=\"text-align: right;\">\n",
       "      <th></th>\n",
       "      <th>number</th>\n",
       "      <th>first_name</th>\n",
       "      <th>last_name</th>\n",
       "      <th>gender</th>\n",
       "      <th>birth_date</th>\n",
       "      <th>employment_status</th>\n",
       "      <th>annual_salary</th>\n",
       "    </tr>\n",
       "  </thead>\n",
       "  <tbody>\n",
       "    <tr>\n",
       "      <th>0</th>\n",
       "      <td>483</td>\n",
       "      <td>Lenord</td>\n",
       "      <td>Kihn</td>\n",
       "      <td>M</td>\n",
       "      <td>1994-07-01</td>\n",
       "      <td>NaN</td>\n",
       "      <td>64598.0</td>\n",
       "    </tr>\n",
       "    <tr>\n",
       "      <th>1</th>\n",
       "      <td>478</td>\n",
       "      <td>Palma</td>\n",
       "      <td>Beahan</td>\n",
       "      <td>F</td>\n",
       "      <td>1972-05-06</td>\n",
       "      <td>PE</td>\n",
       "      <td>124103.0</td>\n",
       "    </tr>\n",
       "    <tr>\n",
       "      <th>2</th>\n",
       "      <td>348</td>\n",
       "      <td>Hebert</td>\n",
       "      <td>Muller</td>\n",
       "      <td>M</td>\n",
       "      <td>1990-09-04</td>\n",
       "      <td>PE</td>\n",
       "      <td>100324.0</td>\n",
       "    </tr>\n",
       "    <tr>\n",
       "      <th>3</th>\n",
       "      <td>757</td>\n",
       "      <td>Virginia</td>\n",
       "      <td>Ullrich</td>\n",
       "      <td>M</td>\n",
       "      <td>1991-09-23</td>\n",
       "      <td>PE</td>\n",
       "      <td>144957.0</td>\n",
       "    </tr>\n",
       "    <tr>\n",
       "      <th>4</th>\n",
       "      <td>937</td>\n",
       "      <td>Roby</td>\n",
       "      <td>Hudson</td>\n",
       "      <td>M</td>\n",
       "      <td>1997-01-15</td>\n",
       "      <td>NaN</td>\n",
       "      <td>137659.0</td>\n",
       "    </tr>\n",
       "    <tr>\n",
       "      <th>...</th>\n",
       "      <td>...</td>\n",
       "      <td>...</td>\n",
       "      <td>...</td>\n",
       "      <td>...</td>\n",
       "      <td>...</td>\n",
       "      <td>...</td>\n",
       "      <td>...</td>\n",
       "    </tr>\n",
       "    <tr>\n",
       "      <th>995</th>\n",
       "      <td>712</td>\n",
       "      <td>Dann</td>\n",
       "      <td>Crooks</td>\n",
       "      <td>NaN</td>\n",
       "      <td>1983-12-25</td>\n",
       "      <td>CA</td>\n",
       "      <td>66592.0</td>\n",
       "    </tr>\n",
       "    <tr>\n",
       "      <th>996</th>\n",
       "      <td>132</td>\n",
       "      <td>Maxim</td>\n",
       "      <td>Orn</td>\n",
       "      <td>M</td>\n",
       "      <td>1971-03-01</td>\n",
       "      <td>CA</td>\n",
       "      <td>127966.0</td>\n",
       "    </tr>\n",
       "    <tr>\n",
       "      <th>997</th>\n",
       "      <td>126</td>\n",
       "      <td>Kimberli</td>\n",
       "      <td>Walter</td>\n",
       "      <td>M</td>\n",
       "      <td>1976-03-07</td>\n",
       "      <td>CA</td>\n",
       "      <td>60712.0</td>\n",
       "    </tr>\n",
       "    <tr>\n",
       "      <th>998</th>\n",
       "      <td>277</td>\n",
       "      <td>Talmage</td>\n",
       "      <td>Bartell</td>\n",
       "      <td>F</td>\n",
       "      <td>1989-02-19</td>\n",
       "      <td>PE</td>\n",
       "      <td>103606.0</td>\n",
       "    </tr>\n",
       "    <tr>\n",
       "      <th>999</th>\n",
       "      <td>960</td>\n",
       "      <td>Laurie</td>\n",
       "      <td>Nienow</td>\n",
       "      <td>M</td>\n",
       "      <td>1993-04-01</td>\n",
       "      <td>PE</td>\n",
       "      <td>127405.0</td>\n",
       "    </tr>\n",
       "  </tbody>\n",
       "</table>\n",
       "<p>1000 rows × 7 columns</p>\n",
       "</div>"
      ],
      "text/plain": [
       "     number first_name last_name gender  birth_date employment_status  \\\n",
       "0       483     Lenord      Kihn      M  1994-07-01               NaN   \n",
       "1       478      Palma    Beahan      F  1972-05-06                PE   \n",
       "2       348     Hebert    Muller      M  1990-09-04                PE   \n",
       "3       757   Virginia   Ullrich      M  1991-09-23                PE   \n",
       "4       937       Roby    Hudson      M  1997-01-15               NaN   \n",
       "..      ...        ...       ...    ...         ...               ...   \n",
       "995     712       Dann    Crooks    NaN  1983-12-25                CA   \n",
       "996     132      Maxim       Orn      M  1971-03-01                CA   \n",
       "997     126   Kimberli    Walter      M  1976-03-07                CA   \n",
       "998     277    Talmage   Bartell      F  1989-02-19                PE   \n",
       "999     960     Laurie    Nienow      M  1993-04-01                PE   \n",
       "\n",
       "     annual_salary  \n",
       "0          64598.0  \n",
       "1         124103.0  \n",
       "2         100324.0  \n",
       "3         144957.0  \n",
       "4         137659.0  \n",
       "..             ...  \n",
       "995        66592.0  \n",
       "996       127966.0  \n",
       "997        60712.0  \n",
       "998       103606.0  \n",
       "999       127405.0  \n",
       "\n",
       "[1000 rows x 7 columns]"
      ]
     },
     "execution_count": 8,
     "metadata": {},
     "output_type": "execute_result"
    }
   ],
   "source": [
    "df_employee.dropna(axis=\"columns\", how=\"all\")"
   ]
  },
  {
   "cell_type": "code",
   "execution_count": 9,
   "id": "a9a434ff",
   "metadata": {
    "ExecuteTime": {
     "end_time": "2021-08-04T22:05:06.406508Z",
     "start_time": "2021-08-04T22:05:06.392823Z"
    }
   },
   "outputs": [
    {
     "data": {
      "text/html": [
       "<div>\n",
       "<style scoped>\n",
       "    .dataframe tbody tr th:only-of-type {\n",
       "        vertical-align: middle;\n",
       "    }\n",
       "\n",
       "    .dataframe tbody tr th {\n",
       "        vertical-align: top;\n",
       "    }\n",
       "\n",
       "    .dataframe thead th {\n",
       "        text-align: right;\n",
       "    }\n",
       "</style>\n",
       "<table border=\"1\" class=\"dataframe\">\n",
       "  <thead>\n",
       "    <tr style=\"text-align: right;\">\n",
       "      <th></th>\n",
       "      <th>number</th>\n",
       "      <th>first_name</th>\n",
       "      <th>last_name</th>\n",
       "      <th>gender</th>\n",
       "      <th>birth_date</th>\n",
       "      <th>employment_status</th>\n",
       "      <th>annual_salary</th>\n",
       "    </tr>\n",
       "  </thead>\n",
       "  <tbody>\n",
       "    <tr>\n",
       "      <th>0</th>\n",
       "      <td>483</td>\n",
       "      <td>Lenord</td>\n",
       "      <td>Kihn</td>\n",
       "      <td>M</td>\n",
       "      <td>1994-07-01</td>\n",
       "      <td>NaN</td>\n",
       "      <td>64598.0</td>\n",
       "    </tr>\n",
       "    <tr>\n",
       "      <th>1</th>\n",
       "      <td>478</td>\n",
       "      <td>Palma</td>\n",
       "      <td>Beahan</td>\n",
       "      <td>F</td>\n",
       "      <td>1972-05-06</td>\n",
       "      <td>PE</td>\n",
       "      <td>124103.0</td>\n",
       "    </tr>\n",
       "    <tr>\n",
       "      <th>2</th>\n",
       "      <td>348</td>\n",
       "      <td>Hebert</td>\n",
       "      <td>Muller</td>\n",
       "      <td>M</td>\n",
       "      <td>1990-09-04</td>\n",
       "      <td>PE</td>\n",
       "      <td>100324.0</td>\n",
       "    </tr>\n",
       "    <tr>\n",
       "      <th>3</th>\n",
       "      <td>757</td>\n",
       "      <td>Virginia</td>\n",
       "      <td>Ullrich</td>\n",
       "      <td>M</td>\n",
       "      <td>1991-09-23</td>\n",
       "      <td>PE</td>\n",
       "      <td>144957.0</td>\n",
       "    </tr>\n",
       "    <tr>\n",
       "      <th>4</th>\n",
       "      <td>937</td>\n",
       "      <td>Roby</td>\n",
       "      <td>Hudson</td>\n",
       "      <td>M</td>\n",
       "      <td>1997-01-15</td>\n",
       "      <td>NaN</td>\n",
       "      <td>137659.0</td>\n",
       "    </tr>\n",
       "    <tr>\n",
       "      <th>...</th>\n",
       "      <td>...</td>\n",
       "      <td>...</td>\n",
       "      <td>...</td>\n",
       "      <td>...</td>\n",
       "      <td>...</td>\n",
       "      <td>...</td>\n",
       "      <td>...</td>\n",
       "    </tr>\n",
       "    <tr>\n",
       "      <th>995</th>\n",
       "      <td>712</td>\n",
       "      <td>Dann</td>\n",
       "      <td>Crooks</td>\n",
       "      <td>NaN</td>\n",
       "      <td>1983-12-25</td>\n",
       "      <td>CA</td>\n",
       "      <td>66592.0</td>\n",
       "    </tr>\n",
       "    <tr>\n",
       "      <th>996</th>\n",
       "      <td>132</td>\n",
       "      <td>Maxim</td>\n",
       "      <td>Orn</td>\n",
       "      <td>M</td>\n",
       "      <td>1971-03-01</td>\n",
       "      <td>CA</td>\n",
       "      <td>127966.0</td>\n",
       "    </tr>\n",
       "    <tr>\n",
       "      <th>997</th>\n",
       "      <td>126</td>\n",
       "      <td>Kimberli</td>\n",
       "      <td>Walter</td>\n",
       "      <td>M</td>\n",
       "      <td>1976-03-07</td>\n",
       "      <td>CA</td>\n",
       "      <td>60712.0</td>\n",
       "    </tr>\n",
       "    <tr>\n",
       "      <th>998</th>\n",
       "      <td>277</td>\n",
       "      <td>Talmage</td>\n",
       "      <td>Bartell</td>\n",
       "      <td>F</td>\n",
       "      <td>1989-02-19</td>\n",
       "      <td>PE</td>\n",
       "      <td>103606.0</td>\n",
       "    </tr>\n",
       "    <tr>\n",
       "      <th>999</th>\n",
       "      <td>960</td>\n",
       "      <td>Laurie</td>\n",
       "      <td>Nienow</td>\n",
       "      <td>M</td>\n",
       "      <td>1993-04-01</td>\n",
       "      <td>PE</td>\n",
       "      <td>127405.0</td>\n",
       "    </tr>\n",
       "  </tbody>\n",
       "</table>\n",
       "<p>1000 rows × 7 columns</p>\n",
       "</div>"
      ],
      "text/plain": [
       "     number first_name last_name gender  birth_date employment_status  \\\n",
       "0       483     Lenord      Kihn      M  1994-07-01               NaN   \n",
       "1       478      Palma    Beahan      F  1972-05-06                PE   \n",
       "2       348     Hebert    Muller      M  1990-09-04                PE   \n",
       "3       757   Virginia   Ullrich      M  1991-09-23                PE   \n",
       "4       937       Roby    Hudson      M  1997-01-15               NaN   \n",
       "..      ...        ...       ...    ...         ...               ...   \n",
       "995     712       Dann    Crooks    NaN  1983-12-25                CA   \n",
       "996     132      Maxim       Orn      M  1971-03-01                CA   \n",
       "997     126   Kimberli    Walter      M  1976-03-07                CA   \n",
       "998     277    Talmage   Bartell      F  1989-02-19                PE   \n",
       "999     960     Laurie    Nienow      M  1993-04-01                PE   \n",
       "\n",
       "     annual_salary  \n",
       "0          64598.0  \n",
       "1         124103.0  \n",
       "2         100324.0  \n",
       "3         144957.0  \n",
       "4         137659.0  \n",
       "..             ...  \n",
       "995        66592.0  \n",
       "996       127966.0  \n",
       "997        60712.0  \n",
       "998       103606.0  \n",
       "999       127405.0  \n",
       "\n",
       "[1000 rows x 7 columns]"
      ]
     },
     "execution_count": 9,
     "metadata": {},
     "output_type": "execute_result"
    }
   ],
   "source": [
    "df_employee.drop(labels=[\"tax_file_no\"], axis=\"columns\")"
   ]
  },
  {
   "cell_type": "code",
   "execution_count": 10,
   "id": "5cf525a2",
   "metadata": {
    "ExecuteTime": {
     "end_time": "2021-08-04T22:05:06.411306Z",
     "start_time": "2021-08-04T22:05:06.407801Z"
    }
   },
   "outputs": [],
   "source": [
    "df_employee.drop(labels=[\"tax_file_no\"], axis=\"columns\", inplace=True)"
   ]
  },
  {
   "cell_type": "code",
   "execution_count": 11,
   "id": "bf4abc97",
   "metadata": {
    "ExecuteTime": {
     "end_time": "2021-08-04T22:05:06.422811Z",
     "start_time": "2021-08-04T22:05:06.413005Z"
    }
   },
   "outputs": [
    {
     "data": {
      "text/html": [
       "<div>\n",
       "<style scoped>\n",
       "    .dataframe tbody tr th:only-of-type {\n",
       "        vertical-align: middle;\n",
       "    }\n",
       "\n",
       "    .dataframe tbody tr th {\n",
       "        vertical-align: top;\n",
       "    }\n",
       "\n",
       "    .dataframe thead th {\n",
       "        text-align: right;\n",
       "    }\n",
       "</style>\n",
       "<table border=\"1\" class=\"dataframe\">\n",
       "  <thead>\n",
       "    <tr style=\"text-align: right;\">\n",
       "      <th></th>\n",
       "      <th>number</th>\n",
       "      <th>first_name</th>\n",
       "      <th>last_name</th>\n",
       "      <th>gender</th>\n",
       "      <th>birth_date</th>\n",
       "      <th>employment_status</th>\n",
       "      <th>annual_salary</th>\n",
       "    </tr>\n",
       "  </thead>\n",
       "  <tbody>\n",
       "    <tr>\n",
       "      <th>0</th>\n",
       "      <td>483</td>\n",
       "      <td>Lenord</td>\n",
       "      <td>Kihn</td>\n",
       "      <td>M</td>\n",
       "      <td>1994-07-01</td>\n",
       "      <td>NaN</td>\n",
       "      <td>64598.0</td>\n",
       "    </tr>\n",
       "    <tr>\n",
       "      <th>1</th>\n",
       "      <td>478</td>\n",
       "      <td>Palma</td>\n",
       "      <td>Beahan</td>\n",
       "      <td>F</td>\n",
       "      <td>1972-05-06</td>\n",
       "      <td>PE</td>\n",
       "      <td>124103.0</td>\n",
       "    </tr>\n",
       "    <tr>\n",
       "      <th>2</th>\n",
       "      <td>348</td>\n",
       "      <td>Hebert</td>\n",
       "      <td>Muller</td>\n",
       "      <td>M</td>\n",
       "      <td>1990-09-04</td>\n",
       "      <td>PE</td>\n",
       "      <td>100324.0</td>\n",
       "    </tr>\n",
       "    <tr>\n",
       "      <th>3</th>\n",
       "      <td>757</td>\n",
       "      <td>Virginia</td>\n",
       "      <td>Ullrich</td>\n",
       "      <td>M</td>\n",
       "      <td>1991-09-23</td>\n",
       "      <td>PE</td>\n",
       "      <td>144957.0</td>\n",
       "    </tr>\n",
       "    <tr>\n",
       "      <th>4</th>\n",
       "      <td>937</td>\n",
       "      <td>Roby</td>\n",
       "      <td>Hudson</td>\n",
       "      <td>M</td>\n",
       "      <td>1997-01-15</td>\n",
       "      <td>NaN</td>\n",
       "      <td>137659.0</td>\n",
       "    </tr>\n",
       "  </tbody>\n",
       "</table>\n",
       "</div>"
      ],
      "text/plain": [
       "   number first_name last_name gender  birth_date employment_status  \\\n",
       "0     483     Lenord      Kihn      M  1994-07-01               NaN   \n",
       "1     478      Palma    Beahan      F  1972-05-06                PE   \n",
       "2     348     Hebert    Muller      M  1990-09-04                PE   \n",
       "3     757   Virginia   Ullrich      M  1991-09-23                PE   \n",
       "4     937       Roby    Hudson      M  1997-01-15               NaN   \n",
       "\n",
       "   annual_salary  \n",
       "0        64598.0  \n",
       "1       124103.0  \n",
       "2       100324.0  \n",
       "3       144957.0  \n",
       "4       137659.0  "
      ]
     },
     "execution_count": 11,
     "metadata": {},
     "output_type": "execute_result"
    }
   ],
   "source": [
    "df_employee.head()"
   ]
  },
  {
   "cell_type": "code",
   "execution_count": 12,
   "id": "5421e7e7",
   "metadata": {
    "ExecuteTime": {
     "end_time": "2021-08-04T22:05:06.434280Z",
     "start_time": "2021-08-04T22:05:06.424231Z"
    }
   },
   "outputs": [
    {
     "name": "stdout",
     "output_type": "stream",
     "text": [
      "<class 'pandas.core.frame.DataFrame'>\n",
      "RangeIndex: 1000 entries, 0 to 999\n",
      "Data columns (total 7 columns):\n",
      " #   Column             Non-Null Count  Dtype  \n",
      "---  ------             --------------  -----  \n",
      " 0   number             1000 non-null   int64  \n",
      " 1   first_name         999 non-null    object \n",
      " 2   last_name          999 non-null    object \n",
      " 3   gender             793 non-null    object \n",
      " 4   birth_date         999 non-null    object \n",
      " 5   employment_status  811 non-null    object \n",
      " 6   annual_salary      983 non-null    float64\n",
      "dtypes: float64(1), int64(1), object(5)\n",
      "memory usage: 54.8+ KB\n"
     ]
    }
   ],
   "source": [
    "df_employee.info()"
   ]
  },
  {
   "cell_type": "markdown",
   "id": "7070990e",
   "metadata": {},
   "source": [
    "## Remover renglones\n",
    "\n",
    "Podemos remover renglones que tengan cierta cantidad datos nulos."
   ]
  },
  {
   "cell_type": "code",
   "execution_count": 13,
   "id": "325ac950",
   "metadata": {
    "ExecuteTime": {
     "end_time": "2021-08-04T22:05:06.450899Z",
     "start_time": "2021-08-04T22:05:06.435579Z"
    }
   },
   "outputs": [
    {
     "data": {
      "text/html": [
       "<div>\n",
       "<style scoped>\n",
       "    .dataframe tbody tr th:only-of-type {\n",
       "        vertical-align: middle;\n",
       "    }\n",
       "\n",
       "    .dataframe tbody tr th {\n",
       "        vertical-align: top;\n",
       "    }\n",
       "\n",
       "    .dataframe thead th {\n",
       "        text-align: right;\n",
       "    }\n",
       "</style>\n",
       "<table border=\"1\" class=\"dataframe\">\n",
       "  <thead>\n",
       "    <tr style=\"text-align: right;\">\n",
       "      <th></th>\n",
       "      <th>number</th>\n",
       "      <th>first_name</th>\n",
       "      <th>last_name</th>\n",
       "      <th>gender</th>\n",
       "      <th>birth_date</th>\n",
       "      <th>employment_status</th>\n",
       "      <th>annual_salary</th>\n",
       "    </tr>\n",
       "  </thead>\n",
       "  <tbody>\n",
       "    <tr>\n",
       "      <th>0</th>\n",
       "      <td>483</td>\n",
       "      <td>Lenord</td>\n",
       "      <td>Kihn</td>\n",
       "      <td>M</td>\n",
       "      <td>1994-07-01</td>\n",
       "      <td>NaN</td>\n",
       "      <td>64598.0</td>\n",
       "    </tr>\n",
       "    <tr>\n",
       "      <th>1</th>\n",
       "      <td>478</td>\n",
       "      <td>Palma</td>\n",
       "      <td>Beahan</td>\n",
       "      <td>F</td>\n",
       "      <td>1972-05-06</td>\n",
       "      <td>PE</td>\n",
       "      <td>124103.0</td>\n",
       "    </tr>\n",
       "    <tr>\n",
       "      <th>2</th>\n",
       "      <td>348</td>\n",
       "      <td>Hebert</td>\n",
       "      <td>Muller</td>\n",
       "      <td>M</td>\n",
       "      <td>1990-09-04</td>\n",
       "      <td>PE</td>\n",
       "      <td>100324.0</td>\n",
       "    </tr>\n",
       "    <tr>\n",
       "      <th>3</th>\n",
       "      <td>757</td>\n",
       "      <td>Virginia</td>\n",
       "      <td>Ullrich</td>\n",
       "      <td>M</td>\n",
       "      <td>1991-09-23</td>\n",
       "      <td>PE</td>\n",
       "      <td>144957.0</td>\n",
       "    </tr>\n",
       "    <tr>\n",
       "      <th>4</th>\n",
       "      <td>937</td>\n",
       "      <td>Roby</td>\n",
       "      <td>Hudson</td>\n",
       "      <td>M</td>\n",
       "      <td>1997-01-15</td>\n",
       "      <td>NaN</td>\n",
       "      <td>137659.0</td>\n",
       "    </tr>\n",
       "    <tr>\n",
       "      <th>...</th>\n",
       "      <td>...</td>\n",
       "      <td>...</td>\n",
       "      <td>...</td>\n",
       "      <td>...</td>\n",
       "      <td>...</td>\n",
       "      <td>...</td>\n",
       "      <td>...</td>\n",
       "    </tr>\n",
       "    <tr>\n",
       "      <th>995</th>\n",
       "      <td>712</td>\n",
       "      <td>Dann</td>\n",
       "      <td>Crooks</td>\n",
       "      <td>NaN</td>\n",
       "      <td>1983-12-25</td>\n",
       "      <td>CA</td>\n",
       "      <td>66592.0</td>\n",
       "    </tr>\n",
       "    <tr>\n",
       "      <th>996</th>\n",
       "      <td>132</td>\n",
       "      <td>Maxim</td>\n",
       "      <td>Orn</td>\n",
       "      <td>M</td>\n",
       "      <td>1971-03-01</td>\n",
       "      <td>CA</td>\n",
       "      <td>127966.0</td>\n",
       "    </tr>\n",
       "    <tr>\n",
       "      <th>997</th>\n",
       "      <td>126</td>\n",
       "      <td>Kimberli</td>\n",
       "      <td>Walter</td>\n",
       "      <td>M</td>\n",
       "      <td>1976-03-07</td>\n",
       "      <td>CA</td>\n",
       "      <td>60712.0</td>\n",
       "    </tr>\n",
       "    <tr>\n",
       "      <th>998</th>\n",
       "      <td>277</td>\n",
       "      <td>Talmage</td>\n",
       "      <td>Bartell</td>\n",
       "      <td>F</td>\n",
       "      <td>1989-02-19</td>\n",
       "      <td>PE</td>\n",
       "      <td>103606.0</td>\n",
       "    </tr>\n",
       "    <tr>\n",
       "      <th>999</th>\n",
       "      <td>960</td>\n",
       "      <td>Laurie</td>\n",
       "      <td>Nienow</td>\n",
       "      <td>M</td>\n",
       "      <td>1993-04-01</td>\n",
       "      <td>PE</td>\n",
       "      <td>127405.0</td>\n",
       "    </tr>\n",
       "  </tbody>\n",
       "</table>\n",
       "<p>999 rows × 7 columns</p>\n",
       "</div>"
      ],
      "text/plain": [
       "     number first_name last_name gender  birth_date employment_status  \\\n",
       "0       483     Lenord      Kihn      M  1994-07-01               NaN   \n",
       "1       478      Palma    Beahan      F  1972-05-06                PE   \n",
       "2       348     Hebert    Muller      M  1990-09-04                PE   \n",
       "3       757   Virginia   Ullrich      M  1991-09-23                PE   \n",
       "4       937       Roby    Hudson      M  1997-01-15               NaN   \n",
       "..      ...        ...       ...    ...         ...               ...   \n",
       "995     712       Dann    Crooks    NaN  1983-12-25                CA   \n",
       "996     132      Maxim       Orn      M  1971-03-01                CA   \n",
       "997     126   Kimberli    Walter      M  1976-03-07                CA   \n",
       "998     277    Talmage   Bartell      F  1989-02-19                PE   \n",
       "999     960     Laurie    Nienow      M  1993-04-01                PE   \n",
       "\n",
       "     annual_salary  \n",
       "0          64598.0  \n",
       "1         124103.0  \n",
       "2         100324.0  \n",
       "3         144957.0  \n",
       "4         137659.0  \n",
       "..             ...  \n",
       "995        66592.0  \n",
       "996       127966.0  \n",
       "997        60712.0  \n",
       "998       103606.0  \n",
       "999       127405.0  \n",
       "\n",
       "[999 rows x 7 columns]"
      ]
     },
     "execution_count": 13,
     "metadata": {},
     "output_type": "execute_result"
    }
   ],
   "source": [
    "df_employee.dropna(axis='index', thresh=2, inplace=False)"
   ]
  },
  {
   "cell_type": "code",
   "execution_count": 14,
   "id": "a8216fff",
   "metadata": {
    "ExecuteTime": {
     "end_time": "2021-08-04T22:05:06.457461Z",
     "start_time": "2021-08-04T22:05:06.452364Z"
    }
   },
   "outputs": [],
   "source": [
    "df_employee.dropna(axis='index', thresh=2, inplace=True)"
   ]
  },
  {
   "cell_type": "markdown",
   "id": "477aa38a",
   "metadata": {},
   "source": [
    "## Reemplazar valores nulos\n",
    "\n",
    "Para eso hay diversas técnicas y dependerá tanto del contexto como del tipo de dato que estemos analizando,"
   ]
  },
  {
   "cell_type": "code",
   "execution_count": 15,
   "id": "aaa30f3f",
   "metadata": {
    "ExecuteTime": {
     "end_time": "2021-08-04T22:05:06.462686Z",
     "start_time": "2021-08-04T22:05:06.458948Z"
    }
   },
   "outputs": [],
   "source": [
    "def plot_frecuency_distribution(category, df):\n",
    "    cat_count = df[category].value_counts()\n",
    "    sns.set(style=\"darkgrid\")\n",
    "    sns.barplot(cat_count.index, cat_count.values, alpha=0.9)\n",
    "    plt.title(f'Frequency Distribution of {category.capitalize()}')\n",
    "    plt.ylabel('Number of Occurrences', fontsize=12)\n",
    "    plt.xlabel(category.capitalize(), fontsize=12)\n",
    "    plt.show()"
   ]
  },
  {
   "cell_type": "code",
   "execution_count": 16,
   "id": "dec0d58e",
   "metadata": {
    "ExecuteTime": {
     "end_time": "2021-08-04T22:05:06.468271Z",
     "start_time": "2021-08-04T22:05:06.464248Z"
    }
   },
   "outputs": [],
   "source": [
    "def plot_pie_chart(category, df):\n",
    "    labels = df[category].astype('category').cat.categories.tolist()\n",
    "    counts = df[category].value_counts()\n",
    "    sizes = [counts[var_cat] for var_cat in labels]\n",
    "    fig1, ax1 = plt.subplots(figsize=(10,10))\n",
    "    ax1.pie(sizes, labels=labels, autopct='%1.1f%%', shadow=True)\n",
    "    plt.show()"
   ]
  },
  {
   "cell_type": "markdown",
   "id": "1825efaf",
   "metadata": {},
   "source": [
    "### Columna Gender"
   ]
  },
  {
   "cell_type": "code",
   "execution_count": 17,
   "id": "9b0fc0f4",
   "metadata": {
    "ExecuteTime": {
     "end_time": "2021-08-04T22:05:06.630158Z",
     "start_time": "2021-08-04T22:05:06.469747Z"
    }
   },
   "outputs": [
    {
     "name": "stderr",
     "output_type": "stream",
     "text": [
      "C:\\Users\\David.Piedrahita\\anaconda3\\lib\\site-packages\\seaborn\\_decorators.py:36: FutureWarning: Pass the following variables as keyword args: x, y. From version 0.12, the only valid positional argument will be `data`, and passing other arguments without an explicit keyword will result in an error or misinterpretation.\n",
      "  warnings.warn(\n"
     ]
    },
    {
     "data": {
      "image/png": "[encoded data removed]",
      "text/plain": [
       "<Figure size 432x288 with 1 Axes>"
      ]
     },
     "metadata": {},
     "output_type": "display_data"
    }
   ],
   "source": [
    "plot_frecuency_distribution(\"gender\", df_employee)"
   ]
  },
  {
   "cell_type": "markdown",
   "id": "afa45434",
   "metadata": {},
   "source": [
    "#### corregir utilizando la función fillna de pandas"
   ]
  },
  {
   "cell_type": "code",
   "execution_count": 18,
   "id": "50155d72",
   "metadata": {
    "ExecuteTime": {
     "end_time": "2021-08-04T22:05:06.639800Z",
     "start_time": "2021-08-04T22:05:06.631834Z"
    }
   },
   "outputs": [
    {
     "data": {
      "text/plain": [
       "0      M\n",
       "1      F\n",
       "2      M\n",
       "3      M\n",
       "4      M\n",
       "      ..\n",
       "995    U\n",
       "996    M\n",
       "997    M\n",
       "998    F\n",
       "999    M\n",
       "Name: gender, Length: 999, dtype: object"
      ]
     },
     "execution_count": 18,
     "metadata": {},
     "output_type": "execute_result"
    }
   ],
   "source": [
    "df_employee.gender.fillna(\"U\")"
   ]
  },
  {
   "cell_type": "markdown",
   "id": "f97d15a8",
   "metadata": {},
   "source": [
    "#### Aplicar una función personalizada"
   ]
  },
  {
   "cell_type": "code",
   "execution_count": 19,
   "id": "b016e98c",
   "metadata": {
    "ExecuteTime": {
     "end_time": "2021-08-04T22:05:06.655751Z",
     "start_time": "2021-08-04T22:05:06.642083Z"
    }
   },
   "outputs": [
    {
     "data": {
      "text/html": [
       "<div>\n",
       "<style scoped>\n",
       "    .dataframe tbody tr th:only-of-type {\n",
       "        vertical-align: middle;\n",
       "    }\n",
       "\n",
       "    .dataframe tbody tr th {\n",
       "        vertical-align: top;\n",
       "    }\n",
       "\n",
       "    .dataframe thead th {\n",
       "        text-align: right;\n",
       "    }\n",
       "</style>\n",
       "<table border=\"1\" class=\"dataframe\">\n",
       "  <thead>\n",
       "    <tr style=\"text-align: right;\">\n",
       "      <th></th>\n",
       "      <th>number</th>\n",
       "      <th>first_name</th>\n",
       "      <th>last_name</th>\n",
       "      <th>gender</th>\n",
       "      <th>birth_date</th>\n",
       "      <th>employment_status</th>\n",
       "      <th>annual_salary</th>\n",
       "    </tr>\n",
       "  </thead>\n",
       "  <tbody>\n",
       "    <tr>\n",
       "      <th>5</th>\n",
       "      <td>264</td>\n",
       "      <td>Jaeda</td>\n",
       "      <td>Effertz</td>\n",
       "      <td>NaN</td>\n",
       "      <td>1994-03-21</td>\n",
       "      <td>PE</td>\n",
       "      <td>131924.0</td>\n",
       "    </tr>\n",
       "    <tr>\n",
       "      <th>15</th>\n",
       "      <td>194</td>\n",
       "      <td>Ace</td>\n",
       "      <td>Upton</td>\n",
       "      <td>NaN</td>\n",
       "      <td>1987-08-25</td>\n",
       "      <td>PE</td>\n",
       "      <td>120120.0</td>\n",
       "    </tr>\n",
       "    <tr>\n",
       "      <th>17</th>\n",
       "      <td>901</td>\n",
       "      <td>Nikki</td>\n",
       "      <td>D'Amore</td>\n",
       "      <td>NaN</td>\n",
       "      <td>1985-08-09</td>\n",
       "      <td>CA</td>\n",
       "      <td>108287.0</td>\n",
       "    </tr>\n",
       "    <tr>\n",
       "      <th>21</th>\n",
       "      <td>431</td>\n",
       "      <td>Maynard</td>\n",
       "      <td>Zieme</td>\n",
       "      <td>NaN</td>\n",
       "      <td>1982-10-12</td>\n",
       "      <td>PE</td>\n",
       "      <td>76354.0</td>\n",
       "    </tr>\n",
       "    <tr>\n",
       "      <th>39</th>\n",
       "      <td>982</td>\n",
       "      <td>Riley</td>\n",
       "      <td>Orn</td>\n",
       "      <td>NaN</td>\n",
       "      <td>1978-01-09</td>\n",
       "      <td>PE</td>\n",
       "      <td>82041.0</td>\n",
       "    </tr>\n",
       "    <tr>\n",
       "      <th>...</th>\n",
       "      <td>...</td>\n",
       "      <td>...</td>\n",
       "      <td>...</td>\n",
       "      <td>...</td>\n",
       "      <td>...</td>\n",
       "      <td>...</td>\n",
       "      <td>...</td>\n",
       "    </tr>\n",
       "    <tr>\n",
       "      <th>979</th>\n",
       "      <td>544</td>\n",
       "      <td>Henrietta</td>\n",
       "      <td>Greenholt</td>\n",
       "      <td>NaN</td>\n",
       "      <td>1977-04-06</td>\n",
       "      <td>PE</td>\n",
       "      <td>93206.0</td>\n",
       "    </tr>\n",
       "    <tr>\n",
       "      <th>985</th>\n",
       "      <td>819</td>\n",
       "      <td>Jed</td>\n",
       "      <td>Casper</td>\n",
       "      <td>NaN</td>\n",
       "      <td>1998-04-21</td>\n",
       "      <td>CA</td>\n",
       "      <td>98343.0</td>\n",
       "    </tr>\n",
       "    <tr>\n",
       "      <th>986</th>\n",
       "      <td>137</td>\n",
       "      <td>Rosco</td>\n",
       "      <td>Lynch</td>\n",
       "      <td>NaN</td>\n",
       "      <td>1989-06-20</td>\n",
       "      <td>PE</td>\n",
       "      <td>103499.0</td>\n",
       "    </tr>\n",
       "    <tr>\n",
       "      <th>990</th>\n",
       "      <td>916</td>\n",
       "      <td>Jerrad</td>\n",
       "      <td>Orn</td>\n",
       "      <td>NaN</td>\n",
       "      <td>1976-12-15</td>\n",
       "      <td>PE</td>\n",
       "      <td>142640.0</td>\n",
       "    </tr>\n",
       "    <tr>\n",
       "      <th>995</th>\n",
       "      <td>712</td>\n",
       "      <td>Dann</td>\n",
       "      <td>Crooks</td>\n",
       "      <td>NaN</td>\n",
       "      <td>1983-12-25</td>\n",
       "      <td>CA</td>\n",
       "      <td>66592.0</td>\n",
       "    </tr>\n",
       "  </tbody>\n",
       "</table>\n",
       "<p>206 rows × 7 columns</p>\n",
       "</div>"
      ],
      "text/plain": [
       "     number first_name  last_name gender  birth_date employment_status  \\\n",
       "5       264      Jaeda    Effertz    NaN  1994-03-21                PE   \n",
       "15      194        Ace      Upton    NaN  1987-08-25                PE   \n",
       "17      901      Nikki    D'Amore    NaN  1985-08-09                CA   \n",
       "21      431    Maynard      Zieme    NaN  1982-10-12                PE   \n",
       "39      982      Riley        Orn    NaN  1978-01-09                PE   \n",
       "..      ...        ...        ...    ...         ...               ...   \n",
       "979     544  Henrietta  Greenholt    NaN  1977-04-06                PE   \n",
       "985     819        Jed     Casper    NaN  1998-04-21                CA   \n",
       "986     137      Rosco      Lynch    NaN  1989-06-20                PE   \n",
       "990     916     Jerrad        Orn    NaN  1976-12-15                PE   \n",
       "995     712       Dann     Crooks    NaN  1983-12-25                CA   \n",
       "\n",
       "     annual_salary  \n",
       "5         131924.0  \n",
       "15        120120.0  \n",
       "17        108287.0  \n",
       "21         76354.0  \n",
       "39         82041.0  \n",
       "..             ...  \n",
       "979        93206.0  \n",
       "985        98343.0  \n",
       "986       103499.0  \n",
       "990       142640.0  \n",
       "995        66592.0  \n",
       "\n",
       "[206 rows x 7 columns]"
      ]
     },
     "execution_count": 19,
     "metadata": {},
     "output_type": "execute_result"
    }
   ],
   "source": [
    "df_employee[df_employee.gender.isna()]"
   ]
  },
  {
   "cell_type": "code",
   "execution_count": 20,
   "id": "694e5640",
   "metadata": {
    "ExecuteTime": {
     "end_time": "2021-08-04T22:05:06.660605Z",
     "start_time": "2021-08-04T22:05:06.657270Z"
    }
   },
   "outputs": [],
   "source": [
    "def clasificar_genero_por_nomber(nombre:str, gender):    \n",
    "    if not pd.isna(gender):\n",
    "        return gender\n",
    "    if nombre.endswith(\"o\") or nombre.endswith(\"r\") or nombre.endswith(\"r\"):\n",
    "        return \"M\"\n",
    "    \n",
    "    else:\n",
    "        return \"F\""
   ]
  },
  {
   "cell_type": "code",
   "execution_count": 21,
   "id": "24c13d82",
   "metadata": {
    "ExecuteTime": {
     "end_time": "2021-08-04T22:05:06.679858Z",
     "start_time": "2021-08-04T22:05:06.662290Z"
    }
   },
   "outputs": [],
   "source": [
    "df_employee[\"gender\"] = df_employee.apply(lambda row: clasificar_genero_por_nomber(row[\"first_name\"], row[\"gender\"]), axis=1)"
   ]
  },
  {
   "cell_type": "code",
   "execution_count": 22,
   "id": "518ef20f",
   "metadata": {
    "ExecuteTime": {
     "end_time": "2021-08-04T22:05:06.690930Z",
     "start_time": "2021-08-04T22:05:06.681422Z"
    }
   },
   "outputs": [
    {
     "name": "stdout",
     "output_type": "stream",
     "text": [
      "<class 'pandas.core.frame.DataFrame'>\n",
      "Int64Index: 999 entries, 0 to 999\n",
      "Data columns (total 7 columns):\n",
      " #   Column             Non-Null Count  Dtype  \n",
      "---  ------             --------------  -----  \n",
      " 0   number             999 non-null    int64  \n",
      " 1   first_name         999 non-null    object \n",
      " 2   last_name          999 non-null    object \n",
      " 3   gender             999 non-null    object \n",
      " 4   birth_date         999 non-null    object \n",
      " 5   employment_status  811 non-null    object \n",
      " 6   annual_salary      983 non-null    float64\n",
      "dtypes: float64(1), int64(1), object(5)\n",
      "memory usage: 62.4+ KB\n"
     ]
    }
   ],
   "source": [
    "df_employee.info()"
   ]
  },
  {
   "cell_type": "markdown",
   "id": "28a6721f",
   "metadata": {},
   "source": [
    "### Employment status"
   ]
  },
  {
   "cell_type": "code",
   "execution_count": 23,
   "id": "f824c59b",
   "metadata": {
    "ExecuteTime": {
     "end_time": "2021-08-04T22:05:06.698172Z",
     "start_time": "2021-08-04T22:05:06.692245Z"
    },
    "scrolled": true
   },
   "outputs": [
    {
     "data": {
      "text/plain": [
       "employment_status\n",
       "CA    109\n",
       "PE    599\n",
       "TE    103\n",
       "dtype: int64"
      ]
     },
     "execution_count": 23,
     "metadata": {},
     "output_type": "execute_result"
    }
   ],
   "source": [
    "df_employee.groupby(\"employment_status\").size()"
   ]
  },
  {
   "cell_type": "code",
   "execution_count": 24,
   "id": "06faad9d",
   "metadata": {
    "ExecuteTime": {
     "end_time": "2021-08-04T22:05:06.858441Z",
     "start_time": "2021-08-04T22:05:06.699857Z"
    }
   },
   "outputs": [
    {
     "name": "stderr",
     "output_type": "stream",
     "text": [
      "C:\\Users\\David.Piedrahita\\anaconda3\\lib\\site-packages\\seaborn\\_decorators.py:36: FutureWarning: Pass the following variables as keyword args: x, y. From version 0.12, the only valid positional argument will be `data`, and passing other arguments without an explicit keyword will result in an error or misinterpretation.\n",
      "  warnings.warn(\n"
     ]
    },
    {
     "data": {
      "image/png": "[encoded data removed]",
      "text/plain": [
       "<Figure size 432x288 with 1 Axes>"
      ]
     },
     "metadata": {},
     "output_type": "display_data"
    }
   ],
   "source": [
    "plot_frecuency_distribution(\"employment_status\", df_employee)"
   ]
  },
  {
   "cell_type": "code",
   "execution_count": 25,
   "id": "ac547321",
   "metadata": {
    "ExecuteTime": {
     "end_time": "2021-08-04T22:05:06.990715Z",
     "start_time": "2021-08-04T22:05:06.860690Z"
    }
   },
   "outputs": [
    {
     "data": {
      "image/png": "[encoded data removed]",
      "text/plain": [
       "<Figure size 720x720 with 1 Axes>"
      ]
     },
     "metadata": {},
     "output_type": "display_data"
    }
   ],
   "source": [
    "plot_pie_chart(\"employment_status\", df_employee)"
   ]
  },
  {
   "cell_type": "code",
   "execution_count": 26,
   "id": "2dffa64b",
   "metadata": {
    "ExecuteTime": {
     "end_time": "2021-08-04T22:05:06.997781Z",
     "start_time": "2021-08-04T22:05:06.994080Z"
    }
   },
   "outputs": [],
   "source": [
    "df_employee[\"employment_status\"] = df_employee.employment_status.fillna(\"PE\")"
   ]
  },
  {
   "cell_type": "code",
   "execution_count": 27,
   "id": "fb12da43",
   "metadata": {
    "ExecuteTime": {
     "end_time": "2021-08-04T22:05:07.008655Z",
     "start_time": "2021-08-04T22:05:06.999213Z"
    }
   },
   "outputs": [
    {
     "name": "stdout",
     "output_type": "stream",
     "text": [
      "<class 'pandas.core.frame.DataFrame'>\n",
      "Int64Index: 999 entries, 0 to 999\n",
      "Data columns (total 7 columns):\n",
      " #   Column             Non-Null Count  Dtype  \n",
      "---  ------             --------------  -----  \n",
      " 0   number             999 non-null    int64  \n",
      " 1   first_name         999 non-null    object \n",
      " 2   last_name          999 non-null    object \n",
      " 3   gender             999 non-null    object \n",
      " 4   birth_date         999 non-null    object \n",
      " 5   employment_status  999 non-null    object \n",
      " 6   annual_salary      983 non-null    float64\n",
      "dtypes: float64(1), int64(1), object(5)\n",
      "memory usage: 62.4+ KB\n"
     ]
    }
   ],
   "source": [
    "df_employee.info()"
   ]
  },
  {
   "cell_type": "markdown",
   "id": "6f6c0e1f",
   "metadata": {
    "ExecuteTime": {
     "end_time": "2021-08-04T21:29:33.081819Z",
     "start_time": "2021-08-04T21:29:33.077875Z"
    }
   },
   "source": [
    "## annual_salary"
   ]
  },
  {
   "cell_type": "code",
   "execution_count": 28,
   "id": "267ab12d",
   "metadata": {
    "ExecuteTime": {
     "end_time": "2021-08-04T22:05:07.014613Z",
     "start_time": "2021-08-04T22:05:07.010256Z"
    }
   },
   "outputs": [
    {
     "data": {
      "text/plain": [
       "102059.88708036623"
      ]
     },
     "execution_count": 28,
     "metadata": {},
     "output_type": "execute_result"
    }
   ],
   "source": [
    "salario_promedio = df_employee.annual_salary.mean()\n",
    "salario_promedio"
   ]
  },
  {
   "cell_type": "code",
   "execution_count": 29,
   "id": "5347f057",
   "metadata": {
    "ExecuteTime": {
     "end_time": "2021-08-04T22:05:07.019535Z",
     "start_time": "2021-08-04T22:05:07.015995Z"
    }
   },
   "outputs": [],
   "source": [
    "df_employee[\"annual_salary_fill_mean\"] = df_employee.annual_salary.fillna(salario_promedio)"
   ]
  },
  {
   "cell_type": "code",
   "execution_count": 30,
   "id": "590759f2",
   "metadata": {
    "ExecuteTime": {
     "end_time": "2021-08-04T22:05:07.024672Z",
     "start_time": "2021-08-04T22:05:07.020831Z"
    }
   },
   "outputs": [
    {
     "data": {
      "text/plain": [
       "102059.88708036618"
      ]
     },
     "execution_count": 30,
     "metadata": {},
     "output_type": "execute_result"
    }
   ],
   "source": [
    "df_employee[\"annual_salary_fill_mean\"].mean()"
   ]
  },
  {
   "cell_type": "code",
   "execution_count": 31,
   "id": "16121eb2",
   "metadata": {
    "ExecuteTime": {
     "end_time": "2021-08-04T22:05:07.034948Z",
     "start_time": "2021-08-04T22:05:07.025931Z"
    }
   },
   "outputs": [
    {
     "name": "stdout",
     "output_type": "stream",
     "text": [
      "<class 'pandas.core.frame.DataFrame'>\n",
      "Int64Index: 999 entries, 0 to 999\n",
      "Data columns (total 8 columns):\n",
      " #   Column                   Non-Null Count  Dtype  \n",
      "---  ------                   --------------  -----  \n",
      " 0   number                   999 non-null    int64  \n",
      " 1   first_name               999 non-null    object \n",
      " 2   last_name                999 non-null    object \n",
      " 3   gender                   999 non-null    object \n",
      " 4   birth_date               999 non-null    object \n",
      " 5   employment_status        999 non-null    object \n",
      " 6   annual_salary            983 non-null    float64\n",
      " 7   annual_salary_fill_mean  999 non-null    float64\n",
      "dtypes: float64(2), int64(1), object(5)\n",
      "memory usage: 70.2+ KB\n"
     ]
    }
   ],
   "source": [
    "df_employee.info()"
   ]
  },
  {
   "cell_type": "code",
   "execution_count": 32,
   "id": "062bf196",
   "metadata": {
    "ExecuteTime": {
     "end_time": "2021-08-04T22:05:07.044435Z",
     "start_time": "2021-08-04T22:05:07.036292Z"
    }
   },
   "outputs": [
    {
     "data": {
      "text/html": [
       "<div>\n",
       "<style scoped>\n",
       "    .dataframe tbody tr th:only-of-type {\n",
       "        vertical-align: middle;\n",
       "    }\n",
       "\n",
       "    .dataframe tbody tr th {\n",
       "        vertical-align: top;\n",
       "    }\n",
       "\n",
       "    .dataframe thead th {\n",
       "        text-align: right;\n",
       "    }\n",
       "</style>\n",
       "<table border=\"1\" class=\"dataframe\">\n",
       "  <thead>\n",
       "    <tr style=\"text-align: right;\">\n",
       "      <th></th>\n",
       "      <th>annual_salary</th>\n",
       "    </tr>\n",
       "    <tr>\n",
       "      <th>employment_status</th>\n",
       "      <th></th>\n",
       "    </tr>\n",
       "  </thead>\n",
       "  <tbody>\n",
       "    <tr>\n",
       "      <th>CA</th>\n",
       "      <td>109192.419048</td>\n",
       "    </tr>\n",
       "    <tr>\n",
       "      <th>PE</th>\n",
       "      <td>100797.375804</td>\n",
       "    </tr>\n",
       "    <tr>\n",
       "      <th>TE</th>\n",
       "      <td>104357.465347</td>\n",
       "    </tr>\n",
       "  </tbody>\n",
       "</table>\n",
       "</div>"
      ],
      "text/plain": [
       "                   annual_salary\n",
       "employment_status               \n",
       "CA                 109192.419048\n",
       "PE                 100797.375804\n",
       "TE                 104357.465347"
      ]
     },
     "execution_count": 32,
     "metadata": {},
     "output_type": "execute_result"
    }
   ],
   "source": [
    "df_salary_by_employment_satus = df_employee.groupby(\"employment_status\").agg({\"annual_salary\":\"mean\"})\n",
    "df_salary_by_employment_satus"
   ]
  },
  {
   "cell_type": "code",
   "execution_count": 33,
   "id": "a2376737",
   "metadata": {
    "ExecuteTime": {
     "end_time": "2021-08-04T22:05:07.049797Z",
     "start_time": "2021-08-04T22:05:07.045946Z"
    }
   },
   "outputs": [
    {
     "data": {
      "text/plain": [
       "109192.41904761904"
      ]
     },
     "execution_count": 33,
     "metadata": {},
     "output_type": "execute_result"
    }
   ],
   "source": [
    "df_salary_by_employment_satus.loc[\"CA\", \"annual_salary\"]"
   ]
  },
  {
   "cell_type": "code",
   "execution_count": 34,
   "id": "01f65a09",
   "metadata": {
    "ExecuteTime": {
     "end_time": "2021-08-04T22:05:07.054242Z",
     "start_time": "2021-08-04T22:05:07.051134Z"
    }
   },
   "outputs": [],
   "source": [
    "def fill_salary_by_status(row, df_salary_by_employment_satus):\n",
    "    salary, emp_status = row[\"annual_salary\"], row[\"employment_status\"]\n",
    "    if not pd.isna(salary):\n",
    "        return salary\n",
    "    \n",
    "    return df_salary_by_employment_satus.loc[emp_status, \"annual_salary\"]"
   ]
  },
  {
   "cell_type": "code",
   "execution_count": 35,
   "id": "adafaecc",
   "metadata": {
    "ExecuteTime": {
     "end_time": "2021-08-04T22:05:07.074922Z",
     "start_time": "2021-08-04T22:05:07.055632Z"
    }
   },
   "outputs": [
    {
     "data": {
      "text/plain": [
       "0       64598.0\n",
       "1      124103.0\n",
       "2      100324.0\n",
       "3      144957.0\n",
       "4      137659.0\n",
       "         ...   \n",
       "995     66592.0\n",
       "996    127966.0\n",
       "997     60712.0\n",
       "998    103606.0\n",
       "999    127405.0\n",
       "Length: 999, dtype: float64"
      ]
     },
     "execution_count": 35,
     "metadata": {},
     "output_type": "execute_result"
    }
   ],
   "source": [
    "df_employee.apply(fill_salary_by_status, axis=1, args=( df_salary_by_employment_satus,))"
   ]
  },
  {
   "cell_type": "code",
   "execution_count": 36,
   "id": "71f71a42",
   "metadata": {
    "ExecuteTime": {
     "end_time": "2021-08-04T22:05:07.085387Z",
     "start_time": "2021-08-04T22:05:07.076149Z"
    }
   },
   "outputs": [
    {
     "name": "stdout",
     "output_type": "stream",
     "text": [
      "<class 'pandas.core.frame.DataFrame'>\n",
      "Int64Index: 999 entries, 0 to 999\n",
      "Data columns (total 8 columns):\n",
      " #   Column                   Non-Null Count  Dtype  \n",
      "---  ------                   --------------  -----  \n",
      " 0   number                   999 non-null    int64  \n",
      " 1   first_name               999 non-null    object \n",
      " 2   last_name                999 non-null    object \n",
      " 3   gender                   999 non-null    object \n",
      " 4   birth_date               999 non-null    object \n",
      " 5   employment_status        999 non-null    object \n",
      " 6   annual_salary            983 non-null    float64\n",
      " 7   annual_salary_fill_mean  999 non-null    float64\n",
      "dtypes: float64(2), int64(1), object(5)\n",
      "memory usage: 70.2+ KB\n"
     ]
    }
   ],
   "source": [
    "df_employee.info()"
   ]
  },
  {
   "cell_type": "markdown",
   "id": "61d7435c",
   "metadata": {},
   "source": [
    "# Manipular Strings"
   ]
  },
  {
   "cell_type": "code",
   "execution_count": 37,
   "id": "3914e6be",
   "metadata": {
    "ExecuteTime": {
     "end_time": "2021-08-04T22:05:07.089531Z",
     "start_time": "2021-08-04T22:05:07.086748Z"
    }
   },
   "outputs": [],
   "source": [
    "ciudades = np.random.choice([\"Medellín\", \"medellin\", \"Medellin\", \"mede\"], size=999)"
   ]
  },
  {
   "cell_type": "code",
   "execution_count": 38,
   "id": "2cc1ff6e",
   "metadata": {
    "ExecuteTime": {
     "end_time": "2021-08-04T22:05:07.094989Z",
     "start_time": "2021-08-04T22:05:07.091313Z"
    }
   },
   "outputs": [],
   "source": [
    "df_employee[\"ciudad\"] = ciudades"
   ]
  },
  {
   "cell_type": "code",
   "execution_count": 39,
   "id": "81101bd8",
   "metadata": {
    "ExecuteTime": {
     "end_time": "2021-08-04T22:05:07.104446Z",
     "start_time": "2021-08-04T22:05:07.096323Z"
    }
   },
   "outputs": [
    {
     "data": {
      "text/plain": [
       "array(['MEDELLIN', 'MEDE'], dtype=object)"
      ]
     },
     "execution_count": 39,
     "metadata": {},
     "output_type": "execute_result"
    }
   ],
   "source": [
    "df_employee.ciudad.str.normalize(\"NFKD\").str.encode(\"ascii\", errors=\"ignore\").str.decode(\"utf-8\").str.upper().unique()"
   ]
  },
  {
   "cell_type": "code",
   "execution_count": 40,
   "id": "c057f7d4",
   "metadata": {
    "ExecuteTime": {
     "end_time": "2021-08-04T22:05:07.108058Z",
     "start_time": "2021-08-04T22:05:07.105804Z"
    }
   },
   "outputs": [],
   "source": [
    "#df_employee.last_name.str.normalize(\"NFKD\").str.encode(\"ascii\", errors=\"ignore\").str.decode(\"utf-8\").str.upper()"
   ]
  },
  {
   "cell_type": "code",
   "execution_count": 41,
   "id": "a0991d10",
   "metadata": {
    "ExecuteTime": {
     "end_time": "2021-08-04T22:05:07.113279Z",
     "start_time": "2021-08-04T22:05:07.109589Z"
    }
   },
   "outputs": [],
   "source": [
    "df_employee[\"nombre_completo\"] = df_employee.first_name + \" \" + df_employee.last_name"
   ]
  },
  {
   "cell_type": "code",
   "execution_count": 42,
   "id": "680d9e7e",
   "metadata": {
    "ExecuteTime": {
     "end_time": "2021-08-04T22:05:07.119916Z",
     "start_time": "2021-08-04T22:05:07.115068Z"
    }
   },
   "outputs": [
    {
     "data": {
      "text/plain": [
       "0           Lenord Kihn\n",
       "1          Palma Beahan\n",
       "2         Hebert Muller\n",
       "3      Virginia Ullrich\n",
       "4           Roby Hudson\n",
       "             ...       \n",
       "995         Dann Crooks\n",
       "996           Maxim Orn\n",
       "997     Kimberli Walter\n",
       "998     Talmage Bartell\n",
       "999       Laurie Nienow\n",
       "Name: nombre_completo, Length: 999, dtype: object"
      ]
     },
     "execution_count": 42,
     "metadata": {},
     "output_type": "execute_result"
    }
   ],
   "source": [
    "df_employee[\"nombre_completo\"]"
   ]
  },
  {
   "cell_type": "code",
   "execution_count": 43,
   "id": "f63a0f73",
   "metadata": {
    "ExecuteTime": {
     "end_time": "2021-08-04T22:05:07.127380Z",
     "start_time": "2021-08-04T22:05:07.121073Z"
    }
   },
   "outputs": [],
   "source": [
    "df_employee[[\"nombre\", \"apellido\"]] = df_employee[\"nombre_completo\"].str.split(expand=True)"
   ]
  },
  {
   "cell_type": "code",
   "execution_count": 44,
   "id": "d3504959",
   "metadata": {
    "ExecuteTime": {
     "end_time": "2021-08-04T22:05:07.146919Z",
     "start_time": "2021-08-04T22:05:07.128627Z"
    }
   },
   "outputs": [
    {
     "data": {
      "text/html": [
       "<div>\n",
       "<style scoped>\n",
       "    .dataframe tbody tr th:only-of-type {\n",
       "        vertical-align: middle;\n",
       "    }\n",
       "\n",
       "    .dataframe tbody tr th {\n",
       "        vertical-align: top;\n",
       "    }\n",
       "\n",
       "    .dataframe thead th {\n",
       "        text-align: right;\n",
       "    }\n",
       "</style>\n",
       "<table border=\"1\" class=\"dataframe\">\n",
       "  <thead>\n",
       "    <tr style=\"text-align: right;\">\n",
       "      <th></th>\n",
       "      <th>number</th>\n",
       "      <th>first_name</th>\n",
       "      <th>last_name</th>\n",
       "      <th>gender</th>\n",
       "      <th>birth_date</th>\n",
       "      <th>employment_status</th>\n",
       "      <th>annual_salary</th>\n",
       "      <th>annual_salary_fill_mean</th>\n",
       "      <th>ciudad</th>\n",
       "      <th>nombre_completo</th>\n",
       "      <th>nombre</th>\n",
       "      <th>apellido</th>\n",
       "    </tr>\n",
       "  </thead>\n",
       "  <tbody>\n",
       "    <tr>\n",
       "      <th>0</th>\n",
       "      <td>483</td>\n",
       "      <td>Lenord</td>\n",
       "      <td>Kihn</td>\n",
       "      <td>M</td>\n",
       "      <td>1994-07-01</td>\n",
       "      <td>PE</td>\n",
       "      <td>64598.0</td>\n",
       "      <td>64598.0</td>\n",
       "      <td>Medellin</td>\n",
       "      <td>Lenord Kihn</td>\n",
       "      <td>Lenord</td>\n",
       "      <td>Kihn</td>\n",
       "    </tr>\n",
       "    <tr>\n",
       "      <th>1</th>\n",
       "      <td>478</td>\n",
       "      <td>Palma</td>\n",
       "      <td>Beahan</td>\n",
       "      <td>F</td>\n",
       "      <td>1972-05-06</td>\n",
       "      <td>PE</td>\n",
       "      <td>124103.0</td>\n",
       "      <td>124103.0</td>\n",
       "      <td>Medellín</td>\n",
       "      <td>Palma Beahan</td>\n",
       "      <td>Palma</td>\n",
       "      <td>Beahan</td>\n",
       "    </tr>\n",
       "    <tr>\n",
       "      <th>2</th>\n",
       "      <td>348</td>\n",
       "      <td>Hebert</td>\n",
       "      <td>Muller</td>\n",
       "      <td>M</td>\n",
       "      <td>1990-09-04</td>\n",
       "      <td>PE</td>\n",
       "      <td>100324.0</td>\n",
       "      <td>100324.0</td>\n",
       "      <td>Medellín</td>\n",
       "      <td>Hebert Muller</td>\n",
       "      <td>Hebert</td>\n",
       "      <td>Muller</td>\n",
       "    </tr>\n",
       "    <tr>\n",
       "      <th>3</th>\n",
       "      <td>757</td>\n",
       "      <td>Virginia</td>\n",
       "      <td>Ullrich</td>\n",
       "      <td>M</td>\n",
       "      <td>1991-09-23</td>\n",
       "      <td>PE</td>\n",
       "      <td>144957.0</td>\n",
       "      <td>144957.0</td>\n",
       "      <td>mede</td>\n",
       "      <td>Virginia Ullrich</td>\n",
       "      <td>Virginia</td>\n",
       "      <td>Ullrich</td>\n",
       "    </tr>\n",
       "    <tr>\n",
       "      <th>4</th>\n",
       "      <td>937</td>\n",
       "      <td>Roby</td>\n",
       "      <td>Hudson</td>\n",
       "      <td>M</td>\n",
       "      <td>1997-01-15</td>\n",
       "      <td>PE</td>\n",
       "      <td>137659.0</td>\n",
       "      <td>137659.0</td>\n",
       "      <td>Medellín</td>\n",
       "      <td>Roby Hudson</td>\n",
       "      <td>Roby</td>\n",
       "      <td>Hudson</td>\n",
       "    </tr>\n",
       "    <tr>\n",
       "      <th>...</th>\n",
       "      <td>...</td>\n",
       "      <td>...</td>\n",
       "      <td>...</td>\n",
       "      <td>...</td>\n",
       "      <td>...</td>\n",
       "      <td>...</td>\n",
       "      <td>...</td>\n",
       "      <td>...</td>\n",
       "      <td>...</td>\n",
       "      <td>...</td>\n",
       "      <td>...</td>\n",
       "      <td>...</td>\n",
       "    </tr>\n",
       "    <tr>\n",
       "      <th>995</th>\n",
       "      <td>712</td>\n",
       "      <td>Dann</td>\n",
       "      <td>Crooks</td>\n",
       "      <td>F</td>\n",
       "      <td>1983-12-25</td>\n",
       "      <td>CA</td>\n",
       "      <td>66592.0</td>\n",
       "      <td>66592.0</td>\n",
       "      <td>Medellin</td>\n",
       "      <td>Dann Crooks</td>\n",
       "      <td>Dann</td>\n",
       "      <td>Crooks</td>\n",
       "    </tr>\n",
       "    <tr>\n",
       "      <th>996</th>\n",
       "      <td>132</td>\n",
       "      <td>Maxim</td>\n",
       "      <td>Orn</td>\n",
       "      <td>M</td>\n",
       "      <td>1971-03-01</td>\n",
       "      <td>CA</td>\n",
       "      <td>127966.0</td>\n",
       "      <td>127966.0</td>\n",
       "      <td>medellin</td>\n",
       "      <td>Maxim Orn</td>\n",
       "      <td>Maxim</td>\n",
       "      <td>Orn</td>\n",
       "    </tr>\n",
       "    <tr>\n",
       "      <th>997</th>\n",
       "      <td>126</td>\n",
       "      <td>Kimberli</td>\n",
       "      <td>Walter</td>\n",
       "      <td>M</td>\n",
       "      <td>1976-03-07</td>\n",
       "      <td>CA</td>\n",
       "      <td>60712.0</td>\n",
       "      <td>60712.0</td>\n",
       "      <td>Medellín</td>\n",
       "      <td>Kimberli Walter</td>\n",
       "      <td>Kimberli</td>\n",
       "      <td>Walter</td>\n",
       "    </tr>\n",
       "    <tr>\n",
       "      <th>998</th>\n",
       "      <td>277</td>\n",
       "      <td>Talmage</td>\n",
       "      <td>Bartell</td>\n",
       "      <td>F</td>\n",
       "      <td>1989-02-19</td>\n",
       "      <td>PE</td>\n",
       "      <td>103606.0</td>\n",
       "      <td>103606.0</td>\n",
       "      <td>medellin</td>\n",
       "      <td>Talmage Bartell</td>\n",
       "      <td>Talmage</td>\n",
       "      <td>Bartell</td>\n",
       "    </tr>\n",
       "    <tr>\n",
       "      <th>999</th>\n",
       "      <td>960</td>\n",
       "      <td>Laurie</td>\n",
       "      <td>Nienow</td>\n",
       "      <td>M</td>\n",
       "      <td>1993-04-01</td>\n",
       "      <td>PE</td>\n",
       "      <td>127405.0</td>\n",
       "      <td>127405.0</td>\n",
       "      <td>medellin</td>\n",
       "      <td>Laurie Nienow</td>\n",
       "      <td>Laurie</td>\n",
       "      <td>Nienow</td>\n",
       "    </tr>\n",
       "  </tbody>\n",
       "</table>\n",
       "<p>999 rows × 12 columns</p>\n",
       "</div>"
      ],
      "text/plain": [
       "     number first_name last_name gender  birth_date employment_status  \\\n",
       "0       483     Lenord      Kihn      M  1994-07-01                PE   \n",
       "1       478      Palma    Beahan      F  1972-05-06                PE   \n",
       "2       348     Hebert    Muller      M  1990-09-04                PE   \n",
       "3       757   Virginia   Ullrich      M  1991-09-23                PE   \n",
       "4       937       Roby    Hudson      M  1997-01-15                PE   \n",
       "..      ...        ...       ...    ...         ...               ...   \n",
       "995     712       Dann    Crooks      F  1983-12-25                CA   \n",
       "996     132      Maxim       Orn      M  1971-03-01                CA   \n",
       "997     126   Kimberli    Walter      M  1976-03-07                CA   \n",
       "998     277    Talmage   Bartell      F  1989-02-19                PE   \n",
       "999     960     Laurie    Nienow      M  1993-04-01                PE   \n",
       "\n",
       "     annual_salary  annual_salary_fill_mean    ciudad   nombre_completo  \\\n",
       "0          64598.0                  64598.0  Medellin       Lenord Kihn   \n",
       "1         124103.0                 124103.0  Medellín      Palma Beahan   \n",
       "2         100324.0                 100324.0  Medellín     Hebert Muller   \n",
       "3         144957.0                 144957.0      mede  Virginia Ullrich   \n",
       "4         137659.0                 137659.0  Medellín       Roby Hudson   \n",
       "..             ...                      ...       ...               ...   \n",
       "995        66592.0                  66592.0  Medellin       Dann Crooks   \n",
       "996       127966.0                 127966.0  medellin         Maxim Orn   \n",
       "997        60712.0                  60712.0  Medellín   Kimberli Walter   \n",
       "998       103606.0                 103606.0  medellin   Talmage Bartell   \n",
       "999       127405.0                 127405.0  medellin     Laurie Nienow   \n",
       "\n",
       "       nombre apellido  \n",
       "0      Lenord     Kihn  \n",
       "1       Palma   Beahan  \n",
       "2      Hebert   Muller  \n",
       "3    Virginia  Ullrich  \n",
       "4        Roby   Hudson  \n",
       "..        ...      ...  \n",
       "995      Dann   Crooks  \n",
       "996     Maxim      Orn  \n",
       "997  Kimberli   Walter  \n",
       "998   Talmage  Bartell  \n",
       "999    Laurie   Nienow  \n",
       "\n",
       "[999 rows x 12 columns]"
      ]
     },
     "execution_count": 44,
     "metadata": {},
     "output_type": "execute_result"
    }
   ],
   "source": [
    "df_employee"
   ]
  },
  {
   "cell_type": "markdown",
   "id": "c267452a",
   "metadata": {},
   "source": [
    "# Manipular Fechas"
   ]
  },
  {
   "cell_type": "code",
   "execution_count": 45,
   "id": "e2a244ed",
   "metadata": {
    "ExecuteTime": {
     "end_time": "2021-08-04T22:05:10.361563Z",
     "start_time": "2021-08-04T22:05:10.355363Z"
    }
   },
   "outputs": [
    {
     "data": {
      "text/plain": [
       "number                       int64\n",
       "first_name                  object\n",
       "last_name                   object\n",
       "gender                      object\n",
       "birth_date                  object\n",
       "employment_status           object\n",
       "annual_salary              float64\n",
       "annual_salary_fill_mean    float64\n",
       "ciudad                      object\n",
       "nombre_completo             object\n",
       "nombre                      object\n",
       "apellido                    object\n",
       "dtype: object"
      ]
     },
     "execution_count": 45,
     "metadata": {},
     "output_type": "execute_result"
    }
   ],
   "source": [
    "df_employee.dtypes"
   ]
  },
  {
   "cell_type": "code",
   "execution_count": 46,
   "id": "b94b30a0",
   "metadata": {
    "ExecuteTime": {
     "end_time": "2021-08-04T22:00:32.542167Z",
     "start_time": "2021-08-04T22:00:32.535035Z"
    }
   },
   "outputs": [
    {
     "data": {
      "text/plain": [
       "dtype('O')"
      ]
     },
     "execution_count": 46,
     "metadata": {},
     "output_type": "execute_result"
    }
   ],
   "source": [
    "df_employee[\"birth_date\"].dtype"
   ]
  },
  {
   "cell_type": "code",
   "execution_count": 47,
   "id": "0c454ee5",
   "metadata": {
    "ExecuteTime": {
     "end_time": "2021-08-04T22:11:18.823968Z",
     "start_time": "2021-08-04T22:11:18.817357Z"
    }
   },
   "outputs": [],
   "source": [
    "df_employee[\"birth_date\"] = pd.to_datetime(df_employee[\"birth_date\"])"
   ]
  },
  {
   "cell_type": "code",
   "execution_count": 48,
   "id": "eff5cc87",
   "metadata": {
    "ExecuteTime": {
     "end_time": "2021-08-04T22:11:19.243460Z",
     "start_time": "2021-08-04T22:11:19.237259Z"
    }
   },
   "outputs": [
    {
     "data": {
      "text/plain": [
       "number                              int64\n",
       "first_name                         object\n",
       "last_name                          object\n",
       "gender                             object\n",
       "birth_date                 datetime64[ns]\n",
       "employment_status                  object\n",
       "annual_salary                     float64\n",
       "annual_salary_fill_mean           float64\n",
       "ciudad                             object\n",
       "nombre_completo                    object\n",
       "nombre                             object\n",
       "apellido                           object\n",
       "dtype: object"
      ]
     },
     "execution_count": 48,
     "metadata": {},
     "output_type": "execute_result"
    }
   ],
   "source": [
    "df_employee.dtypes"
   ]
  },
  {
   "cell_type": "code",
   "execution_count": 49,
   "id": "2ad0d1df",
   "metadata": {
    "ExecuteTime": {
     "end_time": "2021-08-04T22:11:22.154554Z",
     "start_time": "2021-08-04T22:11:22.151158Z"
    }
   },
   "outputs": [],
   "source": [
    "from datetime import datetime"
   ]
  },
  {
   "cell_type": "code",
   "execution_count": 50,
   "id": "b036b512",
   "metadata": {
    "ExecuteTime": {
     "end_time": "2021-08-04T22:11:22.698473Z",
     "start_time": "2021-08-04T22:11:22.694877Z"
    }
   },
   "outputs": [],
   "source": [
    "current_date = datetime.today()"
   ]
  },
  {
   "cell_type": "code",
   "execution_count": 51,
   "id": "1ac9dc36",
   "metadata": {
    "ExecuteTime": {
     "end_time": "2021-08-04T22:11:47.435864Z",
     "start_time": "2021-08-04T22:11:47.423050Z"
    }
   },
   "outputs": [],
   "source": [
    "# df_employee[\"edad_actual\"] = (current_date - df_employee.birth_date).days"
   ]
  },
  {
   "cell_type": "code",
   "execution_count": 52,
   "id": "1e0bce5f",
   "metadata": {},
   "outputs": [],
   "source": [
    "df_employee[\"edad_actual\"] = (current_date - df_employee.birth_date).dt.days"
   ]
  },
  {
   "cell_type": "code",
   "execution_count": 53,
   "id": "5eaea1e8",
   "metadata": {
    "ExecuteTime": {
     "end_time": "2021-08-04T22:11:49.897188Z",
     "start_time": "2021-08-04T22:11:49.888664Z"
    }
   },
   "outputs": [
    {
     "data": {
      "text/plain": [
       "0      10024\n",
       "1      18115\n",
       "2      11420\n",
       "3      11036\n",
       "4       9095\n",
       "       ...  \n",
       "995    13865\n",
       "996    18547\n",
       "997    16714\n",
       "998    11982\n",
       "999    10480\n",
       "Name: edad_actual, Length: 999, dtype: int64"
      ]
     },
     "execution_count": 53,
     "metadata": {},
     "output_type": "execute_result"
    }
   ],
   "source": [
    "df_employee[\"edad_actual\"]"
   ]
  },
  {
   "cell_type": "code",
   "execution_count": 54,
   "id": "798f1e2e",
   "metadata": {
    "ExecuteTime": {
     "end_time": "2021-08-04T16:23:28.272247Z",
     "start_time": "2021-08-04T16:23:28.265159Z"
    }
   },
   "outputs": [],
   "source": [
    "ann = [15] + list(range(20, 30))*10 + [75]"
   ]
  },
  {
   "cell_type": "code",
   "execution_count": 55,
   "id": "fc265f0f",
   "metadata": {
    "ExecuteTime": {
     "end_time": "2021-08-04T16:23:29.196141Z",
     "start_time": "2021-08-04T16:23:29.178236Z"
    }
   },
   "outputs": [],
   "source": [
    "years_choices = np.random.choice(ann, size=1000)\n",
    "years = [timedelta(days=365*int(x)) for x in years_choices]"
   ]
  },
  {
   "cell_type": "code",
   "execution_count": 56,
   "id": "bb7f66b6",
   "metadata": {
    "ExecuteTime": {
     "end_time": "2021-08-04T16:28:17.616612Z",
     "start_time": "2021-08-04T16:28:17.590528Z"
    }
   },
   "outputs": [],
   "source": [
    "df_employee[\"entry_date\"] = pd.to_datetime(df_employee.birth_date) + pd.Series(years)"
   ]
  },
  {
   "cell_type": "code",
   "execution_count": 57,
   "id": "fce92575",
   "metadata": {
    "ExecuteTime": {
     "end_time": "2021-08-04T16:28:45.891099Z",
     "start_time": "2021-08-04T16:28:45.860860Z"
    }
   },
   "outputs": [
    {
     "name": "stderr",
     "output_type": "stream",
     "text": [
      "C:\\Users\\DAVID~1.PIE\\AppData\\Local\\Temp/ipykernel_10052/3711058530.py:1: FutureWarning: Comparison of Timestamp with datetime.date is deprecated in order to match the standard library behavior.  In a future version these will be considered non-comparable.Use 'ts == pd.Timestamp(date)' or 'ts.date() == date' instead.\n",
      "  df_employee[\"entry_date\"] = df_employee[\"entry_date\"].apply(lambda x: x if x<=date(2020,12,31) else date(2020,12,31))\n"
     ]
    }
   ],
   "source": [
    "df_employee[\"entry_date\"] = df_employee[\"entry_date\"].apply(lambda x: x if x<=date(2020,12,31) else date(2020,12,31))"
   ]
  },
  {
   "cell_type": "code",
   "execution_count": 58,
   "id": "013d8274",
   "metadata": {
    "ExecuteTime": {
     "end_time": "2021-08-04T16:31:25.134861Z",
     "start_time": "2021-08-04T16:31:25.118646Z"
    }
   },
   "outputs": [],
   "source": [
    "df_employee[\"entry_date\"] = pd.to_datetime(df_employee[\"entry_date\"])\n",
    "df_employee[\"birth_date\"] = pd.to_datetime(df_employee[\"birth_date\"])"
   ]
  },
  {
   "cell_type": "code",
   "execution_count": 59,
   "id": "1130feb6",
   "metadata": {
    "ExecuteTime": {
     "end_time": "2021-08-04T16:32:36.869797Z",
     "start_time": "2021-08-04T16:32:36.857213Z"
    }
   },
   "outputs": [],
   "source": [
    "df_employee[\"edad_entrada\"]=(df_employee.entry_date - df_employee.birth_date).dt.days/365.4"
   ]
  },
  {
   "cell_type": "code",
   "execution_count": 60,
   "id": "1e53cae6",
   "metadata": {
    "ExecuteTime": {
     "end_time": "2021-08-04T16:33:05.704642Z",
     "start_time": "2021-08-04T16:33:05.657245Z"
    }
   },
   "outputs": [
    {
     "data": {
      "text/html": [
       "<div>\n",
       "<style scoped>\n",
       "    .dataframe tbody tr th:only-of-type {\n",
       "        vertical-align: middle;\n",
       "    }\n",
       "\n",
       "    .dataframe tbody tr th {\n",
       "        vertical-align: top;\n",
       "    }\n",
       "\n",
       "    .dataframe thead th {\n",
       "        text-align: right;\n",
       "    }\n",
       "</style>\n",
       "<table border=\"1\" class=\"dataframe\">\n",
       "  <thead>\n",
       "    <tr style=\"text-align: right;\">\n",
       "      <th></th>\n",
       "      <th>number</th>\n",
       "      <th>first_name</th>\n",
       "      <th>last_name</th>\n",
       "      <th>gender</th>\n",
       "      <th>birth_date</th>\n",
       "      <th>employment_status</th>\n",
       "      <th>annual_salary</th>\n",
       "      <th>annual_salary_fill_mean</th>\n",
       "      <th>ciudad</th>\n",
       "      <th>nombre_completo</th>\n",
       "      <th>nombre</th>\n",
       "      <th>apellido</th>\n",
       "      <th>edad_actual</th>\n",
       "      <th>entry_date</th>\n",
       "      <th>edad_entrada</th>\n",
       "    </tr>\n",
       "  </thead>\n",
       "  <tbody>\n",
       "    <tr>\n",
       "      <th>47</th>\n",
       "      <td>969</td>\n",
       "      <td>Marget</td>\n",
       "      <td>West</td>\n",
       "      <td>M</td>\n",
       "      <td>1979-10-11</td>\n",
       "      <td>PE</td>\n",
       "      <td>79230.0</td>\n",
       "      <td>79230.0</td>\n",
       "      <td>medellin</td>\n",
       "      <td>Marget West</td>\n",
       "      <td>Marget</td>\n",
       "      <td>West</td>\n",
       "      <td>15401</td>\n",
       "      <td>1994-10-07</td>\n",
       "      <td>14.98358</td>\n",
       "    </tr>\n",
       "    <tr>\n",
       "      <th>197</th>\n",
       "      <td>135</td>\n",
       "      <td>Aletha</td>\n",
       "      <td>Konopelski</td>\n",
       "      <td>F</td>\n",
       "      <td>1984-01-18</td>\n",
       "      <td>PE</td>\n",
       "      <td>60778.0</td>\n",
       "      <td>60778.0</td>\n",
       "      <td>medellin</td>\n",
       "      <td>Aletha Konopelski</td>\n",
       "      <td>Aletha</td>\n",
       "      <td>Konopelski</td>\n",
       "      <td>13841</td>\n",
       "      <td>1999-01-14</td>\n",
       "      <td>14.98358</td>\n",
       "    </tr>\n",
       "    <tr>\n",
       "      <th>283</th>\n",
       "      <td>31</td>\n",
       "      <td>Teddy</td>\n",
       "      <td>Rath</td>\n",
       "      <td>M</td>\n",
       "      <td>1990-02-17</td>\n",
       "      <td>PE</td>\n",
       "      <td>109005.0</td>\n",
       "      <td>109005.0</td>\n",
       "      <td>mede</td>\n",
       "      <td>Teddy Rath</td>\n",
       "      <td>Teddy</td>\n",
       "      <td>Rath</td>\n",
       "      <td>11619</td>\n",
       "      <td>2005-02-13</td>\n",
       "      <td>14.98358</td>\n",
       "    </tr>\n",
       "    <tr>\n",
       "      <th>296</th>\n",
       "      <td>214</td>\n",
       "      <td>Gail</td>\n",
       "      <td>Erdman</td>\n",
       "      <td>F</td>\n",
       "      <td>1975-10-23</td>\n",
       "      <td>PE</td>\n",
       "      <td>84614.0</td>\n",
       "      <td>84614.0</td>\n",
       "      <td>Medellin</td>\n",
       "      <td>Gail Erdman</td>\n",
       "      <td>Gail</td>\n",
       "      <td>Erdman</td>\n",
       "      <td>16850</td>\n",
       "      <td>1990-10-19</td>\n",
       "      <td>14.98358</td>\n",
       "    </tr>\n",
       "    <tr>\n",
       "      <th>308</th>\n",
       "      <td>486</td>\n",
       "      <td>Kelby</td>\n",
       "      <td>Hessel</td>\n",
       "      <td>M</td>\n",
       "      <td>1972-06-21</td>\n",
       "      <td>PE</td>\n",
       "      <td>103945.0</td>\n",
       "      <td>103945.0</td>\n",
       "      <td>Medellín</td>\n",
       "      <td>Kelby Hessel</td>\n",
       "      <td>Kelby</td>\n",
       "      <td>Hessel</td>\n",
       "      <td>18069</td>\n",
       "      <td>1987-06-18</td>\n",
       "      <td>14.98358</td>\n",
       "    </tr>\n",
       "    <tr>\n",
       "      <th>371</th>\n",
       "      <td>101</td>\n",
       "      <td>Khalilah</td>\n",
       "      <td>Flatley</td>\n",
       "      <td>M</td>\n",
       "      <td>1974-03-31</td>\n",
       "      <td>PE</td>\n",
       "      <td>91171.0</td>\n",
       "      <td>91171.0</td>\n",
       "      <td>Medellín</td>\n",
       "      <td>Khalilah Flatley</td>\n",
       "      <td>Khalilah</td>\n",
       "      <td>Flatley</td>\n",
       "      <td>17421</td>\n",
       "      <td>1989-03-27</td>\n",
       "      <td>14.98358</td>\n",
       "    </tr>\n",
       "    <tr>\n",
       "      <th>476</th>\n",
       "      <td>515</td>\n",
       "      <td>Adelard</td>\n",
       "      <td>Abshire</td>\n",
       "      <td>F</td>\n",
       "      <td>1973-12-15</td>\n",
       "      <td>PE</td>\n",
       "      <td>66031.0</td>\n",
       "      <td>66031.0</td>\n",
       "      <td>medellin</td>\n",
       "      <td>Adelard Abshire</td>\n",
       "      <td>Adelard</td>\n",
       "      <td>Abshire</td>\n",
       "      <td>17527</td>\n",
       "      <td>1988-12-11</td>\n",
       "      <td>14.98358</td>\n",
       "    </tr>\n",
       "    <tr>\n",
       "      <th>528</th>\n",
       "      <td>302</td>\n",
       "      <td>Vernell</td>\n",
       "      <td>Schmidt</td>\n",
       "      <td>F</td>\n",
       "      <td>1983-08-08</td>\n",
       "      <td>PE</td>\n",
       "      <td>123021.0</td>\n",
       "      <td>123021.0</td>\n",
       "      <td>medellin</td>\n",
       "      <td>Vernell Schmidt</td>\n",
       "      <td>Vernell</td>\n",
       "      <td>Schmidt</td>\n",
       "      <td>14004</td>\n",
       "      <td>1998-08-04</td>\n",
       "      <td>14.98358</td>\n",
       "    </tr>\n",
       "    <tr>\n",
       "      <th>581</th>\n",
       "      <td>37</td>\n",
       "      <td>Jolette</td>\n",
       "      <td>Marks</td>\n",
       "      <td>M</td>\n",
       "      <td>1977-10-12</td>\n",
       "      <td>PE</td>\n",
       "      <td>132173.0</td>\n",
       "      <td>132173.0</td>\n",
       "      <td>Medellín</td>\n",
       "      <td>Jolette Marks</td>\n",
       "      <td>Jolette</td>\n",
       "      <td>Marks</td>\n",
       "      <td>16130</td>\n",
       "      <td>1992-10-08</td>\n",
       "      <td>14.98358</td>\n",
       "    </tr>\n",
       "    <tr>\n",
       "      <th>820</th>\n",
       "      <td>517</td>\n",
       "      <td>Ashley</td>\n",
       "      <td>Emard</td>\n",
       "      <td>F</td>\n",
       "      <td>1971-01-09</td>\n",
       "      <td>PE</td>\n",
       "      <td>149670.0</td>\n",
       "      <td>149670.0</td>\n",
       "      <td>medellin</td>\n",
       "      <td>Ashley Emard</td>\n",
       "      <td>Ashley</td>\n",
       "      <td>Emard</td>\n",
       "      <td>18598</td>\n",
       "      <td>1986-01-05</td>\n",
       "      <td>14.98358</td>\n",
       "    </tr>\n",
       "    <tr>\n",
       "      <th>973</th>\n",
       "      <td>367</td>\n",
       "      <td>Kerwin</td>\n",
       "      <td>Purdy</td>\n",
       "      <td>F</td>\n",
       "      <td>1979-01-03</td>\n",
       "      <td>PE</td>\n",
       "      <td>55215.0</td>\n",
       "      <td>55215.0</td>\n",
       "      <td>Medellin</td>\n",
       "      <td>Kerwin Purdy</td>\n",
       "      <td>Kerwin</td>\n",
       "      <td>Purdy</td>\n",
       "      <td>15682</td>\n",
       "      <td>1993-12-30</td>\n",
       "      <td>14.98358</td>\n",
       "    </tr>\n",
       "  </tbody>\n",
       "</table>\n",
       "</div>"
      ],
      "text/plain": [
       "     number first_name   last_name gender birth_date employment_status  \\\n",
       "47      969     Marget        West      M 1979-10-11                PE   \n",
       "197     135     Aletha  Konopelski      F 1984-01-18                PE   \n",
       "283      31      Teddy        Rath      M 1990-02-17                PE   \n",
       "296     214       Gail      Erdman      F 1975-10-23                PE   \n",
       "308     486      Kelby      Hessel      M 1972-06-21                PE   \n",
       "371     101   Khalilah     Flatley      M 1974-03-31                PE   \n",
       "476     515    Adelard     Abshire      F 1973-12-15                PE   \n",
       "528     302    Vernell     Schmidt      F 1983-08-08                PE   \n",
       "581      37    Jolette       Marks      M 1977-10-12                PE   \n",
       "820     517     Ashley       Emard      F 1971-01-09                PE   \n",
       "973     367     Kerwin       Purdy      F 1979-01-03                PE   \n",
       "\n",
       "     annual_salary  annual_salary_fill_mean    ciudad    nombre_completo  \\\n",
       "47         79230.0                  79230.0  medellin        Marget West   \n",
       "197        60778.0                  60778.0  medellin  Aletha Konopelski   \n",
       "283       109005.0                 109005.0      mede         Teddy Rath   \n",
       "296        84614.0                  84614.0  Medellin        Gail Erdman   \n",
       "308       103945.0                 103945.0  Medellín       Kelby Hessel   \n",
       "371        91171.0                  91171.0  Medellín   Khalilah Flatley   \n",
       "476        66031.0                  66031.0  medellin    Adelard Abshire   \n",
       "528       123021.0                 123021.0  medellin    Vernell Schmidt   \n",
       "581       132173.0                 132173.0  Medellín      Jolette Marks   \n",
       "820       149670.0                 149670.0  medellin       Ashley Emard   \n",
       "973        55215.0                  55215.0  Medellin       Kerwin Purdy   \n",
       "\n",
       "       nombre    apellido  edad_actual entry_date  edad_entrada  \n",
       "47     Marget        West        15401 1994-10-07      14.98358  \n",
       "197    Aletha  Konopelski        13841 1999-01-14      14.98358  \n",
       "283     Teddy        Rath        11619 2005-02-13      14.98358  \n",
       "296      Gail      Erdman        16850 1990-10-19      14.98358  \n",
       "308     Kelby      Hessel        18069 1987-06-18      14.98358  \n",
       "371  Khalilah     Flatley        17421 1989-03-27      14.98358  \n",
       "476   Adelard     Abshire        17527 1988-12-11      14.98358  \n",
       "528   Vernell     Schmidt        14004 1998-08-04      14.98358  \n",
       "581   Jolette       Marks        16130 1992-10-08      14.98358  \n",
       "820    Ashley       Emard        18598 1986-01-05      14.98358  \n",
       "973    Kerwin       Purdy        15682 1993-12-30      14.98358  "
      ]
     },
     "execution_count": 60,
     "metadata": {},
     "output_type": "execute_result"
    }
   ],
   "source": [
    "df_employee[df_employee[\"edad_entrada\"]<18]"
   ]
  },
  {
   "cell_type": "markdown",
   "id": "cc3d5f60",
   "metadata": {},
   "source": [
    "# Data Set de Aviones"
   ]
  },
  {
   "cell_type": "code",
   "execution_count": 61,
   "id": "fc7e2500",
   "metadata": {
    "ExecuteTime": {
     "end_time": "2021-08-04T21:17:02.402028Z",
     "start_time": "2021-08-04T21:16:59.753183Z"
    }
   },
   "outputs": [
    {
     "data": {
      "text/html": [
       "<div>\n",
       "<style scoped>\n",
       "    .dataframe tbody tr th:only-of-type {\n",
       "        vertical-align: middle;\n",
       "    }\n",
       "\n",
       "    .dataframe tbody tr th {\n",
       "        vertical-align: top;\n",
       "    }\n",
       "\n",
       "    .dataframe thead th {\n",
       "        text-align: right;\n",
       "    }\n",
       "</style>\n",
       "<table border=\"1\" class=\"dataframe\">\n",
       "  <thead>\n",
       "    <tr style=\"text-align: right;\">\n",
       "      <th></th>\n",
       "      <th>year</th>\n",
       "      <th>month</th>\n",
       "      <th>day</th>\n",
       "      <th>dep_time</th>\n",
       "      <th>dep_delay</th>\n",
       "      <th>arr_time</th>\n",
       "      <th>arr_delay</th>\n",
       "      <th>carrier</th>\n",
       "      <th>tailnum</th>\n",
       "      <th>flight</th>\n",
       "      <th>origin</th>\n",
       "      <th>dest</th>\n",
       "      <th>air_time</th>\n",
       "      <th>distance</th>\n",
       "      <th>hour</th>\n",
       "      <th>minute</th>\n",
       "    </tr>\n",
       "  </thead>\n",
       "  <tbody>\n",
       "    <tr>\n",
       "      <th>0</th>\n",
       "      <td>2014</td>\n",
       "      <td>1</td>\n",
       "      <td>1</td>\n",
       "      <td>1.0</td>\n",
       "      <td>96.0</td>\n",
       "      <td>235.0</td>\n",
       "      <td>70.0</td>\n",
       "      <td>AS</td>\n",
       "      <td>N508AS</td>\n",
       "      <td>145</td>\n",
       "      <td>PDX</td>\n",
       "      <td>ANC</td>\n",
       "      <td>194.0</td>\n",
       "      <td>1542</td>\n",
       "      <td>0.0</td>\n",
       "      <td>1.0</td>\n",
       "    </tr>\n",
       "    <tr>\n",
       "      <th>1</th>\n",
       "      <td>2014</td>\n",
       "      <td>1</td>\n",
       "      <td>1</td>\n",
       "      <td>4.0</td>\n",
       "      <td>-6.0</td>\n",
       "      <td>738.0</td>\n",
       "      <td>-23.0</td>\n",
       "      <td>US</td>\n",
       "      <td>N195UW</td>\n",
       "      <td>1830</td>\n",
       "      <td>SEA</td>\n",
       "      <td>CLT</td>\n",
       "      <td>252.0</td>\n",
       "      <td>2279</td>\n",
       "      <td>0.0</td>\n",
       "      <td>4.0</td>\n",
       "    </tr>\n",
       "    <tr>\n",
       "      <th>2</th>\n",
       "      <td>2014</td>\n",
       "      <td>1</td>\n",
       "      <td>1</td>\n",
       "      <td>8.0</td>\n",
       "      <td>13.0</td>\n",
       "      <td>548.0</td>\n",
       "      <td>-4.0</td>\n",
       "      <td>UA</td>\n",
       "      <td>N37422</td>\n",
       "      <td>1609</td>\n",
       "      <td>PDX</td>\n",
       "      <td>IAH</td>\n",
       "      <td>201.0</td>\n",
       "      <td>1825</td>\n",
       "      <td>0.0</td>\n",
       "      <td>8.0</td>\n",
       "    </tr>\n",
       "    <tr>\n",
       "      <th>3</th>\n",
       "      <td>2014</td>\n",
       "      <td>1</td>\n",
       "      <td>1</td>\n",
       "      <td>28.0</td>\n",
       "      <td>-2.0</td>\n",
       "      <td>800.0</td>\n",
       "      <td>-23.0</td>\n",
       "      <td>US</td>\n",
       "      <td>N547UW</td>\n",
       "      <td>466</td>\n",
       "      <td>PDX</td>\n",
       "      <td>CLT</td>\n",
       "      <td>251.0</td>\n",
       "      <td>2282</td>\n",
       "      <td>0.0</td>\n",
       "      <td>28.0</td>\n",
       "    </tr>\n",
       "    <tr>\n",
       "      <th>4</th>\n",
       "      <td>2014</td>\n",
       "      <td>1</td>\n",
       "      <td>1</td>\n",
       "      <td>34.0</td>\n",
       "      <td>44.0</td>\n",
       "      <td>325.0</td>\n",
       "      <td>43.0</td>\n",
       "      <td>AS</td>\n",
       "      <td>N762AS</td>\n",
       "      <td>121</td>\n",
       "      <td>SEA</td>\n",
       "      <td>ANC</td>\n",
       "      <td>201.0</td>\n",
       "      <td>1448</td>\n",
       "      <td>0.0</td>\n",
       "      <td>34.0</td>\n",
       "    </tr>\n",
       "  </tbody>\n",
       "</table>\n",
       "</div>"
      ],
      "text/plain": [
       "   year  month  day  dep_time  dep_delay  arr_time  arr_delay carrier tailnum  \\\n",
       "0  2014      1    1       1.0       96.0     235.0       70.0      AS  N508AS   \n",
       "1  2014      1    1       4.0       -6.0     738.0      -23.0      US  N195UW   \n",
       "2  2014      1    1       8.0       13.0     548.0       -4.0      UA  N37422   \n",
       "3  2014      1    1      28.0       -2.0     800.0      -23.0      US  N547UW   \n",
       "4  2014      1    1      34.0       44.0     325.0       43.0      AS  N762AS   \n",
       "\n",
       "   flight origin dest  air_time  distance  hour  minute  \n",
       "0     145    PDX  ANC     194.0      1542   0.0     1.0  \n",
       "1    1830    SEA  CLT     252.0      2279   0.0     4.0  \n",
       "2    1609    PDX  IAH     201.0      1825   0.0     8.0  \n",
       "3     466    PDX  CLT     251.0      2282   0.0    28.0  \n",
       "4     121    SEA  ANC     201.0      1448   0.0    34.0  "
      ]
     },
     "execution_count": 61,
     "metadata": {},
     "output_type": "execute_result"
    }
   ],
   "source": [
    "df_flights = pd.read_csv('https://raw.githubusercontent.com/ismayc/pnwflights14/master/data/flights.csv')\n",
    "\n",
    "df_flights.head()"
   ]
  },
  {
   "cell_type": "markdown",
   "id": "320da869",
   "metadata": {},
   "source": [
    "# Exploración del dataset"
   ]
  },
  {
   "cell_type": "code",
   "execution_count": 62,
   "id": "c9e9aa1d",
   "metadata": {
    "ExecuteTime": {
     "end_time": "2021-08-04T21:17:03.596844Z",
     "start_time": "2021-08-04T21:17:03.554016Z"
    }
   },
   "outputs": [
    {
     "name": "stdout",
     "output_type": "stream",
     "text": [
      "<class 'pandas.core.frame.DataFrame'>\n",
      "RangeIndex: 162049 entries, 0 to 162048\n",
      "Data columns (total 16 columns):\n",
      " #   Column     Non-Null Count   Dtype  \n",
      "---  ------     --------------   -----  \n",
      " 0   year       162049 non-null  int64  \n",
      " 1   month      162049 non-null  int64  \n",
      " 2   day        162049 non-null  int64  \n",
      " 3   dep_time   161192 non-null  float64\n",
      " 4   dep_delay  161192 non-null  float64\n",
      " 5   arr_time   161061 non-null  float64\n",
      " 6   arr_delay  160748 non-null  float64\n",
      " 7   carrier    162049 non-null  object \n",
      " 8   tailnum    161801 non-null  object \n",
      " 9   flight     162049 non-null  int64  \n",
      " 10  origin     162049 non-null  object \n",
      " 11  dest       162049 non-null  object \n",
      " 12  air_time   160748 non-null  float64\n",
      " 13  distance   162049 non-null  int64  \n",
      " 14  hour       161192 non-null  float64\n",
      " 15  minute     161192 non-null  float64\n",
      "dtypes: float64(7), int64(5), object(4)\n",
      "memory usage: 19.8+ MB\n",
      "None\n"
     ]
    }
   ],
   "source": [
    "print(df_flights.info())"
   ]
  },
  {
   "cell_type": "markdown",
   "id": "f9b0fd0f",
   "metadata": {},
   "source": [
    "# Visualización de variables categóricas"
   ]
  },
  {
   "cell_type": "code",
   "execution_count": 63,
   "id": "69be28d8",
   "metadata": {
    "ExecuteTime": {
     "end_time": "2021-08-04T21:17:04.002166Z",
     "start_time": "2021-08-04T21:17:03.990240Z"
    }
   },
   "outputs": [
    {
     "data": {
      "text/plain": [
       "array(['AS', 'US', 'UA', 'DL', 'AA', 'F9', 'VX', 'OO', 'WN', 'B6', 'HA'],\n",
       "      dtype=object)"
      ]
     },
     "execution_count": 63,
     "metadata": {},
     "output_type": "execute_result"
    }
   ],
   "source": [
    "df_flights.carrier.unique()"
   ]
  },
  {
   "cell_type": "markdown",
   "id": "1f70c7e9",
   "metadata": {},
   "source": [
    "## Box Plot"
   ]
  },
  {
   "cell_type": "code",
   "execution_count": 64,
   "id": "97c6d33d",
   "metadata": {
    "ExecuteTime": {
     "end_time": "2021-08-04T21:17:04.596103Z",
     "start_time": "2021-08-04T21:17:04.392878Z"
    }
   },
   "outputs": [
    {
     "data": {
      "text/plain": [
       "<AxesSubplot:title={'center':'dep_time'}, xlabel='origin'>"
      ]
     },
     "execution_count": 64,
     "metadata": {},
     "output_type": "execute_result"
    },
    {
     "data": {
      "image/png": "[encoded data removed]",
      "text/plain": [
       "<Figure size 576x720 with 1 Axes>"
      ]
     },
     "metadata": {},
     "output_type": "display_data"
    }
   ],
   "source": [
    "df_flights.boxplot('dep_time','origin',rot = 30,figsize=(8,10))"
   ]
  },
  {
   "cell_type": "code",
   "execution_count": 65,
   "id": "c788967e",
   "metadata": {
    "ExecuteTime": {
     "end_time": "2021-08-04T21:17:04.991291Z",
     "start_time": "2021-08-04T21:17:04.672970Z"
    }
   },
   "outputs": [
    {
     "data": {
      "text/plain": [
       "<AxesSubplot:title={'center':'dep_time'}, xlabel='carrier'>"
      ]
     },
     "execution_count": 65,
     "metadata": {},
     "output_type": "execute_result"
    },
    {
     "data": {
      "image/png": "[encoded data removed]",
      "text/plain": [
       "<Figure size 576x720 with 1 Axes>"
      ]
     },
     "metadata": {},
     "output_type": "display_data"
    }
   ],
   "source": [
    "df_flights.boxplot('dep_time','carrier',rot = 30,figsize=(8,10))"
   ]
  },
  {
   "cell_type": "markdown",
   "id": "662633f5",
   "metadata": {
    "ExecuteTime": {
     "end_time": "2021-07-28T02:47:40.539943Z",
     "start_time": "2021-07-28T02:47:40.528903Z"
    }
   },
   "source": [
    "## Frecuencias de Distribución\n",
    "\n",
    "Esto nos permite el número de ocurrencias de cada categoría de una variable."
   ]
  },
  {
   "cell_type": "code",
   "execution_count": 66,
   "id": "920aa0e2",
   "metadata": {
    "ExecuteTime": {
     "end_time": "2021-08-04T21:17:05.548396Z",
     "start_time": "2021-08-04T21:17:05.528436Z"
    }
   },
   "outputs": [
    {
     "data": {
      "text/plain": [
       "carrier\n",
       "AS    62460\n",
       "WN    23355\n",
       "OO    18710\n",
       "DL    16716\n",
       "UA    16671\n",
       "AA     7586\n",
       "US     5946\n",
       "B6     3540\n",
       "VX     3272\n",
       "F9     2698\n",
       "HA     1095\n",
       "dtype: int64"
      ]
     },
     "execution_count": 66,
     "metadata": {},
     "output_type": "execute_result"
    }
   ],
   "source": [
    "df_flights.groupby(\"carrier\").size().sort_values(ascending=False)"
   ]
  },
  {
   "cell_type": "code",
   "execution_count": 67,
   "id": "bfd4cae4",
   "metadata": {
    "ExecuteTime": {
     "end_time": "2021-08-04T21:17:05.899406Z",
     "start_time": "2021-08-04T21:17:05.894165Z"
    }
   },
   "outputs": [],
   "source": [
    "def plot_frecuency_distribution(category, df):\n",
    "    cat_count = df[category].value_counts()\n",
    "    sns.set(style=\"darkgrid\")\n",
    "    sns.barplot(cat_count.index, cat_count.values, alpha=0.9)\n",
    "    plt.title(f'Frequency Distribution of {category.capitalize()}')\n",
    "    plt.ylabel('Number of Occurrences', fontsize=12)\n",
    "    plt.xlabel(category.capitalize(), fontsize=12)\n",
    "    plt.show()\n"
   ]
  },
  {
   "cell_type": "code",
   "execution_count": 68,
   "id": "a99141e7",
   "metadata": {
    "ExecuteTime": {
     "end_time": "2021-08-04T21:17:06.521643Z",
     "start_time": "2021-08-04T21:17:06.377158Z"
    }
   },
   "outputs": [
    {
     "name": "stderr",
     "output_type": "stream",
     "text": [
      "C:\\Users\\David.Piedrahita\\anaconda3\\lib\\site-packages\\seaborn\\_decorators.py:36: FutureWarning: Pass the following variables as keyword args: x, y. From version 0.12, the only valid positional argument will be `data`, and passing other arguments without an explicit keyword will result in an error or misinterpretation.\n",
      "  warnings.warn(\n"
     ]
    },
    {
     "data": {
      "image/png": "[encoded data removed]",
      "text/plain": [
       "<Figure size 432x288 with 1 Axes>"
      ]
     },
     "metadata": {},
     "output_type": "display_data"
    }
   ],
   "source": [
    "plot_frecuency_distribution(\"carrier\", df_flights)"
   ]
  },
  {
   "cell_type": "markdown",
   "id": "7dc3ceef",
   "metadata": {},
   "source": [
    "## Pie Chart"
   ]
  },
  {
   "cell_type": "code",
   "execution_count": 69,
   "id": "0de21696",
   "metadata": {
    "ExecuteTime": {
     "end_time": "2021-08-04T21:17:07.329115Z",
     "start_time": "2021-08-04T21:17:07.321301Z"
    }
   },
   "outputs": [],
   "source": [
    "def plot_pie_chart(category, df):\n",
    "    labels = df[category].astype('category').cat.categories.tolist()\n",
    "    counts = df[category].value_counts()\n",
    "    sizes = [counts[var_cat] for var_cat in labels]\n",
    "    fig1, ax1 = plt.subplots(figsize=(10,10))\n",
    "    ax1.pie(sizes, labels=labels, autopct='%1.1f%%', shadow=True)\n",
    "    plt.show()"
   ]
  },
  {
   "cell_type": "code",
   "execution_count": 70,
   "id": "51bdb7ac",
   "metadata": {
    "ExecuteTime": {
     "end_time": "2021-08-04T21:17:07.854109Z",
     "start_time": "2021-08-04T21:17:07.672987Z"
    }
   },
   "outputs": [
    {
     "data": {
      "image/png": "[encoded data removed]",
      "text/plain": [
       "<Figure size 720x720 with 1 Axes>"
      ]
     },
     "metadata": {},
     "output_type": "display_data"
    }
   ],
   "source": [
    "plot_pie_chart(\"carrier\", df_flights)"
   ]
  },
  {
   "cell_type": "code",
   "execution_count": 71,
   "id": "f7c95cfe",
   "metadata": {
    "ExecuteTime": {
     "end_time": "2021-08-04T21:17:08.211443Z",
     "start_time": "2021-08-04T21:17:08.122057Z"
    }
   },
   "outputs": [
    {
     "data": {
      "image/png": "[encoded data removed]",
      "text/plain": [
       "<Figure size 720x720 with 1 Axes>"
      ]
     },
     "metadata": {},
     "output_type": "display_data"
    }
   ],
   "source": [
    "plot_pie_chart(\"origin\", df_flights)"
   ]
  },
  {
   "cell_type": "markdown",
   "id": "784be43a",
   "metadata": {},
   "source": [
    "# Seleccionar las variables categóricas\n",
    "\n",
    "A continuación vemos que las posibles variables categóricas son las que son de tipo \"object\". Las demás son numéricas."
   ]
  },
  {
   "cell_type": "code",
   "execution_count": 72,
   "id": "c5b73480",
   "metadata": {
    "ExecuteTime": {
     "end_time": "2021-08-04T21:17:09.130968Z",
     "start_time": "2021-08-04T21:17:09.088264Z"
    }
   },
   "outputs": [
    {
     "name": "stdout",
     "output_type": "stream",
     "text": [
      "<class 'pandas.core.frame.DataFrame'>\n",
      "RangeIndex: 162049 entries, 0 to 162048\n",
      "Data columns (total 16 columns):\n",
      " #   Column     Non-Null Count   Dtype  \n",
      "---  ------     --------------   -----  \n",
      " 0   year       162049 non-null  int64  \n",
      " 1   month      162049 non-null  int64  \n",
      " 2   day        162049 non-null  int64  \n",
      " 3   dep_time   161192 non-null  float64\n",
      " 4   dep_delay  161192 non-null  float64\n",
      " 5   arr_time   161061 non-null  float64\n",
      " 6   arr_delay  160748 non-null  float64\n",
      " 7   carrier    162049 non-null  object \n",
      " 8   tailnum    161801 non-null  object \n",
      " 9   flight     162049 non-null  int64  \n",
      " 10  origin     162049 non-null  object \n",
      " 11  dest       162049 non-null  object \n",
      " 12  air_time   160748 non-null  float64\n",
      " 13  distance   162049 non-null  int64  \n",
      " 14  hour       161192 non-null  float64\n",
      " 15  minute     161192 non-null  float64\n",
      "dtypes: float64(7), int64(5), object(4)\n",
      "memory usage: 19.8+ MB\n",
      "None\n"
     ]
    }
   ],
   "source": [
    "print(df_flights.info())"
   ]
  },
  {
   "cell_type": "markdown",
   "id": "49d03cd4",
   "metadata": {},
   "source": [
    "## Dataframe de solo variables categóricas"
   ]
  },
  {
   "cell_type": "code",
   "execution_count": 73,
   "id": "ed4df95f",
   "metadata": {
    "ExecuteTime": {
     "end_time": "2021-08-04T21:17:10.000945Z",
     "start_time": "2021-08-04T21:17:09.982915Z"
    }
   },
   "outputs": [],
   "source": [
    "cat_df_flights = df_flights.select_dtypes(include=['object']).copy()"
   ]
  },
  {
   "cell_type": "markdown",
   "id": "ba90cf8f",
   "metadata": {},
   "source": [
    "## Detección e imputación de valores nulos"
   ]
  },
  {
   "cell_type": "code",
   "execution_count": 74,
   "id": "e864e567",
   "metadata": {
    "ExecuteTime": {
     "end_time": "2021-08-04T21:17:10.777957Z",
     "start_time": "2021-08-04T21:17:10.739627Z"
    }
   },
   "outputs": [
    {
     "name": "stdout",
     "output_type": "stream",
     "text": [
      "248\n"
     ]
    }
   ],
   "source": [
    "print(cat_df_flights.isnull().values.sum())"
   ]
  },
  {
   "cell_type": "markdown",
   "id": "72b8a29d",
   "metadata": {},
   "source": [
    "## Valores nulos por variable"
   ]
  },
  {
   "cell_type": "code",
   "execution_count": 75,
   "id": "d14e2aea",
   "metadata": {
    "ExecuteTime": {
     "end_time": "2021-08-04T21:17:11.482647Z",
     "start_time": "2021-08-04T21:17:11.447567Z"
    }
   },
   "outputs": [
    {
     "name": "stdout",
     "output_type": "stream",
     "text": [
      "carrier      0\n",
      "tailnum    248\n",
      "origin       0\n",
      "dest         0\n",
      "dtype: int64\n"
     ]
    }
   ],
   "source": [
    "print(cat_df_flights.isnull().sum())"
   ]
  },
  {
   "cell_type": "markdown",
   "id": "ae487fe9",
   "metadata": {},
   "source": [
    "En este caso vemos que todos los valores nulos pertencen a la variable *tailnum*"
   ]
  },
  {
   "cell_type": "markdown",
   "id": "beba5e63",
   "metadata": {},
   "source": [
    "### Imputación\n",
    "\n",
    "Esto es un proceso que consiste en llenar los valores faltantes mediante algún método \"razonable\".\n",
    "Para variables numéricas una de las técnicas es utilizar un estadístico como el promedio o la mediana. Para nuestro caso de variables categóricas vamos a reemplazar los valores nulos con el valor más común, en estadística es llamado la \"moda\".\n"
   ]
  },
  {
   "cell_type": "code",
   "execution_count": 76,
   "id": "bccdbe77",
   "metadata": {
    "ExecuteTime": {
     "end_time": "2021-08-04T21:17:12.547656Z",
     "start_time": "2021-08-04T21:17:12.524941Z"
    }
   },
   "outputs": [
    {
     "name": "stdout",
     "output_type": "stream",
     "text": [
      "N223AG\n"
     ]
    }
   ],
   "source": [
    "modal_tailnum = cat_df_flights['tailnum'].value_counts().index[0]\n",
    "print(modal_tailnum)"
   ]
  },
  {
   "cell_type": "code",
   "execution_count": 77,
   "id": "feec1087",
   "metadata": {
    "ExecuteTime": {
     "end_time": "2021-08-04T21:17:13.031252Z",
     "start_time": "2021-08-04T21:17:12.999985Z"
    }
   },
   "outputs": [],
   "source": [
    "cat_df_flights = cat_df_flights.fillna(modal_tailnum)"
   ]
  },
  {
   "cell_type": "markdown",
   "id": "ce1e8e90",
   "metadata": {},
   "source": [
    "Verifiquemos que en efecto ya no tenemos valores nulos"
   ]
  },
  {
   "cell_type": "code",
   "execution_count": 78,
   "id": "98bf9d21",
   "metadata": {
    "ExecuteTime": {
     "end_time": "2021-08-04T21:17:14.281332Z",
     "start_time": "2021-08-04T21:17:14.243654Z"
    }
   },
   "outputs": [
    {
     "name": "stdout",
     "output_type": "stream",
     "text": [
      "0\n"
     ]
    }
   ],
   "source": [
    "print(cat_df_flights.isnull().values.sum())"
   ]
  },
  {
   "cell_type": "markdown",
   "id": "6db85215",
   "metadata": {
    "ExecuteTime": {
     "end_time": "2021-07-28T03:29:50.678937Z",
     "start_time": "2021-07-28T03:29:50.676086Z"
    }
   },
   "source": [
    "## One-Hot-Encoding\n",
    "\n",
    "Si bien esta técnica resuelve el problema de tener pesos desiguales, sin embargo, esto no será muy útil cuando se tienen muchas categorías ya que esto agregaría demasiadas columnas y podríamos caer en la [maldición de la dimensionalidad (Curse of dimensionality)](https://en.wikipedia.org/wiki/Curse_of_dimensionality)"
   ]
  },
  {
   "cell_type": "markdown",
   "id": "f7e13473",
   "metadata": {},
   "source": [
    "## Utilizando Pandas\n",
    "\n",
    "Utilizamos la función *get_dummies*"
   ]
  },
  {
   "cell_type": "code",
   "execution_count": 79,
   "id": "eb7479a9",
   "metadata": {},
   "outputs": [
    {
     "data": {
      "text/html": [
       "<div>\n",
       "<style scoped>\n",
       "    .dataframe tbody tr th:only-of-type {\n",
       "        vertical-align: middle;\n",
       "    }\n",
       "\n",
       "    .dataframe tbody tr th {\n",
       "        vertical-align: top;\n",
       "    }\n",
       "\n",
       "    .dataframe thead th {\n",
       "        text-align: right;\n",
       "    }\n",
       "</style>\n",
       "<table border=\"1\" class=\"dataframe\">\n",
       "  <thead>\n",
       "    <tr style=\"text-align: right;\">\n",
       "      <th></th>\n",
       "      <th>carrier</th>\n",
       "      <th>tailnum</th>\n",
       "      <th>origin</th>\n",
       "      <th>dest</th>\n",
       "    </tr>\n",
       "  </thead>\n",
       "  <tbody>\n",
       "    <tr>\n",
       "      <th>0</th>\n",
       "      <td>AS</td>\n",
       "      <td>N508AS</td>\n",
       "      <td>PDX</td>\n",
       "      <td>ANC</td>\n",
       "    </tr>\n",
       "    <tr>\n",
       "      <th>1</th>\n",
       "      <td>US</td>\n",
       "      <td>N195UW</td>\n",
       "      <td>SEA</td>\n",
       "      <td>CLT</td>\n",
       "    </tr>\n",
       "    <tr>\n",
       "      <th>2</th>\n",
       "      <td>UA</td>\n",
       "      <td>N37422</td>\n",
       "      <td>PDX</td>\n",
       "      <td>IAH</td>\n",
       "    </tr>\n",
       "    <tr>\n",
       "      <th>3</th>\n",
       "      <td>US</td>\n",
       "      <td>N547UW</td>\n",
       "      <td>PDX</td>\n",
       "      <td>CLT</td>\n",
       "    </tr>\n",
       "    <tr>\n",
       "      <th>4</th>\n",
       "      <td>AS</td>\n",
       "      <td>N762AS</td>\n",
       "      <td>SEA</td>\n",
       "      <td>ANC</td>\n",
       "    </tr>\n",
       "    <tr>\n",
       "      <th>...</th>\n",
       "      <td>...</td>\n",
       "      <td>...</td>\n",
       "      <td>...</td>\n",
       "      <td>...</td>\n",
       "    </tr>\n",
       "    <tr>\n",
       "      <th>162044</th>\n",
       "      <td>UA</td>\n",
       "      <td>N477UA</td>\n",
       "      <td>PDX</td>\n",
       "      <td>IAH</td>\n",
       "    </tr>\n",
       "    <tr>\n",
       "      <th>162045</th>\n",
       "      <td>DL</td>\n",
       "      <td>N137DL</td>\n",
       "      <td>SEA</td>\n",
       "      <td>ATL</td>\n",
       "    </tr>\n",
       "    <tr>\n",
       "      <th>162046</th>\n",
       "      <td>AS</td>\n",
       "      <td>N530AS</td>\n",
       "      <td>SEA</td>\n",
       "      <td>SAN</td>\n",
       "    </tr>\n",
       "    <tr>\n",
       "      <th>162047</th>\n",
       "      <td>US</td>\n",
       "      <td>N223AG</td>\n",
       "      <td>PDX</td>\n",
       "      <td>PHX</td>\n",
       "    </tr>\n",
       "    <tr>\n",
       "      <th>162048</th>\n",
       "      <td>WN</td>\n",
       "      <td>N790SW</td>\n",
       "      <td>SEA</td>\n",
       "      <td>SMF</td>\n",
       "    </tr>\n",
       "  </tbody>\n",
       "</table>\n",
       "<p>162049 rows × 4 columns</p>\n",
       "</div>"
      ],
      "text/plain": [
       "       carrier tailnum origin dest\n",
       "0           AS  N508AS    PDX  ANC\n",
       "1           US  N195UW    SEA  CLT\n",
       "2           UA  N37422    PDX  IAH\n",
       "3           US  N547UW    PDX  CLT\n",
       "4           AS  N762AS    SEA  ANC\n",
       "...        ...     ...    ...  ...\n",
       "162044      UA  N477UA    PDX  IAH\n",
       "162045      DL  N137DL    SEA  ATL\n",
       "162046      AS  N530AS    SEA  SAN\n",
       "162047      US  N223AG    PDX  PHX\n",
       "162048      WN  N790SW    SEA  SMF\n",
       "\n",
       "[162049 rows x 4 columns]"
      ]
     },
     "execution_count": 79,
     "metadata": {},
     "output_type": "execute_result"
    }
   ],
   "source": [
    "cat_df_flights"
   ]
  },
  {
   "cell_type": "code",
   "execution_count": 80,
   "id": "5b0cd0e0",
   "metadata": {
    "ExecuteTime": {
     "end_time": "2021-08-04T21:17:21.380382Z",
     "start_time": "2021-08-04T21:17:21.344402Z"
    }
   },
   "outputs": [],
   "source": [
    "cat_df_flights_onehot = pd.get_dummies(\n",
    "    cat_df_flights, columns=[\"origin\", \"carrier\"], prefix = [\"origin\", \"carrier\"])\n"
   ]
  },
  {
   "cell_type": "code",
   "execution_count": 81,
   "id": "d90d00b8",
   "metadata": {
    "ExecuteTime": {
     "end_time": "2021-08-04T21:17:21.582064Z",
     "start_time": "2021-08-04T21:17:21.562658Z"
    }
   },
   "outputs": [
    {
     "data": {
      "text/html": [
       "<div>\n",
       "<style scoped>\n",
       "    .dataframe tbody tr th:only-of-type {\n",
       "        vertical-align: middle;\n",
       "    }\n",
       "\n",
       "    .dataframe tbody tr th {\n",
       "        vertical-align: top;\n",
       "    }\n",
       "\n",
       "    .dataframe thead th {\n",
       "        text-align: right;\n",
       "    }\n",
       "</style>\n",
       "<table border=\"1\" class=\"dataframe\">\n",
       "  <thead>\n",
       "    <tr style=\"text-align: right;\">\n",
       "      <th></th>\n",
       "      <th>tailnum</th>\n",
       "      <th>dest</th>\n",
       "      <th>origin_PDX</th>\n",
       "      <th>origin_SEA</th>\n",
       "      <th>carrier_AA</th>\n",
       "      <th>carrier_AS</th>\n",
       "      <th>carrier_B6</th>\n",
       "      <th>carrier_DL</th>\n",
       "      <th>carrier_F9</th>\n",
       "      <th>carrier_HA</th>\n",
       "      <th>carrier_OO</th>\n",
       "      <th>carrier_UA</th>\n",
       "      <th>carrier_US</th>\n",
       "      <th>carrier_VX</th>\n",
       "      <th>carrier_WN</th>\n",
       "    </tr>\n",
       "  </thead>\n",
       "  <tbody>\n",
       "    <tr>\n",
       "      <th>0</th>\n",
       "      <td>N508AS</td>\n",
       "      <td>ANC</td>\n",
       "      <td>1</td>\n",
       "      <td>0</td>\n",
       "      <td>0</td>\n",
       "      <td>1</td>\n",
       "      <td>0</td>\n",
       "      <td>0</td>\n",
       "      <td>0</td>\n",
       "      <td>0</td>\n",
       "      <td>0</td>\n",
       "      <td>0</td>\n",
       "      <td>0</td>\n",
       "      <td>0</td>\n",
       "      <td>0</td>\n",
       "    </tr>\n",
       "    <tr>\n",
       "      <th>1</th>\n",
       "      <td>N195UW</td>\n",
       "      <td>CLT</td>\n",
       "      <td>0</td>\n",
       "      <td>1</td>\n",
       "      <td>0</td>\n",
       "      <td>0</td>\n",
       "      <td>0</td>\n",
       "      <td>0</td>\n",
       "      <td>0</td>\n",
       "      <td>0</td>\n",
       "      <td>0</td>\n",
       "      <td>0</td>\n",
       "      <td>1</td>\n",
       "      <td>0</td>\n",
       "      <td>0</td>\n",
       "    </tr>\n",
       "    <tr>\n",
       "      <th>2</th>\n",
       "      <td>N37422</td>\n",
       "      <td>IAH</td>\n",
       "      <td>1</td>\n",
       "      <td>0</td>\n",
       "      <td>0</td>\n",
       "      <td>0</td>\n",
       "      <td>0</td>\n",
       "      <td>0</td>\n",
       "      <td>0</td>\n",
       "      <td>0</td>\n",
       "      <td>0</td>\n",
       "      <td>1</td>\n",
       "      <td>0</td>\n",
       "      <td>0</td>\n",
       "      <td>0</td>\n",
       "    </tr>\n",
       "    <tr>\n",
       "      <th>3</th>\n",
       "      <td>N547UW</td>\n",
       "      <td>CLT</td>\n",
       "      <td>1</td>\n",
       "      <td>0</td>\n",
       "      <td>0</td>\n",
       "      <td>0</td>\n",
       "      <td>0</td>\n",
       "      <td>0</td>\n",
       "      <td>0</td>\n",
       "      <td>0</td>\n",
       "      <td>0</td>\n",
       "      <td>0</td>\n",
       "      <td>1</td>\n",
       "      <td>0</td>\n",
       "      <td>0</td>\n",
       "    </tr>\n",
       "    <tr>\n",
       "      <th>4</th>\n",
       "      <td>N762AS</td>\n",
       "      <td>ANC</td>\n",
       "      <td>0</td>\n",
       "      <td>1</td>\n",
       "      <td>0</td>\n",
       "      <td>1</td>\n",
       "      <td>0</td>\n",
       "      <td>0</td>\n",
       "      <td>0</td>\n",
       "      <td>0</td>\n",
       "      <td>0</td>\n",
       "      <td>0</td>\n",
       "      <td>0</td>\n",
       "      <td>0</td>\n",
       "      <td>0</td>\n",
       "    </tr>\n",
       "    <tr>\n",
       "      <th>...</th>\n",
       "      <td>...</td>\n",
       "      <td>...</td>\n",
       "      <td>...</td>\n",
       "      <td>...</td>\n",
       "      <td>...</td>\n",
       "      <td>...</td>\n",
       "      <td>...</td>\n",
       "      <td>...</td>\n",
       "      <td>...</td>\n",
       "      <td>...</td>\n",
       "      <td>...</td>\n",
       "      <td>...</td>\n",
       "      <td>...</td>\n",
       "      <td>...</td>\n",
       "      <td>...</td>\n",
       "    </tr>\n",
       "    <tr>\n",
       "      <th>162044</th>\n",
       "      <td>N477UA</td>\n",
       "      <td>IAH</td>\n",
       "      <td>1</td>\n",
       "      <td>0</td>\n",
       "      <td>0</td>\n",
       "      <td>0</td>\n",
       "      <td>0</td>\n",
       "      <td>0</td>\n",
       "      <td>0</td>\n",
       "      <td>0</td>\n",
       "      <td>0</td>\n",
       "      <td>1</td>\n",
       "      <td>0</td>\n",
       "      <td>0</td>\n",
       "      <td>0</td>\n",
       "    </tr>\n",
       "    <tr>\n",
       "      <th>162045</th>\n",
       "      <td>N137DL</td>\n",
       "      <td>ATL</td>\n",
       "      <td>0</td>\n",
       "      <td>1</td>\n",
       "      <td>0</td>\n",
       "      <td>0</td>\n",
       "      <td>0</td>\n",
       "      <td>1</td>\n",
       "      <td>0</td>\n",
       "      <td>0</td>\n",
       "      <td>0</td>\n",
       "      <td>0</td>\n",
       "      <td>0</td>\n",
       "      <td>0</td>\n",
       "      <td>0</td>\n",
       "    </tr>\n",
       "    <tr>\n",
       "      <th>162046</th>\n",
       "      <td>N530AS</td>\n",
       "      <td>SAN</td>\n",
       "      <td>0</td>\n",
       "      <td>1</td>\n",
       "      <td>0</td>\n",
       "      <td>1</td>\n",
       "      <td>0</td>\n",
       "      <td>0</td>\n",
       "      <td>0</td>\n",
       "      <td>0</td>\n",
       "      <td>0</td>\n",
       "      <td>0</td>\n",
       "      <td>0</td>\n",
       "      <td>0</td>\n",
       "      <td>0</td>\n",
       "    </tr>\n",
       "    <tr>\n",
       "      <th>162047</th>\n",
       "      <td>N223AG</td>\n",
       "      <td>PHX</td>\n",
       "      <td>1</td>\n",
       "      <td>0</td>\n",
       "      <td>0</td>\n",
       "      <td>0</td>\n",
       "      <td>0</td>\n",
       "      <td>0</td>\n",
       "      <td>0</td>\n",
       "      <td>0</td>\n",
       "      <td>0</td>\n",
       "      <td>0</td>\n",
       "      <td>1</td>\n",
       "      <td>0</td>\n",
       "      <td>0</td>\n",
       "    </tr>\n",
       "    <tr>\n",
       "      <th>162048</th>\n",
       "      <td>N790SW</td>\n",
       "      <td>SMF</td>\n",
       "      <td>0</td>\n",
       "      <td>1</td>\n",
       "      <td>0</td>\n",
       "      <td>0</td>\n",
       "      <td>0</td>\n",
       "      <td>0</td>\n",
       "      <td>0</td>\n",
       "      <td>0</td>\n",
       "      <td>0</td>\n",
       "      <td>0</td>\n",
       "      <td>0</td>\n",
       "      <td>0</td>\n",
       "      <td>1</td>\n",
       "    </tr>\n",
       "  </tbody>\n",
       "</table>\n",
       "<p>162049 rows × 15 columns</p>\n",
       "</div>"
      ],
      "text/plain": [
       "       tailnum dest  origin_PDX  origin_SEA  carrier_AA  carrier_AS  \\\n",
       "0       N508AS  ANC           1           0           0           1   \n",
       "1       N195UW  CLT           0           1           0           0   \n",
       "2       N37422  IAH           1           0           0           0   \n",
       "3       N547UW  CLT           1           0           0           0   \n",
       "4       N762AS  ANC           0           1           0           1   \n",
       "...        ...  ...         ...         ...         ...         ...   \n",
       "162044  N477UA  IAH           1           0           0           0   \n",
       "162045  N137DL  ATL           0           1           0           0   \n",
       "162046  N530AS  SAN           0           1           0           1   \n",
       "162047  N223AG  PHX           1           0           0           0   \n",
       "162048  N790SW  SMF           0           1           0           0   \n",
       "\n",
       "        carrier_B6  carrier_DL  carrier_F9  carrier_HA  carrier_OO  \\\n",
       "0                0           0           0           0           0   \n",
       "1                0           0           0           0           0   \n",
       "2                0           0           0           0           0   \n",
       "3                0           0           0           0           0   \n",
       "4                0           0           0           0           0   \n",
       "...            ...         ...         ...         ...         ...   \n",
       "162044           0           0           0           0           0   \n",
       "162045           0           1           0           0           0   \n",
       "162046           0           0           0           0           0   \n",
       "162047           0           0           0           0           0   \n",
       "162048           0           0           0           0           0   \n",
       "\n",
       "        carrier_UA  carrier_US  carrier_VX  carrier_WN  \n",
       "0                0           0           0           0  \n",
       "1                0           1           0           0  \n",
       "2                1           0           0           0  \n",
       "3                0           1           0           0  \n",
       "4                0           0           0           0  \n",
       "...            ...         ...         ...         ...  \n",
       "162044           1           0           0           0  \n",
       "162045           0           0           0           0  \n",
       "162046           0           0           0           0  \n",
       "162047           0           1           0           0  \n",
       "162048           0           0           0           1  \n",
       "\n",
       "[162049 rows x 15 columns]"
      ]
     },
     "execution_count": 81,
     "metadata": {},
     "output_type": "execute_result"
    }
   ],
   "source": [
    "cat_df_flights_onehot"
   ]
  },
  {
   "cell_type": "markdown",
   "id": "9e6294ac",
   "metadata": {},
   "source": [
    "### Utilizando sickit-learn"
   ]
  },
  {
   "cell_type": "code",
   "execution_count": 82,
   "id": "79361207",
   "metadata": {
    "ExecuteTime": {
     "end_time": "2021-08-04T21:17:22.116015Z",
     "start_time": "2021-08-04T21:17:22.102686Z"
    }
   },
   "outputs": [],
   "source": [
    "cat_df_flights_onehot_sklearn = cat_df_flights.copy()"
   ]
  },
  {
   "cell_type": "code",
   "execution_count": 83,
   "id": "03000aa1",
   "metadata": {
    "ExecuteTime": {
     "end_time": "2021-08-04T21:17:22.326543Z",
     "start_time": "2021-08-04T21:17:22.322728Z"
    }
   },
   "outputs": [],
   "source": [
    "from sklearn.preprocessing import LabelBinarizer"
   ]
  },
  {
   "cell_type": "code",
   "execution_count": 84,
   "id": "e3bf0e63",
   "metadata": {
    "ExecuteTime": {
     "end_time": "2021-08-04T21:17:23.045601Z",
     "start_time": "2021-08-04T21:17:22.570377Z"
    }
   },
   "outputs": [],
   "source": [
    "ohe =  LabelBinarizer()\n",
    "ohe_results = ohe.fit_transform(cat_df_flights_onehot_sklearn['carrier'])"
   ]
  },
  {
   "cell_type": "code",
   "execution_count": 85,
   "id": "0a5888cf",
   "metadata": {
    "ExecuteTime": {
     "end_time": "2021-08-04T21:17:23.050206Z",
     "start_time": "2021-08-04T21:17:23.046849Z"
    }
   },
   "outputs": [
    {
     "data": {
      "text/plain": [
       "array([[0, 1, 0, ..., 0, 0, 0],\n",
       "       [0, 0, 0, ..., 1, 0, 0],\n",
       "       [0, 0, 0, ..., 0, 0, 0],\n",
       "       ...,\n",
       "       [0, 1, 0, ..., 0, 0, 0],\n",
       "       [0, 0, 0, ..., 1, 0, 0],\n",
       "       [0, 0, 0, ..., 0, 0, 1]])"
      ]
     },
     "execution_count": 85,
     "metadata": {},
     "output_type": "execute_result"
    }
   ],
   "source": [
    "ohe_results"
   ]
  },
  {
   "cell_type": "code",
   "execution_count": 86,
   "id": "a98db74c",
   "metadata": {
    "ExecuteTime": {
     "end_time": "2021-08-04T21:17:23.069789Z",
     "start_time": "2021-08-04T21:17:23.066528Z"
    }
   },
   "outputs": [
    {
     "data": {
      "text/plain": [
       "array(['AA', 'AS', 'B6', 'DL', 'F9', 'HA', 'OO', 'UA', 'US', 'VX', 'WN'],\n",
       "      dtype='<U2')"
      ]
     },
     "execution_count": 86,
     "metadata": {},
     "output_type": "execute_result"
    }
   ],
   "source": [
    "ohe.classes_"
   ]
  },
  {
   "cell_type": "code",
   "execution_count": 87,
   "id": "f65ff431",
   "metadata": {
    "ExecuteTime": {
     "end_time": "2021-08-04T21:17:23.315842Z",
     "start_time": "2021-08-04T21:17:23.304139Z"
    }
   },
   "outputs": [
    {
     "data": {
      "text/html": [
       "<div>\n",
       "<style scoped>\n",
       "    .dataframe tbody tr th:only-of-type {\n",
       "        vertical-align: middle;\n",
       "    }\n",
       "\n",
       "    .dataframe tbody tr th {\n",
       "        vertical-align: top;\n",
       "    }\n",
       "\n",
       "    .dataframe thead th {\n",
       "        text-align: right;\n",
       "    }\n",
       "</style>\n",
       "<table border=\"1\" class=\"dataframe\">\n",
       "  <thead>\n",
       "    <tr style=\"text-align: right;\">\n",
       "      <th></th>\n",
       "      <th>AA</th>\n",
       "      <th>AS</th>\n",
       "      <th>B6</th>\n",
       "      <th>DL</th>\n",
       "      <th>F9</th>\n",
       "      <th>HA</th>\n",
       "      <th>OO</th>\n",
       "      <th>UA</th>\n",
       "      <th>US</th>\n",
       "      <th>VX</th>\n",
       "      <th>WN</th>\n",
       "    </tr>\n",
       "  </thead>\n",
       "  <tbody>\n",
       "    <tr>\n",
       "      <th>0</th>\n",
       "      <td>0</td>\n",
       "      <td>1</td>\n",
       "      <td>0</td>\n",
       "      <td>0</td>\n",
       "      <td>0</td>\n",
       "      <td>0</td>\n",
       "      <td>0</td>\n",
       "      <td>0</td>\n",
       "      <td>0</td>\n",
       "      <td>0</td>\n",
       "      <td>0</td>\n",
       "    </tr>\n",
       "    <tr>\n",
       "      <th>1</th>\n",
       "      <td>0</td>\n",
       "      <td>0</td>\n",
       "      <td>0</td>\n",
       "      <td>0</td>\n",
       "      <td>0</td>\n",
       "      <td>0</td>\n",
       "      <td>0</td>\n",
       "      <td>0</td>\n",
       "      <td>1</td>\n",
       "      <td>0</td>\n",
       "      <td>0</td>\n",
       "    </tr>\n",
       "    <tr>\n",
       "      <th>2</th>\n",
       "      <td>0</td>\n",
       "      <td>0</td>\n",
       "      <td>0</td>\n",
       "      <td>0</td>\n",
       "      <td>0</td>\n",
       "      <td>0</td>\n",
       "      <td>0</td>\n",
       "      <td>1</td>\n",
       "      <td>0</td>\n",
       "      <td>0</td>\n",
       "      <td>0</td>\n",
       "    </tr>\n",
       "    <tr>\n",
       "      <th>3</th>\n",
       "      <td>0</td>\n",
       "      <td>0</td>\n",
       "      <td>0</td>\n",
       "      <td>0</td>\n",
       "      <td>0</td>\n",
       "      <td>0</td>\n",
       "      <td>0</td>\n",
       "      <td>0</td>\n",
       "      <td>1</td>\n",
       "      <td>0</td>\n",
       "      <td>0</td>\n",
       "    </tr>\n",
       "    <tr>\n",
       "      <th>4</th>\n",
       "      <td>0</td>\n",
       "      <td>1</td>\n",
       "      <td>0</td>\n",
       "      <td>0</td>\n",
       "      <td>0</td>\n",
       "      <td>0</td>\n",
       "      <td>0</td>\n",
       "      <td>0</td>\n",
       "      <td>0</td>\n",
       "      <td>0</td>\n",
       "      <td>0</td>\n",
       "    </tr>\n",
       "  </tbody>\n",
       "</table>\n",
       "</div>"
      ],
      "text/plain": [
       "   AA  AS  B6  DL  F9  HA  OO  UA  US  VX  WN\n",
       "0   0   1   0   0   0   0   0   0   0   0   0\n",
       "1   0   0   0   0   0   0   0   0   1   0   0\n",
       "2   0   0   0   0   0   0   0   1   0   0   0\n",
       "3   0   0   0   0   0   0   0   0   1   0   0\n",
       "4   0   1   0   0   0   0   0   0   0   0   0"
      ]
     },
     "execution_count": 87,
     "metadata": {},
     "output_type": "execute_result"
    }
   ],
   "source": [
    "ohe_results_df = pd.DataFrame(ohe_results, columns=ohe.classes_)\n",
    "ohe_results_df.head()"
   ]
  },
  {
   "cell_type": "code",
   "execution_count": 88,
   "id": "86543bfe",
   "metadata": {
    "ExecuteTime": {
     "end_time": "2021-08-04T21:17:23.575832Z",
     "start_time": "2021-08-04T21:17:23.560298Z"
    }
   },
   "outputs": [],
   "source": [
    "result_df = pd.concat([cat_df_flights_onehot_sklearn, ohe_results_df], axis=1)"
   ]
  },
  {
   "cell_type": "code",
   "execution_count": 89,
   "id": "c2fad897",
   "metadata": {
    "ExecuteTime": {
     "end_time": "2021-08-04T21:17:23.801230Z",
     "start_time": "2021-08-04T21:17:23.793129Z"
    }
   },
   "outputs": [
    {
     "data": {
      "text/html": [
       "<div>\n",
       "<style scoped>\n",
       "    .dataframe tbody tr th:only-of-type {\n",
       "        vertical-align: middle;\n",
       "    }\n",
       "\n",
       "    .dataframe tbody tr th {\n",
       "        vertical-align: top;\n",
       "    }\n",
       "\n",
       "    .dataframe thead th {\n",
       "        text-align: right;\n",
       "    }\n",
       "</style>\n",
       "<table border=\"1\" class=\"dataframe\">\n",
       "  <thead>\n",
       "    <tr style=\"text-align: right;\">\n",
       "      <th></th>\n",
       "      <th>carrier</th>\n",
       "      <th>tailnum</th>\n",
       "      <th>origin</th>\n",
       "      <th>dest</th>\n",
       "      <th>AA</th>\n",
       "      <th>AS</th>\n",
       "      <th>B6</th>\n",
       "      <th>DL</th>\n",
       "      <th>F9</th>\n",
       "      <th>HA</th>\n",
       "      <th>OO</th>\n",
       "      <th>UA</th>\n",
       "      <th>US</th>\n",
       "      <th>VX</th>\n",
       "      <th>WN</th>\n",
       "    </tr>\n",
       "  </thead>\n",
       "  <tbody>\n",
       "    <tr>\n",
       "      <th>0</th>\n",
       "      <td>AS</td>\n",
       "      <td>N508AS</td>\n",
       "      <td>PDX</td>\n",
       "      <td>ANC</td>\n",
       "      <td>0</td>\n",
       "      <td>1</td>\n",
       "      <td>0</td>\n",
       "      <td>0</td>\n",
       "      <td>0</td>\n",
       "      <td>0</td>\n",
       "      <td>0</td>\n",
       "      <td>0</td>\n",
       "      <td>0</td>\n",
       "      <td>0</td>\n",
       "      <td>0</td>\n",
       "    </tr>\n",
       "    <tr>\n",
       "      <th>1</th>\n",
       "      <td>US</td>\n",
       "      <td>N195UW</td>\n",
       "      <td>SEA</td>\n",
       "      <td>CLT</td>\n",
       "      <td>0</td>\n",
       "      <td>0</td>\n",
       "      <td>0</td>\n",
       "      <td>0</td>\n",
       "      <td>0</td>\n",
       "      <td>0</td>\n",
       "      <td>0</td>\n",
       "      <td>0</td>\n",
       "      <td>1</td>\n",
       "      <td>0</td>\n",
       "      <td>0</td>\n",
       "    </tr>\n",
       "    <tr>\n",
       "      <th>2</th>\n",
       "      <td>UA</td>\n",
       "      <td>N37422</td>\n",
       "      <td>PDX</td>\n",
       "      <td>IAH</td>\n",
       "      <td>0</td>\n",
       "      <td>0</td>\n",
       "      <td>0</td>\n",
       "      <td>0</td>\n",
       "      <td>0</td>\n",
       "      <td>0</td>\n",
       "      <td>0</td>\n",
       "      <td>1</td>\n",
       "      <td>0</td>\n",
       "      <td>0</td>\n",
       "      <td>0</td>\n",
       "    </tr>\n",
       "    <tr>\n",
       "      <th>3</th>\n",
       "      <td>US</td>\n",
       "      <td>N547UW</td>\n",
       "      <td>PDX</td>\n",
       "      <td>CLT</td>\n",
       "      <td>0</td>\n",
       "      <td>0</td>\n",
       "      <td>0</td>\n",
       "      <td>0</td>\n",
       "      <td>0</td>\n",
       "      <td>0</td>\n",
       "      <td>0</td>\n",
       "      <td>0</td>\n",
       "      <td>1</td>\n",
       "      <td>0</td>\n",
       "      <td>0</td>\n",
       "    </tr>\n",
       "    <tr>\n",
       "      <th>4</th>\n",
       "      <td>AS</td>\n",
       "      <td>N762AS</td>\n",
       "      <td>SEA</td>\n",
       "      <td>ANC</td>\n",
       "      <td>0</td>\n",
       "      <td>1</td>\n",
       "      <td>0</td>\n",
       "      <td>0</td>\n",
       "      <td>0</td>\n",
       "      <td>0</td>\n",
       "      <td>0</td>\n",
       "      <td>0</td>\n",
       "      <td>0</td>\n",
       "      <td>0</td>\n",
       "      <td>0</td>\n",
       "    </tr>\n",
       "  </tbody>\n",
       "</table>\n",
       "</div>"
      ],
      "text/plain": [
       "  carrier tailnum origin dest  AA  AS  B6  DL  F9  HA  OO  UA  US  VX  WN\n",
       "0      AS  N508AS    PDX  ANC   0   1   0   0   0   0   0   0   0   0   0\n",
       "1      US  N195UW    SEA  CLT   0   0   0   0   0   0   0   0   1   0   0\n",
       "2      UA  N37422    PDX  IAH   0   0   0   0   0   0   0   1   0   0   0\n",
       "3      US  N547UW    PDX  CLT   0   0   0   0   0   0   0   0   1   0   0\n",
       "4      AS  N762AS    SEA  ANC   0   1   0   0   0   0   0   0   0   0   0"
      ]
     },
     "execution_count": 89,
     "metadata": {},
     "output_type": "execute_result"
    }
   ],
   "source": [
    "result_df.head()"
   ]
  },
  {
   "cell_type": "markdown",
   "id": "999bba45",
   "metadata": {},
   "source": [
    "## Target Encoding\n",
    "\n",
    "Supongamos que la variable \"*dep_time*\" es nuestra variable objetivo (target)."
   ]
  },
  {
   "cell_type": "code",
   "execution_count": 90,
   "id": "838e32c9",
   "metadata": {
    "ExecuteTime": {
     "end_time": "2021-08-04T21:17:24.327101Z",
     "start_time": "2021-08-04T21:17:24.306856Z"
    }
   },
   "outputs": [
    {
     "data": {
      "text/html": [
       "<div>\n",
       "<style scoped>\n",
       "    .dataframe tbody tr th:only-of-type {\n",
       "        vertical-align: middle;\n",
       "    }\n",
       "\n",
       "    .dataframe tbody tr th {\n",
       "        vertical-align: top;\n",
       "    }\n",
       "\n",
       "    .dataframe thead th {\n",
       "        text-align: right;\n",
       "    }\n",
       "</style>\n",
       "<table border=\"1\" class=\"dataframe\">\n",
       "  <thead>\n",
       "    <tr style=\"text-align: right;\">\n",
       "      <th></th>\n",
       "      <th>carrier</th>\n",
       "      <th>tailnum</th>\n",
       "      <th>origin</th>\n",
       "      <th>dest</th>\n",
       "      <th>target</th>\n",
       "    </tr>\n",
       "  </thead>\n",
       "  <tbody>\n",
       "    <tr>\n",
       "      <th>0</th>\n",
       "      <td>AS</td>\n",
       "      <td>N508AS</td>\n",
       "      <td>PDX</td>\n",
       "      <td>ANC</td>\n",
       "      <td>1.0</td>\n",
       "    </tr>\n",
       "    <tr>\n",
       "      <th>1</th>\n",
       "      <td>US</td>\n",
       "      <td>N195UW</td>\n",
       "      <td>SEA</td>\n",
       "      <td>CLT</td>\n",
       "      <td>4.0</td>\n",
       "    </tr>\n",
       "    <tr>\n",
       "      <th>2</th>\n",
       "      <td>UA</td>\n",
       "      <td>N37422</td>\n",
       "      <td>PDX</td>\n",
       "      <td>IAH</td>\n",
       "      <td>8.0</td>\n",
       "    </tr>\n",
       "    <tr>\n",
       "      <th>3</th>\n",
       "      <td>US</td>\n",
       "      <td>N547UW</td>\n",
       "      <td>PDX</td>\n",
       "      <td>CLT</td>\n",
       "      <td>28.0</td>\n",
       "    </tr>\n",
       "    <tr>\n",
       "      <th>4</th>\n",
       "      <td>AS</td>\n",
       "      <td>N762AS</td>\n",
       "      <td>SEA</td>\n",
       "      <td>ANC</td>\n",
       "      <td>34.0</td>\n",
       "    </tr>\n",
       "  </tbody>\n",
       "</table>\n",
       "</div>"
      ],
      "text/plain": [
       "  carrier tailnum origin dest  target\n",
       "0      AS  N508AS    PDX  ANC     1.0\n",
       "1      US  N195UW    SEA  CLT     4.0\n",
       "2      UA  N37422    PDX  IAH     8.0\n",
       "3      US  N547UW    PDX  CLT    28.0\n",
       "4      AS  N762AS    SEA  ANC    34.0"
      ]
     },
     "execution_count": 90,
     "metadata": {},
     "output_type": "execute_result"
    }
   ],
   "source": [
    "cat_df_flights_target_encoding = cat_df_flights.copy()\n",
    "cat_df_flights_target_encoding[\"target\"] = df_flights[\"dep_time\"]\n",
    "cat_df_flights_target_encoding.head()"
   ]
  },
  {
   "cell_type": "code",
   "execution_count": 91,
   "id": "c49611fb",
   "metadata": {
    "ExecuteTime": {
     "end_time": "2021-08-04T21:17:24.584595Z",
     "start_time": "2021-08-04T21:17:24.551091Z"
    }
   },
   "outputs": [
    {
     "name": "stdout",
     "output_type": "stream",
     "text": [
      "<class 'pandas.core.frame.DataFrame'>\n",
      "RangeIndex: 162049 entries, 0 to 162048\n",
      "Data columns (total 5 columns):\n",
      " #   Column   Non-Null Count   Dtype  \n",
      "---  ------   --------------   -----  \n",
      " 0   carrier  162049 non-null  object \n",
      " 1   tailnum  162049 non-null  object \n",
      " 2   origin   162049 non-null  object \n",
      " 3   dest     162049 non-null  object \n",
      " 4   target   161192 non-null  float64\n",
      "dtypes: float64(1), object(4)\n",
      "memory usage: 6.2+ MB\n"
     ]
    }
   ],
   "source": [
    "cat_df_flights_target_encoding.info()"
   ]
  },
  {
   "cell_type": "code",
   "execution_count": 92,
   "id": "9b2e67c3",
   "metadata": {
    "ExecuteTime": {
     "end_time": "2021-08-04T21:17:24.769102Z",
     "start_time": "2021-08-04T21:17:24.737613Z"
    }
   },
   "outputs": [],
   "source": [
    "na_fill_values = cat_df_flights_target_encoding.target.mean()\n",
    "cat_df_flights_target_encoding.fillna(na_fill_values, inplace=True)"
   ]
  },
  {
   "cell_type": "code",
   "execution_count": 93,
   "id": "bd54c079",
   "metadata": {
    "ExecuteTime": {
     "end_time": "2021-08-04T21:17:25.004688Z",
     "start_time": "2021-08-04T21:17:24.968560Z"
    }
   },
   "outputs": [
    {
     "name": "stdout",
     "output_type": "stream",
     "text": [
      "<class 'pandas.core.frame.DataFrame'>\n",
      "RangeIndex: 162049 entries, 0 to 162048\n",
      "Data columns (total 5 columns):\n",
      " #   Column   Non-Null Count   Dtype  \n",
      "---  ------   --------------   -----  \n",
      " 0   carrier  162049 non-null  object \n",
      " 1   tailnum  162049 non-null  object \n",
      " 2   origin   162049 non-null  object \n",
      " 3   dest     162049 non-null  object \n",
      " 4   target   162049 non-null  float64\n",
      "dtypes: float64(1), object(4)\n",
      "memory usage: 6.2+ MB\n"
     ]
    }
   ],
   "source": [
    "cat_df_flights_target_encoding.info()"
   ]
  },
  {
   "cell_type": "code",
   "execution_count": 94,
   "id": "e306ae62",
   "metadata": {
    "ExecuteTime": {
     "end_time": "2021-08-04T21:17:25.224032Z",
     "start_time": "2021-08-04T21:17:25.206786Z"
    }
   },
   "outputs": [],
   "source": [
    "encodings = cat_df_flights_target_encoding.groupby(\"carrier\").agg({\"target\":\"mean\"}).reset_index()"
   ]
  },
  {
   "cell_type": "code",
   "execution_count": 95,
   "id": "28cb18c4",
   "metadata": {
    "ExecuteTime": {
     "end_time": "2021-08-04T21:17:25.599845Z",
     "start_time": "2021-08-04T21:17:25.595100Z"
    }
   },
   "outputs": [
    {
     "data": {
      "text/html": [
       "<div>\n",
       "<style scoped>\n",
       "    .dataframe tbody tr th:only-of-type {\n",
       "        vertical-align: middle;\n",
       "    }\n",
       "\n",
       "    .dataframe tbody tr th {\n",
       "        vertical-align: top;\n",
       "    }\n",
       "\n",
       "    .dataframe thead th {\n",
       "        text-align: right;\n",
       "    }\n",
       "</style>\n",
       "<table border=\"1\" class=\"dataframe\">\n",
       "  <thead>\n",
       "    <tr style=\"text-align: right;\">\n",
       "      <th></th>\n",
       "      <th>carrier</th>\n",
       "      <th>target</th>\n",
       "    </tr>\n",
       "  </thead>\n",
       "  <tbody>\n",
       "    <tr>\n",
       "      <th>0</th>\n",
       "      <td>AA</td>\n",
       "      <td>1139.753005</td>\n",
       "    </tr>\n",
       "    <tr>\n",
       "      <th>1</th>\n",
       "      <td>AS</td>\n",
       "      <td>1305.577368</td>\n",
       "    </tr>\n",
       "    <tr>\n",
       "      <th>2</th>\n",
       "      <td>B6</td>\n",
       "      <td>1505.048686</td>\n",
       "    </tr>\n",
       "    <tr>\n",
       "      <th>3</th>\n",
       "      <td>DL</td>\n",
       "      <td>1215.535727</td>\n",
       "    </tr>\n",
       "    <tr>\n",
       "      <th>4</th>\n",
       "      <td>F9</td>\n",
       "      <td>1246.846017</td>\n",
       "    </tr>\n",
       "    <tr>\n",
       "      <th>5</th>\n",
       "      <td>HA</td>\n",
       "      <td>950.421264</td>\n",
       "    </tr>\n",
       "    <tr>\n",
       "      <th>6</th>\n",
       "      <td>OO</td>\n",
       "      <td>1353.848156</td>\n",
       "    </tr>\n",
       "    <tr>\n",
       "      <th>7</th>\n",
       "      <td>UA</td>\n",
       "      <td>1218.665926</td>\n",
       "    </tr>\n",
       "    <tr>\n",
       "      <th>8</th>\n",
       "      <td>US</td>\n",
       "      <td>1247.354458</td>\n",
       "    </tr>\n",
       "    <tr>\n",
       "      <th>9</th>\n",
       "      <td>VX</td>\n",
       "      <td>1247.787108</td>\n",
       "    </tr>\n",
       "    <tr>\n",
       "      <th>10</th>\n",
       "      <td>WN</td>\n",
       "      <td>1273.996935</td>\n",
       "    </tr>\n",
       "  </tbody>\n",
       "</table>\n",
       "</div>"
      ],
      "text/plain": [
       "   carrier       target\n",
       "0       AA  1139.753005\n",
       "1       AS  1305.577368\n",
       "2       B6  1505.048686\n",
       "3       DL  1215.535727\n",
       "4       F9  1246.846017\n",
       "5       HA   950.421264\n",
       "6       OO  1353.848156\n",
       "7       UA  1218.665926\n",
       "8       US  1247.354458\n",
       "9       VX  1247.787108\n",
       "10      WN  1273.996935"
      ]
     },
     "execution_count": 95,
     "metadata": {},
     "output_type": "execute_result"
    }
   ],
   "source": [
    "encodings"
   ]
  },
  {
   "cell_type": "code",
   "execution_count": 96,
   "id": "3fa2142a",
   "metadata": {
    "ExecuteTime": {
     "end_time": "2021-08-04T21:17:25.905705Z",
     "start_time": "2021-08-04T21:17:25.877666Z"
    }
   },
   "outputs": [],
   "source": [
    "cat_df_flights_target_encoding = cat_df_flights_target_encoding.merge(encodings, how=\"left\", on=\"carrier\", suffixes=(\"\", \"carrier_mean\"))"
   ]
  },
  {
   "cell_type": "code",
   "execution_count": 97,
   "id": "d31e1b4c",
   "metadata": {
    "ExecuteTime": {
     "end_time": "2021-08-04T21:17:26.111372Z",
     "start_time": "2021-08-04T21:17:26.104575Z"
    }
   },
   "outputs": [
    {
     "data": {
      "text/html": [
       "<div>\n",
       "<style scoped>\n",
       "    .dataframe tbody tr th:only-of-type {\n",
       "        vertical-align: middle;\n",
       "    }\n",
       "\n",
       "    .dataframe tbody tr th {\n",
       "        vertical-align: top;\n",
       "    }\n",
       "\n",
       "    .dataframe thead th {\n",
       "        text-align: right;\n",
       "    }\n",
       "</style>\n",
       "<table border=\"1\" class=\"dataframe\">\n",
       "  <thead>\n",
       "    <tr style=\"text-align: right;\">\n",
       "      <th></th>\n",
       "      <th>carrier</th>\n",
       "      <th>tailnum</th>\n",
       "      <th>origin</th>\n",
       "      <th>dest</th>\n",
       "      <th>target</th>\n",
       "      <th>targetcarrier_mean</th>\n",
       "    </tr>\n",
       "  </thead>\n",
       "  <tbody>\n",
       "    <tr>\n",
       "      <th>0</th>\n",
       "      <td>AS</td>\n",
       "      <td>N508AS</td>\n",
       "      <td>PDX</td>\n",
       "      <td>ANC</td>\n",
       "      <td>1.0</td>\n",
       "      <td>1305.577368</td>\n",
       "    </tr>\n",
       "    <tr>\n",
       "      <th>1</th>\n",
       "      <td>US</td>\n",
       "      <td>N195UW</td>\n",
       "      <td>SEA</td>\n",
       "      <td>CLT</td>\n",
       "      <td>4.0</td>\n",
       "      <td>1247.354458</td>\n",
       "    </tr>\n",
       "    <tr>\n",
       "      <th>2</th>\n",
       "      <td>UA</td>\n",
       "      <td>N37422</td>\n",
       "      <td>PDX</td>\n",
       "      <td>IAH</td>\n",
       "      <td>8.0</td>\n",
       "      <td>1218.665926</td>\n",
       "    </tr>\n",
       "    <tr>\n",
       "      <th>3</th>\n",
       "      <td>US</td>\n",
       "      <td>N547UW</td>\n",
       "      <td>PDX</td>\n",
       "      <td>CLT</td>\n",
       "      <td>28.0</td>\n",
       "      <td>1247.354458</td>\n",
       "    </tr>\n",
       "    <tr>\n",
       "      <th>4</th>\n",
       "      <td>AS</td>\n",
       "      <td>N762AS</td>\n",
       "      <td>SEA</td>\n",
       "      <td>ANC</td>\n",
       "      <td>34.0</td>\n",
       "      <td>1305.577368</td>\n",
       "    </tr>\n",
       "  </tbody>\n",
       "</table>\n",
       "</div>"
      ],
      "text/plain": [
       "  carrier tailnum origin dest  target  targetcarrier_mean\n",
       "0      AS  N508AS    PDX  ANC     1.0         1305.577368\n",
       "1      US  N195UW    SEA  CLT     4.0         1247.354458\n",
       "2      UA  N37422    PDX  IAH     8.0         1218.665926\n",
       "3      US  N547UW    PDX  CLT    28.0         1247.354458\n",
       "4      AS  N762AS    SEA  ANC    34.0         1305.577368"
      ]
     },
     "execution_count": 97,
     "metadata": {},
     "output_type": "execute_result"
    }
   ],
   "source": [
    "cat_df_flights_target_encoding.head()"
   ]
  },
  {
   "cell_type": "markdown",
   "id": "7050820a",
   "metadata": {},
   "source": [
    "# Ejercicio\n",
    "\n",
    "Hacer análisis de Variables del sigueiente DataSet\n",
    "\n",
    "[Ejercicio de Kaggle](https://www.kaggle.com/deepankurk/flight-take-off-data-jfk-airport)"
   ]
  }
 ],
 "metadata": {
  "kernelspec": {
   "display_name": "Python 3 (ipykernel)",
   "language": "python",
   "name": "python3"
  },
  "language_info": {
   "codemirror_mode": {
    "name": "ipython",
    "version": 3
   },
   "file_extension": ".py",
   "mimetype": "text/x-python",
   "name": "python",
   "nbconvert_exporter": "python",
   "pygments_lexer": "ipython3",
   "version": "3.9.7"
  },
  "toc": {
   "base_numbering": 1,
   "nav_menu": {},
   "number_sections": true,
   "sideBar": true,
   "skip_h1_title": false,
   "title_cell": "Table of Contents",
   "title_sidebar": "Contents",
   "toc_cell": false,
   "toc_position": {
    "height": "calc(100% - 180px)",
    "left": "10px",
    "top": "150px",
    "width": "165px"
   },
   "toc_section_display": true,
   "toc_window_display": true
  }
 },
 "nbformat": 4,
 "nbformat_minor": 5
}
