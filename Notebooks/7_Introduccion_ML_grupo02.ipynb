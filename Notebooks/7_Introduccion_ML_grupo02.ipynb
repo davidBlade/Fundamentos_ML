{
 "cells": [
  {
   "cell_type": "markdown",
   "id": "4f7760ab",
   "metadata": {},
   "source": [
    "# Introduccion al Machine Learning\n",
    "\n",
    "<img alt=\"Colaboratory logo\" src=\"MLearning.jpg\" height = \"500\" width = \"500\">\n",
    "\n",
    "El Machine Learning es una rama de la Inteligencia Artificial que, a través de algoritmos, dota a las \"máquinas\" la capacidad de identificar patrones en datos (o la capacidad de \"aprender\") y erealizar predicciones. Este aprendizaje permite a las máquinas realizar tareas específicas como clasificación, forecasting, sistemas de recomendación y entre otros.\n",
    "\n",
    "Podemos utilizar el ML para:\n",
    "\n",
    "- Problemas para los cuales las soluciones existentes requieren una gran cantidad de trabajo.\n",
    "- Problemas complejos para los que no existe una solución con los métodos tradicionales.\n",
    "- Entornos fluctuantes.\n",
    "- Obtener información sobre problemas complejos y grandes cantidades de datos.\n",
    "\n",
    "Python y R son lenguajes de programación mas populares para el análisis de datos, machine leraning, IA, y deep learning\n",
    "\n",
    "<img alt=\"Colaboratory logo\" src=\"R.jpg\" height = \"300\" width = \"300\">"
   ]
  },
  {
   "cell_type": "markdown",
   "id": "5c258154",
   "metadata": {},
   "source": [
    "## Todo es Inteligencia Artificial\n",
    "<br>\n",
    "<img alt=\"Colaboratory logo\" src=\"IA.jpg\" height = \"650\" width = \"650\">"
   ]
  },
  {
   "cell_type": "markdown",
   "id": "1a488811",
   "metadata": {},
   "source": [
    "# Tipos de algoritmos en ML\n",
    "Los sistemas de machine learning los clasificaremos de acuerdo a la relación que se establezca entre los datos de entrada y salida, además de la naturaleza continua o discreta de los datos. A continuación, podemos ver algunos de ellos:\n",
    "<br>\n",
    "<br>\n",
    "\n",
    "<img src=\"ML.png\" height = \"650\" width = \"650\">"
   ]
  },
  {
   "cell_type": "markdown",
   "id": "09c8fd58",
   "metadata": {},
   "source": [
    "[Que es Machine Learning](https://www.youtube.com/watch?v=KytW151dpqU&list=PL-Ogd76BhmcC_E2RjgIIJZd1DQdYHcVf0)"
   ]
  },
  {
   "cell_type": "markdown",
   "id": "d8e09ac8",
   "metadata": {},
   "source": [
    "# Modelos de ML mas comunes"
   ]
  },
  {
   "cell_type": "markdown",
   "id": "11875f81",
   "metadata": {},
   "source": [
    "|Tipo|\n",
    "|-|\n",
    "|Simple linear regression|\n",
    "|Logistic regression|\n",
    "|Decision Tree|\n",
    "|Random Forest|\n",
    "|SVM|\n",
    "|K-NN|\n",
    "|K-Means|\n",
    "|Hierarchical Clustering|\n",
    "|Polinimial Logistic Regression|\n",
    "\n"
   ]
  },
  {
   "cell_type": "markdown",
   "id": "ec71dce5",
   "metadata": {},
   "source": [
    "# ML Build"
   ]
  },
  {
   "cell_type": "markdown",
   "id": "81e77a02",
   "metadata": {},
   "source": [
    "<img src=\"ml_2.jfif\" height = \"650\" width = \"650\">"
   ]
  },
  {
   "cell_type": "markdown",
   "id": "351889d3",
   "metadata": {},
   "source": [
    "# Concepto de ML end-to-end\n",
    "<br>\n",
    "<br>\n",
    "<img src=\"MLend.jpg\" height = \"650\" width = \"650\">"
   ]
  }
 ],
 "metadata": {
  "kernelspec": {
   "display_name": "myenv_eafit",
   "language": "python",
   "name": "myenv_eafit"
  },
  "language_info": {
   "codemirror_mode": {
    "name": "ipython",
    "version": 3
   },
   "file_extension": ".py",
   "mimetype": "text/x-python",
   "name": "python",
   "nbconvert_exporter": "python",
   "pygments_lexer": "ipython3",
   "version": "3.8.12"
  }
 },
 "nbformat": 4,
 "nbformat_minor": 5
}
