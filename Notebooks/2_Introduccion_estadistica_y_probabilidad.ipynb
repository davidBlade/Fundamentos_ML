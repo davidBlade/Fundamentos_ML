{
 "cells": [
  {
   "cell_type": "markdown",
   "metadata": {},
   "source": [
    "# Introducción a la probabilidad y estadística básica"
   ]
  },
  {
   "cell_type": "markdown",
   "metadata": {},
   "source": [
    "La **probabilidad** introduce los campos matemáticos que nos permiten cuantificar la incertidumbre y hacer predicciones a pesar de de dicha incertidumbre o \"del que pasará\". Estos campos son esenciales porque los algoritmos de aprendizaje automático se entrenan con datos imperfectos y se implementan en escenarios ruidosos del mundo real que no se habían encontrado antes, por lo tanto siempre existirá una probabilidad de equivocarnos o no, pero antes de ellos, debemos conocer como funciona la probabilidad y que es este concepto aplicado en cualquier modelo de machine learning.\n"
   ]
  },
  {
   "cell_type": "markdown",
   "metadata": {},
   "source": [
    "## Definiciones básicas"
   ]
  },
  {
   "cell_type": "markdown",
   "metadata": {},
   "source": [
    "- **Población**: Total de elementos de un grupo a estudiar.\n",
    "- **Muestra**: Parte o segmento de una población.\n",
    "\n",
    "<img src = \"Captura.JPG\">"
   ]
  },
  {
   "cell_type": "markdown",
   "metadata": {},
   "source": [
    "- **Experimento**: Acción que genera eventos apartir de unos datos el cual puede ser repetido una cantida de veces n.\n",
    "- **Espacio muestral**: Todos los posibles resiltados de un experimento.\n",
    "\n",
    "\n",
    "  $$ S = \\lbrace{a,b,c, ... }\\rbrace $$\n",
    "  \n",
    "  ejemplo: se tiene un experimento donde se realiza un lanzamiento de un dado, ¿Qué cara se puede obtener al lanzar el dado?\n",
    "  \n",
    "  R//: el espacio muestral serán todos los posibles resulatdos al lanzar el dado, es decir: {1,2,3,4,5,6}"
   ]
  },
  {
   "cell_type": "markdown",
   "metadata": {},
   "source": [
    "  **Evento simple**: es un subconjunto del espacio muestral, si consideramos el espacio muestral anterior, un evento simple de ese espacio muestral sería solo tomar cuando la cara del dado de como resultado 1 o 4:\n",
    "\n",
    "  $$ A = \\lbrace{1,4}\\rbrace $$"
   ]
  },
  {
   "cell_type": "markdown",
   "metadata": {},
   "source": [
    "**Evento compuesto**: Es aquel que se compone de dos o mas eventos simples, donde podrían tener relación o no.\n",
    "\n",
    "- **Unión**: conjunto formado por lo elementos de dos o mas conjuntos sin repetirlos.\n",
    "\n",
    "\n",
    " $$ P = \\lbrace{2, 3, 5, 6}\\rbrace $$\n",
    " \n",
    " $$ Q = \\lbrace{3, 7, 4}\\rbrace $$\n",
    " \n",
    " $$ P \\cup Q = \\lbrace{2, 3, 4, 5, 6, 7}\\rbrace $$\n",
    " \n",
    " <img src = \"Captura1.JPG\">\n",
    "\n",
    "- **Intersección**: Conjunto formado por los elementos comunes de dos o mas conjuntos.\n",
    "\n",
    "\n",
    " $$ M = \\lbrace{a, b, c}\\rbrace $$\n",
    " \n",
    " $$ N = \\lbrace{a, c, e, d}\\rbrace $$\n",
    " \n",
    " $$ M \\cap N = \\lbrace{a, c}\\rbrace $$\n",
    " \n",
    " <img src = \"Captura3.JPG\">"
   ]
  },
  {
   "cell_type": "markdown",
   "metadata": {
    "ExecuteTime": {
     "end_time": "2021-08-21T03:00:05.727258Z",
     "start_time": "2021-08-21T03:00:05.715285Z"
    }
   },
   "source": [
    "# Probabilidad"
   ]
  },
  {
   "cell_type": "markdown",
   "metadata": {},
   "source": [
    "## Probabilidad simple\n",
    "\n",
    "Recordemos que la probabilidad nos permite cuantificar la certidumbre de un evento\n",
    "\n",
    "- Según la Regla de Laplace una probabilidad se puede medir de 0 a 1, dónde 0 es la probabiliad de que el evento sea imposible, y 1 es la probabilidad de que el evento sea seguro, esto se puede expresar de la siguiente forma:\n",
    "\n",
    "$$ P(\\text{evento}) = \\frac{\\text{Numero de casos favorables}}{\\text{Numero de casos posibles}} $$\n",
    "\n",
    "- Ejemplo: calcular la probabilidad de que al lanzar un dado, se obtenga como resultado el número 5\n",
    "\n",
    "R//:  $$ P(\\text{evento}) = \\frac{\\text{Numero de casos favorables}}{\\text{Numero de casos posibles}} = \\frac{\\text{1}}{\\text{6}} = 0.16 \\approx 16\\% $$\n",
    "\n",
    "- Ejemplo: calcular la probabilidad de que al lanzar un dado, se obtenga como resultado un número par\n",
    "\n",
    "R//:  $$ P(\\text{evento}) = \\frac{\\text{3}}{\\text{6}} = \\frac{\\text{1}}{\\text{2}} = 0.5 \\approx 50\\% $$\n",
    "\n",
    "- Ejemplo: calcular la probabilidad de que al lanzar un dado, se obtenga como resultado un número menor que 6\n",
    "\n",
    "R//:  $$ P(\\text{evento}) = \\frac{\\text{5}}{\\text{6}} = 0.83 \\approx 83\\% $$\n"
   ]
  },
  {
   "cell_type": "markdown",
   "metadata": {},
   "source": [
    "## Probabilidad (unión) sucesos incompatibles"
   ]
  },
  {
   "cell_type": "markdown",
   "metadata": {},
   "source": [
    "Es aquella probabilidad de que ocurra un seceso u otro sin que sean compatibles, esto se puede expresar de la siguiente forma:\n",
    "\n",
    "\n",
    "$$ P(A \\cup B) = P(A) + P(B) \\\\ dónde: \\ P(A \\cup B) \\neq 0 $$\n",
    "\n",
    "\n",
    "- ejemplo: se tiene un mazo de 52 cartas, y se extrae al azar una sola carta, ¿cúal es la probabilidad de sacar (J, Q, K) **o** el número 4. \n",
    "\n",
    "$$ A = \\lbrace{\\text{sacar J Q K}}\\rbrace $$\n",
    "$$ B = \\lbrace{\\text{sacar numero 6}}\\rbrace $$\n",
    "\n",
    "Calcular la probailidad de A y B:\n",
    "\n",
    "Se sabe que un mazo de 52 cartas tiene 4 pintas, trebol, pica, corazon y diamante, por lo tanto hay 4  cartas de cada letra (J, Q, K) y esto tambien cumple para los numeros\n",
    "\n",
    "$$ P(A) = \\frac{\\text{Numero de casos favorables}}{\\text{Numero de casos posibles}} = \\frac{12}{52} = 0.230 $$\n",
    "\n",
    "$$ P(B) = \\frac{4}{52} = 0.076 $$\n",
    "\n",
    "$$ P(A \\cup B) = P(A) + P(B) =  0.230 + 0.076 = 0.306 $$"
   ]
  },
  {
   "cell_type": "markdown",
   "metadata": {
    "ExecuteTime": {
     "end_time": "2021-08-21T03:24:44.507176Z",
     "start_time": "2021-08-21T03:24:44.493190Z"
    }
   },
   "source": [
    "## Probabilidad (unión) sucesos compatibles"
   ]
  },
  {
   "cell_type": "markdown",
   "metadata": {},
   "source": [
    "Es aquella probabilidad de que ocurra un seceso u otro pero que sean compatibles, esto se puede expresar de la siguiente forma:\n",
    "\n",
    "\n",
    "$$ P(A \\cup B) = P(A) + P(B) - P(A \\cap B) \\\\ dónde: \\ P(A \\cap B) \\neq 0 $$\n",
    "\n",
    "\n",
    "- ejemplo: el 80% de suscriptores de Youtube desean ver canales de entretenimiento, el 70% gusta de los canales educativos, y el 60% prefiere ambos contenidos. Si se escoge un suscriptor al azar, ¿Cúal es la probabilidad de que vea canales educativos **o** de entretenimiennto\n",
    "\n",
    "$$ A = \\lbrace{\\text{Entretenimiento}}\\rbrace $$\n",
    "$$ B = \\lbrace{\\text{educativo}}\\rbrace $$\n",
    "$$ AyB = \\lbrace{\\text{ambos}}\\rbrace $$\n",
    "\n",
    "$$ P(A) = 0.8 $$\n",
    "\n",
    "$$ P(B) = 0.7 $$\n",
    "\n",
    "$$ P(A \\cup B) = 0.6 $$\n",
    "\n",
    "$$ P(A \\cup B) = P(A) + P(B) - P(A \\cap B) = 0.8 + 0.7 - 0.6 = 0.9 $$"
   ]
  },
  {
   "cell_type": "markdown",
   "metadata": {},
   "source": [
    "## Probabilidad (Complemento de sucesos)"
   ]
  },
  {
   "cell_type": "markdown",
   "metadata": {},
   "source": [
    "Se refiere a aquella probabilidad de no obtener un resultado, es decir el complemento:\n",
    "    \n",
    "$$ P(A) + P(\\bar{A}) = 1 $$\n",
    "\n",
    "- ejemplo: Se extrae una carta al azar de un mazo de 52 cartas, calcular la probabilidad de **no** sacar una K\n",
    "\n",
    "$$ A = \\lbrace{\\text{no sale K}}\\rbrace $$\n",
    "$$ \\bar{A} = \\lbrace{\\text{sale K}}\\rbrace $$\n",
    "\n",
    "$$ P(\\bar{A}) = \\frac{4}{52} = 0.076 $$\n",
    "\n",
    "$$ P(A) = 1 - P(\\bar{A}) = 1 - 0.076 = 0.924 $$"
   ]
  },
  {
   "cell_type": "markdown",
   "metadata": {},
   "source": [
    "## Probabilidad condicionada"
   ]
  },
  {
   "cell_type": "markdown",
   "metadata": {},
   "source": [
    "Es la probabilidad de un evento B una vez ocurrido el evento A, se puede expresar de la siguiente forma:\n",
    "\n",
    "$$ P(B/A) = \\frac{P(A \\cap B)}{P(A)} $$\n",
    "\n",
    "- ejemplo: en un grupo universitario, el 50% de la clase cancela cálculo diferencial, el 60% cancela física de campos y el 30% cancela ambas materias, ¿Cual es la probabilidad de que al seleccionar un estudiante al azar, éste haya cancelado cálculo diferencial **si** canceló fisica de campos?\n",
    "\n",
    "$$ A = \\lbrace{\\text{canceló física de campos}}\\rbrace $$\n",
    "$$ B = \\lbrace{\\text{canceló calculo diferencial}}\\rbrace $$\n",
    " \n",
    "$$ P(A) = 60\\% = 0.6 $$\n",
    "\n",
    "$$ P(B) = 50\\% = 0.5 $$\n",
    "\n",
    "$$ M \\cap N = 30\\% = 0.3 $$\n",
    "\n",
    "$$ P(B/A) = \\frac{P(A \\cap B)}{P(A)} = \\frac{0.3}{0.6} = 0.5 $$\n",
    "\n",
    "\n",
    "- ejemplo: si se lanza un dado, ¿cual es la probabilidad de obtener un número 2, sabiendo que ha salido un número par?\n",
    "\n",
    "$$ A = \\lbrace{\\text{numero par}}\\rbrace $$\n",
    "$$ B = \\lbrace{\\text{obtener un 2}}\\rbrace $$\n",
    "\n",
    "$$ P(A) = \\frac{3}{6} = 0.5 = 50\\% $$\n",
    "\n",
    "$$ P(B) = \\frac{1}{6} = 0.16 = 16\\% $$\n",
    "\n",
    "Sabemos lo siguiente: \n",
    "\n",
    "Número de casos posibles: 6\n",
    "\n",
    "Se calcula la intersección de los conjuntos así:\n",
    "\n",
    "$$ A = \\lbrace{2, 4, 6}\\rbrace $$\n",
    "$$ B = \\lbrace{2}\\rbrace $$\n",
    "\n",
    "La intersección es encontrar que valores se repiten en ambos conjuntos, en este caso el número 2 es quien se repite, por lo tanto:\n",
    "    \n",
    "$$ A \\cap B = \\frac{1}{6} = 0.16 $$\n",
    "\n",
    "$$ P(B/A) = \\frac{P(A \\cap B)}{P(A)} = \\frac{0.16}{0.5} = 0.33 $$"
   ]
  },
  {
   "cell_type": "markdown",
   "metadata": {},
   "source": [
    "## Probabilidad compuesta"
   ]
  },
  {
   "cell_type": "markdown",
   "metadata": {},
   "source": [
    "$$ P(A \\cap B) = P(A)*P(B/A) $$\n",
    "\n",
    "- ejemplo: se tiene una baraja de 52 cartas, se extraen dos cartas, ¿Cúal es la probabilidad de extraer dos ases?\n",
    "\n",
    "$$ A = \\lbrace{\\text{sacar un As}}\\rbrace $$\n",
    "$$ B = \\lbrace{\\text{segundo As}}\\rbrace $$\n",
    "\n",
    "$$ P(A) = \\frac{4}{52} = 0.076 $$\n",
    "\n",
    "$$ P(B/A) = \\frac{3}{51} = 0.058 $$\n",
    "\n",
    "$$ P(A \\cap B) = P(A)*P(B/A) = 0.076*0.057 = 0.0044 $$"
   ]
  },
  {
   "cell_type": "code",
   "execution_count": 1,
   "metadata": {
    "ExecuteTime": {
     "end_time": "2021-08-21T15:12:58.004882Z",
     "start_time": "2021-08-21T15:12:57.991890Z"
    }
   },
   "outputs": [],
   "source": [
    "## Consultar sobre el teorema Bayes"
   ]
  },
  {
   "cell_type": "markdown",
   "metadata": {},
   "source": [
    "# Medidas de tendencia central"
   ]
  },
  {
   "cell_type": "markdown",
   "metadata": {},
   "source": [
    "Un conjunto de datos, ya sean cualitativos o cuantitativos, contiene todo tipo de información interesante según se analice. Por ejemplo podemos tener información sobre un número determinado de clientes y con esta información determinar patrones o características para mejorar y optimizar nuestros esfuerzos en ventas y programas de fidelidad.   \n",
    "\n",
    "Analizar una gran cantidad de datos para determinar modelos, inferir información o predecir comportamientos en una actividad que se ejecuta en todas las áreas de la ciencia y que se menciona cuando se llega a hacer divulgación. Sin embargo, se presenta un problema al hablar del conjunto de datos en donde son muchas **muestras** para distintas **características**. En el caso de los clientes, podemos tener información de la edad, de las compras usuales y otros datos personales o comerciales para un número de 20, 30, 1000 personas. A esto se conoce como dimensión de los datos.\n",
    "\n",
    "Las medidas de tendencia central proporcionan una estadística resumida en el centro de una distribución dada, también conocido como el valor \"promedio\" de la distribución."
   ]
  },
  {
   "cell_type": "markdown",
   "metadata": {
    "ExecuteTime": {
     "end_time": "2021-08-21T05:54:09.382643Z",
     "start_time": "2021-08-21T05:54:09.366650Z"
    }
   },
   "source": [
    "## Media aritmética"
   ]
  },
  {
   "cell_type": "markdown",
   "metadata": {},
   "source": [
    "Es la más común de las medidas de tendencia central. La media aritmética de un conjunto de datos numéricos se obtiene sumando los datos y dividiendo entre el número total de datos.\n",
    "\n",
    "$$ {\\displaystyle {\\bar {x}}={\\frac {1}{n}}\\sum _{i=1}^{n}x_{i}={\\frac {x_{1}+x_{2}+\\cdots +x_{n}}{n}}} $$"
   ]
  },
  {
   "cell_type": "markdown",
   "metadata": {},
   "source": [
    "**Ventajas**:\n",
    "\n",
    "* Fácil cálculo.\n",
    "* Es única para cada conjunto de datos.\n",
    "* Se interpreta como un punto de equilibrio o centro de masas. \n",
    "* Es útil para llevar a cabo procedimientos estadísticos como la comparación de medias de varios conjuntos de datos.\n",
    "* Toma en cuenta todos y cada uno de los elementos de los datos."
   ]
  },
  {
   "cell_type": "markdown",
   "metadata": {},
   "source": [
    "**Desventajas**\n",
    "\n",
    "* Es una medida a cuyo significado depende la dispersión, de modo que cuanto menos homogéneos sean los datos, menos información proporciona.\n",
    "* En el análisis real de la media no todos los valores contribuyen de la misma manera. Los valores altos tienen más peso que los valores cercanos a cero."
   ]
  },
  {
   "cell_type": "code",
   "execution_count": 2,
   "metadata": {
    "ExecuteTime": {
     "end_time": "2021-08-21T15:19:55.520449Z",
     "start_time": "2021-08-21T15:19:49.060291Z"
    }
   },
   "outputs": [],
   "source": [
    "import numpy as np\n",
    "import matplotlib.pyplot as plt\n",
    "import seaborn as sns"
   ]
  },
  {
   "cell_type": "code",
   "execution_count": 9,
   "metadata": {
    "ExecuteTime": {
     "end_time": "2021-08-21T15:22:07.691062Z",
     "start_time": "2021-08-21T15:22:07.680064Z"
    }
   },
   "outputs": [
    {
     "data": {
      "text/plain": [
       "2.58"
      ]
     },
     "execution_count": 9,
     "metadata": {},
     "output_type": "execute_result"
    }
   ],
   "source": [
    "n_experiments = 1000\n",
    "heads_count = np.random.binomial(5, 0.5, n_experiments)\n",
    "\n",
    "media = sum(heads_count)/len(heads_count)\n",
    "media "
   ]
  },
  {
   "cell_type": "code",
   "execution_count": 10,
   "metadata": {
    "ExecuteTime": {
     "end_time": "2021-08-21T15:22:09.479231Z",
     "start_time": "2021-08-21T15:22:09.462244Z"
    }
   },
   "outputs": [
    {
     "data": {
      "text/plain": [
       "2.58"
      ]
     },
     "execution_count": 10,
     "metadata": {},
     "output_type": "execute_result"
    }
   ],
   "source": [
    "media_np = np.mean(heads_count)\n",
    "media_np"
   ]
  },
  {
   "cell_type": "markdown",
   "metadata": {},
   "source": [
    "**Ejemplo**: ya teniendo claro el concepto de media aritmética, cree una distribución normal de media 6, de ser posible tambien realice la grafica de la distribución\n",
    "\n",
    "- tip: para ello utilice el método de numpy np.random.normal() y un histograma"
   ]
  },
  {
   "cell_type": "code",
   "execution_count": 36,
   "metadata": {
    "ExecuteTime": {
     "end_time": "2021-08-21T15:40:06.422037Z",
     "start_time": "2021-08-21T15:40:06.406047Z"
    }
   },
   "outputs": [],
   "source": [
    "def hist_normal(datos):\n",
    "    \n",
    "    plt.figure(figsize = (10, 5))\n",
    "    ax = plt.subplot(1, 1, 1)\n",
    "    ax.set_title(\"Hostograma\")\n",
    "    sns.distplot(datos, bins = 20, hist_kws = {\"rwidth\": 0.9}, hist = True, ax = ax)\n",
    "    ax.set_xlabel(\"Variable\")\n",
    "    ax.set_ylabel(\"Frecuencia\")\n",
    "    \n",
    "    return ax"
   ]
  },
  {
   "cell_type": "code",
   "execution_count": 38,
   "metadata": {
    "ExecuteTime": {
     "end_time": "2021-08-21T15:40:14.095817Z",
     "start_time": "2021-08-21T15:40:13.794996Z"
    }
   },
   "outputs": [
    {
     "name": "stderr",
     "output_type": "stream",
     "text": [
      "C:\\Users\\DavidPiedrahitaFlore\\.conda\\envs\\renting_env\\lib\\site-packages\\seaborn\\distributions.py:2557: FutureWarning: `distplot` is a deprecated function and will be removed in a future version. Please adapt your code to use either `displot` (a figure-level function with similar flexibility) or `histplot` (an axes-level function for histograms).\n",
      "  warnings.warn(msg, FutureWarning)\n"
     ]
    },
    {
     "data": {
      "image/png": "[encoded data removed]",
      "text/plain": [
       "<Figure size 720x360 with 1 Axes>"
      ]
     },
     "metadata": {
      "needs_background": "light"
     },
     "output_type": "display_data"
    }
   ],
   "source": [
    "datos = np.random.normal(6, 1, 1000)\n",
    "ax = hist_normal(datos)\n",
    "plt.show();"
   ]
  },
  {
   "cell_type": "markdown",
   "metadata": {},
   "source": [
    "## Mediana"
   ]
  },
  {
   "cell_type": "markdown",
   "metadata": {},
   "source": [
    "La mediana es un punto que divide la muestra ordenada (de menor a mayor) en dos grupos iguales (50% - 50%). Es un punto que está justo en mitad de la muestra, y no tiene por qué coincidir con la media.\n",
    "\n",
    "**Para cantidad de datos impares**:\n",
    "\n",
    "- Supongamos que tenemos el grupo de datos no agrupados $x_{1},x_{2},x_{3},\\ldots ,x_{n}$, los cuales están organizados de mayor a menor y $n$ es impar. La mediana sería:\n",
    "\n",
    "$$M_{e}=x_{{(n+1)/2}}$$\n",
    "\n",
    "**Para cantidad de datos pares**:\n",
    "\n",
    "- Si $n$ es par, la mediana sería:\n",
    "$$M_{e}=(x_{{{\\frac  {n}{2}}}}+x_{{{{\\frac  {n}{2}}}+1}})/2$$"
   ]
  },
  {
   "cell_type": "code",
   "execution_count": 50,
   "metadata": {
    "ExecuteTime": {
     "end_time": "2021-08-21T15:47:22.185930Z",
     "start_time": "2021-08-21T15:47:22.168942Z"
    }
   },
   "outputs": [
    {
     "data": {
      "text/plain": [
       "array([1, 1, 1, 1, 1, 1, 2, 0, 0, 2])"
      ]
     },
     "execution_count": 50,
     "metadata": {},
     "output_type": "execute_result"
    }
   ],
   "source": [
    "heads_count = np.random.binomial(2, 0.5, n_experiments)\n",
    "heads_count[0:10]"
   ]
  },
  {
   "cell_type": "code",
   "execution_count": 51,
   "metadata": {
    "ExecuteTime": {
     "end_time": "2021-08-21T15:47:23.076948Z",
     "start_time": "2021-08-21T15:47:23.060958Z"
    }
   },
   "outputs": [],
   "source": [
    "heads_count.sort()"
   ]
  },
  {
   "cell_type": "code",
   "execution_count": 52,
   "metadata": {
    "ExecuteTime": {
     "end_time": "2021-08-21T15:47:23.541228Z",
     "start_time": "2021-08-21T15:47:23.519240Z"
    }
   },
   "outputs": [
    {
     "data": {
      "text/plain": [
       "1"
      ]
     },
     "execution_count": 52,
     "metadata": {},
     "output_type": "execute_result"
    }
   ],
   "source": [
    "heads_count[499]"
   ]
  },
  {
   "cell_type": "code",
   "execution_count": 53,
   "metadata": {
    "ExecuteTime": {
     "end_time": "2021-08-21T15:47:24.164783Z",
     "start_time": "2021-08-21T15:47:24.156792Z"
    }
   },
   "outputs": [
    {
     "data": {
      "text/plain": [
       "1"
      ]
     },
     "execution_count": 53,
     "metadata": {},
     "output_type": "execute_result"
    }
   ],
   "source": [
    "heads_count[500]"
   ]
  },
  {
   "cell_type": "code",
   "execution_count": 55,
   "metadata": {
    "ExecuteTime": {
     "end_time": "2021-08-21T15:48:51.918522Z",
     "start_time": "2021-08-21T15:48:51.899014Z"
    }
   },
   "outputs": [
    {
     "data": {
      "text/plain": [
       "1.0"
      ]
     },
     "execution_count": 55,
     "metadata": {},
     "output_type": "execute_result"
    }
   ],
   "source": [
    "mediana = (heads_count[499]+heads_count[500])/2\n",
    "mediana"
   ]
  },
  {
   "cell_type": "code",
   "execution_count": 56,
   "metadata": {
    "ExecuteTime": {
     "end_time": "2021-08-21T15:49:11.819753Z",
     "start_time": "2021-08-21T15:49:11.804761Z"
    }
   },
   "outputs": [
    {
     "data": {
      "text/plain": [
       "1.0"
      ]
     },
     "execution_count": 56,
     "metadata": {},
     "output_type": "execute_result"
    }
   ],
   "source": [
    "mediana = np.median(heads_count)\n",
    "mediana"
   ]
  },
  {
   "cell_type": "markdown",
   "metadata": {},
   "source": [
    "**Ejercicio**: grafique una cantidad de puntos n y halle la mediana en la grafica"
   ]
  },
  {
   "cell_type": "code",
   "execution_count": 67,
   "metadata": {
    "ExecuteTime": {
     "end_time": "2021-08-21T15:59:30.059297Z",
     "start_time": "2021-08-21T15:59:29.808442Z"
    }
   },
   "outputs": [
    {
     "data": {
      "image/png": "[encoded data removed]",
      "text/plain": [
       "<Figure size 1080x360 with 1 Axes>"
      ]
     },
     "metadata": {
      "needs_background": "light"
     },
     "output_type": "display_data"
    }
   ],
   "source": [
    "cantidad = 15\n",
    "min_number = 5\n",
    "max_number = 20\n",
    "\n",
    "datos = np.random.uniform(min_number, max_number, size = cantidad)\n",
    "datos.sort()\n",
    "\n",
    "pmedio = 0.5*(cantidad//2) + 0.5*(cantidad//2+1) if cantidad%2 == 0 else cantidad//2+1\n",
    "median = 0.5*datos[cantidad//2-1] + 0.5*datos[cantidad//2] if cantidad%2 == 0 else datos[cantidad//2+1]\n",
    "\n",
    "fig, ax = plt.subplots(figsize = (15, 5))\n",
    "ax.plot(range(1, cantidad + 1), datos, \"o\", ms = 10)\n",
    "ax.plot(pmedio, median, \"or\", markerfacecolor = \"w\", ms = 5)\n",
    "\n",
    "ax.annotate(\"Mediana\", \n",
    "            xy = (pmedio, median), \n",
    "            xytext = (pmedio, 0.8*median), \n",
    "            arrowprops = dict(arrowstyle = \"-|>\", \n",
    "                              connectionstyle = \"arc3\", \n",
    "                              facecolor = \"black\"))\n",
    "\n",
    "plt.show();"
   ]
  },
  {
   "cell_type": "markdown",
   "metadata": {},
   "source": [
    "## Moda"
   ]
  },
  {
   "cell_type": "markdown",
   "metadata": {},
   "source": [
    "La moda es la última medida común de tendencia central. Es simplemente el valor en la distribución que ocurre con mayor frecuencia.\n",
    "\n",
    "**Ventajas**:\n",
    "\n",
    "* Cálculo sencillo.\n",
    "* Interpretación muy clara.\n",
    "* Al depender sólo de las frecuencias, puede calcularse para variables cualitativas\n",
    "\n",
    "**Desventajas**\n",
    "\n",
    "* Su valor es independiente de la mayor parte de los datos, lo que la hace muy sensible a variaciones muestrales.\n",
    "* Usa muy pocas observaciones, de tal modo que grandes variaciones en los datos fuera de la moda, no afectan en modo alguno a su valor.\n",
    "* Puede haber más de una moda."
   ]
  },
  {
   "cell_type": "code",
   "execution_count": 69,
   "metadata": {
    "ExecuteTime": {
     "end_time": "2021-08-21T16:02:37.880665Z",
     "start_time": "2021-08-21T16:02:37.861679Z"
    }
   },
   "outputs": [],
   "source": [
    "import scipy.stats as st"
   ]
  },
  {
   "cell_type": "code",
   "execution_count": 70,
   "metadata": {
    "ExecuteTime": {
     "end_time": "2021-08-21T16:02:38.775883Z",
     "start_time": "2021-08-21T16:02:38.759894Z"
    }
   },
   "outputs": [
    {
     "data": {
      "text/plain": [
       "ModeResult(mode=array([1]), count=array([499]))"
      ]
     },
     "execution_count": 70,
     "metadata": {},
     "output_type": "execute_result"
    }
   ],
   "source": [
    "st.mode(heads_count)"
   ]
  },
  {
   "cell_type": "code",
   "execution_count": 72,
   "metadata": {
    "ExecuteTime": {
     "end_time": "2021-08-21T16:03:02.509608Z",
     "start_time": "2021-08-21T16:03:02.501610Z"
    }
   },
   "outputs": [
    {
     "data": {
      "text/plain": [
       "1"
      ]
     },
     "execution_count": 72,
     "metadata": {},
     "output_type": "execute_result"
    }
   ],
   "source": [
    "st.mode(heads_count)[0][0]"
   ]
  },
  {
   "cell_type": "markdown",
   "metadata": {},
   "source": [
    "**NOTA:**\n",
    "\n",
    "Con tamaños de muestra pequeños, la media suele proporcionar la medida más precisa de tendencia central.\n",
    "\n",
    "Con tamaños de muestra más grandes, la media, la mediana, siempre que la distribución no esté sesgada:"
   ]
  },
  {
   "cell_type": "code",
   "execution_count": 86,
   "metadata": {
    "ExecuteTime": {
     "end_time": "2021-08-21T16:14:15.136844Z",
     "start_time": "2021-08-21T16:14:14.904457Z"
    }
   },
   "outputs": [
    {
     "data": {
      "image/png": "[encoded data removed]",
      "text/plain": [
       "<Figure size 432x288 with 1 Axes>"
      ]
     },
     "metadata": {
      "needs_background": "light"
     },
     "output_type": "display_data"
    }
   ],
   "source": [
    "x = np.random.normal(10, 1, 1000)\n",
    "\n",
    "fig, ax = plt.subplots()\n",
    "plt.axvline(x = np.mean(x), color = \"orange\")\n",
    "plt.axvline(x = np.median(x), color = \"green\")\n",
    "plt.hist(x, color = \"lightblue\");"
   ]
  },
  {
   "cell_type": "markdown",
   "metadata": {},
   "source": [
    "# Cuantiles"
   ]
  },
  {
   "cell_type": "markdown",
   "metadata": {},
   "source": [
    "Técnica estadística para separar los datos de una distribución. Eso sí, debe cumplirse que los grupos sean iguales. Por eso, existen diversos tipos de cuantil, como veremos más adelante, en función del número de particiones que hacen.\n",
    "\n",
    "La mediana, que divide una distribución en dos en su punto medio, es el ejemplo más conocido de cuantil.\n",
    "\n",
    "En términos generales, los cuantiles dividen distribuciones y los más comunes son:\n",
    "\n",
    "* Percentiles\n",
    "* Cuartiles\n",
    "* Deciles"
   ]
  },
  {
   "cell_type": "code",
   "execution_count": 88,
   "metadata": {
    "ExecuteTime": {
     "end_time": "2021-08-21T16:22:14.989596Z",
     "start_time": "2021-08-21T16:22:14.971610Z"
    }
   },
   "outputs": [
    {
     "data": {
      "text/plain": [
       "10.04833863746287"
      ]
     },
     "execution_count": 88,
     "metadata": {},
     "output_type": "execute_result"
    }
   ],
   "source": [
    "x = np.random.normal(10, 1, 1000)\n",
    "np.median(x)"
   ]
  },
  {
   "cell_type": "code",
   "execution_count": 89,
   "metadata": {
    "ExecuteTime": {
     "end_time": "2021-08-21T16:22:57.212023Z",
     "start_time": "2021-08-21T16:22:57.198036Z"
    }
   },
   "outputs": [
    {
     "data": {
      "text/plain": [
       "10.04833863746287"
      ]
     },
     "execution_count": 89,
     "metadata": {},
     "output_type": "execute_result"
    }
   ],
   "source": [
    "np.quantile(x, 0.5)"
   ]
  },
  {
   "cell_type": "markdown",
   "metadata": {},
   "source": [
    "## Percentiles"
   ]
  },
  {
   "cell_type": "markdown",
   "metadata": {},
   "source": [
    "El percentil es una medida de posición usada en estadística que indica, una vez ordenados los datos de menor a mayor, el valor de la variable por debajo del cual se encuentra un porcentaje dado de observaciones en un grupo. Por ejemplo, el percentil 20.º es el valor bajo el cual se encuentran el 20 por ciento de las observaciones. Él y el 80% restante son mayores."
   ]
  },
  {
   "cell_type": "code",
   "execution_count": 93,
   "metadata": {
    "ExecuteTime": {
     "end_time": "2021-08-21T16:24:05.497672Z",
     "start_time": "2021-08-21T16:24:05.479682Z"
    }
   },
   "outputs": [
    {
     "data": {
      "text/plain": [
       "10.04833863746287"
      ]
     },
     "execution_count": 93,
     "metadata": {},
     "output_type": "execute_result"
    }
   ],
   "source": [
    "percentil = np.percentile(x, 50)\n",
    "percentil"
   ]
  },
  {
   "cell_type": "markdown",
   "metadata": {},
   "source": [
    "Tenga en cuenta que el método de cuantiles de Numpy () es idéntico al método de percentiles () "
   ]
  },
  {
   "cell_type": "code",
   "execution_count": 92,
   "metadata": {
    "ExecuteTime": {
     "end_time": "2021-08-21T07:09:56.455986Z",
     "start_time": "2021-08-21T07:09:56.443019Z"
    }
   },
   "outputs": [
    {
     "data": {
      "text/plain": [
       "array([11.787, 12.37 ])"
      ]
     },
     "execution_count": 92,
     "metadata": {},
     "output_type": "execute_result"
    }
   ],
   "source": [
    "np.quantile(x, [.95, .99])"
   ]
  },
  {
   "cell_type": "markdown",
   "metadata": {},
   "source": [
    "## Cuartiles"
   ]
  },
  {
   "cell_type": "markdown",
   "metadata": {},
   "source": [
    "Como su nombre indica, son cuantiles que dividen una distribución en cuartos, dividiendo la distribución en el percentil 25, la mediana (también conocido como el percentil 50) y el percentil 75."
   ]
  },
  {
   "cell_type": "code",
   "execution_count": 94,
   "metadata": {
    "ExecuteTime": {
     "end_time": "2021-08-21T16:25:00.949776Z",
     "start_time": "2021-08-21T16:25:00.926765Z"
    }
   },
   "outputs": [
    {
     "data": {
      "text/plain": [
       "array([ 9.32848625, 10.04833864, 10.7082104 ])"
      ]
     },
     "execution_count": 94,
     "metadata": {},
     "output_type": "execute_result"
    }
   ],
   "source": [
    "cuartil = np.percentile(x, [25, 50, 75])\n",
    "cuartil"
   ]
  },
  {
   "cell_type": "code",
   "execution_count": 95,
   "metadata": {
    "ExecuteTime": {
     "end_time": "2021-08-21T16:26:51.744525Z",
     "start_time": "2021-08-21T16:26:51.524643Z"
    }
   },
   "outputs": [
    {
     "data": {
      "image/png": "[encoded data removed]",
      "text/plain": [
       "<Figure size 432x288 with 1 Axes>"
      ]
     },
     "metadata": {
      "needs_background": "light"
     },
     "output_type": "display_data"
    }
   ],
   "source": [
    "fig, ax = plt.subplots()\n",
    "plt.axvline(x = cuartil[0], color = \"orange\")\n",
    "plt.axvline(x = cuartil[1], color = \"green\")\n",
    "plt.axvline(x = cuartil[2], color = \"red\")\n",
    "plt.hist(x, color = \"lightblue\");"
   ]
  },
  {
   "cell_type": "markdown",
   "metadata": {},
   "source": [
    "## Deciles"
   ]
  },
  {
   "cell_type": "markdown",
   "metadata": {},
   "source": [
    "Dividen una distribución en diez segmentos de tamaño uniforme:"
   ]
  },
  {
   "cell_type": "code",
   "execution_count": 100,
   "metadata": {
    "ExecuteTime": {
     "end_time": "2021-08-21T16:28:30.327594Z",
     "start_time": "2021-08-21T16:28:30.315580Z"
    }
   },
   "outputs": [],
   "source": [
    "#decil = np.percentile(x, [10,20,30,40,50,60,70,80,90])\n",
    "decil = np.percentile(x, range(10, 100, 10))"
   ]
  },
  {
   "cell_type": "code",
   "execution_count": 101,
   "metadata": {
    "ExecuteTime": {
     "end_time": "2021-08-21T16:28:31.103380Z",
     "start_time": "2021-08-21T16:28:31.085393Z"
    }
   },
   "outputs": [
    {
     "data": {
      "text/plain": [
       "array([ 8.75395604,  9.13117962,  9.46593021,  9.77253975, 10.04833864,\n",
       "       10.27521635, 10.55472449, 10.88519453, 11.32279775])"
      ]
     },
     "execution_count": 101,
     "metadata": {},
     "output_type": "execute_result"
    }
   ],
   "source": [
    "decil"
   ]
  },
  {
   "cell_type": "code",
   "execution_count": 102,
   "metadata": {
    "ExecuteTime": {
     "end_time": "2021-08-21T16:29:14.743676Z",
     "start_time": "2021-08-21T16:29:14.482267Z"
    }
   },
   "outputs": [
    {
     "data": {
      "image/png": "[encoded data removed]",
      "text/plain": [
       "<Figure size 432x288 with 1 Axes>"
      ]
     },
     "metadata": {
      "needs_background": "light"
     },
     "output_type": "display_data"
    }
   ],
   "source": [
    "fig, ax = plt.subplots()\n",
    "plt.axvline(x = decil[0], color = \"orange\")\n",
    "plt.axvline(x = decil[1], color = \"green\")\n",
    "plt.axvline(x = decil[2], color = \"red\")\n",
    "plt.axvline(x = decil[3], color = \"orange\")\n",
    "plt.axvline(x = decil[4], color = \"green\")\n",
    "plt.axvline(x = decil[5], color = \"red\")\n",
    "plt.axvline(x = decil[6], color = \"orange\")\n",
    "plt.axvline(x = decil[7], color = \"green\")\n",
    "plt.axvline(x = decil[8], color = \"red\")\n",
    "plt.hist(x, color = \"lightblue\");"
   ]
  },
  {
   "cell_type": "markdown",
   "metadata": {},
   "source": [
    "# Medidas de dispersión"
   ]
  },
  {
   "cell_type": "markdown",
   "metadata": {},
   "source": [
    "Las medidas de desviación son medidas que comparan los valores del conjunto de datos con la media de los datos. Las medidas de tendencia central no son suficientes para describir un conjuntos de datos, ya que estos se distribuyen entre los valores máximo y mínimo de distintas formas. Así que se considera vital saber la forma en cómo se concentran los datos alrededor de un valor central o posición, estás medidas se conocen cómo medidas de dispersión.\n",
    "\n",
    "**Las más comunes son:** \n",
    "\n",
    "* Varianza\n",
    "* Desviación estándar\n",
    "* Error estándar"
   ]
  },
  {
   "cell_type": "code",
   "execution_count": 103,
   "metadata": {
    "ExecuteTime": {
     "end_time": "2021-08-21T16:41:33.566805Z",
     "start_time": "2021-08-21T16:41:31.636755Z"
    }
   },
   "outputs": [
    {
     "data": {
      "image/png": "[encoded data removed]",
      "text/plain": [
       "<Figure size 720x720 with 4 Axes>"
      ]
     },
     "metadata": {
      "needs_background": "light"
     },
     "output_type": "display_data"
    }
   ],
   "source": [
    "fig = plt.figure(figsize = (10, 10))\n",
    "\n",
    "N = 200\n",
    "\n",
    "r = [np.abs(np.random.normal(1, 0.3, N)),\n",
    "     np.abs(5-np.random.exponential(0.5, N)),\n",
    "     np.abs(np.random.normal(1, 2, N)),\n",
    "     np.abs(np.random.normal(4, 0.7, N))]\n",
    "\n",
    "theta = [2 * np.pi * np.random.uniform(0,1,N), \n",
    "         2 * np.pi * np.random.uniform(0,0.1,N),\n",
    "         2 * np.pi * np.random.uniform(0,1,N),\n",
    "         2 * np.pi * np.random.beta(4,1,N)]\n",
    "\n",
    "area = 50 * r[0].max()**2\n",
    "\n",
    "for i in range(4):\n",
    "    ax = fig.add_subplot(2, 2, i + 1, projection = 'polar')\n",
    "    ax.set_title('Datos %d'%(i + 1))\n",
    "    c = ax.scatter(theta[i], r[i], s = area, cmap = 'hsv', alpha = 0.75)\n",
    "    ax.set_rlim(0, 5)"
   ]
  },
  {
   "cell_type": "markdown",
   "metadata": {},
   "source": [
    "## Medidas de Rangos"
   ]
  },
  {
   "cell_type": "markdown",
   "metadata": {},
   "source": [
    "### Rango"
   ]
  },
  {
   "cell_type": "markdown",
   "metadata": {},
   "source": [
    "El Rango es el intervalo entre el valor máximo y el valor mínimo, cuanto mayor es el rango, más dispersos están los datos. \n",
    "\n",
    "$$ Rango = max - min $$"
   ]
  },
  {
   "cell_type": "markdown",
   "metadata": {},
   "source": [
    "### Rango medio "
   ]
  },
  {
   "cell_type": "markdown",
   "metadata": {},
   "source": [
    "El Rango es la media del menor y mayor valor de un conjunto de datos, o la mitad del camino entre el dato de menor valor y el dato de mayor."
   ]
  },
  {
   "cell_type": "markdown",
   "metadata": {},
   "source": [
    "### Rango intercuantílico"
   ]
  },
  {
   "cell_type": "markdown",
   "metadata": {},
   "source": [
    "Rango intercuantílico o rango intercuantil, es la diferencia entre el tercer y el primer cuartil de una distribución (pos 25%, pos 75%).\n",
    "\n",
    "$$ IQR = Q(3) - Q(1) $$\n",
    "\n",
    "* Primer cuartil (Q1), tambien es el percentil 25 de los datos\n",
    "* Segundo cuartil (Q2), tambien es el percentil 50 de los datos, decil 5, y tambien coincide con la mediana de los datos\n",
    "* Tercer cuartil (Q3), tambien es el percentil 75 de los datos"
   ]
  },
  {
   "cell_type": "markdown",
   "metadata": {},
   "source": [
    "## Medidas de desviación"
   ]
  },
  {
   "cell_type": "markdown",
   "metadata": {},
   "source": [
    "Las medidas de desviación son medidas que comparan los valores del conjunto de datos con la media de los datos. "
   ]
  },
  {
   "cell_type": "markdown",
   "metadata": {},
   "source": [
    "### Varianza"
   ]
  },
  {
   "cell_type": "markdown",
   "metadata": {},
   "source": [
    "La varianza es una medida de dispersión, que es la media de los cuadrados de las distancias entre los puntos y el valor medio de todo el conjunto.\n",
    "\n",
    "$$ \\sigma^2 = \\frac{\\sum_{i=1}^n (x_i-\\bar{x})^2}{n} $$"
   ]
  },
  {
   "cell_type": "code",
   "execution_count": 5,
   "metadata": {
    "ExecuteTime": {
     "end_time": "2021-08-28T13:17:23.252041Z",
     "start_time": "2021-08-28T13:17:23.232054Z"
    }
   },
   "outputs": [
    {
     "data": {
      "text/plain": [
       "0.05328683180979589"
      ]
     },
     "execution_count": 5,
     "metadata": {},
     "output_type": "execute_result"
    }
   ],
   "source": [
    "x = np.random.rand(1, 20)[0]\n",
    "np.var(x)"
   ]
  },
  {
   "cell_type": "markdown",
   "metadata": {},
   "source": [
    "### Desviación estándar"
   ]
  },
  {
   "cell_type": "markdown",
   "metadata": {},
   "source": [
    "Es conocida como la raíz cuadrada de la variancia, es conveniente porque sus unidades están en la misma escala que los valores en la distribución:\n",
    "\n",
    "$$ \\sigma = \\sqrt{\\sigma^2} $$"
   ]
  },
  {
   "cell_type": "code",
   "execution_count": 6,
   "metadata": {
    "ExecuteTime": {
     "end_time": "2021-08-28T13:31:27.005918Z",
     "start_time": "2021-08-28T13:31:26.981936Z"
    }
   },
   "outputs": [
    {
     "data": {
      "text/plain": [
       "0.23083940696899194"
      ]
     },
     "execution_count": 6,
     "metadata": {},
     "output_type": "execute_result"
    }
   ],
   "source": [
    "np.std(x)"
   ]
  },
  {
   "cell_type": "markdown",
   "metadata": {},
   "source": [
    "### Coeficiente de variación de pearson"
   ]
  },
  {
   "cell_type": "markdown",
   "metadata": {},
   "source": [
    "Medida de dispersión adimensional, que se expresa tanto de forma decimal como en tanto por ciento, y nos expresaría la desviación típica como porcentaje con respecto a la media.\n",
    "\n",
    " $$ CV = \\dfrac{\\sigma}{\\bar x}$$"
   ]
  },
  {
   "cell_type": "code",
   "execution_count": 7,
   "metadata": {
    "ExecuteTime": {
     "end_time": "2021-08-28T13:33:18.589059Z",
     "start_time": "2021-08-28T13:33:18.570073Z"
    }
   },
   "outputs": [
    {
     "data": {
      "text/plain": [
       "43.52237399984945"
      ]
     },
     "execution_count": 7,
     "metadata": {},
     "output_type": "execute_result"
    }
   ],
   "source": [
    "(np.std(x)/np.mean(x))*100"
   ]
  },
  {
   "cell_type": "markdown",
   "metadata": {},
   "source": [
    "# Medidas de relación"
   ]
  },
  {
   "cell_type": "markdown",
   "metadata": {
    "ExecuteTime": {
     "end_time": "2021-08-21T07:48:44.194147Z",
     "start_time": "2021-08-21T07:48:44.188158Z"
    }
   },
   "source": [
    "## Covarianza"
   ]
  },
  {
   "cell_type": "markdown",
   "metadata": {},
   "source": [
    "Proporciona una medida de cuán relacionadas están las variables el uno al otro:\n",
    "\n",
    "$$ \\text{cov}(x, y) = \\frac{\\sum_{i=1}^n (x_i - \\bar{x})(y_i - \\bar{y}) }{n} $$"
   ]
  },
  {
   "cell_type": "code",
   "execution_count": 10,
   "metadata": {
    "ExecuteTime": {
     "end_time": "2021-08-28T13:54:04.584505Z",
     "start_time": "2021-08-28T13:54:04.574519Z"
    }
   },
   "outputs": [],
   "source": [
    "import seaborn as sns"
   ]
  },
  {
   "cell_type": "code",
   "execution_count": 11,
   "metadata": {
    "ExecuteTime": {
     "end_time": "2021-08-28T13:54:05.581494Z",
     "start_time": "2021-08-28T13:54:05.532504Z"
    }
   },
   "outputs": [
    {
     "data": {
      "text/html": [
       "<div>\n",
       "<style scoped>\n",
       "    .dataframe tbody tr th:only-of-type {\n",
       "        vertical-align: middle;\n",
       "    }\n",
       "\n",
       "    .dataframe tbody tr th {\n",
       "        vertical-align: top;\n",
       "    }\n",
       "\n",
       "    .dataframe thead th {\n",
       "        text-align: right;\n",
       "    }\n",
       "</style>\n",
       "<table border=\"1\" class=\"dataframe\">\n",
       "  <thead>\n",
       "    <tr style=\"text-align: right;\">\n",
       "      <th></th>\n",
       "      <th>sepal_length</th>\n",
       "      <th>sepal_width</th>\n",
       "      <th>petal_length</th>\n",
       "      <th>petal_width</th>\n",
       "      <th>species</th>\n",
       "    </tr>\n",
       "  </thead>\n",
       "  <tbody>\n",
       "    <tr>\n",
       "      <th>0</th>\n",
       "      <td>5.1</td>\n",
       "      <td>3.5</td>\n",
       "      <td>1.4</td>\n",
       "      <td>0.2</td>\n",
       "      <td>setosa</td>\n",
       "    </tr>\n",
       "    <tr>\n",
       "      <th>1</th>\n",
       "      <td>4.9</td>\n",
       "      <td>3.0</td>\n",
       "      <td>1.4</td>\n",
       "      <td>0.2</td>\n",
       "      <td>setosa</td>\n",
       "    </tr>\n",
       "    <tr>\n",
       "      <th>2</th>\n",
       "      <td>4.7</td>\n",
       "      <td>3.2</td>\n",
       "      <td>1.3</td>\n",
       "      <td>0.2</td>\n",
       "      <td>setosa</td>\n",
       "    </tr>\n",
       "    <tr>\n",
       "      <th>3</th>\n",
       "      <td>4.6</td>\n",
       "      <td>3.1</td>\n",
       "      <td>1.5</td>\n",
       "      <td>0.2</td>\n",
       "      <td>setosa</td>\n",
       "    </tr>\n",
       "    <tr>\n",
       "      <th>4</th>\n",
       "      <td>5.0</td>\n",
       "      <td>3.6</td>\n",
       "      <td>1.4</td>\n",
       "      <td>0.2</td>\n",
       "      <td>setosa</td>\n",
       "    </tr>\n",
       "  </tbody>\n",
       "</table>\n",
       "</div>"
      ],
      "text/plain": [
       "   sepal_length  sepal_width  petal_length  petal_width species\n",
       "0           5.1          3.5           1.4          0.2  setosa\n",
       "1           4.9          3.0           1.4          0.2  setosa\n",
       "2           4.7          3.2           1.3          0.2  setosa\n",
       "3           4.6          3.1           1.5          0.2  setosa\n",
       "4           5.0          3.6           1.4          0.2  setosa"
      ]
     },
     "execution_count": 11,
     "metadata": {},
     "output_type": "execute_result"
    }
   ],
   "source": [
    "iris = sns.load_dataset(\"iris\")\n",
    "iris.head()"
   ]
  },
  {
   "cell_type": "code",
   "execution_count": 13,
   "metadata": {
    "ExecuteTime": {
     "end_time": "2021-08-28T13:56:57.111695Z",
     "start_time": "2021-08-28T13:56:56.880830Z"
    }
   },
   "outputs": [
    {
     "data": {
      "image/png": "[encoded data removed]",
      "text/plain": [
       "<Figure size 432x288 with 1 Axes>"
      ]
     },
     "metadata": {
      "needs_background": "light"
     },
     "output_type": "display_data"
    }
   ],
   "source": [
    "x = iris.sepal_length\n",
    "y = iris.petal_length\n",
    "sns.scatterplot(x = x, y = y);"
   ]
  },
  {
   "cell_type": "code",
   "execution_count": 15,
   "metadata": {
    "ExecuteTime": {
     "end_time": "2021-08-28T14:06:10.536500Z",
     "start_time": "2021-08-28T14:06:10.513514Z"
    }
   },
   "outputs": [
    {
     "data": {
      "text/plain": [
       "array([[0.68112222, 1.26582   ],\n",
       "       [1.26582   , 3.09550267]])"
      ]
     },
     "execution_count": 15,
     "metadata": {},
     "output_type": "execute_result"
    }
   ],
   "source": [
    "np.cov(x, y,  ddof = 0)"
   ]
  },
  {
   "cell_type": "markdown",
   "metadata": {},
   "source": [
    "## Correlación"
   ]
  },
  {
   "cell_type": "markdown",
   "metadata": {},
   "source": [
    "La correlación mide exclusivamente la relación. La correlación es mucho más común debido a esta diferencia. si la correlación es menor a cero la relación entre ambas variables será negativa, si la correlación da cero da a entenderde que no hay ningún tipo de relación entre ambas variables, y si la correlación da mayor a cero, la relación entre ambas variables será positiva\n",
    "\n",
    "$$ \\rho_{x,y} = \\frac{\\text{cov}(x,y)}{\\sigma_x \\sigma_y} $$"
   ]
  },
  {
   "cell_type": "markdown",
   "metadata": {},
   "source": [
    "## Con Scipy"
   ]
  },
  {
   "cell_type": "code",
   "execution_count": 16,
   "metadata": {
    "ExecuteTime": {
     "end_time": "2021-08-28T14:15:59.828469Z",
     "start_time": "2021-08-28T14:15:59.811483Z"
    }
   },
   "outputs": [],
   "source": [
    "import scipy.stats as st"
   ]
  },
  {
   "cell_type": "code",
   "execution_count": 33,
   "metadata": {
    "ExecuteTime": {
     "end_time": "2021-08-28T14:27:09.775862Z",
     "start_time": "2021-08-28T14:27:09.764872Z"
    }
   },
   "outputs": [
    {
     "data": {
      "text/plain": [
       "-0.11756978413300208"
      ]
     },
     "execution_count": 33,
     "metadata": {},
     "output_type": "execute_result"
    }
   ],
   "source": [
    "x = iris.sepal_length\n",
    "y = iris.sepal_width\n",
    "st.pearsonr(x,y)[0]"
   ]
  },
  {
   "cell_type": "code",
   "execution_count": 34,
   "metadata": {
    "ExecuteTime": {
     "end_time": "2021-08-28T14:27:25.884343Z",
     "start_time": "2021-08-28T14:27:25.866352Z"
    }
   },
   "outputs": [
    {
     "data": {
      "text/plain": [
       "0.8717537758865833"
      ]
     },
     "execution_count": 34,
     "metadata": {},
     "output_type": "execute_result"
    }
   ],
   "source": [
    "x = iris.sepal_length\n",
    "y = iris.petal_length\n",
    "st.pearsonr(x,y)[0]"
   ]
  },
  {
   "cell_type": "markdown",
   "metadata": {},
   "source": [
    "## Metodo de Pandas"
   ]
  },
  {
   "cell_type": "code",
   "execution_count": 22,
   "metadata": {
    "ExecuteTime": {
     "end_time": "2021-08-28T14:20:43.590236Z",
     "start_time": "2021-08-28T14:20:43.550259Z"
    }
   },
   "outputs": [
    {
     "data": {
      "text/html": [
       "<div>\n",
       "<style scoped>\n",
       "    .dataframe tbody tr th:only-of-type {\n",
       "        vertical-align: middle;\n",
       "    }\n",
       "\n",
       "    .dataframe tbody tr th {\n",
       "        vertical-align: top;\n",
       "    }\n",
       "\n",
       "    .dataframe thead th {\n",
       "        text-align: right;\n",
       "    }\n",
       "</style>\n",
       "<table border=\"1\" class=\"dataframe\">\n",
       "  <thead>\n",
       "    <tr style=\"text-align: right;\">\n",
       "      <th></th>\n",
       "      <th>sepal_length</th>\n",
       "      <th>sepal_width</th>\n",
       "      <th>petal_length</th>\n",
       "      <th>petal_width</th>\n",
       "      <th>species</th>\n",
       "    </tr>\n",
       "  </thead>\n",
       "  <tbody>\n",
       "    <tr>\n",
       "      <th>0</th>\n",
       "      <td>5.1</td>\n",
       "      <td>3.5</td>\n",
       "      <td>1.4</td>\n",
       "      <td>0.2</td>\n",
       "      <td>setosa</td>\n",
       "    </tr>\n",
       "    <tr>\n",
       "      <th>1</th>\n",
       "      <td>4.9</td>\n",
       "      <td>3.0</td>\n",
       "      <td>1.4</td>\n",
       "      <td>0.2</td>\n",
       "      <td>setosa</td>\n",
       "    </tr>\n",
       "    <tr>\n",
       "      <th>2</th>\n",
       "      <td>4.7</td>\n",
       "      <td>3.2</td>\n",
       "      <td>1.3</td>\n",
       "      <td>0.2</td>\n",
       "      <td>setosa</td>\n",
       "    </tr>\n",
       "    <tr>\n",
       "      <th>3</th>\n",
       "      <td>4.6</td>\n",
       "      <td>3.1</td>\n",
       "      <td>1.5</td>\n",
       "      <td>0.2</td>\n",
       "      <td>setosa</td>\n",
       "    </tr>\n",
       "    <tr>\n",
       "      <th>4</th>\n",
       "      <td>5.0</td>\n",
       "      <td>3.6</td>\n",
       "      <td>1.4</td>\n",
       "      <td>0.2</td>\n",
       "      <td>setosa</td>\n",
       "    </tr>\n",
       "  </tbody>\n",
       "</table>\n",
       "</div>"
      ],
      "text/plain": [
       "   sepal_length  sepal_width  petal_length  petal_width species\n",
       "0           5.1          3.5           1.4          0.2  setosa\n",
       "1           4.9          3.0           1.4          0.2  setosa\n",
       "2           4.7          3.2           1.3          0.2  setosa\n",
       "3           4.6          3.1           1.5          0.2  setosa\n",
       "4           5.0          3.6           1.4          0.2  setosa"
      ]
     },
     "execution_count": 22,
     "metadata": {},
     "output_type": "execute_result"
    }
   ],
   "source": [
    "iris = sns.load_dataset(\"iris\")\n",
    "iris.head()"
   ]
  },
  {
   "cell_type": "code",
   "execution_count": 35,
   "metadata": {
    "ExecuteTime": {
     "end_time": "2021-08-28T14:27:55.876424Z",
     "start_time": "2021-08-28T14:27:55.850917Z"
    }
   },
   "outputs": [
    {
     "data": {
      "text/html": [
       "<div>\n",
       "<style scoped>\n",
       "    .dataframe tbody tr th:only-of-type {\n",
       "        vertical-align: middle;\n",
       "    }\n",
       "\n",
       "    .dataframe tbody tr th {\n",
       "        vertical-align: top;\n",
       "    }\n",
       "\n",
       "    .dataframe thead th {\n",
       "        text-align: right;\n",
       "    }\n",
       "</style>\n",
       "<table border=\"1\" class=\"dataframe\">\n",
       "  <thead>\n",
       "    <tr style=\"text-align: right;\">\n",
       "      <th></th>\n",
       "      <th>sepal_length</th>\n",
       "      <th>petal_length</th>\n",
       "    </tr>\n",
       "  </thead>\n",
       "  <tbody>\n",
       "    <tr>\n",
       "      <th>sepal_length</th>\n",
       "      <td>1.000000</td>\n",
       "      <td>0.871754</td>\n",
       "    </tr>\n",
       "    <tr>\n",
       "      <th>petal_length</th>\n",
       "      <td>0.871754</td>\n",
       "      <td>1.000000</td>\n",
       "    </tr>\n",
       "  </tbody>\n",
       "</table>\n",
       "</div>"
      ],
      "text/plain": [
       "              sepal_length  petal_length\n",
       "sepal_length      1.000000      0.871754\n",
       "petal_length      0.871754      1.000000"
      ]
     },
     "execution_count": 35,
     "metadata": {},
     "output_type": "execute_result"
    }
   ],
   "source": [
    "iris[[\"sepal_length\", \"petal_length\"]].corr()"
   ]
  },
  {
   "cell_type": "code",
   "execution_count": null,
   "metadata": {},
   "outputs": [],
   "source": []
  }
 ],
 "metadata": {
  "kernelspec": {
   "display_name": "renting_env",
   "language": "python",
   "name": "renting_env"
  },
  "language_info": {
   "codemirror_mode": {
    "name": "ipython",
    "version": 3
   },
   "file_extension": ".py",
   "mimetype": "text/x-python",
   "name": "python",
   "nbconvert_exporter": "python",
   "pygments_lexer": "ipython3",
   "version": "3.7.10"
  },
  "toc": {
   "base_numbering": 1,
   "nav_menu": {},
   "number_sections": true,
   "sideBar": true,
   "skip_h1_title": false,
   "title_cell": "Table of Contents",
   "title_sidebar": "Contents",
   "toc_cell": false,
   "toc_position": {
    "height": "calc(100% - 180px)",
    "left": "10px",
    "top": "150px",
    "width": "228.2px"
   },
   "toc_section_display": true,
   "toc_window_display": false
  },
  "varInspector": {
   "cols": {
    "lenName": 16,
    "lenType": 16,
    "lenVar": 40
   },
   "kernels_config": {
    "python": {
     "delete_cmd_postfix": "",
     "delete_cmd_prefix": "del ",
     "library": "var_list.py",
     "varRefreshCmd": "print(var_dic_list())"
    },
    "r": {
     "delete_cmd_postfix": ") ",
     "delete_cmd_prefix": "rm(",
     "library": "var_list.r",
     "varRefreshCmd": "cat(var_dic_list()) "
    }
   },
   "types_to_exclude": [
    "module",
    "function",
    "builtin_function_or_method",
    "instance",
    "_Feature"
   ],
   "window_display": false
  }
 },
 "nbformat": 4,
 "nbformat_minor": 4
}
