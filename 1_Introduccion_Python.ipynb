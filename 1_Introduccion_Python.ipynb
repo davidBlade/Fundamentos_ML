{
 "cells": [
  {
   "cell_type": "markdown",
   "id": "eb3d33f3",
   "metadata": {
    "ExecuteTime": {
     "end_time": "2021-08-14T13:19:03.554126Z",
     "start_time": "2021-08-14T13:19:00.748625Z"
    }
   },
   "source": [
    "# Introducción a la programación con Python y Estructuras basicas"
   ]
  },
  {
   "cell_type": "markdown",
   "id": "df4ed649",
   "metadata": {},
   "source": [
    "Python es un lenguaje de programación de alto nivel (sintaxis simple), interpretado, interactivo y orientado a objetos:\n",
    "\n",
    "* **Interpretado**: Python es procesado al momento de la ejecución por el interpretador. No se necesita de un proceso previo de compilación para la posterior ejecución del programa.\n",
    "\n",
    "* **Interactivo**: Podemos interactuar con el intérprete directamente para escribir los programas.\n",
    "\n",
    "* **Orientado a objetos**: Python es un lenguaje orientado a objetos, una técnica de programación que encapsula el código dentro de objetos.\n",
    "\n",
    "**Ejecutando código de Python**\n",
    "\n",
    "Existen diferentes maneras de ejecutar código de Python, ya sea en Visual Studio Code, siendo este uno de los editores de código mas populares y de uso libre, pero en la ciencia de datos resulta siendo más útili utilizar los Notebooks, nosotros usaremos un enfoque interactivo proporcionado por los *Notebooks de Jupyter*. "
   ]
  },
  {
   "cell_type": "markdown",
   "id": "8379e7cb",
   "metadata": {},
   "source": [
    "## Tipos datos de datos básicos"
   ]
  },
  {
   "cell_type": "code",
   "execution_count": 172,
   "id": "457c804b",
   "metadata": {
    "ExecuteTime": {
     "end_time": "2021-08-14T17:00:48.718909Z",
     "start_time": "2021-08-14T17:00:48.696928Z"
    }
   },
   "outputs": [],
   "source": [
    "enteros = 1      \n",
    "flotantes = 1.0\n",
    "booleanos = True\n",
    "booleanos = False\n",
    "cadenas = \"palabra dede\"\n",
    "cadenas = 'palabra dede'"
   ]
  },
  {
   "cell_type": "markdown",
   "id": "d6b8df13",
   "metadata": {},
   "source": [
    "# Palabras claves reservadas"
   ]
  },
  {
   "cell_type": "markdown",
   "id": "c0750be9",
   "metadata": {},
   "source": [
    "Ahora hablemos de lo que son algunos objetos en python. Las variables.\n",
    "Los nombres de las variables en Python pueden contener caracteres alfanuméricos *a-z*, *A-Z*, *0-9* y algunos caracteres especiales como _. Los nombres de las variables deben comenzar con una letra. \n",
    "\n",
    "Por convención, los nombres de las variables comienzan con letras minúsculas, y los nombres de las Clases con letras mayúsculas.\n",
    "\n",
    "Adicionalmente, existe un número de palabras claves que no pueden ser usadas como nombres de variables. Estas palabras claves son:\n",
    "\n",
    "```Python\n",
    "and, as, assert, break, class, continue, def, del, elif, else, except, exec, finally, for, from, global, if, import, in, is, lambda, not, or, pass, print, raise, return, try, while, with, yield\n",
    "```\n",
    "Las palabras clave se reconocen porque todas se \"ponen\" de color verde\n"
   ]
  },
  {
   "cell_type": "markdown",
   "id": "21c78d8a",
   "metadata": {},
   "source": [
    "# Listas"
   ]
  },
  {
   "cell_type": "markdown",
   "id": "71f4511a",
   "metadata": {},
   "source": [
    "En esta sección se presenta uno de los tipos integrados más útiles de Python, las **listas**.\n",
    "\n",
    "Al igual que un **string**, una lista es una secuencia de valores. En un string los valores son caracteres; en una **lista**, se puede tener **cualquier tipo**. Los **valores de una lista** se denominan **elementos**.\n",
    "\n",
    "Hay varias formas de crear una nueva lista; la forma más simple es encerrar los elementos entre corchetes `[a,b,c]`:"
   ]
  },
  {
   "cell_type": "code",
   "execution_count": 5,
   "id": "ce3e0219",
   "metadata": {
    "ExecuteTime": {
     "end_time": "2021-08-14T13:44:02.325648Z",
     "start_time": "2021-08-14T13:44:02.305680Z"
    }
   },
   "outputs": [
    {
     "data": {
      "text/plain": [
       "[1, 2.5, True, 'cadenas', [1, 2, 4]]"
      ]
     },
     "execution_count": 5,
     "metadata": {},
     "output_type": "execute_result"
    }
   ],
   "source": [
    "listas = [1, 2.5, True, \"cadenas\", [1, 2, 4]]\n",
    "listas"
   ]
  },
  {
   "cell_type": "code",
   "execution_count": 6,
   "id": "f611ef60",
   "metadata": {
    "ExecuteTime": {
     "end_time": "2021-08-14T13:44:03.294542Z",
     "start_time": "2021-08-14T13:44:03.274553Z"
    }
   },
   "outputs": [
    {
     "data": {
      "text/plain": [
       "list"
      ]
     },
     "execution_count": 6,
     "metadata": {},
     "output_type": "execute_result"
    }
   ],
   "source": [
    "type(listas)"
   ]
  },
  {
   "cell_type": "markdown",
   "id": "a6100daa",
   "metadata": {},
   "source": [
    "# Manipular listas"
   ]
  },
  {
   "cell_type": "markdown",
   "id": "87630ff2",
   "metadata": {},
   "source": [
    "- Consultar metodos de listas: https://docs.python.org/es/3/tutorial/datastructures.html"
   ]
  },
  {
   "cell_type": "markdown",
   "id": "8c11a115",
   "metadata": {},
   "source": [
    "Para acceder a los elementos de la lista lo hacemos mediante siguiendo la indexación \n",
    "\n",
    "`listas[0]`$\\rightarrow$ elemento 1 de la lista.\n",
    "\n",
    "`listas[1]`$\\rightarrow$ elemento 2 de la lista.\n",
    "\n",
    "`listas[2]`$\\rightarrow$ elemento 3 de la lista.\n",
    "\n",
    "`listas[3]`$\\rightarrow$ elemento 4 de la lista.\n",
    "\n",
    "Acceder a un rango determinado de datos dentro de la lista:\n",
    "\n",
    "`listas[0:3]`$\\rightarrow$ elemento 0 al elemento 3\n",
    "\n",
    "Acceder al último elemento de lista:\n",
    "\n",
    "`listas[-1]`$\\rightarrow$ elemento final de la lista\n"
   ]
  },
  {
   "cell_type": "code",
   "execution_count": 13,
   "id": "a280aa50",
   "metadata": {
    "ExecuteTime": {
     "end_time": "2021-08-14T13:52:42.796196Z",
     "start_time": "2021-08-14T13:52:42.778210Z"
    }
   },
   "outputs": [
    {
     "data": {
      "text/plain": [
       "[1, 2, 3, 4]"
      ]
     },
     "execution_count": 13,
     "metadata": {},
     "output_type": "execute_result"
    }
   ],
   "source": [
    "listas = [1, 2, 3, 4, 5, 6]\n",
    "#         0  1  2  3  4  5\n",
    "\n",
    "listas[0:4]"
   ]
  },
  {
   "cell_type": "code",
   "execution_count": 11,
   "id": "4f6f0317",
   "metadata": {
    "ExecuteTime": {
     "end_time": "2021-08-14T13:51:34.316544Z",
     "start_time": "2021-08-14T13:51:34.295561Z"
    }
   },
   "outputs": [
    {
     "data": {
      "text/plain": [
       "[6]"
      ]
     },
     "execution_count": 11,
     "metadata": {},
     "output_type": "execute_result"
    }
   ],
   "source": [
    "listas[5:6]"
   ]
  },
  {
   "cell_type": "code",
   "execution_count": 14,
   "id": "6ef1c557",
   "metadata": {
    "ExecuteTime": {
     "end_time": "2021-08-14T13:53:13.583961Z",
     "start_time": "2021-08-14T13:53:13.557996Z"
    }
   },
   "outputs": [
    {
     "data": {
      "text/plain": [
       "6"
      ]
     },
     "execution_count": 14,
     "metadata": {},
     "output_type": "execute_result"
    }
   ],
   "source": [
    "listas[-1]"
   ]
  },
  {
   "cell_type": "code",
   "execution_count": 20,
   "id": "dbed8e93",
   "metadata": {
    "ExecuteTime": {
     "end_time": "2021-08-14T13:54:42.129178Z",
     "start_time": "2021-08-14T13:54:42.107190Z"
    }
   },
   "outputs": [
    {
     "data": {
      "text/plain": [
       "4"
      ]
     },
     "execution_count": 20,
     "metadata": {},
     "output_type": "execute_result"
    }
   ],
   "source": [
    "listas = [1, 2.5, True, \"cadenas\", [1, 2, 4]]\n",
    "listas[-1][-1]"
   ]
  },
  {
   "cell_type": "code",
   "execution_count": 22,
   "id": "86df694b",
   "metadata": {
    "ExecuteTime": {
     "end_time": "2021-08-14T13:56:59.413130Z",
     "start_time": "2021-08-14T13:56:59.394139Z"
    }
   },
   "outputs": [],
   "source": [
    "listas.append(False)"
   ]
  },
  {
   "cell_type": "markdown",
   "id": "9cf71d62",
   "metadata": {},
   "source": [
    "# Diccionario"
   ]
  },
  {
   "cell_type": "markdown",
   "id": "fb79f35b",
   "metadata": {},
   "source": [
    "Los diccionarios son también parecidos a las listas, excepto que cada elemento es una pareja clave y valor. La sintaxis en los diccionarios es de la forma \n",
    "\n",
    "```Python\n",
    "diccionario = {\n",
    "    \"clave_1\" : valor1, \n",
    "    \"clave_2\" : valor2,\n",
    "         .         .\n",
    "         .         .\n",
    "         .         .\n",
    "         .         .,\n",
    "    \"clave_N\" : valorN\n",
    "}\n",
    "```\n",
    "\n",
    "El valor de cada clave puede ser desde un valor numerico hasta datos como listas, arrays y hasta DataFrames"
   ]
  },
  {
   "cell_type": "code",
   "execution_count": 7,
   "id": "642c61b6",
   "metadata": {
    "ExecuteTime": {
     "end_time": "2021-08-14T13:46:11.233561Z",
     "start_time": "2021-08-14T13:46:11.214051Z"
    }
   },
   "outputs": [
    {
     "data": {
      "text/plain": [
       "{'Ciudades': ['Medellin', 'Bogota', 'Cali'],\n",
       " 'Departamentos': ['Antioquia', 'Cundinamarca', 'Valle']}"
      ]
     },
     "execution_count": 7,
     "metadata": {},
     "output_type": "execute_result"
    }
   ],
   "source": [
    "dict_1 = {\n",
    "    \"Ciudades\": [\"Medellin\", \"Bogota\", \"Cali\"],\n",
    "    \"Departamentos\": [\"Antioquia\", \"Cundinamarca\", \"Valle\"]\n",
    "}\n",
    "dict_1"
   ]
  },
  {
   "cell_type": "markdown",
   "id": "5b61a314",
   "metadata": {
    "ExecuteTime": {
     "end_time": "2021-08-14T13:55:14.484502Z",
     "start_time": "2021-08-14T13:55:14.464518Z"
    }
   },
   "source": [
    "# Manipular diccionarios"
   ]
  },
  {
   "cell_type": "code",
   "execution_count": 24,
   "id": "4d3595a1",
   "metadata": {
    "ExecuteTime": {
     "end_time": "2021-08-14T14:02:40.628972Z",
     "start_time": "2021-08-14T14:02:40.608984Z"
    }
   },
   "outputs": [
    {
     "data": {
      "text/plain": [
       "{'Ciudades': ['Medellin', 'Bogota', 'Cali'],\n",
       " 'Departamentos': ['Antioquia', 'Cundinamarca', 'Valle']}"
      ]
     },
     "execution_count": 24,
     "metadata": {},
     "output_type": "execute_result"
    }
   ],
   "source": [
    "dict_1 = {\n",
    "    \"Ciudades\": [\"Medellin\", \"Bogota\", \"Cali\"],\n",
    "    \"Departamentos\": [\"Antioquia\", \"Cundinamarca\", \"Valle\"]\n",
    "}\n",
    "\n",
    "dict_1"
   ]
  },
  {
   "cell_type": "code",
   "execution_count": 31,
   "id": "f7b38b23",
   "metadata": {
    "ExecuteTime": {
     "end_time": "2021-08-14T14:05:13.940911Z",
     "start_time": "2021-08-14T14:05:13.923921Z"
    }
   },
   "outputs": [
    {
     "data": {
      "text/plain": [
       "['Medellin', 'Bogota', 'Cali']"
      ]
     },
     "execution_count": 31,
     "metadata": {},
     "output_type": "execute_result"
    }
   ],
   "source": [
    "dict_1[\"Ciudades\"]"
   ]
  },
  {
   "cell_type": "code",
   "execution_count": 27,
   "id": "85f132a8",
   "metadata": {
    "ExecuteTime": {
     "end_time": "2021-08-14T14:04:33.331437Z",
     "start_time": "2021-08-14T14:04:33.309466Z"
    }
   },
   "outputs": [
    {
     "data": {
      "text/plain": [
       "dict_keys(['Ciudades', 'Departamentos'])"
      ]
     },
     "execution_count": 27,
     "metadata": {},
     "output_type": "execute_result"
    }
   ],
   "source": [
    "dict_1.keys()"
   ]
  },
  {
   "cell_type": "markdown",
   "id": "f1e66f6d",
   "metadata": {
    "ExecuteTime": {
     "end_time": "2021-08-14T14:05:35.807130Z",
     "start_time": "2021-08-14T14:05:35.787139Z"
    }
   },
   "source": [
    "# Estructura if, elif y else"
   ]
  },
  {
   "cell_type": "markdown",
   "id": "070886d4",
   "metadata": {},
   "source": [
    "## If\n",
    "If para python es un condicional. Algunos autores lo llamarán una estructura de control, con lo cual solo quieren ilustrar lo que se ha querido decir en la definición de condicional. Esta estructura permite que un programa ejecute unas instrucciones cuando se cumplan una condición. Es importante notar la palabra \"if\" en inglés traduce \"si\" como condición, no \"sí\" como afirmación.\n",
    "\n",
    "La sintaxis del condicional if es\n",
    "\n",
    "\n",
    "\n",
    "```Python\n",
    "if condición :\n",
    "    <bloque de codigo a ejecutar si la condicion se cumple>\n",
    "```\n"
   ]
  },
  {
   "cell_type": "code",
   "execution_count": 43,
   "id": "6e735bbe",
   "metadata": {
    "ExecuteTime": {
     "end_time": "2021-08-14T14:18:06.626752Z",
     "start_time": "2021-08-14T14:18:06.614760Z"
    }
   },
   "outputs": [
    {
     "name": "stdout",
     "output_type": "stream",
     "text": [
      "Mayor de Edad\n"
     ]
    }
   ],
   "source": [
    "numero = 39\n",
    "if numero >= 18:        \n",
    "    print(\"Mayor de Edad\")"
   ]
  },
  {
   "cell_type": "markdown",
   "id": "6161ea1f",
   "metadata": {},
   "source": [
    "## Else\n",
    "Suponga ahora que se desea ejecutar un bloque de código dado que la condición inicial sea falsa, para esto se usa el comando `else`, el cual se ejecuta siempre y cuando la condición del `if` no se cumpla.\n",
    "\n",
    "```Python\n",
    "if cond :\n",
    "    <bloque de codigo a ejecutar si la condicion se cumple>\n",
    "else :\n",
    "    <bloque de codigo a ejecutar si la condicion no se cumple>\n",
    "```\n"
   ]
  },
  {
   "cell_type": "code",
   "execution_count": null,
   "id": "0bda477f",
   "metadata": {},
   "outputs": [],
   "source": [
    "numero = 39\n",
    "if numero >= 18:        \n",
    "    print(\"Mayor de Edad\")\n",
    "else:\n",
    "    print(\"Menor de edad\")"
   ]
  },
  {
   "cell_type": "markdown",
   "id": "ff177b03",
   "metadata": {},
   "source": [
    "## Elif\n",
    "Suponga que desea ahora imponer una condición ante la negación de la primera afirmación. Es decir, si la primera primera condición resultó falsa necesito formular otra condición. En este caso usamos el condicional `elif`. Este nace de la conjunción de `else` y `if`. Veamos su sintaxis.\n",
    "\n",
    "```python\n",
    "if cond1 :\n",
    "    <bloque de codigo a ejecutar si la condicion se cumple>\n",
    "    \n",
    "elif cond2:\n",
    "    <bloque de codigo a ejecutar si la condicion del if no se cumple, pero la condicion del elif debe cumplirse> \n",
    "```\n",
    "\n",
    "Veámoslo con nuestro ejemplo."
   ]
  },
  {
   "cell_type": "code",
   "execution_count": 53,
   "id": "f8f86183",
   "metadata": {
    "ExecuteTime": {
     "end_time": "2021-08-14T14:36:52.172121Z",
     "start_time": "2021-08-14T14:36:52.156137Z"
    }
   },
   "outputs": [
    {
     "name": "stdout",
     "output_type": "stream",
     "text": [
      "Adulto mayor\n"
     ]
    }
   ],
   "source": [
    "numero = 60\n",
    "\n",
    "if numero < 18:\n",
    "    print(\"Adolescente\")\n",
    "    \n",
    "elif (numero >= 18) & (numero <= 59):\n",
    "    print(\"Adulto\")\n",
    "    \n",
    "elif numero >= 60:\n",
    "    print(\"Adulto mayor\")\n",
    "    \n",
    "else:\n",
    "    print(\"ingrese un numero valido\")"
   ]
  },
  {
   "cell_type": "markdown",
   "id": "7415e92f",
   "metadata": {},
   "source": [
    "# Loops, ciclos o bucles"
   ]
  },
  {
   "cell_type": "markdown",
   "id": "6344af05",
   "metadata": {},
   "source": [
    "Hemos visto que un condicional es una decisión sobre una sentencia. Ahora nos ocuparemos de los ciclos. Podríamos pensar que un loop, ciclo o bucle es un bloque que se ejecuta continuamente mientras se cumpla una condición.\n",
    "\n",
    "## For\n",
    "\n",
    "El ciclo `for` es el más usual de todos. Su uso es fácil, se llama una variable y se itera en un bloque de código mientras se cumpla dicha condición sumándole cada vez un valor llamado `step`. Es válido notar que el bloque no debe depender de dicha variable o contador.\n",
    "\n",
    "La sintaxis en Python es la siguiente:\n",
    "\n",
    "```Python\n",
    "for contador in range (inicio, fin, step):\n",
    "    <bloque de código a ejecutar>\n",
    "```"
   ]
  },
  {
   "cell_type": "code",
   "execution_count": 177,
   "id": "0c1500ac",
   "metadata": {
    "ExecuteTime": {
     "end_time": "2021-08-14T20:09:53.802783Z",
     "start_time": "2021-08-14T20:09:53.778799Z"
    }
   },
   "outputs": [
    {
     "name": "stdout",
     "output_type": "stream",
     "text": [
      "0\n",
      "1\n",
      "4\n",
      "9\n",
      "16\n",
      "25\n",
      "36\n",
      "49\n",
      "64\n",
      "81\n"
     ]
    }
   ],
   "source": [
    "for i in range(0, 10, 1):\n",
    "    print(i**2)"
   ]
  },
  {
   "cell_type": "markdown",
   "id": "5cf1dc55",
   "metadata": {},
   "source": [
    "Cabe resaltar que las listas son elementos que se peuden iterar dentro de un ciclo `for` como veremos a continuación:\n",
    "\n",
    "el iterador es aquel dato que contiene multiples elementos que podemos utilizar como ietradores del ciclo\n",
    "\n",
    "```Python\n",
    "for contador in <iterador>:\n",
    "    <bloque de código a ejecutar>\n",
    "```"
   ]
  },
  {
   "cell_type": "code",
   "execution_count": 56,
   "id": "527e0f2d",
   "metadata": {
    "ExecuteTime": {
     "end_time": "2021-08-14T15:13:01.535330Z",
     "start_time": "2021-08-14T15:13:01.512345Z"
    }
   },
   "outputs": [
    {
     "name": "stdout",
     "output_type": "stream",
     "text": [
      "Medellin\n",
      "Barranquilla\n",
      "Manizales\n"
     ]
    }
   ],
   "source": [
    "lista_ciudades = [\"Medellin\", \"Barranquilla\", \"Manizales\"]\n",
    "\n",
    "for i in lista_ciudades:\n",
    "    print(i)"
   ]
  },
  {
   "cell_type": "markdown",
   "id": "672f7c0d",
   "metadata": {},
   "source": [
    "Pdemos tener además tener un `for` dentro de otro `for`, de la siguiente forma"
   ]
  },
  {
   "cell_type": "code",
   "execution_count": 60,
   "id": "6102c831",
   "metadata": {
    "ExecuteTime": {
     "end_time": "2021-08-14T15:17:26.814161Z",
     "start_time": "2021-08-14T15:17:26.791182Z"
    },
    "scrolled": true
   },
   "outputs": [
    {
     "name": "stdout",
     "output_type": "stream",
     "text": [
      "0\n"
     ]
    }
   ],
   "source": [
    "for i in range(0, 1):\n",
    "    for j in range(0, 1):\n",
    "        print(j)"
   ]
  },
  {
   "cell_type": "markdown",
   "id": "9751dca5",
   "metadata": {
    "ExecuteTime": {
     "end_time": "2021-08-14T15:21:18.400047Z",
     "start_time": "2021-08-14T15:21:18.392055Z"
    }
   },
   "source": [
    "# Modulo Numpy"
   ]
  },
  {
   "cell_type": "markdown",
   "id": "0c9f11c0",
   "metadata": {},
   "source": [
    "Numpy es un paquete fundamental para el trabajo científico en python:\n",
    "* Contiene Funciones, módulos, clases y cierto tipo especial de datos. \n",
    "* Permite el manejo de Arrays Multidimensionales. \n",
    "* Contiene Funciones sofisticadas y optimizadas. Permite incorporar códigos en C/C++ o fortran. \n",
    "* Contiene un paquete de álgebra lineal y permite hacer cálculos estadísticos, ajustes, interpolación entre otras.\n",
    "\n",
    "\n",
    "> El tipo de dato mas importante en numpy es el **array**. El array es un tipo de dato, formado a partir de otro tipo de datos mas sencillos y que estan ordenados en una secuencia definida, en ese sentido es muy similar a una lista o tupla, pero a diferencia de estos, un array solo admite un tipo de dato.\n",
    "\n",
    "- Consultar documentación: https://numpy.org/doc/stable/reference/arrays.html#"
   ]
  },
  {
   "cell_type": "code",
   "execution_count": 64,
   "id": "00b9e2de",
   "metadata": {
    "ExecuteTime": {
     "end_time": "2021-08-14T15:22:30.033422Z",
     "start_time": "2021-08-14T15:22:30.023432Z"
    }
   },
   "outputs": [],
   "source": [
    "import numpy as np"
   ]
  },
  {
   "cell_type": "markdown",
   "id": "0bf30c95",
   "metadata": {},
   "source": [
    "## Crear un array\n",
    "\n",
    "Un array puede ser creado mediante el uso de datos nativos de python (listas, tuplas,datos\n",
    "básicos) usando la función **numpy.array()**:\n",
    "\n",
    "```python\n",
    "numpy.array(object, dtype=None, copy=True, order='K', subok=False, ndmin=0)\n",
    "```\n",
    "Donde podemos especificar el tipo de datos con *dtype*, el orden con *order* (esto hace referencia el modo \"C\", por filas, o \"F\", por columnas, para el diseño de memoria del arreglo. Generalmente se deja en \"K\" para que automaticamente escoja la mejor opción), la dimensión miníma puede establecerse con con *ndmin*."
   ]
  },
  {
   "cell_type": "markdown",
   "id": "859f0dbe",
   "metadata": {},
   "source": [
    "## Crear un numpy array"
   ]
  },
  {
   "cell_type": "code",
   "execution_count": 81,
   "id": "3b1f9430",
   "metadata": {
    "ExecuteTime": {
     "end_time": "2021-08-14T15:35:48.272825Z",
     "start_time": "2021-08-14T15:35:48.252820Z"
    }
   },
   "outputs": [
    {
     "name": "stdout",
     "output_type": "stream",
     "text": [
      "[1, 2, 3, 4, 5, 6, '7']\n"
     ]
    }
   ],
   "source": [
    "lista_num = [1, 2, 3, 4, 5, 6, \"7\"]\n",
    "print(lista_num)"
   ]
  },
  {
   "cell_type": "code",
   "execution_count": 83,
   "id": "4028eb1c",
   "metadata": {
    "ExecuteTime": {
     "end_time": "2021-08-14T15:36:14.373624Z",
     "start_time": "2021-08-14T15:36:14.357634Z"
    }
   },
   "outputs": [
    {
     "data": {
      "text/plain": [
       "array(['1', '2', '3', '4', '5', '6', '7'], dtype='<U1')"
      ]
     },
     "execution_count": 83,
     "metadata": {},
     "output_type": "execute_result"
    }
   ],
   "source": [
    "arreglo = np.array(lista_num)\n",
    "arreglo"
   ]
  },
  {
   "cell_type": "code",
   "execution_count": 72,
   "id": "c6b9606b",
   "metadata": {
    "ExecuteTime": {
     "end_time": "2021-08-14T15:32:13.453648Z",
     "start_time": "2021-08-14T15:32:13.433659Z"
    }
   },
   "outputs": [
    {
     "name": "stdout",
     "output_type": "stream",
     "text": [
      "[1 2 3 4 5]\n"
     ]
    }
   ],
   "source": [
    "print(arreglo)"
   ]
  },
  {
   "cell_type": "code",
   "execution_count": 76,
   "id": "f777315c",
   "metadata": {
    "ExecuteTime": {
     "end_time": "2021-08-14T15:35:04.180001Z",
     "start_time": "2021-08-14T15:35:04.159037Z"
    }
   },
   "outputs": [
    {
     "name": "stdout",
     "output_type": "stream",
     "text": [
      "[1. 2. 3. 4. 5.]\n"
     ]
    }
   ],
   "source": [
    "arreglo = np.array(lista_num, dtype = float)\n",
    "print(arreglo)"
   ]
  },
  {
   "cell_type": "code",
   "execution_count": 84,
   "id": "c6589df3",
   "metadata": {
    "ExecuteTime": {
     "end_time": "2021-08-14T15:40:20.951406Z",
     "start_time": "2021-08-14T15:40:20.936412Z"
    }
   },
   "outputs": [
    {
     "data": {
      "text/plain": [
       "array([ True, False,  True])"
      ]
     },
     "execution_count": 84,
     "metadata": {},
     "output_type": "execute_result"
    }
   ],
   "source": [
    "arreglo_bool = np.array([True, False, True])\n",
    "arreglo_bool"
   ]
  },
  {
   "cell_type": "markdown",
   "id": "a146e997",
   "metadata": {},
   "source": [
    "## Arrays de mas de una dimension"
   ]
  },
  {
   "cell_type": "markdown",
   "id": "f84ba1e9",
   "metadata": {},
   "source": [
    "Es importante observar que lso arrays pueden tener tanto filas como columnas queramos"
   ]
  },
  {
   "cell_type": "code",
   "execution_count": 178,
   "id": "8cefa4bb",
   "metadata": {
    "ExecuteTime": {
     "end_time": "2021-08-14T20:16:06.883272Z",
     "start_time": "2021-08-14T20:16:06.852291Z"
    }
   },
   "outputs": [
    {
     "data": {
      "text/plain": [
       "array([[0, 1],\n",
       "       [2, 3],\n",
       "       [4, 5]])"
      ]
     },
     "execution_count": 178,
     "metadata": {},
     "output_type": "execute_result"
    }
   ],
   "source": [
    "lista_num = [[0, 1], [2, 3], [4, 5]]\n",
    "\n",
    "arreglo_2 = np.array(lista_num)\n",
    "arreglo_2"
   ]
  },
  {
   "cell_type": "markdown",
   "id": "d279cd09",
   "metadata": {},
   "source": [
    "Observe que si intenta crear un array donde una de las filas contiene mas columnas que las demas el array no podrá crearse correctamente"
   ]
  },
  {
   "cell_type": "code",
   "execution_count": 96,
   "id": "56c2f46d",
   "metadata": {
    "ExecuteTime": {
     "end_time": "2021-08-14T15:45:21.221805Z",
     "start_time": "2021-08-14T15:45:21.194820Z"
    }
   },
   "outputs": [
    {
     "name": "stderr",
     "output_type": "stream",
     "text": [
      "C:\\Users\\DavidPiedrahitaFlore\\.conda\\envs\\renting_env\\lib\\site-packages\\ipykernel_launcher.py:3: VisibleDeprecationWarning: Creating an ndarray from ragged nested sequences (which is a list-or-tuple of lists-or-tuples-or ndarrays with different lengths or shapes) is deprecated. If you meant to do this, you must specify 'dtype=object' when creating the ndarray.\n",
      "  This is separate from the ipykernel package so we can avoid doing imports until\n"
     ]
    },
    {
     "data": {
      "text/plain": [
       "array([list([0, 1]), list([2, 3, 6]), list([4, 5])], dtype=object)"
      ]
     },
     "execution_count": 96,
     "metadata": {},
     "output_type": "execute_result"
    }
   ],
   "source": [
    "lista_num = [[0, 1], [2, 3, 6], [4, 5]]\n",
    "\n",
    "arreglo_2 = np.array(lista_num)\n",
    "arreglo_2"
   ]
  },
  {
   "cell_type": "markdown",
   "id": "a2040ff4",
   "metadata": {},
   "source": [
    "# Atributos de un array"
   ]
  },
  {
   "cell_type": "markdown",
   "id": "b406a0a1",
   "metadata": {
    "ExecuteTime": {
     "end_time": "2021-08-14T20:17:32.803076Z",
     "start_time": "2021-08-14T20:17:32.789083Z"
    }
   },
   "source": [
    "Los arrays pueden tener diferentes atributos, estos son algunos de los mas comunes:\n",
    "\n",
    "- `shape`, `size`, `dtype`, `nbytes`"
   ]
  },
  {
   "cell_type": "markdown",
   "id": "0d1c4e11",
   "metadata": {},
   "source": [
    "## Tamaño de un Array"
   ]
  },
  {
   "cell_type": "code",
   "execution_count": 99,
   "id": "b2b01bd3",
   "metadata": {
    "ExecuteTime": {
     "end_time": "2021-08-14T15:48:00.885606Z",
     "start_time": "2021-08-14T15:48:00.870637Z"
    }
   },
   "outputs": [
    {
     "data": {
      "text/plain": [
       "(3, 2)"
      ]
     },
     "execution_count": 99,
     "metadata": {},
     "output_type": "execute_result"
    }
   ],
   "source": [
    "arreglo_2.shape"
   ]
  },
  {
   "cell_type": "markdown",
   "id": "307aa1b0",
   "metadata": {},
   "source": [
    "## Numero de elementos del array"
   ]
  },
  {
   "cell_type": "code",
   "execution_count": 101,
   "id": "696d292c",
   "metadata": {
    "ExecuteTime": {
     "end_time": "2021-08-14T15:58:49.142756Z",
     "start_time": "2021-08-14T15:58:49.127792Z"
    }
   },
   "outputs": [
    {
     "data": {
      "text/plain": [
       "6"
      ]
     },
     "execution_count": 101,
     "metadata": {},
     "output_type": "execute_result"
    }
   ],
   "source": [
    "arreglo_2.size"
   ]
  },
  {
   "cell_type": "markdown",
   "id": "1c467bcb",
   "metadata": {
    "ExecuteTime": {
     "end_time": "2021-08-14T15:59:56.703573Z",
     "start_time": "2021-08-14T15:59:56.685584Z"
    }
   },
   "source": [
    "## Tipo de datos dentro del array"
   ]
  },
  {
   "cell_type": "code",
   "execution_count": 103,
   "id": "fe50d33f",
   "metadata": {
    "ExecuteTime": {
     "end_time": "2021-08-14T16:00:06.442353Z",
     "start_time": "2021-08-14T16:00:06.420364Z"
    }
   },
   "outputs": [
    {
     "data": {
      "text/plain": [
       "dtype('int32')"
      ]
     },
     "execution_count": 103,
     "metadata": {},
     "output_type": "execute_result"
    }
   ],
   "source": [
    "arreglo_2.dtype"
   ]
  },
  {
   "cell_type": "markdown",
   "id": "d685d5e1",
   "metadata": {},
   "source": [
    "## Tamaño en bytes"
   ]
  },
  {
   "cell_type": "code",
   "execution_count": 104,
   "id": "89ea55ad",
   "metadata": {
    "ExecuteTime": {
     "end_time": "2021-08-14T16:03:32.821571Z",
     "start_time": "2021-08-14T16:03:32.801575Z"
    }
   },
   "outputs": [
    {
     "data": {
      "text/plain": [
       "24"
      ]
     },
     "execution_count": 104,
     "metadata": {},
     "output_type": "execute_result"
    }
   ],
   "source": [
    "arreglo_2.nbytes"
   ]
  },
  {
   "cell_type": "markdown",
   "id": "e608a6f1",
   "metadata": {},
   "source": [
    "## Transpuesta de un array"
   ]
  },
  {
   "cell_type": "code",
   "execution_count": 106,
   "id": "f6128a4a",
   "metadata": {
    "ExecuteTime": {
     "end_time": "2021-08-14T16:05:44.239747Z",
     "start_time": "2021-08-14T16:05:44.224759Z"
    }
   },
   "outputs": [
    {
     "data": {
      "text/plain": [
       "array([[0, 1],\n",
       "       [2, 3],\n",
       "       [4, 5]])"
      ]
     },
     "execution_count": 106,
     "metadata": {},
     "output_type": "execute_result"
    }
   ],
   "source": [
    "arreglo_2"
   ]
  },
  {
   "cell_type": "code",
   "execution_count": 105,
   "id": "1f70a39d",
   "metadata": {
    "ExecuteTime": {
     "end_time": "2021-08-14T16:05:31.660295Z",
     "start_time": "2021-08-14T16:05:31.644300Z"
    }
   },
   "outputs": [
    {
     "data": {
      "text/plain": [
       "array([[0, 2, 4],\n",
       "       [1, 3, 5]])"
      ]
     },
     "execution_count": 105,
     "metadata": {},
     "output_type": "execute_result"
    }
   ],
   "source": [
    "arreglo_2.T"
   ]
  },
  {
   "cell_type": "markdown",
   "id": "c76a2c90",
   "metadata": {},
   "source": [
    "# Algunos métodos de numpy"
   ]
  },
  {
   "cell_type": "markdown",
   "id": "b388a5d6",
   "metadata": {
    "ExecuteTime": {
     "end_time": "2021-08-14T20:19:15.090906Z",
     "start_time": "2021-08-14T20:19:15.069920Z"
    }
   },
   "source": [
    "Los métodos de un array nos permiten realizar algunas de sus funcionalidades como veremos acontinuación:"
   ]
  },
  {
   "cell_type": "markdown",
   "id": "d2cfcb07",
   "metadata": {},
   "source": [
    "## np.arange()"
   ]
  },
  {
   "cell_type": "code",
   "execution_count": 107,
   "id": "e736a5f0",
   "metadata": {
    "ExecuteTime": {
     "end_time": "2021-08-14T16:14:15.899159Z",
     "start_time": "2021-08-14T16:14:15.882169Z"
    }
   },
   "outputs": [
    {
     "data": {
      "text/plain": [
       "array([ 0,  1,  2,  3,  4,  5,  6,  7,  8,  9, 10, 11, 12, 13, 14, 15, 16,\n",
       "       17, 18, 19])"
      ]
     },
     "execution_count": 107,
     "metadata": {},
     "output_type": "execute_result"
    }
   ],
   "source": [
    "# np.arange([start], [stop], [step])\n",
    "\n",
    "arreglo_range_1 = np.arange(0, 20)\n",
    "arreglo_range_1"
   ]
  },
  {
   "cell_type": "code",
   "execution_count": 140,
   "id": "12127e89",
   "metadata": {
    "ExecuteTime": {
     "end_time": "2021-08-14T16:34:05.273160Z",
     "start_time": "2021-08-14T16:34:05.247162Z"
    }
   },
   "outputs": [
    {
     "data": {
      "text/plain": [
       "array([ 0,  2,  4,  6,  8, 10, 12, 14, 16, 18])"
      ]
     },
     "execution_count": 140,
     "metadata": {},
     "output_type": "execute_result"
    }
   ],
   "source": [
    "arreglo_range_2 = np.arange(start = 0, stop = 20, step = 2)\n",
    "arreglo_range_2"
   ]
  },
  {
   "cell_type": "code",
   "execution_count": null,
   "id": "f92da555",
   "metadata": {},
   "outputs": [],
   "source": [
    "arreglo_range_3 = np.arange(0, 20, 2)\n",
    "arreglo_range_3"
   ]
  },
  {
   "cell_type": "markdown",
   "id": "19c1ca24",
   "metadata": {},
   "source": [
    "## np.linspace"
   ]
  },
  {
   "cell_type": "code",
   "execution_count": 120,
   "id": "4d772fcd",
   "metadata": {
    "ExecuteTime": {
     "end_time": "2021-08-14T16:21:39.893800Z",
     "start_time": "2021-08-14T16:21:39.878816Z"
    }
   },
   "outputs": [
    {
     "data": {
      "text/plain": [
       "array([ 0.        ,  5.55555556, 11.11111111, 16.66666667, 22.22222222,\n",
       "       27.77777778, 33.33333333, 38.88888889, 44.44444444, 50.        ])"
      ]
     },
     "execution_count": 120,
     "metadata": {},
     "output_type": "execute_result"
    }
   ],
   "source": [
    "# np.linspace(start, stop, num = 50)\n",
    "\n",
    "arreglo_linspace = np.linspace(0, 50, num = 10)\n",
    "arreglo_linspace"
   ]
  },
  {
   "cell_type": "code",
   "execution_count": 116,
   "id": "1bc1d84e",
   "metadata": {
    "ExecuteTime": {
     "end_time": "2021-08-14T16:19:23.583320Z",
     "start_time": "2021-08-14T16:19:23.567328Z"
    }
   },
   "outputs": [
    {
     "data": {
      "text/plain": [
       "50"
      ]
     },
     "execution_count": 116,
     "metadata": {},
     "output_type": "execute_result"
    }
   ],
   "source": [
    "arreglo_linspace.size"
   ]
  },
  {
   "cell_type": "markdown",
   "id": "db6b8435",
   "metadata": {
    "ExecuteTime": {
     "end_time": "2021-08-14T16:23:45.963606Z",
     "start_time": "2021-08-14T16:23:45.945611Z"
    }
   },
   "source": [
    "## np.random.rand()"
   ]
  },
  {
   "cell_type": "code",
   "execution_count": 134,
   "id": "0ec93c1d",
   "metadata": {
    "ExecuteTime": {
     "end_time": "2021-08-14T16:28:51.547771Z",
     "start_time": "2021-08-14T16:28:51.524784Z"
    }
   },
   "outputs": [
    {
     "data": {
      "text/plain": [
       "array([[0.47328337, 0.55203513],\n",
       "       [0.09258403, 0.20004293],\n",
       "       [0.59383189, 0.86727883],\n",
       "       [0.74756399, 0.01783241],\n",
       "       [0.06235529, 0.27282839]])"
      ]
     },
     "execution_count": 134,
     "metadata": {},
     "output_type": "execute_result"
    }
   ],
   "source": [
    "# np.random.rand(rows, columns) me crea una arreglo de nxm con numeros aleatorios entre 0 y 1\n",
    "arreglo_random = np.random.rand(5, 2)\n",
    "arreglo_random"
   ]
  },
  {
   "cell_type": "markdown",
   "id": "47c0c221",
   "metadata": {},
   "source": [
    "## Crear arreglos de unos y ceros"
   ]
  },
  {
   "cell_type": "code",
   "execution_count": 137,
   "id": "d2c1781a",
   "metadata": {
    "ExecuteTime": {
     "end_time": "2021-08-14T16:31:44.880816Z",
     "start_time": "2021-08-14T16:31:44.857830Z"
    }
   },
   "outputs": [
    {
     "data": {
      "text/plain": [
       "array([[1, 1, 1, 1, 1],\n",
       "       [1, 1, 1, 1, 1],\n",
       "       [1, 1, 1, 1, 1],\n",
       "       [1, 1, 1, 1, 1],\n",
       "       [1, 1, 1, 1, 1]])"
      ]
     },
     "execution_count": 137,
     "metadata": {},
     "output_type": "execute_result"
    }
   ],
   "source": [
    "unos = np.ones((5, 5), dtype = int)\n",
    "unos"
   ]
  },
  {
   "cell_type": "code",
   "execution_count": 139,
   "id": "2393cb99",
   "metadata": {
    "ExecuteTime": {
     "end_time": "2021-08-14T16:33:30.137199Z",
     "start_time": "2021-08-14T16:33:30.110214Z"
    }
   },
   "outputs": [
    {
     "data": {
      "text/plain": [
       "array([[0, 0, 0, 0, 0],\n",
       "       [0, 0, 0, 0, 0],\n",
       "       [0, 0, 0, 0, 0],\n",
       "       [0, 0, 0, 0, 0],\n",
       "       [0, 0, 0, 0, 0]])"
      ]
     },
     "execution_count": 139,
     "metadata": {},
     "output_type": "execute_result"
    }
   ],
   "source": [
    "ceros = np.zeros(shape = (5, 5), dtype = int)\n",
    "ceros"
   ]
  },
  {
   "cell_type": "markdown",
   "id": "6a3f1732",
   "metadata": {},
   "source": [
    "## numpy.random.uniform()"
   ]
  },
  {
   "cell_type": "code",
   "execution_count": 150,
   "id": "f4aa7d09",
   "metadata": {
    "ExecuteTime": {
     "end_time": "2021-08-14T16:37:49.382129Z",
     "start_time": "2021-08-14T16:37:49.367142Z"
    }
   },
   "outputs": [
    {
     "data": {
      "text/plain": [
       "array([50.49274091, 52.93309988, 52.71488789, 53.34824206, 54.83992339,\n",
       "       54.42319673, 53.13623221, 50.57043238, 50.79146487, 54.10761278])"
      ]
     },
     "execution_count": 150,
     "metadata": {},
     "output_type": "execute_result"
    }
   ],
   "source": [
    "arreglo_uniform = np.random.uniform(50, 55, 10)\n",
    "arreglo_uniform"
   ]
  },
  {
   "cell_type": "markdown",
   "id": "805f89c4",
   "metadata": {},
   "source": [
    "## array metodo copy()"
   ]
  },
  {
   "cell_type": "markdown",
   "id": "bc214128",
   "metadata": {},
   "source": [
    "### tener en cuenta:"
   ]
  },
  {
   "cell_type": "code",
   "execution_count": 151,
   "id": "88c0ca3f",
   "metadata": {
    "ExecuteTime": {
     "end_time": "2021-08-14T16:40:07.681199Z",
     "start_time": "2021-08-14T16:40:07.660209Z"
    }
   },
   "outputs": [],
   "source": [
    "lista = [1,2,3,4]\n",
    "lista_2 = lista"
   ]
  },
  {
   "cell_type": "code",
   "execution_count": 152,
   "id": "554d9d2f",
   "metadata": {
    "ExecuteTime": {
     "end_time": "2021-08-14T16:40:11.568015Z",
     "start_time": "2021-08-14T16:40:11.547033Z"
    }
   },
   "outputs": [
    {
     "data": {
      "text/plain": [
       "[1, 2, 3, 4]"
      ]
     },
     "execution_count": 152,
     "metadata": {},
     "output_type": "execute_result"
    }
   ],
   "source": [
    "lista"
   ]
  },
  {
   "cell_type": "code",
   "execution_count": 153,
   "id": "c61ee0c3",
   "metadata": {
    "ExecuteTime": {
     "end_time": "2021-08-14T16:40:22.292769Z",
     "start_time": "2021-08-14T16:40:22.267787Z"
    }
   },
   "outputs": [
    {
     "data": {
      "text/plain": [
       "[1, 2, 3, 4]"
      ]
     },
     "execution_count": 153,
     "metadata": {},
     "output_type": "execute_result"
    }
   ],
   "source": [
    "lista_2"
   ]
  },
  {
   "cell_type": "code",
   "execution_count": 154,
   "id": "a5e8937a",
   "metadata": {
    "ExecuteTime": {
     "end_time": "2021-08-14T16:40:34.694458Z",
     "start_time": "2021-08-14T16:40:34.669499Z"
    }
   },
   "outputs": [
    {
     "data": {
      "text/plain": [
       "[1, 2, 3, 4, 5]"
      ]
     },
     "execution_count": 154,
     "metadata": {},
     "output_type": "execute_result"
    }
   ],
   "source": [
    "lista.append(5)\n",
    "lista"
   ]
  },
  {
   "cell_type": "code",
   "execution_count": 155,
   "id": "d1f9fcad",
   "metadata": {
    "ExecuteTime": {
     "end_time": "2021-08-14T16:40:39.364819Z",
     "start_time": "2021-08-14T16:40:39.350824Z"
    }
   },
   "outputs": [
    {
     "data": {
      "text/plain": [
       "[1, 2, 3, 4, 5]"
      ]
     },
     "execution_count": 155,
     "metadata": {},
     "output_type": "execute_result"
    }
   ],
   "source": [
    "lista_2"
   ]
  },
  {
   "cell_type": "code",
   "execution_count": 156,
   "id": "c22272b5",
   "metadata": {
    "ExecuteTime": {
     "end_time": "2021-08-14T16:44:41.129127Z",
     "start_time": "2021-08-14T16:44:41.112137Z"
    }
   },
   "outputs": [],
   "source": [
    "lista_new = [1,2,3,4,5]\n",
    "lista_new_2 = lista_new.copy()"
   ]
  },
  {
   "cell_type": "code",
   "execution_count": 157,
   "id": "764acee8",
   "metadata": {
    "ExecuteTime": {
     "end_time": "2021-08-14T16:44:52.411223Z",
     "start_time": "2021-08-14T16:44:52.395257Z"
    }
   },
   "outputs": [
    {
     "data": {
      "text/plain": [
       "[1, 2, 3, 4, 5, 3]"
      ]
     },
     "execution_count": 157,
     "metadata": {},
     "output_type": "execute_result"
    }
   ],
   "source": [
    "lista_new.append(3)\n",
    "lista_new"
   ]
  },
  {
   "cell_type": "code",
   "execution_count": 158,
   "id": "2d3aad0a",
   "metadata": {
    "ExecuteTime": {
     "end_time": "2021-08-14T16:44:57.418621Z",
     "start_time": "2021-08-14T16:44:57.401632Z"
    }
   },
   "outputs": [
    {
     "data": {
      "text/plain": [
       "[1, 2, 3, 4, 5]"
      ]
     },
     "execution_count": 158,
     "metadata": {},
     "output_type": "execute_result"
    }
   ],
   "source": [
    "lista_new_2"
   ]
  },
  {
   "cell_type": "markdown",
   "id": "8091e285",
   "metadata": {
    "ExecuteTime": {
     "end_time": "2021-08-14T16:45:34.892266Z",
     "start_time": "2021-08-14T16:45:34.873277Z"
    }
   },
   "source": [
    "## En el caso de los array"
   ]
  },
  {
   "cell_type": "code",
   "execution_count": 160,
   "id": "63a049af",
   "metadata": {
    "ExecuteTime": {
     "end_time": "2021-08-14T16:45:57.102112Z",
     "start_time": "2021-08-14T16:45:57.089118Z"
    }
   },
   "outputs": [
    {
     "data": {
      "text/plain": [
       "array([50.42193755, 50.8067939 , 51.19831565, 53.15880655, 51.57721772,\n",
       "       51.94305718, 53.7060828 , 52.15830396, 54.65960883, 51.44651319])"
      ]
     },
     "execution_count": 160,
     "metadata": {},
     "output_type": "execute_result"
    }
   ],
   "source": [
    "arreglo_uniform = np.random.uniform(50, 55, 10)\n",
    "arreglo_uniform"
   ]
  },
  {
   "cell_type": "code",
   "execution_count": 161,
   "id": "a1b16432",
   "metadata": {
    "ExecuteTime": {
     "end_time": "2021-08-14T16:46:24.887945Z",
     "start_time": "2021-08-14T16:46:24.869957Z"
    }
   },
   "outputs": [
    {
     "data": {
      "text/plain": [
       "array([50.42193755, 50.8067939 , 51.19831565, 53.15880655, 51.57721772,\n",
       "       51.94305718, 53.7060828 , 52.15830396, 54.65960883, 51.44651319])"
      ]
     },
     "execution_count": 161,
     "metadata": {},
     "output_type": "execute_result"
    }
   ],
   "source": [
    "arreglo_uniform_copia = arreglo_uniform.copy()\n",
    "arreglo_uniform_copia"
   ]
  },
  {
   "cell_type": "code",
   "execution_count": 162,
   "id": "3577d03b",
   "metadata": {
    "ExecuteTime": {
     "end_time": "2021-08-14T16:46:39.848360Z",
     "start_time": "2021-08-14T16:46:39.826373Z"
    }
   },
   "outputs": [
    {
     "data": {
      "text/plain": [
       "array([504.21937546, 508.06793897, 511.98315651, 531.58806552,\n",
       "       515.77217717, 519.43057183, 537.06082798, 521.58303962,\n",
       "       546.59608827, 514.46513194])"
      ]
     },
     "execution_count": 162,
     "metadata": {},
     "output_type": "execute_result"
    }
   ],
   "source": [
    "arreglo_uniform = arreglo_uniform*10\n",
    "arreglo_uniform"
   ]
  },
  {
   "cell_type": "code",
   "execution_count": 163,
   "id": "5a1a7f76",
   "metadata": {
    "ExecuteTime": {
     "end_time": "2021-08-14T16:46:44.924128Z",
     "start_time": "2021-08-14T16:46:44.896147Z"
    }
   },
   "outputs": [
    {
     "data": {
      "text/plain": [
       "array([50.42193755, 50.8067939 , 51.19831565, 53.15880655, 51.57721772,\n",
       "       51.94305718, 53.7060828 , 52.15830396, 54.65960883, 51.44651319])"
      ]
     },
     "execution_count": 163,
     "metadata": {},
     "output_type": "execute_result"
    }
   ],
   "source": [
    "arreglo_uniform_copia"
   ]
  },
  {
   "cell_type": "markdown",
   "id": "da66ead9",
   "metadata": {},
   "source": [
    "# Definicion de funciones"
   ]
  },
  {
   "cell_type": "markdown",
   "id": "842648cf",
   "metadata": {},
   "source": [
    "# Funciones\n",
    "Usualmente en el desarrollo de un código debemos usar varias veces el mismo algoritmo, no necesariamente de forma periódica. Es fácil pensar que si quiero calcular un valor estadístico que no esté predefinido por algo el lenguaje de programación, tendremos que ir haciendo `Ctrl+C` y luego `Ctrl+V` del código como tantas veces lo necesitemos por todo nuestro código. Para evitar esto existen las funciones. Con ellas es posible desarrollar de forma ordenada el código y por consiguiente más entendible.\n",
    "\n",
    "La sintaxis de una función es la siguiente:\n",
    "\n",
    "```Python\n",
    "def Nombre_de_la_funcion(arg1, arg2,...argn):\n",
    "    bloque de código\n",
    "    return valor_a_retornar #------> solo si se necesita que la funcion retorne un valor\n",
    "\n",
    "\n",
    "# si no es necesario retornar un valor se puede escrbir así:\n",
    "def nombre_funcion(arg1, arg2,...argn):\n",
    "    bloque de código                    \n",
    "```\n",
    "En general es necesario el uso de `return` al final de cada función. De esa forma la función sabe exactamente qué debe devolver. \n"
   ]
  },
  {
   "cell_type": "code",
   "execution_count": 164,
   "id": "d7aa3ccd",
   "metadata": {
    "ExecuteTime": {
     "end_time": "2021-08-14T16:51:08.759705Z",
     "start_time": "2021-08-14T16:51:08.739713Z"
    }
   },
   "outputs": [],
   "source": [
    "def sumar_dos_numeros(num1, num2):\n",
    "    print(num1 + num2)"
   ]
  },
  {
   "cell_type": "code",
   "execution_count": 165,
   "id": "711c5f4b",
   "metadata": {
    "ExecuteTime": {
     "end_time": "2021-08-14T16:51:51.310267Z",
     "start_time": "2021-08-14T16:51:51.295275Z"
    }
   },
   "outputs": [
    {
     "name": "stdout",
     "output_type": "stream",
     "text": [
      "34\n"
     ]
    }
   ],
   "source": [
    "sumar_dos_numeros(24, 10)"
   ]
  },
  {
   "cell_type": "code",
   "execution_count": 166,
   "id": "7b9b5753",
   "metadata": {
    "ExecuteTime": {
     "end_time": "2021-08-14T16:53:31.695319Z",
     "start_time": "2021-08-14T16:53:31.678330Z"
    }
   },
   "outputs": [],
   "source": [
    "def resta_dos_numeros(num1, num2):\n",
    "    resta = num1 - num2\n",
    "    return resta"
   ]
  },
  {
   "cell_type": "code",
   "execution_count": 170,
   "id": "776e5f47",
   "metadata": {
    "ExecuteTime": {
     "end_time": "2021-08-14T16:54:09.375889Z",
     "start_time": "2021-08-14T16:54:09.368892Z"
    }
   },
   "outputs": [],
   "source": [
    "x = resta_dos_numeros(3, 4545)"
   ]
  },
  {
   "cell_type": "code",
   "execution_count": 171,
   "id": "e00a706d",
   "metadata": {
    "ExecuteTime": {
     "end_time": "2021-08-14T16:54:10.258962Z",
     "start_time": "2021-08-14T16:54:10.242971Z"
    }
   },
   "outputs": [
    {
     "data": {
      "text/plain": [
       "-4542"
      ]
     },
     "execution_count": 171,
     "metadata": {},
     "output_type": "execute_result"
    }
   ],
   "source": [
    "x"
   ]
  },
  {
   "cell_type": "markdown",
   "id": "7d509f73",
   "metadata": {
    "ExecuteTime": {
     "end_time": "2021-08-14T17:06:27.957056Z",
     "start_time": "2021-08-14T17:06:27.939082Z"
    }
   },
   "source": [
    "# Ejercicios propuestos"
   ]
  },
  {
   "cell_type": "markdown",
   "id": "9e63c11b",
   "metadata": {},
   "source": [
    "**Ejercicio 1**\n",
    "\n",
    "Determine para un número entero cualquiera si es par o impar\n",
    "- Utilice una sentencia if - else"
   ]
  },
  {
   "cell_type": "code",
   "execution_count": 2,
   "id": "b1305af0",
   "metadata": {
    "ExecuteTime": {
     "end_time": "2021-08-21T12:40:36.158686Z",
     "start_time": "2021-08-21T12:40:36.148693Z"
    }
   },
   "outputs": [
    {
     "name": "stdout",
     "output_type": "stream",
     "text": [
      "El numero es impar\n"
     ]
    }
   ],
   "source": [
    "num = 21\n",
    "\n",
    "if num % 2 == 0:\n",
    "    print(\"El numero es par\")\n",
    "else:\n",
    "    print(\"El numero es impar\")"
   ]
  },
  {
   "cell_type": "markdown",
   "id": "b2eddd0e",
   "metadata": {},
   "source": [
    "**Ejercicio 2**:\n",
    "\n",
    "Determine de un número cualquiera real entero positivo si es un número primo o no\n",
    "- Tip: utilice un ciclo for para realizar dicha operación"
   ]
  },
  {
   "cell_type": "code",
   "execution_count": 4,
   "id": "c2b28d9c",
   "metadata": {
    "ExecuteTime": {
     "end_time": "2021-08-21T12:41:03.991059Z",
     "start_time": "2021-08-21T12:41:03.972072Z"
    }
   },
   "outputs": [
    {
     "name": "stdout",
     "output_type": "stream",
     "text": [
      "11 es primo\n"
     ]
    }
   ],
   "source": [
    "x = 11\n",
    "primo = 0\n",
    "prueba = 0\n",
    "for i in range(2,x):\n",
    "    prueba = x % i\n",
    "    if prueba == 0:\n",
    "        primo = primo +1\n",
    "\n",
    "if primo == 0:\n",
    "    print(str(x) + \" es primo\")\n",
    "else:\n",
    "    print(str(x) + \" no es primo\")"
   ]
  },
  {
   "cell_type": "markdown",
   "id": "dffb3f8a",
   "metadata": {},
   "source": [
    "**Ejercicio 3**:\n",
    "\n",
    "Cree una lista con cualquier tipo de dato del tamaño que usted considere, a dicha lista agregue un dato utilizando el método append"
   ]
  },
  {
   "cell_type": "code",
   "execution_count": 5,
   "id": "4b0dd58b",
   "metadata": {
    "ExecuteTime": {
     "end_time": "2021-08-21T12:41:37.699541Z",
     "start_time": "2021-08-21T12:41:37.678554Z"
    }
   },
   "outputs": [
    {
     "data": {
      "text/plain": [
       "[1, 2, 3, 4, 5, 'Python']"
      ]
     },
     "execution_count": 5,
     "metadata": {},
     "output_type": "execute_result"
    }
   ],
   "source": [
    "lista = [1, 2, 3, 4, 5]\n",
    "lista.append(\"Python\")\n",
    "lista"
   ]
  },
  {
   "cell_type": "markdown",
   "id": "3e28034c",
   "metadata": {},
   "source": [
    "**Ejercicio 4**:\n",
    "\n",
    "Cree una lista con cualquier tipo de dato del tamaño que usted considere, a dicha lista elimine un dato utilizando algún método que permita hacerlo, consulte en el siguiente link los diferentes métodos asociados a las listas y busque el método apropiado:\n",
    "- Métodos de las listas: https://docs.python.org/es/3/tutorial/datastructures.html"
   ]
  },
  {
   "cell_type": "code",
   "execution_count": 6,
   "id": "c07bd42f",
   "metadata": {
    "ExecuteTime": {
     "end_time": "2021-08-21T12:42:22.307086Z",
     "start_time": "2021-08-21T12:42:22.286098Z"
    }
   },
   "outputs": [
    {
     "data": {
      "text/plain": [
       "[1, 2, 3, 4, 5]"
      ]
     },
     "execution_count": 6,
     "metadata": {},
     "output_type": "execute_result"
    }
   ],
   "source": [
    "lista = [1, 2, 3, 4, 5, \"Python\"]\n",
    "lista.remove(\"Python\")\n",
    "lista"
   ]
  },
  {
   "cell_type": "markdown",
   "id": "9ad97629",
   "metadata": {},
   "source": [
    "**Ejercicio 5:**\n",
    "\n",
    "En un colegio personalizado del país, se tienen salones constituidos por 5 estudiantes. La lista de estudiantes de uno de ellos es:\n",
    "\n",
    "```\n",
    "kinderA_lista = ['Gómez, Sebastián', 'Arango, Natalia', 'Zambrano, Javier', 'Domingo, Carolina'] \n",
    "````\n",
    "\n",
    "Organice dicha lista en orden alfabético, guardándola en la misma variable e imprímala en pantalla.\n",
    "\n",
    "- tip: para resolver este ejercicio consulte de nuevo los métodos de las listas, allí encontrará un método que permita ordenar la lista"
   ]
  },
  {
   "cell_type": "code",
   "execution_count": 7,
   "id": "993d7e17",
   "metadata": {
    "ExecuteTime": {
     "end_time": "2021-08-21T12:43:40.834727Z",
     "start_time": "2021-08-21T12:43:40.818736Z"
    }
   },
   "outputs": [
    {
     "data": {
      "text/plain": [
       "['Arango, Natalia',\n",
       " 'Domingo, Carolina',\n",
       " 'Gómez, Sebastián',\n",
       " 'Zambrano, Javier']"
      ]
     },
     "execution_count": 7,
     "metadata": {},
     "output_type": "execute_result"
    }
   ],
   "source": [
    "kinderA_lista = ['Gómez, Sebastián', 'Arango, Natalia', 'Zambrano, Javier', 'Domingo, Carolina']\n",
    "kinderA_lista.sort()\n",
    "kinderA_lista"
   ]
  },
  {
   "cell_type": "markdown",
   "id": "d9d1d9e6",
   "metadata": {
    "ExecuteTime": {
     "end_time": "2021-08-14T22:25:44.149693Z",
     "start_time": "2021-08-14T22:25:44.130704Z"
    }
   },
   "source": [
    "**Ejercicio 6:** \n",
    "\n",
    "La siguiente lista representa una pequeña base de datos constituida por pacientes de una clinica en la ciudad de Medellín. Cada paciente se identifica como:\n",
    "\n",
    "```\n",
    "ID_numero-Medellin\n",
    "```\n",
    "Por motivos de optimización, un programador en `python`requier extraer solamente el número de identificación de cada elemento de la lista. Realice la extracción del número elemento por elemento, de la siguiente lista:\n",
    "\n",
    "```\n",
    "pacientes = [\"ID_0001-Medellin\",\"ID_0002-Medellin\",\"ID_0003-Medellin\",\"ID_0004-Medellin\"]\n",
    "```\n",
    "\n",
    "- tip: consulte la documentación del método split para dar solución al ejercicio: https://python-reference.readthedocs.io/en/latest/docs/str/split.html"
   ]
  },
  {
   "cell_type": "code",
   "execution_count": 8,
   "id": "f65a152d",
   "metadata": {
    "ExecuteTime": {
     "end_time": "2021-08-21T12:44:28.281503Z",
     "start_time": "2021-08-21T12:44:28.271512Z"
    }
   },
   "outputs": [
    {
     "data": {
      "text/plain": [
       "['0001', '0002', '0003', '0004']"
      ]
     },
     "execution_count": 8,
     "metadata": {},
     "output_type": "execute_result"
    }
   ],
   "source": [
    "pacientes = [\"ID_0001-Medellin\",\"ID_0002-Medellin\",\"ID_0003-Medellin\",\"ID_0004-Medellin\"]\n",
    "\n",
    "pacientes[0] = pacientes[0].split('-')[0].split('_')[1]\n",
    "pacientes[1] = pacientes[1].split('-')[0].split('_')[1]  \n",
    "pacientes[2] = pacientes[2].split('-')[0].split('_')[1] \n",
    "pacientes[3] = pacientes[3].split('-')[0].split('_')[1] \n",
    "pacientes"
   ]
  },
  {
   "cell_type": "markdown",
   "id": "6770e64c",
   "metadata": {},
   "source": [
    "**Ejercicio 7:**\n",
    "\n",
    "Escriba un programa que permita calcular la suma de los 100 primeros números.\n",
    "\n",
    "- tip: utilice un ciclo for para resolver el ejercicio, además consulte como utilizar un contador dentro de un ciclo"
   ]
  },
  {
   "cell_type": "code",
   "execution_count": 9,
   "id": "0a66d0e4",
   "metadata": {
    "ExecuteTime": {
     "end_time": "2021-08-21T12:46:40.381691Z",
     "start_time": "2021-08-21T12:46:40.368705Z"
    }
   },
   "outputs": [
    {
     "name": "stdout",
     "output_type": "stream",
     "text": [
      "5050\n"
     ]
    }
   ],
   "source": [
    "suma = 0\n",
    "\n",
    "for i in range(101):\n",
    "    suma = suma + i\n",
    "\n",
    "print(suma)"
   ]
  },
  {
   "cell_type": "markdown",
   "id": "6adbdc7a",
   "metadata": {},
   "source": [
    "**Ejercicio 8:**\n",
    "\n",
    "En matemáticas, la sucesión o serie de Fibonacci hace referencia a la secuencia ordenada de números descrita por Leonardo de Pisa, matemático italiano del siglo XIII:\n",
    "\n",
    "[0, 1, 1, 2, 3, 5, 8, 13, 21, 34, 55, 89, 144,…]\n",
    "\n",
    "A cada uno de los elementos de la serie se le conoce con el nombre de número de Fibonacci.\n",
    "\n",
    "Realice un programa que permita calcular una lista que contenga la serie fibonacci hasta la posición 20 así:\n",
    "\n",
    "[0, 1, 1, 2, 3, 5, 8, 13, 21, 34, 55, 89, 144, 233, 377, 610, 987, 1597, 2584, 4181]\n",
    "\n",
    "- Para calcular el siguiente número de la serie `numero(k+1) = numero(k-1) + numero(k)`\n",
    "\n",
    "- tip: utilice un ciclo for e inicialice una lista con los siguientes números [0, 1] antes de ejecutar el for"
   ]
  },
  {
   "cell_type": "code",
   "execution_count": null,
   "id": "f3a91214",
   "metadata": {},
   "outputs": [],
   "source": [
    "fibo = [0]*2\n",
    "fibo[0] = 0\n",
    "fibo[1] = 1\n",
    "\n",
    "for i in range(2, 21):\n",
    "    fibo.append(fibo[i-1] + fibo[i-2])\n",
    "    \n",
    "print(fibo)"
   ]
  },
  {
   "cell_type": "markdown",
   "id": "7f5430fa",
   "metadata": {},
   "source": [
    "**Ejercicio 9:** \n",
    "\n",
    "Cree una función que solicite al usuario una palabra e imprima si esta es un palíndromo o no. (Un palíndromo es una palabra o frase que se lee igual hacia adelante y hacia atrás), por ejemplo:\n",
    "\n",
    "- Anilina, note que la palabra al leerla de izuqierda a derecha y de derecha a izquierda es exactamante igual\n",
    "\n",
    "- tip: para resolver el ejercicio consulte como invertir una cadena de caracteres\n"
   ]
  },
  {
   "cell_type": "code",
   "execution_count": 3,
   "id": "0769792b",
   "metadata": {
    "ExecuteTime": {
     "end_time": "2021-08-22T17:05:27.418829Z",
     "start_time": "2021-08-22T17:05:27.403825Z"
    }
   },
   "outputs": [
    {
     "name": "stdout",
     "output_type": "stream",
     "text": [
      "Acá no es un palindromo\n"
     ]
    }
   ],
   "source": [
    "def palindromo(palabra):\n",
    "    palabra = palabra.replace(' ', '')\n",
    "    palabra = palabra.lower()\n",
    "    palabra_invertida = palabra[::-1]\n",
    "    if palabra == palabra_invertida:\n",
    "        return True\n",
    "    else:\n",
    "        return False\n",
    "\n",
    "palabra = \"Anilina\"\n",
    "palabra = \"Ana\"\n",
    "palabra = \"Acá\"\n",
    "es_palindromo = palindromo(palabra)\n",
    "\n",
    "if es_palindromo == True:\n",
    "    print(palabra + \" es un palindromo\")\n",
    "else:\n",
    "    print(palabra + \" no es un palindromo\")"
   ]
  },
  {
   "cell_type": "code",
   "execution_count": null,
   "id": "f94786a0",
   "metadata": {},
   "outputs": [],
   "source": []
  }
 ],
 "metadata": {
  "kernelspec": {
   "display_name": "renting_env",
   "language": "python",
   "name": "renting_env"
  },
  "language_info": {
   "codemirror_mode": {
    "name": "ipython",
    "version": 3
   },
   "file_extension": ".py",
   "mimetype": "text/x-python",
   "name": "python",
   "nbconvert_exporter": "python",
   "pygments_lexer": "ipython3",
   "version": "3.7.10"
  },
  "toc": {
   "base_numbering": 1,
   "nav_menu": {},
   "number_sections": true,
   "sideBar": true,
   "skip_h1_title": false,
   "title_cell": "Table of Contents",
   "title_sidebar": "Contents",
   "toc_cell": false,
   "toc_position": {
    "height": "calc(100% - 180px)",
    "left": "10px",
    "top": "150px",
    "width": "222.102px"
   },
   "toc_section_display": true,
   "toc_window_display": false
  },
  "varInspector": {
   "cols": {
    "lenName": 16,
    "lenType": 16,
    "lenVar": 40
   },
   "kernels_config": {
    "python": {
     "delete_cmd_postfix": "",
     "delete_cmd_prefix": "del ",
     "library": "var_list.py",
     "varRefreshCmd": "print(var_dic_list())"
    },
    "r": {
     "delete_cmd_postfix": ") ",
     "delete_cmd_prefix": "rm(",
     "library": "var_list.r",
     "varRefreshCmd": "cat(var_dic_list()) "
    }
   },
   "position": {
    "height": "576.733px",
    "left": "1370.43px",
    "right": "20px",
    "top": "144.986px",
    "width": "350px"
   },
   "types_to_exclude": [
    "module",
    "function",
    "builtin_function_or_method",
    "instance",
    "_Feature"
   ],
   "window_display": false
  }
 },
 "nbformat": 4,
 "nbformat_minor": 5
}
