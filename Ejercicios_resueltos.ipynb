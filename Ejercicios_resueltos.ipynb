{
 "cells": [
  {
   "cell_type": "markdown",
   "id": "480442ee",
   "metadata": {},
   "source": [
    "# Ejercicios Propuestos"
   ]
  },
  {
   "cell_type": "markdown",
   "id": "3a9ed5de",
   "metadata": {},
   "source": [
    "**Ejercicio 1**\n",
    "\n",
    "Determine para un número entero cualquiera si es par o impar\n",
    "- Utilice una sentencia if - else"
   ]
  },
  {
   "cell_type": "code",
   "execution_count": 3,
   "id": "0611f75e",
   "metadata": {
    "ExecuteTime": {
     "end_time": "2021-08-22T16:46:56.421370Z",
     "start_time": "2021-08-22T16:46:56.406372Z"
    }
   },
   "outputs": [
    {
     "name": "stdout",
     "output_type": "stream",
     "text": [
      "El numero es par\n"
     ]
    }
   ],
   "source": [
    "num = 1232\n",
    "\n",
    "if num % 2 == 0:               #--------> el modulo 2 de un número determina si es par\n",
    "    print(\"El numero es par\")\n",
    "else:\n",
    "    print(\"El numero es impar\")"
   ]
  },
  {
   "cell_type": "markdown",
   "id": "6ffe6698",
   "metadata": {},
   "source": [
    "**Ejercicio 2**:\n",
    "\n",
    "Determine de un número cualquiera real entero positivo si es un número primo o no\n",
    "- Tip: utilice un ciclo for para realizar dicha operación"
   ]
  },
  {
   "cell_type": "code",
   "execution_count": 6,
   "id": "2e8e1730",
   "metadata": {
    "ExecuteTime": {
     "end_time": "2021-08-22T16:50:15.218716Z",
     "start_time": "2021-08-22T16:50:15.200725Z"
    }
   },
   "outputs": [
    {
     "name": "stdout",
     "output_type": "stream",
     "text": [
      "13 es primo\n"
     ]
    }
   ],
   "source": [
    "x = 13\n",
    "\n",
    "# Inicializamos variables\n",
    "primo = 0  \n",
    "test = 0\n",
    "\n",
    "# Se ejecuta un for para determinar si es primo o no\n",
    "# un numero primo es aque que solo es divisible por si mismo y por el numero 1\n",
    "\n",
    "for i in range(2,x):\n",
    "    \n",
    "    test = x % i\n",
    "    if test == 0:\n",
    "        primo = primo + 1\n",
    "        \n",
    "if primo == 0:\n",
    "    print(f\"{x} es un numero primo\")\n",
    "else:\n",
    "    print(f\"{x} no es un numero primo\")"
   ]
  },
  {
   "cell_type": "markdown",
   "id": "5221b167",
   "metadata": {},
   "source": [
    "**Ejercicio 3**:\n",
    "\n",
    "Cree una lista con cualquier tipo de dato del tamaño que usted considere, a dicha lista agregue un dato utilizando el método append()"
   ]
  },
  {
   "cell_type": "code",
   "execution_count": 7,
   "id": "beda0903",
   "metadata": {
    "ExecuteTime": {
     "end_time": "2021-08-22T16:52:54.764246Z",
     "start_time": "2021-08-22T16:52:54.734267Z"
    }
   },
   "outputs": [
    {
     "data": {
      "text/plain": [
       "[1, 2, 3, 4, 5, 'Python']"
      ]
     },
     "execution_count": 7,
     "metadata": {},
     "output_type": "execute_result"
    }
   ],
   "source": [
    "lista = [1, 2, 3, 4, 5]\n",
    "lista.append(\"Python\")\n",
    "lista"
   ]
  },
  {
   "cell_type": "markdown",
   "id": "46af7396",
   "metadata": {},
   "source": [
    "**Ejercicio 4**:\n",
    "\n",
    "Cree una lista con cualquier tipo de dato del tamaño que usted considere, a dicha lista elimine un dato utilizando algún método que permita hacerlo, consulte en el siguiente link los diferentes métodos asociados a las listas y busque el método apropiado:\n",
    "- Métodos de las listas: https://docs.python.org/es/3/tutorial/datastructures.html"
   ]
  },
  {
   "cell_type": "code",
   "execution_count": 8,
   "id": "2d2b5c03",
   "metadata": {
    "ExecuteTime": {
     "end_time": "2021-08-22T16:53:16.405357Z",
     "start_time": "2021-08-22T16:53:16.394367Z"
    }
   },
   "outputs": [
    {
     "data": {
      "text/plain": [
       "[1, 2, 3, 4, 5]"
      ]
     },
     "execution_count": 8,
     "metadata": {},
     "output_type": "execute_result"
    }
   ],
   "source": [
    "lista = [1, 2, 3, 4, 5, \"Python\"]\n",
    "lista.remove(\"Python\")\n",
    "lista"
   ]
  },
  {
   "cell_type": "markdown",
   "id": "e5aaa5a3",
   "metadata": {},
   "source": [
    "**Ejercicio 5:**\n",
    "\n",
    "En un colegio personalizado del país, se tienen salones constituidos por 5 estudiantes. La lista de estudiantes de uno de ellos es:\n",
    "\n",
    "```\n",
    "kinderA_lista = ['Gómez, Sebastián', 'Arango, Natalia', 'Zambrano, Javier', 'Domingo, Carolina'] \n",
    "````\n",
    "\n",
    "Organice dicha lista en orden alfabético, guardándola en la misma variable e imprímala en pantalla.\n",
    "\n",
    "- tip: para resolver este ejercicio consulte de nuevo los métodos de las listas, allí encontrará un método que permita ordenar la lista"
   ]
  },
  {
   "cell_type": "code",
   "execution_count": 11,
   "id": "ced74aa0",
   "metadata": {
    "ExecuteTime": {
     "end_time": "2021-08-22T16:54:26.948142Z",
     "start_time": "2021-08-22T16:54:26.936145Z"
    }
   },
   "outputs": [
    {
     "data": {
      "text/plain": [
       "['Arango, Natalia',\n",
       " 'Domingo, Carolina',\n",
       " 'Gómez, Sebastián',\n",
       " 'Zambrano, Javier']"
      ]
     },
     "execution_count": 11,
     "metadata": {},
     "output_type": "execute_result"
    }
   ],
   "source": [
    "kinderA_lista = [\"Gómez, Sebastián\", \"Arango, Natalia\", \"Zambrano, Javier\", \"Domingo, Carolina\"]\n",
    "kinderA_lista.sort()\n",
    "kinderA_lista"
   ]
  },
  {
   "cell_type": "markdown",
   "id": "1eb40948",
   "metadata": {},
   "source": [
    "**Ejercicio 6:** \n",
    "\n",
    "La siguiente lista representa una pequeña base de datos constituida por pacientes de una clinica en la ciudad de Medellín. Cada paciente se identifica como:\n",
    "\n",
    "```\n",
    "ID_numero-Medellin\n",
    "```\n",
    "Por motivos de optimización, un programador en `python`requier extraer solamente el número de identificación de cada elemento de la lista. Realice la extracción del número elemento por elemento, de la siguiente lista:\n",
    "\n",
    "```\n",
    "pacientes = [\"ID_0001-Medellin\",\"ID_0002-Medellin\",\"ID_0003-Medellin\",\"ID_0004-Medellin\"]\n",
    "```\n",
    "\n",
    "- tip: consulte la documentación del método split para dar solución al ejercicio: https://python-reference.readthedocs.io/en/latest/docs/str/split.html"
   ]
  },
  {
   "cell_type": "code",
   "execution_count": 21,
   "id": "71debe9e",
   "metadata": {
    "ExecuteTime": {
     "end_time": "2021-08-22T16:58:41.886553Z",
     "start_time": "2021-08-22T16:58:41.871558Z"
    }
   },
   "outputs": [
    {
     "data": {
      "text/plain": [
       "['0001', '0002', '0003', '0004']"
      ]
     },
     "execution_count": 21,
     "metadata": {},
     "output_type": "execute_result"
    }
   ],
   "source": [
    "pacientes = [\"ID_0001-Medellin\",\"ID_0002-Medellin\",\"ID_0003-Medellin\",\"ID_0004-Medellin\"]\n",
    "\n",
    "for i in range(0, 4):\n",
    "    \n",
    "    pacientes[i] = pacientes[i].split('-')[0].split('_')[1]\n",
    "    \n",
    "pacientes"
   ]
  },
  {
   "cell_type": "markdown",
   "id": "4b546538",
   "metadata": {},
   "source": [
    "**Ejercicio 7:**\n",
    "\n",
    "Escriba un programa que permita calcular la suma de los 100 primeros números.\n",
    "\n",
    "- tip: utilice un ciclo for para resolver el ejercicio, además consulte como utilizar un contador dentro de un ciclo"
   ]
  },
  {
   "cell_type": "code",
   "execution_count": 24,
   "id": "b14239e2",
   "metadata": {
    "ExecuteTime": {
     "end_time": "2021-08-22T16:59:57.220332Z",
     "start_time": "2021-08-22T16:59:57.200339Z"
    }
   },
   "outputs": [
    {
     "name": "stdout",
     "output_type": "stream",
     "text": [
      "5050\n"
     ]
    }
   ],
   "source": [
    "suma = 0\n",
    "\n",
    "for i in range(0, 101):\n",
    "    suma = suma + i\n",
    "\n",
    "print(suma)"
   ]
  },
  {
   "cell_type": "markdown",
   "id": "4e9842de",
   "metadata": {},
   "source": [
    "**Ejercicio 8:**\n",
    "\n",
    "En matemáticas, la sucesión o serie de Fibonacci hace referencia a la secuencia ordenada de números descrita por Leonardo de Pisa, matemático italiano del siglo XIII:\n",
    "\n",
    "[0, 1, 1, 2, 3, 5, 8, 13, 21, 34, 55, 89, 144,…]\n",
    "\n",
    "A cada uno de los elementos de la serie se le conoce con el nombre de número de Fibonacci.\n",
    "\n",
    "Realice un programa que permita calcular una lista que contenga la serie fibonacci hasta la posición 20 así:\n",
    "\n",
    "[0, 1, 1, 2, 3, 5, 8, 13, 21, 34, 55, 89, 144, 233, 377, 610, 987, 1597, 2584, 4181]\n",
    "\n",
    "- Para calcular el siguiente número de la serie `numero(k+1) = numero(k-1) + numero(k)`\n",
    "\n",
    "- tip: utilice un ciclo for e inicialice una lista con los siguientes números [0, 1] antes de ejecutar el for"
   ]
  },
  {
   "cell_type": "code",
   "execution_count": 27,
   "id": "bee680e7",
   "metadata": {
    "ExecuteTime": {
     "end_time": "2021-08-22T17:21:37.940429Z",
     "start_time": "2021-08-22T17:21:37.933433Z"
    }
   },
   "outputs": [
    {
     "name": "stdout",
     "output_type": "stream",
     "text": [
      "[0, 1, 1, 2, 3, 5, 8, 13, 21, 34, 55, 89, 144, 233, 377, 610, 987, 1597, 2584, 4181, 6765]\n"
     ]
    }
   ],
   "source": [
    "fibo = [0]*2\n",
    "fibo[0] = 0\n",
    "fibo[1] = 1\n",
    "\n",
    "for i in range(2, 21):\n",
    "    fibo.append(fibo[i-1] + fibo[i-2])\n",
    "    \n",
    "print(fibo)"
   ]
  },
  {
   "cell_type": "markdown",
   "id": "fe655c76",
   "metadata": {},
   "source": [
    "**Ejercicio 9:** \n",
    "\n",
    "Cree una función que solicite al usuario una palabra e imprima si esta es un palíndromo o no. (Un palíndromo es una palabra o frase que se lee igual hacia adelante y hacia atrás), por ejemplo:\n",
    "\n",
    "- Anilina, note que la palabra al leerla de izuqierda a derecha y de derecha a izquierda es exactamante igual\n",
    "\n",
    "- tip: para resolver el ejercicio consulte como invertir una cadena de caracteres"
   ]
  },
  {
   "cell_type": "code",
   "execution_count": 25,
   "id": "a8e39b23",
   "metadata": {
    "ExecuteTime": {
     "end_time": "2021-08-22T17:02:54.629531Z",
     "start_time": "2021-08-22T17:02:54.619536Z"
    }
   },
   "outputs": [
    {
     "name": "stdout",
     "output_type": "stream",
     "text": [
      "Es un palindromo\n"
     ]
    }
   ],
   "source": [
    "def palindromo(palabra):\n",
    "    \n",
    "    palabra = palabra.replace(' ', '') \n",
    "    \n",
    "    #### Eliminamos acentos \n",
    "    palabra = palabra.replace(\"á\", \"a\")\n",
    "    palabra = palabra.replace(\"é\", \"e\")\n",
    "    palabra = palabra.replace(\"í\", \"i\")\n",
    "    palabra = palabra.replace(\"ó\", \"o\")\n",
    "    palabra = palabra.replace(\"ú\", \"u\")\n",
    "    \n",
    "    # Este metodo permite convertir cualquier letra de la cadena en letras minusculas\n",
    "    palabra = palabra.lower() \n",
    "    \n",
    "    # Se utiliza para invertir una cadena de caracteres\n",
    "    palabra_invertida = palabra[::-1]  \n",
    "    \n",
    "    if palabra == palabra_invertida:\n",
    "        return True\n",
    "    else:\n",
    "        return False\n",
    "    \n",
    "# Palabras de ejemplo:\n",
    "\n",
    "# palabra = \"Anilina\"\n",
    "# palabra = \"Ana\"\n",
    "# palabra = \"Acá\"\n",
    "# palabra = \"Allá\"\n",
    "# palabra = \"Aérea\"\n",
    "palabra = \"Reconocer\"\n",
    "\n",
    "es_palindromo = palindromo(palabra)\n",
    "\n",
    "if es_palindromo == True:\n",
    "    print(\"Es un palindromo\")\n",
    "else:\n",
    "    print('No es un palindromo')"
   ]
  }
 ],
 "metadata": {
  "kernelspec": {
   "display_name": "renting_env",
   "language": "python",
   "name": "renting_env"
  },
  "language_info": {
   "codemirror_mode": {
    "name": "ipython",
    "version": 3
   },
   "file_extension": ".py",
   "mimetype": "text/x-python",
   "name": "python",
   "nbconvert_exporter": "python",
   "pygments_lexer": "ipython3",
   "version": "3.7.10"
  },
  "toc": {
   "base_numbering": 1,
   "nav_menu": {},
   "number_sections": true,
   "sideBar": true,
   "skip_h1_title": false,
   "title_cell": "Table of Contents",
   "title_sidebar": "Contents",
   "toc_cell": false,
   "toc_position": {},
   "toc_section_display": true,
   "toc_window_display": false
  },
  "varInspector": {
   "cols": {
    "lenName": 16,
    "lenType": 16,
    "lenVar": 40
   },
   "kernels_config": {
    "python": {
     "delete_cmd_postfix": "",
     "delete_cmd_prefix": "del ",
     "library": "var_list.py",
     "varRefreshCmd": "print(var_dic_list())"
    },
    "r": {
     "delete_cmd_postfix": ") ",
     "delete_cmd_prefix": "rm(",
     "library": "var_list.r",
     "varRefreshCmd": "cat(var_dic_list()) "
    }
   },
   "types_to_exclude": [
    "module",
    "function",
    "builtin_function_or_method",
    "instance",
    "_Feature"
   ],
   "window_display": false
  }
 },
 "nbformat": 4,
 "nbformat_minor": 5
}
