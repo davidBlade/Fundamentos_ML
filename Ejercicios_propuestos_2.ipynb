{
 "cells": [
  {
   "cell_type": "markdown",
   "id": "83823177",
   "metadata": {},
   "source": [
    "# Ejercicios Propuestos\n",
    "\n",
    "Realizar los siguientes ejercicios, para ellos deberá tener en cuenta los siguiente:\n",
    "    \n",
    "- Debe importar el paquete de Pandas\n",
    "- Declarar funciones que retornen un valor\n",
    "- Creación de Series y DataFrames\n",
    "- Aplicar métodos básicos a una serie o a un DataFrame\n",
    "- Importar archivos con Pandas\n",
    "- Lea el ejericico **mínimo 5 veces**, plantee una ruta para resolver cada ejercicio en un papel, cuando ya tenga claro como abordar cada problema, proceda a realizar el debico código en Python, se recomienda este tipo de metodologías para el desarrollo de algoritmia y pensamiento lógico"
   ]
  },
  {
   "cell_type": "markdown",
   "id": "8efac672",
   "metadata": {},
   "source": [
    "# Ejercicio 1\n",
    "\n",
    "Se tiene el siguiente diccionario el cual contiene la nota final que sacaron 5 estudiantes en una signatura cualquiera:\n",
    "\n",
    "```Python\n",
    "dict_notas = {\n",
    "    \"Juan\": 4.5,\n",
    "    \"Carlos\": 3.1,\n",
    "    \"Felipe\": 4.1,\n",
    "    \"Sara\": 2.5,\n",
    "    \"Luisa\": 5    \n",
    "}\n",
    "```\n",
    "\n",
    "Con dichos datos cree una Serie de Pandas que contenga lo siguiente:\n",
    "\n",
    "- La nota mínima\n",
    "- La nota máxima\n",
    "- La media aritmética\n",
    "- La mediana\n",
    "- La desviación estándar\n",
    "\n",
    "Para la correcta lectura de la serie, cambie el index numérico que viene por defecto, es decir el index corresponderá a los diferentes datos estadísticos que se solicitan, así:\n",
    "\n",
    "```\n",
    "minimo     2.50000\n",
    "maximo     5.00000\n",
    "media      3.84000\n",
    "mediana    4.10000\n",
    "std        1.02371\n",
    "dtype: float64\n",
    "```"
   ]
  },
  {
   "cell_type": "code",
   "execution_count": 1,
   "id": "7cfb244c",
   "metadata": {
    "ExecuteTime": {
     "end_time": "2021-09-07T03:27:33.041169Z",
     "start_time": "2021-09-07T03:27:32.279884Z"
    }
   },
   "outputs": [
    {
     "name": "stdout",
     "output_type": "stream",
     "text": [
      "Min        2.500000\n",
      "Max        5.000000\n",
      "Media      3.840000\n",
      "Mediana    4.100000\n",
      "Std        1.023719\n",
      "dtype: float64\n"
     ]
    }
   ],
   "source": [
    "import pandas as pd\n",
    "\n",
    "def estadistica_notas(notas):\n",
    "    \n",
    "    notas = pd.Series(notas)\n",
    "    \n",
    "    minimo = notas.min()\n",
    "    maximo = notas.max()\n",
    "    media = notas.mean()\n",
    "    mediana = notas.median()\n",
    "    desviacion_std = notas.std()\n",
    "    \n",
    "    serie = pd.Series([minimo, maximo, media, mediana, desviacion_std], \n",
    "                      index = [\"Min\", \"Max\", \"Media\", \"Mediana\", \"Std\"])\n",
    "    \n",
    "    return serie\n",
    "\n",
    "dict_notas = {\n",
    "    \"Juan\": 4.5,\n",
    "    \"Carlos\": 3.1,\n",
    "    \"Felipe\": 4.1,\n",
    "    \"Sara\": 2.5,\n",
    "    \"Luisa\": 5    \n",
    "}\n",
    "\n",
    "print(estadistica_notas(dict_notas))"
   ]
  },
  {
   "cell_type": "markdown",
   "id": "05b4b3d3",
   "metadata": {},
   "source": [
    "# Ejercicio 2\n",
    "\n",
    "Escribir programa que genere y muestre por pantalla un DataFrame con los datos de la siguiente tabla:\n",
    "\n",
    "|        | Mes      | Ventas | Gastos |\n",
    "|------: | -------: | -----: | -----: |\n",
    "| **0**  | Enero    |  30500 |  22000 |\n",
    "| **1**  | Febrero  |  35600 |  23400 |\n",
    "| **2**  | Marzo    |  28300 |  18100 |\n",
    "| **3**  | Abril    |  33900 |  20700 |"
   ]
  },
  {
   "cell_type": "code",
   "execution_count": 5,
   "id": "81b285fd",
   "metadata": {
    "ExecuteTime": {
     "end_time": "2021-09-07T03:20:42.911721Z",
     "start_time": "2021-09-07T03:20:42.864748Z"
    }
   },
   "outputs": [
    {
     "data": {
      "text/html": [
       "<div>\n",
       "<style scoped>\n",
       "    .dataframe tbody tr th:only-of-type {\n",
       "        vertical-align: middle;\n",
       "    }\n",
       "\n",
       "    .dataframe tbody tr th {\n",
       "        vertical-align: top;\n",
       "    }\n",
       "\n",
       "    .dataframe thead th {\n",
       "        text-align: right;\n",
       "    }\n",
       "</style>\n",
       "<table border=\"1\" class=\"dataframe\">\n",
       "  <thead>\n",
       "    <tr style=\"text-align: right;\">\n",
       "      <th></th>\n",
       "      <th>Mes</th>\n",
       "      <th>Ventas</th>\n",
       "      <th>Gastos</th>\n",
       "    </tr>\n",
       "  </thead>\n",
       "  <tbody>\n",
       "    <tr>\n",
       "      <th>0</th>\n",
       "      <td>Enero</td>\n",
       "      <td>30500</td>\n",
       "      <td>22000</td>\n",
       "    </tr>\n",
       "    <tr>\n",
       "      <th>1</th>\n",
       "      <td>Febrero</td>\n",
       "      <td>35600</td>\n",
       "      <td>23400</td>\n",
       "    </tr>\n",
       "    <tr>\n",
       "      <th>2</th>\n",
       "      <td>Marzo</td>\n",
       "      <td>28300</td>\n",
       "      <td>18100</td>\n",
       "    </tr>\n",
       "    <tr>\n",
       "      <th>3</th>\n",
       "      <td>Abril</td>\n",
       "      <td>33900</td>\n",
       "      <td>20700</td>\n",
       "    </tr>\n",
       "  </tbody>\n",
       "</table>\n",
       "</div>"
      ],
      "text/plain": [
       "       Mes  Ventas  Gastos\n",
       "0    Enero   30500   22000\n",
       "1  Febrero   35600   23400\n",
       "2    Marzo   28300   18100\n",
       "3    Abril   33900   20700"
      ]
     },
     "execution_count": 5,
     "metadata": {},
     "output_type": "execute_result"
    }
   ],
   "source": [
    "import pandas as pd\n",
    "\n",
    "datos = {\n",
    "    \"Mes\": [\"Enero\", \"Febrero\", \"Marzo\", \"Abril\"], \n",
    "    \"Ventas\": [30500, 35600, 28300, 33900], \n",
    "    \"Gastos\": [22000, 23400, 18100, 20700]\n",
    "}\n",
    "\n",
    "df_datos = pd.DataFrame(datos)\n",
    "df_datos"
   ]
  },
  {
   "cell_type": "markdown",
   "id": "6139a662",
   "metadata": {},
   "source": [
    "# Ejercicio 3\n",
    "\n",
    "Leer el archivo `cotizacion.csv` que se encuentra en la misma carpeta de este notebook, dichoa archivo contiene las cotizaciones de las empresas del IBEX35 con las siguientes columnas: \n",
    "\n",
    "- Nombre (nombre de la empresa)\n",
    "- Final (precio de la acción al cierre de bolsa)\n",
    "- Máximo (precio máximo de la acción durante la jornada)\n",
    "- Mínimo (precio mínimo de la acción durante la jornada)\n",
    "- Volumen (Volumen al cierre de bolsa)\n",
    "- Efectivo (capitalización al cierre en miles de euros)\n",
    "\n",
    "Hacer una función que calcule para cada **columna** del Dataset los siguientes datos estadísticos:\n",
    "\n",
    "- Valor mínimo\n",
    "- Valor máximo\n",
    "- La media aritmética\n",
    "\n",
    "Como resultado debe obtener lo siguiente:\n",
    "\n",
    "|            | Final        | Máximo       | Mínimo       | Volumen      | Efectivo     |\n",
    "|----------: | ------------:| ------------:| ------------:| ------------:| ------------:|\n",
    "| **Minimo** | 1.016500     | 4.067500     | 1.016500     | 1.221000e+03 | 2343.090     |\n",
    "| **Maximo** | 19705.000000 | 19875.000000 | 19675.000000 | 3.612969e+07 | 145765.440   |\n",
    "| **Media**  | 2796.768757  | 3170.113357  | 3136.510471  | 4.252279e+06 | 31767.778    |\n"
   ]
  },
  {
   "cell_type": "code",
   "execution_count": 1,
   "id": "12922387",
   "metadata": {
    "ExecuteTime": {
     "end_time": "2021-09-09T20:22:54.722231Z",
     "start_time": "2021-09-09T20:22:52.061161Z"
    }
   },
   "outputs": [
    {
     "data": {
      "text/html": [
       "<div>\n",
       "<style scoped>\n",
       "    .dataframe tbody tr th:only-of-type {\n",
       "        vertical-align: middle;\n",
       "    }\n",
       "\n",
       "    .dataframe tbody tr th {\n",
       "        vertical-align: top;\n",
       "    }\n",
       "\n",
       "    .dataframe thead th {\n",
       "        text-align: right;\n",
       "    }\n",
       "</style>\n",
       "<table border=\"1\" class=\"dataframe\">\n",
       "  <thead>\n",
       "    <tr style=\"text-align: right;\">\n",
       "      <th></th>\n",
       "      <th>Final</th>\n",
       "      <th>Máximo</th>\n",
       "      <th>Mínimo</th>\n",
       "      <th>Volumen</th>\n",
       "      <th>Efectivo</th>\n",
       "    </tr>\n",
       "  </thead>\n",
       "  <tbody>\n",
       "    <tr>\n",
       "      <th>Mínimo</th>\n",
       "      <td>1.016500</td>\n",
       "      <td>4.067500</td>\n",
       "      <td>1.016500</td>\n",
       "      <td>1.221000e+03</td>\n",
       "      <td>2343.090</td>\n",
       "    </tr>\n",
       "    <tr>\n",
       "      <th>Máximo</th>\n",
       "      <td>19705.000000</td>\n",
       "      <td>19875.000000</td>\n",
       "      <td>19675.000000</td>\n",
       "      <td>3.612969e+07</td>\n",
       "      <td>145765.440</td>\n",
       "    </tr>\n",
       "    <tr>\n",
       "      <th>Media</th>\n",
       "      <td>2796.768757</td>\n",
       "      <td>3170.113357</td>\n",
       "      <td>3136.510471</td>\n",
       "      <td>4.252279e+06</td>\n",
       "      <td>31767.778</td>\n",
       "    </tr>\n",
       "  </tbody>\n",
       "</table>\n",
       "</div>"
      ],
      "text/plain": [
       "               Final        Máximo        Mínimo       Volumen    Efectivo\n",
       "Mínimo      1.016500      4.067500      1.016500  1.221000e+03    2343.090\n",
       "Máximo  19705.000000  19875.000000  19675.000000  3.612969e+07  145765.440\n",
       "Media    2796.768757   3170.113357   3136.510471  4.252279e+06   31767.778"
      ]
     },
     "execution_count": 1,
     "metadata": {},
     "output_type": "execute_result"
    }
   ],
   "source": [
    "import pandas as pd\n",
    "\n",
    "path_file = \"cotizacion.csv\"\n",
    "\n",
    "df = pd.read_csv(path_file, \n",
    "                 sep = ';', \n",
    "                 decimal = ',', \n",
    "                 thousands = '.', \n",
    "                 index_col = 0)\n",
    "\n",
    "def resumen_cotizaciones(df = pd.DataFrame()):\n",
    "    \n",
    "    minimo = df.min()\n",
    "    maximo = df.max()\n",
    "    media = df.mean()\n",
    "    \n",
    "    df_final = pd.DataFrame([minimo, maximo, media], \n",
    "                            index = ['Mínimo', 'Máximo', 'Media'])\n",
    "    \n",
    "    return df_final\n",
    "\n",
    "resultado = resumen_cotizaciones(df)\n",
    "resultado"
   ]
  },
  {
   "cell_type": "code",
   "execution_count": null,
   "id": "05377efa",
   "metadata": {},
   "outputs": [],
   "source": []
  }
 ],
 "metadata": {
  "kernelspec": {
   "display_name": "renting_env",
   "language": "python",
   "name": "renting_env"
  },
  "language_info": {
   "codemirror_mode": {
    "name": "ipython",
    "version": 3
   },
   "file_extension": ".py",
   "mimetype": "text/x-python",
   "name": "python",
   "nbconvert_exporter": "python",
   "pygments_lexer": "ipython3",
   "version": "3.7.10"
  },
  "toc": {
   "base_numbering": 1,
   "nav_menu": {},
   "number_sections": true,
   "sideBar": true,
   "skip_h1_title": false,
   "title_cell": "Table of Contents",
   "title_sidebar": "Contents",
   "toc_cell": false,
   "toc_position": {},
   "toc_section_display": true,
   "toc_window_display": false
  },
  "varInspector": {
   "cols": {
    "lenName": 16,
    "lenType": 16,
    "lenVar": 40
   },
   "kernels_config": {
    "python": {
     "delete_cmd_postfix": "",
     "delete_cmd_prefix": "del ",
     "library": "var_list.py",
     "varRefreshCmd": "print(var_dic_list())"
    },
    "r": {
     "delete_cmd_postfix": ") ",
     "delete_cmd_prefix": "rm(",
     "library": "var_list.r",
     "varRefreshCmd": "cat(var_dic_list()) "
    }
   },
   "types_to_exclude": [
    "module",
    "function",
    "builtin_function_or_method",
    "instance",
    "_Feature"
   ],
   "window_display": false
  }
 },
 "nbformat": 4,
 "nbformat_minor": 5
}
